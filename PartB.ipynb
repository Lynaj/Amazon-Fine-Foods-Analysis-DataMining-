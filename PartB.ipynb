{
  "nbformat": 4,
  "nbformat_minor": 0,
  "metadata": {
    "colab": {
      "name": "PartB.ipynb",
      "provenance": [],
      "toc_visible": true
    },
    "kernelspec": {
      "name": "python3",
      "display_name": "Python 3"
    }
  },
  "cells": [
    {
      "cell_type": "code",
      "metadata": {
        "id": "nxTc-Dg-NO_T",
        "colab_type": "code",
        "outputId": "4a30b316-bb17-4a2b-a543-d5bb469af0ab",
        "colab": {
          "base_uri": "https://localhost:8080/",
          "height": 51
        }
      },
      "source": [
        "# Jupyter-specific.\n",
        "%matplotlib inline\n",
        "import time\n",
        "program_start = time.time()\n",
        "\n",
        "# Colab specific.\n",
        "from google.colab import files\n",
        "\n",
        "# SciKit Learn\n",
        "from sklearn.feature_extraction.text import TfidfVectorizer, HashingVectorizer\n",
        "from sklearn.naive_bayes import MultinomialNB\n",
        "from sklearn.decomposition import PCA\n",
        "from sklearn.cluster import KMeans\n",
        "from sklearn import metrics\n",
        "from sklearn.metrics import confusion_matrix\n",
        "from sklearn.metrics import accuracy_score\n",
        "from sklearn.metrics import precision_score\n",
        "from sklearn.metrics import average_precision_score\n",
        "from sklearn.metrics import recall_score\n",
        "from sklearn.model_selection import KFold\n",
        "from sklearn import neighbors\n",
        "from sklearn import tree\n",
        "from sklearn.model_selection import train_test_split\n",
        "from sklearn.model_selection import cross_val_score\n",
        "from sklearn import model_selection, preprocessing, linear_model, naive_bayes, metrics, svm, ensemble\n",
        "from sklearn.tree import DecisionTreeClassifier\n",
        "from sklearn import metrics\n",
        "from sklearn import preprocessing\n",
        "from sklearn.model_selection import GridSearchCV\n",
        "\n",
        "# Keras\n",
        "from keras.preprocessing import sequence\n",
        "from keras.models import Sequential\n",
        "from keras.layers import Dense, Dropout, Activation\n",
        "from keras.layers import Embedding\n",
        "from keras.layers import LSTM, GRU, CuDNNGRU, CuDNNLSTM\n",
        "from keras.layers import Conv1D, MaxPooling1D\n",
        "from keras.preprocessing.text import Tokenizer\n",
        "from keras.preprocessing.sequence import pad_sequences\n",
        "from keras.models import Sequential\n",
        "from keras.layers import Dense, Embedding, LSTM\n",
        "from keras.callbacks import EarlyStopping\n",
        "from keras.callbacks import ModelCheckpoint\n",
        "from keras.layers import GlobalMaxPooling1D\n",
        "\n",
        "# General \n",
        "from collections import Counter\n",
        "import numpy as np\n",
        "import pandas as pd\n",
        "import nltk\n",
        "from nltk.corpus import stopwords\n",
        "# Might need to uncomment the line below to downlaod nltk stopwords\n",
        "nltk.download('stopwords')\n",
        "stop = stopwords.words('english')\n",
        "import matplotlib.pyplot as plt\n",
        "import seaborn as sns; sns.set() # Set the default styling. \n",
        "from io import BytesIO\n",
        "import csv\n",
        "import pickle\n",
        "from scipy.sparse import coo_matrix, vstack, csr_matrix\n",
        "import re\n",
        "import warnings\n",
        "warnings.filterwarnings('ignore')\n",
        "\n",
        "# Plot style settings.\n",
        "plt.style.use('fivethirtyeight') # I'm a fan of this one."
      ],
      "execution_count": 0,
      "outputs": [
        {
          "output_type": "stream",
          "text": [
            "[nltk_data] Downloading package stopwords to /root/nltk_data...\n",
            "[nltk_data]   Unzipping corpora/stopwords.zip.\n"
          ],
          "name": "stdout"
        }
      ]
    },
    {
      "cell_type": "markdown",
      "metadata": {
        "id": "Hi4Rd4POPAD4",
        "colab_type": "text"
      },
      "source": [
        "# **Reduced Data Work**"
      ]
    },
    {
      "cell_type": "markdown",
      "metadata": {
        "id": "4cU-ppdrPQ-x",
        "colab_type": "text"
      },
      "source": [
        "### Working with the reduced data"
      ]
    },
    {
      "cell_type": "markdown",
      "metadata": {
        "id": "sVtEb_UoPIS4",
        "colab_type": "text"
      },
      "source": [
        "Reading the reduced file, taking the review and rating column"
      ]
    },
    {
      "cell_type": "code",
      "metadata": {
        "id": "qzlwA5ftNQ69",
        "colab_type": "code",
        "colab": {}
      },
      "source": [
        "y = []\n",
        "X = []\n",
        "# open reduced CSV\n",
        "with open('reduced_amazon_ff_reviews.csv', 'r') as csvFile:\n",
        "    reader = csv.reader(csvFile)\n",
        "    for row in reader:\n",
        "        X.append(row[5])\n",
        "        y.append(row[8])"
      ],
      "execution_count": 0,
      "outputs": []
    },
    {
      "cell_type": "markdown",
      "metadata": {
        "id": "TF7GcuLePjHP",
        "colab_type": "text"
      },
      "source": [
        "Making a data frame called 'df' out of column 5 and 8"
      ]
    },
    {
      "cell_type": "code",
      "metadata": {
        "id": "WsaOCWJ4PZVl",
        "colab_type": "code",
        "outputId": "654e2ef8-5afd-4472-cbf3-e71ec6d03d55",
        "colab": {
          "base_uri": "https://localhost:8080/",
          "height": 204
        }
      },
      "source": [
        "# columns 'Rating' and 'Text' are loaded into the df\n",
        "df = pd.read_csv('reduced_amazon_ff_reviews.csv', usecols=[5, 8])\n",
        "\n",
        "# seeing the top 5 records\n",
        "df.head()"
      ],
      "execution_count": 0,
      "outputs": [
        {
          "output_type": "execute_result",
          "data": {
            "text/html": [
              "<div>\n",
              "<style scoped>\n",
              "    .dataframe tbody tr th:only-of-type {\n",
              "        vertical-align: middle;\n",
              "    }\n",
              "\n",
              "    .dataframe tbody tr th {\n",
              "        vertical-align: top;\n",
              "    }\n",
              "\n",
              "    .dataframe thead th {\n",
              "        text-align: right;\n",
              "    }\n",
              "</style>\n",
              "<table border=\"1\" class=\"dataframe\">\n",
              "  <thead>\n",
              "    <tr style=\"text-align: right;\">\n",
              "      <th></th>\n",
              "      <th>Rating</th>\n",
              "      <th>Text</th>\n",
              "    </tr>\n",
              "  </thead>\n",
              "  <tbody>\n",
              "    <tr>\n",
              "      <th>0</th>\n",
              "      <td>neutral</td>\n",
              "      <td>This seems a little more wholesome than some o...</td>\n",
              "    </tr>\n",
              "    <tr>\n",
              "      <th>1</th>\n",
              "      <td>positive</td>\n",
              "      <td>I bought these at Grocery Outlet here in the S...</td>\n",
              "    </tr>\n",
              "    <tr>\n",
              "      <th>2</th>\n",
              "      <td>positive</td>\n",
              "      <td>I bought this coffee because its much cheaper ...</td>\n",
              "    </tr>\n",
              "    <tr>\n",
              "      <th>3</th>\n",
              "      <td>negative</td>\n",
              "      <td>Herbal additives in this blend destroy real te...</td>\n",
              "    </tr>\n",
              "    <tr>\n",
              "      <th>4</th>\n",
              "      <td>positive</td>\n",
              "      <td>These Nature Valley Nut Lovers Variety Pack wa...</td>\n",
              "    </tr>\n",
              "  </tbody>\n",
              "</table>\n",
              "</div>"
            ],
            "text/plain": [
              "     Rating                                               Text\n",
              "0   neutral  This seems a little more wholesome than some o...\n",
              "1  positive  I bought these at Grocery Outlet here in the S...\n",
              "2  positive  I bought this coffee because its much cheaper ...\n",
              "3  negative  Herbal additives in this blend destroy real te...\n",
              "4  positive  These Nature Valley Nut Lovers Variety Pack wa..."
            ]
          },
          "metadata": {
            "tags": []
          },
          "execution_count": 5
        }
      ]
    },
    {
      "cell_type": "markdown",
      "metadata": {
        "id": "X9BrnaZEQgqO",
        "colab_type": "text"
      },
      "source": [
        "### Setting up the data for LSTM (reduced)"
      ]
    },
    {
      "cell_type": "markdown",
      "metadata": {
        "id": "QTt_j6-rRCqN",
        "colab_type": "text"
      },
      "source": [
        "Initalizing the variables for the LSTM Model. Numbers taken from the docs located [here](https://keras.io/examples/imdb_cnn_lstm/)"
      ]
    },
    {
      "cell_type": "code",
      "metadata": {
        "id": "vZCg5-NAPogj",
        "colab_type": "code",
        "colab": {}
      },
      "source": [
        "# For Embedding\n",
        "max_features = 20000\n",
        "maxlen = 100\n",
        "embedding_size = 128\n",
        "\n",
        "# Convolution\n",
        "kernel_size = 5\n",
        "filters = 64\n",
        "pool_size = 4\n",
        "\n",
        "# LSTM\n",
        "lstm_output_size = 70\n",
        "\n",
        "# Training\n",
        "batch_size = 30\n",
        "epochs = 2"
      ],
      "execution_count": 0,
      "outputs": []
    },
    {
      "cell_type": "markdown",
      "metadata": {
        "id": "ajWVZS_jRZzr",
        "colab_type": "text"
      },
      "source": [
        "Getting the data ready for emebdding, filtered out neutural reviews, number, speical characters, stopwords and converted to lowercase for better reading"
      ]
    },
    {
      "cell_type": "code",
      "metadata": {
        "id": "s8e5msGhRroR",
        "colab_type": "code",
        "colab": {}
      },
      "source": [
        "# Removing Neutral \n",
        "df = df[df.Rating != \"neutral\"]\n",
        "\n",
        "# Converting to lowercase\n",
        "df['Text'] = df['Text'].apply(lambda x: str(x).lower())\n",
        "\n",
        "# Removing numbers/special characters\n",
        "df['Text'] = df['Text'].apply((lambda x: re.sub('[^a-zA-z0-9\\s]','',x)))\n"
      ],
      "execution_count": 0,
      "outputs": []
    },
    {
      "cell_type": "markdown",
      "metadata": {
        "id": "hXs0O6-PVK7i",
        "colab_type": "text"
      },
      "source": [
        "Checking to make sure the filters worked"
      ]
    },
    {
      "cell_type": "code",
      "metadata": {
        "id": "GVNBG0hcTFX7",
        "colab_type": "code",
        "outputId": "76d6200a-ee91-4b8d-c9db-54e32f08f8cc",
        "colab": {
          "base_uri": "https://localhost:8080/",
          "height": 204
        }
      },
      "source": [
        "df.head()"
      ],
      "execution_count": 0,
      "outputs": [
        {
          "output_type": "execute_result",
          "data": {
            "text/html": [
              "<div>\n",
              "<style scoped>\n",
              "    .dataframe tbody tr th:only-of-type {\n",
              "        vertical-align: middle;\n",
              "    }\n",
              "\n",
              "    .dataframe tbody tr th {\n",
              "        vertical-align: top;\n",
              "    }\n",
              "\n",
              "    .dataframe thead th {\n",
              "        text-align: right;\n",
              "    }\n",
              "</style>\n",
              "<table border=\"1\" class=\"dataframe\">\n",
              "  <thead>\n",
              "    <tr style=\"text-align: right;\">\n",
              "      <th></th>\n",
              "      <th>Rating</th>\n",
              "      <th>Text</th>\n",
              "    </tr>\n",
              "  </thead>\n",
              "  <tbody>\n",
              "    <tr>\n",
              "      <th>1</th>\n",
              "      <td>positive</td>\n",
              "      <td>i bought these at grocery outlet here in the s...</td>\n",
              "    </tr>\n",
              "    <tr>\n",
              "      <th>2</th>\n",
              "      <td>positive</td>\n",
              "      <td>i bought this coffee because its much cheaper ...</td>\n",
              "    </tr>\n",
              "    <tr>\n",
              "      <th>3</th>\n",
              "      <td>negative</td>\n",
              "      <td>herbal additives in this blend destroy real te...</td>\n",
              "    </tr>\n",
              "    <tr>\n",
              "      <th>4</th>\n",
              "      <td>positive</td>\n",
              "      <td>these nature valley nut lovers variety pack wa...</td>\n",
              "    </tr>\n",
              "    <tr>\n",
              "      <th>5</th>\n",
              "      <td>negative</td>\n",
              "      <td>serveice delivery with the seller was excellen...</td>\n",
              "    </tr>\n",
              "  </tbody>\n",
              "</table>\n",
              "</div>"
            ],
            "text/plain": [
              "     Rating                                               Text\n",
              "1  positive  i bought these at grocery outlet here in the s...\n",
              "2  positive  i bought this coffee because its much cheaper ...\n",
              "3  negative  herbal additives in this blend destroy real te...\n",
              "4  positive  these nature valley nut lovers variety pack wa...\n",
              "5  negative  serveice delivery with the seller was excellen..."
            ]
          },
          "metadata": {
            "tags": []
          },
          "execution_count": 8
        }
      ]
    },
    {
      "cell_type": "markdown",
      "metadata": {
        "id": "RixVhuADVoQd",
        "colab_type": "text"
      },
      "source": [
        "Printing the number of positive and negative reviews (reduced set)"
      ]
    },
    {
      "cell_type": "code",
      "metadata": {
        "id": "cp0URt5kVOAb",
        "colab_type": "code",
        "outputId": "3a8fe655-0fa8-49ef-9f32-0277997c2d75",
        "colab": {
          "base_uri": "https://localhost:8080/",
          "height": 51
        }
      },
      "source": [
        "# Number of positive\n",
        "print(df[ df['Rating'] == 'positive'].size)\n",
        "\n",
        "# Number of negative\n",
        "print(df[ df['Rating'] == 'negative'].size)"
      ],
      "execution_count": 0,
      "outputs": [
        {
          "output_type": "stream",
          "text": [
            "13398\n",
            "10834\n"
          ],
          "name": "stdout"
        }
      ]
    },
    {
      "cell_type": "markdown",
      "metadata": {
        "id": "kTdzHdjpWgP9",
        "colab_type": "text"
      },
      "source": [
        "Toeknizing the data for word embeddings. Lossely modeled after the solutions in this [link](https://stackoverflow.com/questions/55578939/tokenize-each-row-in-a-dataframe-for-loop-not-working)"
      ]
    },
    {
      "cell_type": "code",
      "metadata": {
        "id": "ZA-sHizXVmps",
        "colab_type": "code",
        "colab": {}
      },
      "source": [
        "for idx,row in df.iterrows():\n",
        "    row[0] = row[0].replace('rt',' ')\n",
        "    \n",
        "tokenizer = Tokenizer(nb_words = max_features, split=' ')\n",
        "tokenizer.fit_on_texts(df['Text'].values)\n",
        "X = tokenizer.texts_to_sequences(df['Text'].values)\n",
        "X = pad_sequences(X, maxlen = maxlen)"
      ],
      "execution_count": 0,
      "outputs": []
    },
    {
      "cell_type": "markdown",
      "metadata": {
        "id": "gMp2Et8sXqbx",
        "colab_type": "text"
      },
      "source": [
        "Using get_dummies to convert the categorical text data into indicator variables. Based off the documentation [here](https://pandas.pydata.org/pandas-docs/stable/reference/api/pandas.get_dummies.html)"
      ]
    },
    {
      "cell_type": "code",
      "metadata": {
        "id": "GwnLbyPyXCVk",
        "colab_type": "code",
        "outputId": "4f76ac9a-7520-431b-c690-6d5b1dc38e19",
        "colab": {
          "base_uri": "https://localhost:8080/",
          "height": 50
        }
      },
      "source": [
        "# Using the get_dummies function on the data frame\n",
        "Y = pd.get_dummies(df['Rating']).values\n",
        "\n",
        "# Split the data 80/20 and add random state 42\n",
        "X_train, X_test, Y_train, Y_test = train_test_split(X,Y, test_size = 0.20, random_state = 42)\n",
        "\n",
        "# Print the shapes of the training and testing set\n",
        "print(X_train.shape,Y_train.shape)\n",
        "print(X_test.shape,Y_test.shape)"
      ],
      "execution_count": 0,
      "outputs": [
        {
          "output_type": "stream",
          "text": [
            "(9692, 100) (9692, 2)\n",
            "(2424, 100) (2424, 2)\n"
          ],
          "name": "stdout"
        }
      ]
    },
    {
      "cell_type": "markdown",
      "metadata": {
        "id": "inh3vkpUckt9",
        "colab_type": "text"
      },
      "source": [
        "### LSTM Model and Results"
      ]
    },
    {
      "cell_type": "markdown",
      "metadata": {
        "id": "AT_Tcu7gcwan",
        "colab_type": "text"
      },
      "source": [
        "Building the First LSTM Model. It's a sequential model with 6 layers"
      ]
    },
    {
      "cell_type": "code",
      "metadata": {
        "id": "1HKqIZ1NYL7Z",
        "colab_type": "code",
        "colab": {}
      },
      "source": [
        "def lstmReduced1():\n",
        "# Inform that the model is building\n",
        "  print('Build model...')\n",
        "\n",
        "  model = Sequential()\n",
        "\n",
        "  # Add the embedding layer\n",
        "  model.add(Embedding(max_features, embedding_size, input_length=maxlen))\n",
        "  model.add(Dropout(0.25))\n",
        "  # 1D Convolution Layer with Relu activation\n",
        "  model.add(Conv1D(filters, kernel_size, padding='valid', activation='relu', strides=1))\n",
        "  model.add(MaxPooling1D(pool_size=pool_size))\n",
        "\n",
        "  # Add LSTM Layer\n",
        "  model.add(LSTM(lstm_output_size))\n",
        "\n",
        "  # Use the Softmask activiation function\n",
        "  model.add(Dense(2,activation='softmax'))\n",
        "\n",
        "  # Using categorical corss entropy and the adam optimizer\n",
        "  model.compile(loss = 'categorical_crossentropy', optimizer='adam',metrics = ['accuracy'])\n",
        "\n",
        "  # Print a summar of the model\n",
        "  print(model.summary())\n",
        "\n",
        "  return model"
      ],
      "execution_count": 0,
      "outputs": []
    },
    {
      "cell_type": "markdown",
      "metadata": {
        "id": "8dXmwS9cgofI",
        "colab_type": "text"
      },
      "source": [
        "Calling the lstmReduced1 function to the variable LSTM1\n",
        "\n"
      ]
    },
    {
      "cell_type": "code",
      "metadata": {
        "id": "hEbZtsixgu4K",
        "colab_type": "code",
        "outputId": "04b8c8a4-5ed9-440e-865e-1bf179b5bb6d",
        "colab": {
          "base_uri": "https://localhost:8080/",
          "height": 692
        }
      },
      "source": [
        "LSTM1 = lstmReduced1()"
      ],
      "execution_count": 0,
      "outputs": [
        {
          "output_type": "stream",
          "text": [
            "Build model...\n",
            "WARNING:tensorflow:From /usr/local/lib/python3.6/dist-packages/keras/backend/tensorflow_backend.py:66: The name tf.get_default_graph is deprecated. Please use tf.compat.v1.get_default_graph instead.\n",
            "\n",
            "WARNING:tensorflow:From /usr/local/lib/python3.6/dist-packages/keras/backend/tensorflow_backend.py:541: The name tf.placeholder is deprecated. Please use tf.compat.v1.placeholder instead.\n",
            "\n",
            "WARNING:tensorflow:From /usr/local/lib/python3.6/dist-packages/keras/backend/tensorflow_backend.py:4432: The name tf.random_uniform is deprecated. Please use tf.random.uniform instead.\n",
            "\n",
            "WARNING:tensorflow:From /usr/local/lib/python3.6/dist-packages/keras/backend/tensorflow_backend.py:148: The name tf.placeholder_with_default is deprecated. Please use tf.compat.v1.placeholder_with_default instead.\n",
            "\n",
            "WARNING:tensorflow:From /usr/local/lib/python3.6/dist-packages/keras/backend/tensorflow_backend.py:3733: calling dropout (from tensorflow.python.ops.nn_ops) with keep_prob is deprecated and will be removed in a future version.\n",
            "Instructions for updating:\n",
            "Please use `rate` instead of `keep_prob`. Rate should be set to `rate = 1 - keep_prob`.\n",
            "WARNING:tensorflow:From /usr/local/lib/python3.6/dist-packages/keras/backend/tensorflow_backend.py:4267: The name tf.nn.max_pool is deprecated. Please use tf.nn.max_pool2d instead.\n",
            "\n",
            "WARNING:tensorflow:From /usr/local/lib/python3.6/dist-packages/keras/optimizers.py:793: The name tf.train.Optimizer is deprecated. Please use tf.compat.v1.train.Optimizer instead.\n",
            "\n",
            "WARNING:tensorflow:From /usr/local/lib/python3.6/dist-packages/keras/backend/tensorflow_backend.py:3576: The name tf.log is deprecated. Please use tf.math.log instead.\n",
            "\n",
            "Model: \"sequential_1\"\n",
            "_________________________________________________________________\n",
            "Layer (type)                 Output Shape              Param #   \n",
            "=================================================================\n",
            "embedding_1 (Embedding)      (None, 100, 128)          2560000   \n",
            "_________________________________________________________________\n",
            "dropout_1 (Dropout)          (None, 100, 128)          0         \n",
            "_________________________________________________________________\n",
            "conv1d_1 (Conv1D)            (None, 96, 64)            41024     \n",
            "_________________________________________________________________\n",
            "max_pooling1d_1 (MaxPooling1 (None, 24, 64)            0         \n",
            "_________________________________________________________________\n",
            "lstm_1 (LSTM)                (None, 70)                37800     \n",
            "_________________________________________________________________\n",
            "dense_1 (Dense)              (None, 2)                 142       \n",
            "=================================================================\n",
            "Total params: 2,638,966\n",
            "Trainable params: 2,638,966\n",
            "Non-trainable params: 0\n",
            "_________________________________________________________________\n",
            "None\n"
          ],
          "name": "stdout"
        }
      ]
    },
    {
      "cell_type": "markdown",
      "metadata": {
        "id": "AdztzHSshun-",
        "colab_type": "text"
      },
      "source": [
        "Training the LSTM1 Model with a Batch Size of 30 and 2 Epochs"
      ]
    },
    {
      "cell_type": "code",
      "metadata": {
        "id": "e6XJTMNTg4rX",
        "colab_type": "code",
        "outputId": "98a46ad6-91d3-4ba5-ce55-c59cbd7dff3e",
        "colab": {
          "base_uri": "https://localhost:8080/",
          "height": 151
        }
      },
      "source": [
        "print('Train...')\n",
        "LSTM1.fit(X_train, Y_train, batch_size=batch_size, epochs=epochs,shuffle=True, validation_data=(X_test, Y_test))\n",
        "print('Model evaluation ',LSTM1.evaluate(X_test,Y_test))"
      ],
      "execution_count": 0,
      "outputs": [
        {
          "output_type": "stream",
          "text": [
            "Train...\n",
            "Train on 9692 samples, validate on 2424 samples\n",
            "Epoch 1/2\n",
            "9692/9692 [==============================] - 29s 3ms/step - loss: 0.0074 - acc: 0.9975 - val_loss: 1.0409 - val_acc: 0.8259\n",
            "Epoch 2/2\n",
            "9692/9692 [==============================] - 29s 3ms/step - loss: 0.0053 - acc: 0.9983 - val_loss: 1.0737 - val_acc: 0.8309\n",
            "2424/2424 [==============================] - 1s 377us/step\n",
            "Model evaluation  [1.0736800189262177, 0.8308580858085809]\n"
          ],
          "name": "stdout"
        }
      ]
    },
    {
      "cell_type": "markdown",
      "metadata": {
        "id": "U4Cup8N0i3iG",
        "colab_type": "text"
      },
      "source": [
        "Printing the test score and test accuracy"
      ]
    },
    {
      "cell_type": "code",
      "metadata": {
        "id": "ECsNS3N1h67c",
        "colab_type": "code",
        "outputId": "d96346bc-c6d9-4574-a470-3d36e181955c",
        "colab": {
          "base_uri": "https://localhost:8080/",
          "height": 67
        }
      },
      "source": [
        "score, acc = LSTM1.evaluate(X_test, Y_test, batch_size=batch_size)\n",
        "print('Test score:', score)\n",
        "print('Test accuracy:', acc)"
      ],
      "execution_count": 0,
      "outputs": [
        {
          "output_type": "stream",
          "text": [
            "2424/2424 [==============================] - 1s 369us/step\n",
            "Test score: 1.073680015502147\n",
            "Test accuracy: 0.8308580806939909\n"
          ],
          "name": "stdout"
        }
      ]
    },
    {
      "cell_type": "markdown",
      "metadata": {
        "id": "jPgP3bhdkXMW",
        "colab_type": "text"
      },
      "source": [
        "Using the classification_report function from Scikit learn to return the main classification metrics of the model (precision, recall, f1-score, support) Based off the documentation found [here](https://scikit-learn.org/stable/modules/generated/sklearn.metrics.classification_report.html)"
      ]
    },
    {
      "cell_type": "code",
      "metadata": {
        "id": "bKCEkNx5jPJ6",
        "colab_type": "code",
        "outputId": "240cdf38-d2e1-40b0-f0b3-d410cf1c678c",
        "colab": {
          "base_uri": "https://localhost:8080/",
          "height": 168
        }
      },
      "source": [
        "LSTM1_Metrics = LSTM1.predict(X_test, verbose=2, batch_size=batch_size)\n",
        "print(metrics.classification_report(Y_test[:,1], np.round(LSTM1_Metrics[:,1]), target_names =[\"Negative\", \"Positive\"]))"
      ],
      "execution_count": 0,
      "outputs": [
        {
          "output_type": "stream",
          "text": [
            "              precision    recall  f1-score   support\n",
            "\n",
            "    Negative       0.80      0.84      0.82      1097\n",
            "    Positive       0.86      0.82      0.84      1327\n",
            "\n",
            "    accuracy                           0.83      2424\n",
            "   macro avg       0.83      0.83      0.83      2424\n",
            "weighted avg       0.83      0.83      0.83      2424\n",
            "\n"
          ],
          "name": "stdout"
        }
      ]
    },
    {
      "cell_type": "markdown",
      "metadata": {
        "id": "D2zfmjjroJ12",
        "colab_type": "text"
      },
      "source": [
        "### Experimenting with Different LSTM Epochs (reduced)"
      ]
    },
    {
      "cell_type": "markdown",
      "metadata": {
        "id": "sXLPwwiZodAd",
        "colab_type": "text"
      },
      "source": [
        "Increasing the number of Epochs to find when the data starts to overfit"
      ]
    },
    {
      "cell_type": "code",
      "metadata": {
        "id": "Hlf6awoNlQP2",
        "colab_type": "code",
        "outputId": "d21755e1-0edd-45e0-bf27-4d2ddc3e3ce3",
        "colab": {
          "base_uri": "https://localhost:8080/",
          "height": 806
        }
      },
      "source": [
        "# Training with 17 more epochs\n",
        "print('Train...')\n",
        "historyLSTM1 = LSTM1.fit(X_train, Y_train, batch_size=batch_size, epochs=20,shuffle=True, validation_data=(X_test, Y_test))\n",
        "print('Model evaluation ', LSTM1.evaluate(X_test,Y_test))\n",
        "\n",
        "# Printing test score and accuracy with 20 epochs\n",
        "score, acc = LSTM1.evaluate(X_test, Y_test, batch_size=batch_size)\n",
        "print('Test score:', score)\n",
        "print('Test accuracy:', acc)"
      ],
      "execution_count": 0,
      "outputs": [
        {
          "output_type": "stream",
          "text": [
            "Train...\n",
            "Train on 9692 samples, validate on 2424 samples\n",
            "Epoch 1/20\n",
            "9692/9692 [==============================] - 29s 3ms/step - loss: 0.0018 - acc: 0.9993 - val_loss: 1.3121 - val_acc: 0.8333\n",
            "Epoch 2/20\n",
            "9692/9692 [==============================] - 30s 3ms/step - loss: 0.0022 - acc: 0.9992 - val_loss: 1.2879 - val_acc: 0.8280\n",
            "Epoch 3/20\n",
            "9692/9692 [==============================] - 29s 3ms/step - loss: 0.0014 - acc: 0.9997 - val_loss: 1.2730 - val_acc: 0.8300\n",
            "Epoch 4/20\n",
            "9692/9692 [==============================] - 29s 3ms/step - loss: 0.0024 - acc: 0.9992 - val_loss: 1.1100 - val_acc: 0.8309\n",
            "Epoch 5/20\n",
            "9692/9692 [==============================] - 31s 3ms/step - loss: 0.0072 - acc: 0.9978 - val_loss: 0.9289 - val_acc: 0.8247\n",
            "Epoch 6/20\n",
            "9692/9692 [==============================] - 32s 3ms/step - loss: 0.0058 - acc: 0.9977 - val_loss: 0.9943 - val_acc: 0.8300\n",
            "Epoch 7/20\n",
            "9692/9692 [==============================] - 32s 3ms/step - loss: 0.0048 - acc: 0.9989 - val_loss: 1.0201 - val_acc: 0.8379\n",
            "Epoch 8/20\n",
            "9692/9692 [==============================] - 32s 3ms/step - loss: 7.2290e-04 - acc: 0.9999 - val_loss: 1.0945 - val_acc: 0.8325\n",
            "Epoch 9/20\n",
            "9692/9692 [==============================] - 32s 3ms/step - loss: 5.5313e-04 - acc: 0.9999 - val_loss: 1.2282 - val_acc: 0.8337\n",
            "Epoch 10/20\n",
            "9692/9692 [==============================] - 33s 3ms/step - loss: 9.5456e-04 - acc: 0.9997 - val_loss: 1.2681 - val_acc: 0.8325\n",
            "Epoch 11/20\n",
            "9692/9692 [==============================] - 31s 3ms/step - loss: 0.0012 - acc: 0.9997 - val_loss: 1.3877 - val_acc: 0.8300\n",
            "Epoch 12/20\n",
            "9692/9692 [==============================] - 33s 3ms/step - loss: 0.0047 - acc: 0.9987 - val_loss: 1.1724 - val_acc: 0.8247\n",
            "Epoch 13/20\n",
            "9692/9692 [==============================] - 32s 3ms/step - loss: 0.0022 - acc: 0.9992 - val_loss: 1.1546 - val_acc: 0.8313\n",
            "Epoch 14/20\n",
            "9692/9692 [==============================] - 32s 3ms/step - loss: 0.0043 - acc: 0.9989 - val_loss: 1.0601 - val_acc: 0.8304\n",
            "Epoch 15/20\n",
            "9692/9692 [==============================] - 33s 3ms/step - loss: 7.9227e-04 - acc: 0.9998 - val_loss: 1.1952 - val_acc: 0.8259\n",
            "Epoch 16/20\n",
            "9692/9692 [==============================] - 33s 3ms/step - loss: 1.5115e-04 - acc: 1.0000 - val_loss: 1.3008 - val_acc: 0.8267\n",
            "Epoch 17/20\n",
            "9692/9692 [==============================] - 32s 3ms/step - loss: 0.0019 - acc: 0.9995 - val_loss: 1.2733 - val_acc: 0.8189\n",
            "Epoch 18/20\n",
            "9692/9692 [==============================] - 32s 3ms/step - loss: 0.0016 - acc: 0.9995 - val_loss: 1.3071 - val_acc: 0.8238\n",
            "Epoch 19/20\n",
            "9692/9692 [==============================] - 31s 3ms/step - loss: 0.0015 - acc: 0.9997 - val_loss: 1.3991 - val_acc: 0.8226\n",
            "Epoch 20/20\n",
            "9692/9692 [==============================] - 33s 3ms/step - loss: 0.0024 - acc: 0.9994 - val_loss: 1.2311 - val_acc: 0.8280\n",
            "2424/2424 [==============================] - 1s 365us/step\n",
            "Model evaluation  [1.2311440021684854, 0.8279702970297029]\n",
            "2424/2424 [==============================] - 1s 365us/step\n",
            "Test score: 1.2311439958613108\n",
            "Test accuracy: 0.8279702902430355\n"
          ],
          "name": "stdout"
        }
      ]
    },
    {
      "cell_type": "markdown",
      "metadata": {
        "id": "UIray7x3rrm3",
        "colab_type": "text"
      },
      "source": [
        "Function that plots the loss versus epoch number. Code taken from the tutorial provided in the project module, found [here](https://realpython.com/python-keras-text-classification/)"
      ]
    },
    {
      "cell_type": "code",
      "metadata": {
        "id": "ryNj6v46rJqX",
        "colab_type": "code",
        "colab": {}
      },
      "source": [
        "def plot_history(history):\n",
        "    acc = history.history['acc']\n",
        "    val_acc = history.history['val_acc']\n",
        "    loss = history.history['loss']\n",
        "    val_loss = history.history['val_loss']\n",
        "    x = range(1, len(acc) + 1)\n",
        "\n",
        "    plt.figure(figsize=(12, 5))\n",
        "    plt.subplot(1, 2, 1)\n",
        "    plt.plot(x, acc, 'b', label='Training acc')\n",
        "    plt.plot(x, val_acc, 'r', label='Validation acc')\n",
        "    plt.title('Training and validation accuracy')\n",
        "    plt.legend()\n",
        "    plt.subplot(1, 2, 2)\n",
        "    plt.plot(x, loss, 'b', label='Training loss')\n",
        "    plt.plot(x, val_loss, 'r', label='Validation loss')\n",
        "    plt.title('Training and validation loss')\n",
        "    plt.legend()"
      ],
      "execution_count": 0,
      "outputs": []
    },
    {
      "cell_type": "markdown",
      "metadata": {
        "id": "v5265LSDs77z",
        "colab_type": "text"
      },
      "source": [
        "Calling the plot function"
      ]
    },
    {
      "cell_type": "code",
      "metadata": {
        "id": "9qtltQ-Ls_Kn",
        "colab_type": "code",
        "outputId": "51aca427-8bd9-478f-d929-35c7b7e86b1d",
        "colab": {
          "base_uri": "https://localhost:8080/",
          "height": 357
        }
      },
      "source": [
        "plot_history(historyLSTM1)"
      ],
      "execution_count": 0,
      "outputs": [
        {
          "output_type": "display_data",
          "data": {
            "image/png": "[encoded data removed]",
            "text/plain": [
              "<Figure size 864x360 with 2 Axes>"
            ]
          },
          "metadata": {
            "tags": []
          }
        }
      ]
    },
    {
      "cell_type": "markdown",
      "metadata": {
        "id": "TaefxgyOtXCN",
        "colab_type": "text"
      },
      "source": [
        "According to the RealPython tutorial in the link above, a good way to see when the model starts overfitting is when the loss of validation starts rising again. This is around Epoch 5-6 based on the graph. So let's train the model with 6 epochs and see how it comapres to the one with 2"
      ]
    },
    {
      "cell_type": "code",
      "metadata": {
        "id": "zHSVdjzxtLd3",
        "colab_type": "code",
        "outputId": "504a5410-9a28-4bff-f164-bb9000595291",
        "colab": {
          "base_uri": "https://localhost:8080/",
          "height": 336
        }
      },
      "source": [
        "# Training with 3 epochs\n",
        "print('Train...')\n",
        "historyLSTM1 = LSTM1.fit(X_train, Y_train, batch_size=batch_size, epochs=6,shuffle=True, validation_data=(X_test, Y_test))\n",
        "print('Model evaluation ', LSTM1.evaluate(X_test,Y_test))\n",
        "\n",
        "# Printing test score and accuracy with 3 epochs\n",
        "score, acc = LSTM1.evaluate(X_test, Y_test, batch_size=batch_size)\n",
        "print('Test score:', score)\n",
        "print('Test accuracy:', acc)"
      ],
      "execution_count": 0,
      "outputs": [
        {
          "output_type": "stream",
          "text": [
            "Train...\n",
            "Train on 9692 samples, validate on 2424 samples\n",
            "Epoch 1/6\n",
            "9692/9692 [==============================] - 32s 3ms/step - loss: 0.0036 - acc: 0.9991 - val_loss: 1.1346 - val_acc: 0.8238\n",
            "Epoch 2/6\n",
            "9692/9692 [==============================] - 32s 3ms/step - loss: 0.0010 - acc: 0.9998 - val_loss: 1.2234 - val_acc: 0.8304\n",
            "Epoch 3/6\n",
            "9692/9692 [==============================] - 33s 3ms/step - loss: 1.3541e-04 - acc: 1.0000 - val_loss: 1.2770 - val_acc: 0.8263\n",
            "Epoch 4/6\n",
            "9692/9692 [==============================] - 32s 3ms/step - loss: 4.2571e-05 - acc: 1.0000 - val_loss: 1.3168 - val_acc: 0.8271\n",
            "Epoch 5/6\n",
            "9692/9692 [==============================] - 33s 3ms/step - loss: 1.3485e-05 - acc: 1.0000 - val_loss: 1.3309 - val_acc: 0.8284\n",
            "Epoch 6/6\n",
            "9692/9692 [==============================] - 32s 3ms/step - loss: 1.6735e-05 - acc: 1.0000 - val_loss: 1.3480 - val_acc: 0.8304\n",
            "2424/2424 [==============================] - 1s 352us/step\n",
            "Model evaluation  [1.3480209245933559, 0.8304455445544554]\n",
            "2424/2424 [==============================] - 1s 361us/step\n",
            "Test score: 1.3480209260072449\n",
            "Test accuracy: 0.8304455376202518\n"
          ],
          "name": "stdout"
        }
      ]
    },
    {
      "cell_type": "markdown",
      "metadata": {
        "id": "wHHt72S81fGX",
        "colab_type": "text"
      },
      "source": [
        "With 6 epochs we got a slightly higher accuracy without overfitting"
      ]
    },
    {
      "cell_type": "code",
      "metadata": {
        "id": "OaEzQpooufWs",
        "colab_type": "code",
        "outputId": "60821f92-ab08-48de-e0e3-e61b60bf4af0",
        "colab": {
          "base_uri": "https://localhost:8080/",
          "height": 168
        }
      },
      "source": [
        "LSTM1_Metrics = LSTM1.predict(X_test, verbose=2, batch_size=batch_size)\n",
        "print(metrics.classification_report(Y_test[:,1], np.round(LSTM1_Metrics[:,1]), target_names =[\"Negative\", \"Positive\"]))"
      ],
      "execution_count": 0,
      "outputs": [
        {
          "output_type": "stream",
          "text": [
            "              precision    recall  f1-score   support\n",
            "\n",
            "    Negative       0.81      0.82      0.81      1097\n",
            "    Positive       0.85      0.84      0.84      1327\n",
            "\n",
            "    accuracy                           0.83      2424\n",
            "   macro avg       0.83      0.83      0.83      2424\n",
            "weighted avg       0.83      0.83      0.83      2424\n",
            "\n"
          ],
          "name": "stdout"
        }
      ]
    },
    {
      "cell_type": "markdown",
      "metadata": {
        "id": "3yKufSPL1ooO",
        "colab_type": "text"
      },
      "source": [
        "### Experiementing with other LSTM models (reduced)"
      ]
    },
    {
      "cell_type": "markdown",
      "metadata": {
        "id": "zDI11Z6s1tfT",
        "colab_type": "text"
      },
      "source": [
        "Now that we know the 'best' number of epochs for the reduced LSTM set, let's make a few more models and change some things to see if we can get better results"
      ]
    },
    {
      "cell_type": "markdown",
      "metadata": {
        "id": "meRb0bmB2mAU",
        "colab_type": "text"
      },
      "source": [
        "Changing the Conv1D layer to have a sigmoid activation and the density layer to have the softplus activation function"
      ]
    },
    {
      "cell_type": "code",
      "metadata": {
        "id": "IaTs1xT8vjCt",
        "colab_type": "code",
        "colab": {}
      },
      "source": [
        "def lstmReduced2():\n",
        "# Inform that the model is building\n",
        "  print('Build model...')\n",
        "\n",
        "  model = Sequential()\n",
        "\n",
        "  # Add the embedding layer\n",
        "  model.add(Embedding(max_features, embedding_size, input_length=maxlen))\n",
        "  model.add(Dropout(0.25))\n",
        "  # 1D Convolution Layer with Sigmoid activation\n",
        "  model.add(Conv1D(filters, kernel_size, padding='valid', activation='sigmoid', strides=1))\n",
        "  model.add(MaxPooling1D(pool_size=pool_size))\n",
        "\n",
        "  # Add LSTM Layer\n",
        "  model.add(LSTM(lstm_output_size))\n",
        "\n",
        "  # Use the Softplus activiation function\n",
        "  model.add(Dense(2,activation='softplus'))\n",
        "\n",
        "  # Using categorical corss entropy and the SGD optimizer\n",
        "  model.compile(loss = 'categorical_crossentropy', optimizer='SGD',metrics = ['accuracy'])\n",
        "\n",
        "  # Print a summar of the model\n",
        "  print(model.summary())\n",
        "\n",
        "  return model"
      ],
      "execution_count": 0,
      "outputs": []
    },
    {
      "cell_type": "markdown",
      "metadata": {
        "id": "TvWu5fhr3HJY",
        "colab_type": "text"
      },
      "source": [
        "Building the second LSTM model"
      ]
    },
    {
      "cell_type": "code",
      "metadata": {
        "id": "76ZFlOWT25bO",
        "colab_type": "code",
        "outputId": "27d735f7-9f5b-4fc7-fa72-70eb333f8917",
        "colab": {
          "base_uri": "https://localhost:8080/",
          "height": 386
        }
      },
      "source": [
        "LSTM2 = lstmReduced2()"
      ],
      "execution_count": 0,
      "outputs": [
        {
          "output_type": "stream",
          "text": [
            "Build model...\n",
            "Model: \"sequential_2\"\n",
            "_________________________________________________________________\n",
            "Layer (type)                 Output Shape              Param #   \n",
            "=================================================================\n",
            "embedding_2 (Embedding)      (None, 100, 128)          2560000   \n",
            "_________________________________________________________________\n",
            "dropout_2 (Dropout)          (None, 100, 128)          0         \n",
            "_________________________________________________________________\n",
            "conv1d_2 (Conv1D)            (None, 96, 64)            41024     \n",
            "_________________________________________________________________\n",
            "max_pooling1d_2 (MaxPooling1 (None, 24, 64)            0         \n",
            "_________________________________________________________________\n",
            "lstm_2 (LSTM)                (None, 70)                37800     \n",
            "_________________________________________________________________\n",
            "dense_2 (Dense)              (None, 2)                 142       \n",
            "=================================================================\n",
            "Total params: 2,638,966\n",
            "Trainable params: 2,638,966\n",
            "Non-trainable params: 0\n",
            "_________________________________________________________________\n",
            "None\n"
          ],
          "name": "stdout"
        }
      ]
    },
    {
      "cell_type": "markdown",
      "metadata": {
        "id": "XRQEbjWC3Uih",
        "colab_type": "text"
      },
      "source": [
        "Training the second model with 6 epochs"
      ]
    },
    {
      "cell_type": "code",
      "metadata": {
        "id": "txXgWX8j3Fwn",
        "colab_type": "code",
        "outputId": "2513e40d-ec89-4beb-8847-8998875d3e0c",
        "colab": {
          "base_uri": "https://localhost:8080/",
          "height": 286
        }
      },
      "source": [
        "print('Train...')\n",
        "LSTM2.fit(X_train, Y_train, batch_size=batch_size, epochs=6,shuffle=True, validation_data=(X_test, Y_test))\n",
        "print('Model evaluation ',LSTM2.evaluate(X_test,Y_test))"
      ],
      "execution_count": 0,
      "outputs": [
        {
          "output_type": "stream",
          "text": [
            "Train...\n",
            "Train on 9692 samples, validate on 2424 samples\n",
            "Epoch 1/6\n",
            "9692/9692 [==============================] - 26s 3ms/step - loss: 0.6878 - acc: 0.5543 - val_loss: 0.6908 - val_acc: 0.5474\n",
            "Epoch 2/6\n",
            "9692/9692 [==============================] - 25s 3ms/step - loss: 0.6879 - acc: 0.5543 - val_loss: 0.6895 - val_acc: 0.5474\n",
            "Epoch 3/6\n",
            "9692/9692 [==============================] - 25s 3ms/step - loss: 0.6879 - acc: 0.5543 - val_loss: 0.6898 - val_acc: 0.5474\n",
            "Epoch 4/6\n",
            "9692/9692 [==============================] - 25s 3ms/step - loss: 0.6878 - acc: 0.5543 - val_loss: 0.6917 - val_acc: 0.5474\n",
            "Epoch 5/6\n",
            "9692/9692 [==============================] - 25s 3ms/step - loss: 0.6879 - acc: 0.5543 - val_loss: 0.6898 - val_acc: 0.5474\n",
            "Epoch 6/6\n",
            "9692/9692 [==============================] - 25s 3ms/step - loss: 0.6879 - acc: 0.5543 - val_loss: 0.6894 - val_acc: 0.5474\n",
            "2424/2424 [==============================] - 1s 362us/step\n",
            "Model evaluation  [0.6894458282505325, 0.5474422441260649]\n"
          ],
          "name": "stdout"
        }
      ]
    },
    {
      "cell_type": "markdown",
      "metadata": {
        "id": "qcMi2bhp4B9f",
        "colab_type": "text"
      },
      "source": [
        "Printing the results of model 2"
      ]
    },
    {
      "cell_type": "code",
      "metadata": {
        "id": "hOgGvLah3XRP",
        "colab_type": "code",
        "outputId": "64f237a3-9b7b-4870-d614-5a36c0be8e1e",
        "colab": {
          "base_uri": "https://localhost:8080/",
          "height": 218
        }
      },
      "source": [
        "# Printing test score and accuracy of the second LSTM model\n",
        "score, acc = LSTM2.evaluate(X_test, Y_test, batch_size=batch_size)\n",
        "print('Test score:', score)\n",
        "print('Test accuracy:', acc)\n",
        "\n",
        "# Getting the classification report of LSTM model 2\n",
        "LSTM2_Metrics = LSTM2.predict(X_test, verbose=2, batch_size=batch_size)\n",
        "print(metrics.classification_report(Y_test[:,1], np.round(LSTM2_Metrics[:,1]), target_names =[\"Negative\", \"Positive\"]))"
      ],
      "execution_count": 0,
      "outputs": [
        {
          "output_type": "stream",
          "text": [
            "2424/2424 [==============================] - 1s 381us/step\n",
            "Test score: 0.6894458260866675\n",
            "Test accuracy: 0.547442253052008\n",
            "              precision    recall  f1-score   support\n",
            "\n",
            "    Negative       0.00      0.00      0.00      1097\n",
            "    Positive       0.55      1.00      0.71      1327\n",
            "\n",
            "    accuracy                           0.55      2424\n",
            "   macro avg       0.27      0.50      0.35      2424\n",
            "weighted avg       0.30      0.55      0.39      2424\n",
            "\n"
          ],
          "name": "stdout"
        }
      ]
    },
    {
      "cell_type": "markdown",
      "metadata": {
        "id": "bD9BUilN4n4R",
        "colab_type": "text"
      },
      "source": [
        "The above results for model 2 were lacking compared to the first LSTM. Let's make another model to see if we can improve it"
      ]
    },
    {
      "cell_type": "markdown",
      "metadata": {
        "id": "dEFc9Hcn7BFT",
        "colab_type": "text"
      },
      "source": [
        "Changing the Conv1D layer to have a linear activation and the density layer to have the softsign activation function. Also changed the optimizer to Adadelta"
      ]
    },
    {
      "cell_type": "code",
      "metadata": {
        "id": "MbekeXO94et0",
        "colab_type": "code",
        "colab": {}
      },
      "source": [
        "def lstmReduced3():\n",
        "# Inform that the model is building\n",
        "  print('Build model...')\n",
        "\n",
        "  model = Sequential()\n",
        "\n",
        "  # Add the embedding layer\n",
        "  model.add(Embedding(max_features, embedding_size, input_length=maxlen))\n",
        "  model.add(Dropout(0.25))\n",
        "  # 1D Convolution Layer with Relu activation\n",
        "  model.add(Conv1D(filters, kernel_size, padding='valid', activation='linear', strides=1))\n",
        "  model.add(MaxPooling1D(pool_size=pool_size))\n",
        "\n",
        "  # Add LSTM Layer\n",
        "  model.add(LSTM(lstm_output_size))\n",
        "\n",
        "  # Use the Softsign activiation function\n",
        "  model.add(Dense(2,activation='softsign'))\n",
        "\n",
        "  # Using categorical corss entropy and the Adadelta optimizer\n",
        "  model.compile(loss = 'categorical_crossentropy', optimizer='Adadelta',metrics = ['accuracy'])\n",
        "\n",
        "  # Print a summar of the model\n",
        "  print(model.summary())\n",
        "\n",
        "  return model"
      ],
      "execution_count": 0,
      "outputs": []
    },
    {
      "cell_type": "markdown",
      "metadata": {
        "id": "_zeX-6by7Rli",
        "colab_type": "text"
      },
      "source": [
        "Building the model"
      ]
    },
    {
      "cell_type": "code",
      "metadata": {
        "id": "TRo5sHqx7RGh",
        "colab_type": "code",
        "outputId": "b48fbf5f-c60e-457a-bb69-ff5304bfc610",
        "colab": {
          "base_uri": "https://localhost:8080/",
          "height": 386
        }
      },
      "source": [
        "LSTM3 = lstmReduced3()"
      ],
      "execution_count": 0,
      "outputs": [
        {
          "output_type": "stream",
          "text": [
            "Build model...\n",
            "Model: \"sequential_3\"\n",
            "_________________________________________________________________\n",
            "Layer (type)                 Output Shape              Param #   \n",
            "=================================================================\n",
            "embedding_3 (Embedding)      (None, 100, 128)          2560000   \n",
            "_________________________________________________________________\n",
            "dropout_3 (Dropout)          (None, 100, 128)          0         \n",
            "_________________________________________________________________\n",
            "conv1d_3 (Conv1D)            (None, 96, 64)            41024     \n",
            "_________________________________________________________________\n",
            "max_pooling1d_3 (MaxPooling1 (None, 24, 64)            0         \n",
            "_________________________________________________________________\n",
            "lstm_3 (LSTM)                (None, 70)                37800     \n",
            "_________________________________________________________________\n",
            "dense_3 (Dense)              (None, 2)                 142       \n",
            "=================================================================\n",
            "Total params: 2,638,966\n",
            "Trainable params: 2,638,966\n",
            "Non-trainable params: 0\n",
            "_________________________________________________________________\n",
            "None\n"
          ],
          "name": "stdout"
        }
      ]
    },
    {
      "cell_type": "markdown",
      "metadata": {
        "id": "q5FkWpeK7ZOi",
        "colab_type": "text"
      },
      "source": [
        "Train the third LSTM model with 6 epochs\n"
      ]
    },
    {
      "cell_type": "code",
      "metadata": {
        "id": "m9deOmmx7MQT",
        "colab_type": "code",
        "outputId": "e3bf1890-5ab8-418d-e0b5-50ac69792f40",
        "colab": {
          "base_uri": "https://localhost:8080/",
          "height": 286
        }
      },
      "source": [
        "print('Train...')\n",
        "LSTM3.fit(X_train, Y_train, batch_size=batch_size, epochs=6,shuffle=True, validation_data=(X_test, Y_test))\n",
        "print('Model evaluation ',LSTM3.evaluate(X_test,Y_test))"
      ],
      "execution_count": 0,
      "outputs": [
        {
          "output_type": "stream",
          "text": [
            "Train...\n",
            "Train on 9692 samples, validate on 2424 samples\n",
            "Epoch 1/6\n",
            "9692/9692 [==============================] - 36s 4ms/step - loss: 7.6466 - acc: 0.5543 - val_loss: 7.4651 - val_acc: 0.5470\n",
            "Epoch 2/6\n",
            "9692/9692 [==============================] - 33s 3ms/step - loss: 7.6649 - acc: 0.5543 - val_loss: 7.4651 - val_acc: 0.5470\n",
            "Epoch 3/6\n",
            "9692/9692 [==============================] - 34s 4ms/step - loss: 7.6632 - acc: 0.5543 - val_loss: 7.4651 - val_acc: 0.5470\n",
            "Epoch 4/6\n",
            "9692/9692 [==============================] - 34s 3ms/step - loss: 7.6566 - acc: 0.5543 - val_loss: 7.4651 - val_acc: 0.5470\n",
            "Epoch 5/6\n",
            "9692/9692 [==============================] - 34s 4ms/step - loss: 8.8053 - acc: 0.4559 - val_loss: 8.8503 - val_acc: 0.4526\n",
            "Epoch 6/6\n",
            "9692/9692 [==============================] - 34s 4ms/step - loss: 1.8774 - acc: 0.5474 - val_loss: 0.6919 - val_acc: 0.4563\n",
            "2424/2424 [==============================] - 1s 376us/step\n",
            "Model evaluation  [0.6919370938842446, 0.45627062725942125]\n"
          ],
          "name": "stdout"
        }
      ]
    },
    {
      "cell_type": "markdown",
      "metadata": {
        "id": "9UC8phFC8doU",
        "colab_type": "text"
      },
      "source": [
        "Printing the results of LSTM model 3"
      ]
    },
    {
      "cell_type": "code",
      "metadata": {
        "id": "osSw5y707mW4",
        "colab_type": "code",
        "outputId": "641d28bc-62c0-4943-e0b3-27b5a1bb7bb2",
        "colab": {
          "base_uri": "https://localhost:8080/",
          "height": 67
        }
      },
      "source": [
        "# Printing test score and accuracy of the third LSTM model\n",
        "score, acc = LSTM3.evaluate(X_test, Y_test, batch_size=batch_size)\n",
        "print('Test score:', score)\n",
        "print('Test accuracy:', acc)"
      ],
      "execution_count": 0,
      "outputs": [
        {
          "output_type": "stream",
          "text": [
            "2424/2424 [==============================] - 1s 389us/step\n",
            "Test score: 0.6919370966382546\n",
            "Test accuracy: 0.4562706356075141\n"
          ],
          "name": "stdout"
        }
      ]
    },
    {
      "cell_type": "markdown",
      "metadata": {
        "id": "UmkQpgZm89FY",
        "colab_type": "text"
      },
      "source": [
        "Has a worse Accuracy the LSTM Reduced 2. So based on our expeirments on the reduced set. **LSTM Model 1 has the best results of the reduced set.** Expeirments with the full data set are in the Section \"Full Data Work\""
      ]
    },
    {
      "cell_type": "markdown",
      "metadata": {
        "colab_type": "text",
        "id": "6u-iuZXaAsgN"
      },
      "source": [
        "### Setting up the Data for CNN (Reduced)"
      ]
    },
    {
      "cell_type": "markdown",
      "metadata": {
        "id": "2plaSLav-4Yo",
        "colab_type": "text"
      },
      "source": [
        "Initalizing the variables for the CNN model. Numbers taken from [here](https://keras.io/examples/imdb_cnn/)"
      ]
    },
    {
      "cell_type": "code",
      "metadata": {
        "id": "vy3N61I38oxJ",
        "colab_type": "code",
        "colab": {}
      },
      "source": [
        "# Note some parameters were changed to be more consistent with the LSTM \n",
        "# experiements so we could have an accurate comaprison\n",
        "max_features = 20000\n",
        "maxlen = 100\n",
        "batch_size = 30\n",
        "embedding_dims = 50\n",
        "filters = 250\n",
        "kernel_size = 3\n",
        "hidden_dims = 250\n",
        "epochs = 2"
      ],
      "execution_count": 0,
      "outputs": []
    },
    {
      "cell_type": "markdown",
      "metadata": {
        "id": "GsUQZrXsAbGv",
        "colab_type": "text"
      },
      "source": [
        "### CNN Model and Results"
      ]
    },
    {
      "cell_type": "markdown",
      "metadata": {
        "id": "i_emyvYdA3C-",
        "colab_type": "text"
      },
      "source": [
        "Creating the function for the first CNN model. Based off the link above. It is a sequential model with 9 layers. The code section below this also trains the model on 2 epochs"
      ]
    },
    {
      "cell_type": "code",
      "metadata": {
        "id": "rzjkm_Vk_8HC",
        "colab_type": "code",
        "colab": {}
      },
      "source": [
        "def cnnReduced1():\n",
        "  print('Build model...')\n",
        "  model = Sequential()\n",
        "\n",
        "  # we start off with an efficient embedding layer which maps\n",
        "  # our vocab indices into embedding_dims dimensions\n",
        "  model.add(Embedding(max_features,\n",
        "                      embedding_dims,\n",
        "                      input_length=maxlen))\n",
        "  model.add(Dropout(0.2))\n",
        "\n",
        "  # we add a Convolution1D, which will learn filters\n",
        "  # word group filters of size filter_length:\n",
        "  model.add(Conv1D(filters,\n",
        "                  kernel_size,\n",
        "                  padding='valid',\n",
        "                  activation='relu',\n",
        "                  strides=1))\n",
        "  # we use max pooling:\n",
        "  model.add(GlobalMaxPooling1D())\n",
        "\n",
        "  # We add a vanilla hidden layer:\n",
        "  model.add(Dense(hidden_dims))\n",
        "  model.add(Dropout(0.2))\n",
        "  model.add(Activation('relu'))\n",
        "\n",
        "  # We project onto a single unit output layer, and squash it with a sigmoid:\n",
        "  model.add(Dense(2))\n",
        "  model.add(Activation('sigmoid'))\n",
        "\n",
        "  model.compile(loss='categorical_crossentropy',\n",
        "                optimizer='adam',\n",
        "                metrics=['accuracy'])\n",
        "  \n",
        "  print(model.summary())\n",
        "  \n",
        "  return model"
      ],
      "execution_count": 0,
      "outputs": []
    },
    {
      "cell_type": "markdown",
      "metadata": {
        "id": "HaPpmf8SCa0j",
        "colab_type": "text"
      },
      "source": [
        "Building the model"
      ]
    },
    {
      "cell_type": "code",
      "metadata": {
        "id": "p-NmQAWkBoqm",
        "colab_type": "code",
        "outputId": "2c70175f-6d4b-43e4-c029-1b3adf2a5f5d",
        "colab": {
          "base_uri": "https://localhost:8080/",
          "height": 487
        }
      },
      "source": [
        "CNN1 = cnnReduced1()"
      ],
      "execution_count": 0,
      "outputs": [
        {
          "output_type": "stream",
          "text": [
            "Build model...\n",
            "Model: \"sequential_9\"\n",
            "_________________________________________________________________\n",
            "Layer (type)                 Output Shape              Param #   \n",
            "=================================================================\n",
            "embedding_9 (Embedding)      (None, 100, 50)           1000000   \n",
            "_________________________________________________________________\n",
            "dropout_13 (Dropout)         (None, 100, 50)           0         \n",
            "_________________________________________________________________\n",
            "conv1d_9 (Conv1D)            (None, 98, 250)           37750     \n",
            "_________________________________________________________________\n",
            "global_max_pooling1d_5 (Glob (None, 250)               0         \n",
            "_________________________________________________________________\n",
            "dense_12 (Dense)             (None, 250)               62750     \n",
            "_________________________________________________________________\n",
            "dropout_14 (Dropout)         (None, 250)               0         \n",
            "_________________________________________________________________\n",
            "activation_9 (Activation)    (None, 250)               0         \n",
            "_________________________________________________________________\n",
            "dense_13 (Dense)             (None, 2)                 502       \n",
            "_________________________________________________________________\n",
            "activation_10 (Activation)   (None, 2)                 0         \n",
            "=================================================================\n",
            "Total params: 1,101,002\n",
            "Trainable params: 1,101,002\n",
            "Non-trainable params: 0\n",
            "_________________________________________________________________\n",
            "None\n"
          ],
          "name": "stdout"
        }
      ]
    },
    {
      "cell_type": "markdown",
      "metadata": {
        "id": "moMh17pZFUt6",
        "colab_type": "text"
      },
      "source": [
        "Training the model"
      ]
    },
    {
      "cell_type": "code",
      "metadata": {
        "id": "N8rScwrwFwFR",
        "colab_type": "code",
        "outputId": "d02326ee-5f97-417e-a3b7-1177054322de",
        "colab": {
          "base_uri": "https://localhost:8080/",
          "height": 151
        }
      },
      "source": [
        "print('Train...')\n",
        "CNN1.fit(X_train, Y_train, batch_size=batch_size, epochs=2,shuffle=True, validation_data=(X_test, Y_test))\n",
        "print('Model evaluation ',CNN1.evaluate(X_test,Y_test))"
      ],
      "execution_count": 0,
      "outputs": [
        {
          "output_type": "stream",
          "text": [
            "Train...\n",
            "Train on 9692 samples, validate on 2424 samples\n",
            "Epoch 1/2\n",
            "9692/9692 [==============================] - 16s 2ms/step - loss: 0.5372 - acc: 0.7135 - val_loss: 0.3929 - val_acc: 0.8193\n",
            "Epoch 2/2\n",
            "9692/9692 [==============================] - 14s 1ms/step - loss: 0.3045 - acc: 0.8747 - val_loss: 0.3536 - val_acc: 0.8424\n",
            "2424/2424 [==============================] - 1s 225us/step\n",
            "Model evaluation  [0.35363322329206437, 0.8424092407273774]\n"
          ],
          "name": "stdout"
        }
      ]
    },
    {
      "cell_type": "markdown",
      "metadata": {
        "id": "7A4ZA1U8D1wN",
        "colab_type": "text"
      },
      "source": [
        "Printing the results of the first CNN model (reduced)"
      ]
    },
    {
      "cell_type": "code",
      "metadata": {
        "id": "2nm9LNt5Cg8A",
        "colab_type": "code",
        "outputId": "dd1aad12-a0a8-471f-9cd6-5945b790b421",
        "colab": {
          "base_uri": "https://localhost:8080/",
          "height": 218
        }
      },
      "source": [
        "# Printing the accuracy and test score of the first CNN1 model\n",
        "score, acc = CNN1.evaluate(X_test, Y_test, batch_size=batch_size)\n",
        "print('Test score:', score)\n",
        "print('Test accuracy:', acc)\n",
        "\n",
        "# Getting the classification metrics of CNN1 model \n",
        "CNN1_Metrics = CNN1.predict(X_test, verbose = 2, batch_size = batch_size)\n",
        "print(metrics.classification_report(Y_test[:,1], np.round(CNN1_Metrics[:,1]) ,target_names = [\"Negative\", \"Positive\"]))"
      ],
      "execution_count": 0,
      "outputs": [
        {
          "output_type": "stream",
          "text": [
            "2424/2424 [==============================] - 1s 239us/step\n",
            "Test score: 0.3536332207962428\n",
            "Test accuracy: 0.8424092371865074\n",
            "              precision    recall  f1-score   support\n",
            "\n",
            "    Negative       0.62      0.98      0.76      1097\n",
            "    Positive       0.97      0.51      0.67      1327\n",
            "\n",
            "    accuracy                           0.72      2424\n",
            "   macro avg       0.79      0.74      0.71      2424\n",
            "weighted avg       0.81      0.72      0.71      2424\n",
            "\n"
          ],
          "name": "stdout"
        }
      ]
    },
    {
      "cell_type": "markdown",
      "metadata": {
        "id": "tdpE3P6uGSQG",
        "colab_type": "text"
      },
      "source": [
        "### Experiementing with Different CNN Epochs (reduced)"
      ]
    },
    {
      "cell_type": "markdown",
      "metadata": {
        "id": "ShetrpVAGstq",
        "colab_type": "text"
      },
      "source": [
        "Like with our LSTM data, we're going to increase the number of Epochs so we can see where the data starts to overfit. To keep it a fair comparison, we will train our first model on 20 epochs and see if it has a different point of overfitting compared to LSTM"
      ]
    },
    {
      "cell_type": "code",
      "metadata": {
        "id": "4eyCZIWdFFQC",
        "colab_type": "code",
        "outputId": "120ae5ee-9880-4368-f67b-896cd9f9e757",
        "colab": {
          "base_uri": "https://localhost:8080/",
          "height": 806
        }
      },
      "source": [
        "# Training with 17 more epochs\n",
        "print('Train...')\n",
        "historyCNN1 = CNN1.fit(X_train, Y_train, batch_size=batch_size, epochs=20,shuffle=True, validation_data=(X_test, Y_test))\n",
        "print('Model evaluation ', CNN1.evaluate(X_test,Y_test))\n",
        "\n",
        "# Printing test score and accuracy with 20 epochs\n",
        "score, acc = CNN1.evaluate(X_test, Y_test, batch_size=batch_size)\n",
        "print('Test score:', score)\n",
        "print('Test accuracy:', acc)"
      ],
      "execution_count": 0,
      "outputs": [
        {
          "output_type": "stream",
          "text": [
            "Train...\n",
            "Train on 9692 samples, validate on 2424 samples\n",
            "Epoch 1/20\n",
            "9692/9692 [==============================] - 14s 1ms/step - loss: 0.1594 - acc: 0.9431 - val_loss: 0.3946 - val_acc: 0.8424\n",
            "Epoch 2/20\n",
            "9692/9692 [==============================] - 14s 1ms/step - loss: 0.0662 - acc: 0.9786 - val_loss: 0.5257 - val_acc: 0.8292\n",
            "Epoch 3/20\n",
            "9692/9692 [==============================] - 14s 1ms/step - loss: 0.0285 - acc: 0.9913 - val_loss: 0.7054 - val_acc: 0.8185\n",
            "Epoch 4/20\n",
            "9692/9692 [==============================] - 14s 1ms/step - loss: 0.0149 - acc: 0.9957 - val_loss: 0.7351 - val_acc: 0.8280\n",
            "Epoch 5/20\n",
            "9692/9692 [==============================] - 14s 1ms/step - loss: 0.0077 - acc: 0.9972 - val_loss: 0.8805 - val_acc: 0.8156\n",
            "Epoch 6/20\n",
            "9692/9692 [==============================] - 14s 1ms/step - loss: 0.0106 - acc: 0.9961 - val_loss: 1.0940 - val_acc: 0.8189\n",
            "Epoch 7/20\n",
            "9692/9692 [==============================] - 14s 1ms/step - loss: 0.0235 - acc: 0.9920 - val_loss: 0.8887 - val_acc: 0.8086\n",
            "Epoch 8/20\n",
            "9692/9692 [==============================] - 14s 1ms/step - loss: 0.0138 - acc: 0.9952 - val_loss: 0.8476 - val_acc: 0.8288\n",
            "Epoch 9/20\n",
            "9692/9692 [==============================] - 14s 1ms/step - loss: 0.0071 - acc: 0.9977 - val_loss: 0.9392 - val_acc: 0.8309\n",
            "Epoch 10/20\n",
            "9692/9692 [==============================] - 14s 1ms/step - loss: 0.0099 - acc: 0.9965 - val_loss: 0.8957 - val_acc: 0.8321\n",
            "Epoch 11/20\n",
            "9692/9692 [==============================] - 14s 1ms/step - loss: 0.0060 - acc: 0.9982 - val_loss: 0.9827 - val_acc: 0.8276\n",
            "Epoch 12/20\n",
            "9692/9692 [==============================] - 14s 1ms/step - loss: 0.0119 - acc: 0.9959 - val_loss: 0.9343 - val_acc: 0.8238\n",
            "Epoch 13/20\n",
            "9692/9692 [==============================] - 14s 1ms/step - loss: 0.0083 - acc: 0.9965 - val_loss: 0.9971 - val_acc: 0.8226\n",
            "Epoch 14/20\n",
            "9692/9692 [==============================] - 14s 1ms/step - loss: 0.0031 - acc: 0.9991 - val_loss: 1.2486 - val_acc: 0.8053\n",
            "Epoch 15/20\n",
            "9692/9692 [==============================] - 14s 1ms/step - loss: 0.0071 - acc: 0.9977 - val_loss: 1.0376 - val_acc: 0.8230\n",
            "Epoch 16/20\n",
            "9692/9692 [==============================] - 14s 1ms/step - loss: 0.0029 - acc: 0.9993 - val_loss: 1.1845 - val_acc: 0.8276\n",
            "Epoch 17/20\n",
            "9692/9692 [==============================] - 14s 1ms/step - loss: 0.0089 - acc: 0.9970 - val_loss: 1.0712 - val_acc: 0.8255\n",
            "Epoch 18/20\n",
            "9692/9692 [==============================] - 14s 1ms/step - loss: 0.0070 - acc: 0.9977 - val_loss: 1.1148 - val_acc: 0.8218\n",
            "Epoch 19/20\n",
            "9692/9692 [==============================] - 14s 1ms/step - loss: 0.0029 - acc: 0.9990 - val_loss: 1.1971 - val_acc: 0.8263\n",
            "Epoch 20/20\n",
            "9692/9692 [==============================] - 14s 1ms/step - loss: 0.0041 - acc: 0.9985 - val_loss: 1.2070 - val_acc: 0.8218\n",
            "2424/2424 [==============================] - 1s 242us/step\n",
            "Model evaluation  [1.2069894464889375, 0.8217821780211068]\n",
            "2424/2424 [==============================] - 1s 260us/step\n",
            "Test score: 1.2069961416839372\n",
            "Test accuracy: 0.8217821730540531\n"
          ],
          "name": "stdout"
        }
      ]
    },
    {
      "cell_type": "markdown",
      "metadata": {
        "id": "sDG3-md0IYwF",
        "colab_type": "text"
      },
      "source": [
        "Calling the plot function"
      ]
    },
    {
      "cell_type": "code",
      "metadata": {
        "id": "oFrn_5JrHO3p",
        "colab_type": "code",
        "outputId": "ee84e72d-059f-41a2-8896-0b132a57b77a",
        "colab": {
          "base_uri": "https://localhost:8080/",
          "height": 357
        }
      },
      "source": [
        "plot_history(historyCNN1)"
      ],
      "execution_count": 0,
      "outputs": [
        {
          "output_type": "display_data",
          "data": {
            "image/png": "[encoded data removed]",
            "text/plain": [
              "<Figure size 864x360 with 2 Axes>"
            ]
          },
          "metadata": {
            "tags": []
          }
        }
      ]
    },
    {
      "cell_type": "markdown",
      "metadata": {
        "id": "xYbPO5BVJ2ps",
        "colab_type": "text"
      },
      "source": [
        "The graph above provides more interesting results compared to the LSTM one. Since we're looking for when \"the validation loss starts rising again\" I think around the 4-5 epoch range is the right spot. Let's test with 5 and see how it compares to the 2 "
      ]
    },
    {
      "cell_type": "code",
      "metadata": {
        "id": "my9SKc0aIcSs",
        "colab_type": "code",
        "outputId": "5720d185-6587-46e8-c063-3530256c7b71",
        "colab": {
          "base_uri": "https://localhost:8080/",
          "height": 302
        }
      },
      "source": [
        "# Training with 3 more epochs\n",
        "print('Train...')\n",
        "historyCNN1 = CNN1.fit(X_train, Y_train, batch_size=batch_size, epochs=5,shuffle=True, validation_data=(X_test, Y_test))\n",
        "print('Model evaluation ', CNN1.evaluate(X_test,Y_test))\n",
        "\n",
        "# Printing test score and accuracy with 5 epochs\n",
        "score, acc = CNN1.evaluate(X_test, Y_test, batch_size=batch_size)\n",
        "print('Test score:', score)\n",
        "print('Test accuracy:', acc)"
      ],
      "execution_count": 0,
      "outputs": [
        {
          "output_type": "stream",
          "text": [
            "Train...\n",
            "Train on 9692 samples, validate on 2424 samples\n",
            "Epoch 1/5\n",
            "9692/9692 [==============================] - 14s 1ms/step - loss: 0.0021 - acc: 0.9993 - val_loss: 1.1968 - val_acc: 0.8238\n",
            "Epoch 2/5\n",
            "9692/9692 [==============================] - 15s 2ms/step - loss: 9.5971e-04 - acc: 0.9996 - val_loss: 1.4919 - val_acc: 0.8168\n",
            "Epoch 3/5\n",
            "9692/9692 [==============================] - 14s 1ms/step - loss: 1.5018e-04 - acc: 1.0000 - val_loss: 1.6479 - val_acc: 0.8177\n",
            "Epoch 4/5\n",
            "9692/9692 [==============================] - 14s 1ms/step - loss: 0.0039 - acc: 0.9992 - val_loss: 1.2124 - val_acc: 0.8243\n",
            "Epoch 5/5\n",
            "9692/9692 [==============================] - 14s 1ms/step - loss: 0.0017 - acc: 0.9995 - val_loss: 1.4243 - val_acc: 0.8168\n",
            "2424/2424 [==============================] - 1s 236us/step\n",
            "Model evaluation  [1.424354098024148, 0.8168316833650319]\n",
            "2424/2424 [==============================] - 1s 241us/step\n",
            "Test score: 1.4243466608447604\n",
            "Test accuracy: 0.8168316805126643\n"
          ],
          "name": "stdout"
        }
      ]
    },
    {
      "cell_type": "markdown",
      "metadata": {
        "id": "_QNYuCrOLpPk",
        "colab_type": "text"
      },
      "source": [
        "Getting Classification Metrics with 5 Epochs for CNN"
      ]
    },
    {
      "cell_type": "code",
      "metadata": {
        "id": "ZzHT6uctLo9M",
        "colab_type": "code",
        "outputId": "abb05312-ab01-4356-e586-3b9d6b253f61",
        "colab": {
          "base_uri": "https://localhost:8080/",
          "height": 168
        }
      },
      "source": [
        "# Getting the classification metrics of CNN1 model \n",
        "CNN1_Metrics = CNN1.predict(X_test, verbose = 2, batch_size = batch_size)\n",
        "print(metrics.classification_report(Y_test[:,1], np.round(CNN1_Metrics[:,1]) ,target_names = [\"Negative\", \"Positive\"]))"
      ],
      "execution_count": 0,
      "outputs": [
        {
          "output_type": "stream",
          "text": [
            "              precision    recall  f1-score   support\n",
            "\n",
            "    Negative       0.80      0.79      0.80      1097\n",
            "    Positive       0.83      0.84      0.83      1327\n",
            "\n",
            "    accuracy                           0.82      2424\n",
            "   macro avg       0.82      0.82      0.82      2424\n",
            "weighted avg       0.82      0.82      0.82      2424\n",
            "\n"
          ],
          "name": "stdout"
        }
      ]
    },
    {
      "cell_type": "markdown",
      "metadata": {
        "id": "fuQOgDvzL0R_",
        "colab_type": "text"
      },
      "source": [
        "The results above with 5 epochs are more higher in both accuracy, precision, and recall comapred to the CNN with 2. The increase in numbers is a bit more drastic compared to LSTM. Let's run some experiements with CNN now that we discovered the 'right' number of epochs (5)"
      ]
    },
    {
      "cell_type": "markdown",
      "metadata": {
        "id": "xJGqDljwMIcL",
        "colab_type": "text"
      },
      "source": [
        "### Experimenting with other CNN Models (reduced)"
      ]
    },
    {
      "cell_type": "markdown",
      "metadata": {
        "id": "3mLVx1btMYp6",
        "colab_type": "text"
      },
      "source": [
        "Now that we know the 'best' number of epochs for the reduced CNN set, let's make a few more models and change some things to see if we can get better results."
      ]
    },
    {
      "cell_type": "markdown",
      "metadata": {
        "id": "ExXykROdMbK-",
        "colab_type": "text"
      },
      "source": [
        "To get a more accurate comparison between the two models (LSTM and CNN), We will run the same experiements on both. "
      ]
    },
    {
      "cell_type": "markdown",
      "metadata": {
        "id": "4C9QruDSNgcM",
        "colab_type": "text"
      },
      "source": [
        "Making the CNN model 2 and replacing relu with sigmoid, adding the softplus activation function, and changing the optimizer to SGD. "
      ]
    },
    {
      "cell_type": "code",
      "metadata": {
        "id": "KNP2CxKCKOdQ",
        "colab_type": "code",
        "colab": {}
      },
      "source": [
        "def cnnReduced2():\n",
        "  print('Build model...')\n",
        "  model = Sequential()\n",
        "\n",
        "  # we start off with an efficient embedding layer which maps\n",
        "  # our vocab indices into embedding_dims dimensions\n",
        "  model.add(Embedding(max_features,\n",
        "                      embedding_dims,\n",
        "                      input_length=maxlen))\n",
        "  model.add(Dropout(0.2))\n",
        "\n",
        "  # we add a Convolution1D, which will learn filters\n",
        "  # word group filters of size filter_length:\n",
        "  model.add(Conv1D(filters,\n",
        "                  kernel_size,\n",
        "                  padding='valid',\n",
        "                  activation='sigmoid',\n",
        "                  strides=1))\n",
        "  # we use max pooling:\n",
        "  model.add(GlobalMaxPooling1D())\n",
        "\n",
        "  # We add a vanilla hidden layer:\n",
        "  model.add(Dense(hidden_dims))\n",
        "  model.add(Dropout(0.2))\n",
        "  model.add(Activation('sigmoid'))\n",
        "\n",
        "  # We project onto a single unit output layer, and squash it with a sigmoid:\n",
        "  model.add(Dense(2))\n",
        "  model.add(Activation('softplus'))\n",
        "\n",
        "  model.compile(loss='categorical_crossentropy',\n",
        "                optimizer='SGD',\n",
        "                metrics=['accuracy'])\n",
        "  \n",
        "  print(model.summary())\n",
        "  \n",
        "  return model"
      ],
      "execution_count": 0,
      "outputs": []
    },
    {
      "cell_type": "markdown",
      "metadata": {
        "id": "zdmoxR_ENs2B",
        "colab_type": "text"
      },
      "source": [
        "Building the model"
      ]
    },
    {
      "cell_type": "code",
      "metadata": {
        "id": "cClSmg9-NfUZ",
        "colab_type": "code",
        "outputId": "c23f979f-0250-4330-a514-b0011b8bf210",
        "colab": {
          "base_uri": "https://localhost:8080/",
          "height": 487
        }
      },
      "source": [
        "CNN2 = cnnReduced2()"
      ],
      "execution_count": 0,
      "outputs": [
        {
          "output_type": "stream",
          "text": [
            "Build model...\n",
            "Model: \"sequential_10\"\n",
            "_________________________________________________________________\n",
            "Layer (type)                 Output Shape              Param #   \n",
            "=================================================================\n",
            "embedding_10 (Embedding)     (None, 100, 50)           1000000   \n",
            "_________________________________________________________________\n",
            "dropout_15 (Dropout)         (None, 100, 50)           0         \n",
            "_________________________________________________________________\n",
            "conv1d_10 (Conv1D)           (None, 98, 250)           37750     \n",
            "_________________________________________________________________\n",
            "global_max_pooling1d_6 (Glob (None, 250)               0         \n",
            "_________________________________________________________________\n",
            "dense_14 (Dense)             (None, 250)               62750     \n",
            "_________________________________________________________________\n",
            "dropout_16 (Dropout)         (None, 250)               0         \n",
            "_________________________________________________________________\n",
            "activation_11 (Activation)   (None, 250)               0         \n",
            "_________________________________________________________________\n",
            "dense_15 (Dense)             (None, 2)                 502       \n",
            "_________________________________________________________________\n",
            "activation_12 (Activation)   (None, 2)                 0         \n",
            "=================================================================\n",
            "Total params: 1,101,002\n",
            "Trainable params: 1,101,002\n",
            "Non-trainable params: 0\n",
            "_________________________________________________________________\n",
            "None\n"
          ],
          "name": "stdout"
        }
      ]
    },
    {
      "cell_type": "markdown",
      "metadata": {
        "id": "QWbvzXgtN2bB",
        "colab_type": "text"
      },
      "source": [
        "Training our model with 5 epochs"
      ]
    },
    {
      "cell_type": "code",
      "metadata": {
        "id": "ezj2UUYHNwU0",
        "colab_type": "code",
        "outputId": "4d7d7e70-5500-41d9-e624-635a436349a5",
        "colab": {
          "base_uri": "https://localhost:8080/",
          "height": 252
        }
      },
      "source": [
        "print('Train...')\n",
        "CNN2.fit(X_train, Y_train, batch_size=batch_size, epochs=5,shuffle=True, validation_data=(X_test, Y_test))\n",
        "print('Model evaluation ',CNN2.evaluate(X_test,Y_test))"
      ],
      "execution_count": 0,
      "outputs": [
        {
          "output_type": "stream",
          "text": [
            "Train...\n",
            "Train on 9692 samples, validate on 2424 samples\n",
            "Epoch 1/5\n",
            "9692/9692 [==============================] - 14s 1ms/step - loss: 0.6902 - acc: 0.5470 - val_loss: 0.6919 - val_acc: 0.5474\n",
            "Epoch 2/5\n",
            "9692/9692 [==============================] - 12s 1ms/step - loss: 0.6902 - acc: 0.5454 - val_loss: 0.6986 - val_acc: 0.5474\n",
            "Epoch 3/5\n",
            "9692/9692 [==============================] - 12s 1ms/step - loss: 0.6903 - acc: 0.5498 - val_loss: 0.7030 - val_acc: 0.4526\n",
            "Epoch 4/5\n",
            "9692/9692 [==============================] - 12s 1ms/step - loss: 0.6897 - acc: 0.5469 - val_loss: 0.6911 - val_acc: 0.5474\n",
            "Epoch 5/5\n",
            "9692/9692 [==============================] - 12s 1ms/step - loss: 0.6887 - acc: 0.5510 - val_loss: 0.7069 - val_acc: 0.4526\n",
            "2424/2424 [==============================] - 1s 232us/step\n",
            "Model evaluation  [0.7069395823840654, 0.4525577555788626]\n"
          ],
          "name": "stdout"
        }
      ]
    },
    {
      "cell_type": "markdown",
      "metadata": {
        "id": "lAmkMeI5OP7Y",
        "colab_type": "text"
      },
      "source": [
        "Printing the results of our second CNN model"
      ]
    },
    {
      "cell_type": "code",
      "metadata": {
        "id": "5ux2GJ4KN7id",
        "colab_type": "code",
        "outputId": "19d4561c-8a63-4f72-f77d-e61fa4cd96a4",
        "colab": {
          "base_uri": "https://localhost:8080/",
          "height": 218
        }
      },
      "source": [
        "# Printing the accuracy and test score of the second CNN model\n",
        "score, acc = CNN2.evaluate(X_test, Y_test, batch_size=batch_size)\n",
        "print('Test score:', score)\n",
        "print('Test accuracy:', acc)\n",
        "\n",
        "# Getting the classification metrics of CNN1 model \n",
        "CNN2_Metrics = CNN2.predict(X_test, verbose = 2, batch_size = batch_size)\n",
        "print(metrics.classification_report(Y_test[:,1], np.round(CNN2_Metrics[:,1]) ,target_names = [\"Negative\", \"Positive\"]))"
      ],
      "execution_count": 0,
      "outputs": [
        {
          "output_type": "stream",
          "text": [
            "2424/2424 [==============================] - 1s 252us/step\n",
            "Test score: 0.7069395882363366\n",
            "Test accuracy: 0.4525577638040085\n",
            "              precision    recall  f1-score   support\n",
            "\n",
            "    Negative       0.00      0.00      0.00      1097\n",
            "    Positive       0.55      1.00      0.71      1327\n",
            "\n",
            "    accuracy                           0.55      2424\n",
            "   macro avg       0.27      0.50      0.35      2424\n",
            "weighted avg       0.30      0.55      0.39      2424\n",
            "\n"
          ],
          "name": "stdout"
        }
      ]
    },
    {
      "cell_type": "markdown",
      "metadata": {
        "id": "HitD1OxWOjA8",
        "colab_type": "text"
      },
      "source": [
        "Like LSTM. The changes to the relu activation function and Adam Optimizer produce much worse results. Let's make another model"
      ]
    },
    {
      "cell_type": "markdown",
      "metadata": {
        "id": "AiUaPhMCPVkk",
        "colab_type": "text"
      },
      "source": [
        "Making another model, changing the sigmoid form CNN2 to linear and the optimizer to Adadelta"
      ]
    },
    {
      "cell_type": "code",
      "metadata": {
        "id": "q1Emafc3Og08",
        "colab_type": "code",
        "colab": {}
      },
      "source": [
        "def cnnReduced3():\n",
        "  print('Build model...')\n",
        "  model = Sequential()\n",
        "\n",
        "  # we start off with an efficient embedding layer which maps\n",
        "  # our vocab indices into embedding_dims dimensions\n",
        "  model.add(Embedding(max_features,\n",
        "                      embedding_dims,\n",
        "                      input_length=maxlen))\n",
        "  model.add(Dropout(0.2))\n",
        "\n",
        "  # we add a Convolution1D, which will learn filters\n",
        "  # word group filters of size filter_length:\n",
        "  model.add(Conv1D(filters,\n",
        "                  kernel_size,\n",
        "                  padding='valid',\n",
        "                  activation='linear',\n",
        "                  strides=1))\n",
        "  # we use max pooling:\n",
        "  model.add(GlobalMaxPooling1D())\n",
        "\n",
        "  # We add a vanilla hidden layer:\n",
        "  model.add(Dense(hidden_dims))\n",
        "  model.add(Dropout(0.2))\n",
        "  model.add(Activation('linear'))\n",
        "\n",
        "  # We project onto a single unit output layer, and squash it with a sigmoid:\n",
        "  model.add(Dense(2))\n",
        "  model.add(Activation('softsign'))\n",
        "\n",
        "  model.compile(loss='categorical_crossentropy',\n",
        "                optimizer='Adadelta',\n",
        "                metrics=['accuracy'])\n",
        "  \n",
        "  print(model.summary())\n",
        "  \n",
        "  return model"
      ],
      "execution_count": 0,
      "outputs": []
    },
    {
      "cell_type": "markdown",
      "metadata": {
        "id": "f6A_MEnJPglQ",
        "colab_type": "text"
      },
      "source": [
        "Builiding the model"
      ]
    },
    {
      "cell_type": "code",
      "metadata": {
        "id": "PfOGxpQxPgQd",
        "colab_type": "code",
        "outputId": "82b9d6fc-e3e9-4cc8-9daa-4d4950e7897b",
        "colab": {
          "base_uri": "https://localhost:8080/",
          "height": 487
        }
      },
      "source": [
        "CNN3 = cnnReduced3()"
      ],
      "execution_count": 0,
      "outputs": [
        {
          "output_type": "stream",
          "text": [
            "Build model...\n",
            "Model: \"sequential_11\"\n",
            "_________________________________________________________________\n",
            "Layer (type)                 Output Shape              Param #   \n",
            "=================================================================\n",
            "embedding_11 (Embedding)     (None, 100, 50)           1000000   \n",
            "_________________________________________________________________\n",
            "dropout_17 (Dropout)         (None, 100, 50)           0         \n",
            "_________________________________________________________________\n",
            "conv1d_11 (Conv1D)           (None, 98, 250)           37750     \n",
            "_________________________________________________________________\n",
            "global_max_pooling1d_7 (Glob (None, 250)               0         \n",
            "_________________________________________________________________\n",
            "dense_16 (Dense)             (None, 250)               62750     \n",
            "_________________________________________________________________\n",
            "dropout_18 (Dropout)         (None, 250)               0         \n",
            "_________________________________________________________________\n",
            "activation_13 (Activation)   (None, 250)               0         \n",
            "_________________________________________________________________\n",
            "dense_17 (Dense)             (None, 2)                 502       \n",
            "_________________________________________________________________\n",
            "activation_14 (Activation)   (None, 2)                 0         \n",
            "=================================================================\n",
            "Total params: 1,101,002\n",
            "Trainable params: 1,101,002\n",
            "Non-trainable params: 0\n",
            "_________________________________________________________________\n",
            "None\n"
          ],
          "name": "stdout"
        }
      ]
    },
    {
      "cell_type": "markdown",
      "metadata": {
        "id": "ljObaP2YPofc",
        "colab_type": "text"
      },
      "source": [
        "Training the model with 5 epochs"
      ]
    },
    {
      "cell_type": "code",
      "metadata": {
        "id": "KJ6NW1UYPm7E",
        "colab_type": "code",
        "outputId": "fc9a50c7-48ed-42d0-fa95-b9ed2946e41d",
        "colab": {
          "base_uri": "https://localhost:8080/",
          "height": 252
        }
      },
      "source": [
        "print('Train...')\n",
        "CNN3.fit(X_train, Y_train, batch_size=batch_size, epochs=5,shuffle=True, validation_data=(X_test, Y_test))\n",
        "print('Model evaluation ',CNN3.evaluate(X_test,Y_test))"
      ],
      "execution_count": 0,
      "outputs": [
        {
          "output_type": "stream",
          "text": [
            "Train...\n",
            "Train on 9692 samples, validate on 2424 samples\n",
            "Epoch 1/5\n",
            "9692/9692 [==============================] - 16s 2ms/step - loss: 1.2844 - acc: 0.6126 - val_loss: 1.9085 - val_acc: 0.6881\n",
            "Epoch 2/5\n",
            "9692/9692 [==============================] - 15s 1ms/step - loss: 0.6343 - acc: 0.7811 - val_loss: 0.7647 - val_acc: 0.8020\n",
            "Epoch 3/5\n",
            "9692/9692 [==============================] - 15s 2ms/step - loss: 0.6179 - acc: 0.8228 - val_loss: 0.7707 - val_acc: 0.8086\n",
            "Epoch 4/5\n",
            "9692/9692 [==============================] - 14s 1ms/step - loss: 0.5431 - acc: 0.8430 - val_loss: 0.7829 - val_acc: 0.8156\n",
            "Epoch 5/5\n",
            "9692/9692 [==============================] - 14s 1ms/step - loss: 0.5699 - acc: 0.8499 - val_loss: 0.8474 - val_acc: 0.8218\n",
            "2424/2424 [==============================] - 1s 247us/step\n",
            "Model evaluation  [0.8473704643916375, 0.8217821784145368]\n"
          ],
          "name": "stdout"
        }
      ]
    },
    {
      "cell_type": "markdown",
      "metadata": {
        "id": "g0wSKBjfP2-V",
        "colab_type": "text"
      },
      "source": [
        "Getting the result of CNN 3"
      ]
    },
    {
      "cell_type": "code",
      "metadata": {
        "id": "GcwGJBZOPxcu",
        "colab_type": "code",
        "outputId": "a79fef0b-db73-46fd-9822-8bcb55dd8f3c",
        "colab": {
          "base_uri": "https://localhost:8080/",
          "height": 67
        }
      },
      "source": [
        "# Printing the accuracy and test score of the third CNN model\n",
        "score, acc = CNN2.evaluate(X_test, Y_test, batch_size=batch_size)\n",
        "print('Test score:', score)\n",
        "print('Test accuracy:', acc)"
      ],
      "execution_count": 0,
      "outputs": [
        {
          "output_type": "stream",
          "text": [
            "2424/2424 [==============================] - 1s 257us/step\n",
            "Test score: 0.7069395882363366\n",
            "Test accuracy: 0.4525577638040085\n"
          ],
          "name": "stdout"
        }
      ]
    },
    {
      "cell_type": "markdown",
      "metadata": {
        "id": "Y7H4HnoLQLxZ",
        "colab_type": "text"
      },
      "source": [
        "The accuracy wasn't as bad compared to LSTM3, but it was not as high as CNN1. For the reduced CNN data, CNN1 still provides the best results"
      ]
    },
    {
      "cell_type": "markdown",
      "metadata": {
        "id": "rnLfB7HRQWW4",
        "colab_type": "text"
      },
      "source": [
        "#**Full Data Work**"
      ]
    },
    {
      "cell_type": "markdown",
      "metadata": {
        "id": "VRLLx_DtcvWa",
        "colab_type": "text"
      },
      "source": [
        "### Working with the full data"
      ]
    },
    {
      "cell_type": "markdown",
      "metadata": {
        "id": "ws9Zn5xudACP",
        "colab_type": "text"
      },
      "source": [
        "Reading the full data set and using the review and rating column"
      ]
    },
    {
      "cell_type": "code",
      "metadata": {
        "id": "YM-62TBeQEcT",
        "colab_type": "code",
        "colab": {}
      },
      "source": [
        "y = []\n",
        "X = []\n",
        "# open reduced CSV\n",
        "with open('full_amazon_ff_reviews.csv', 'r') as csvFile:\n",
        "    reader = csv.reader(csvFile)\n",
        "    for row in reader:\n",
        "        X.append(row[5])\n",
        "        y.append(row[8])"
      ],
      "execution_count": 0,
      "outputs": []
    },
    {
      "cell_type": "markdown",
      "metadata": {
        "id": "YNiX_WBLdTyT",
        "colab_type": "text"
      },
      "source": [
        "Making a data frame called 'dfFull' that is using columns 5 and 8 of the full data"
      ]
    },
    {
      "cell_type": "code",
      "metadata": {
        "id": "jvMZGfsydS57",
        "colab_type": "code",
        "outputId": "f7e69599-28d6-4330-b3df-7ec0650442ae",
        "colab": {
          "base_uri": "https://localhost:8080/",
          "height": 195
        }
      },
      "source": [
        "# columns 'Rating' and 'Text' are loaded into the df\n",
        "dfFull = pd.read_csv('full_amazon_ff_reviews.csv', usecols=[5, 8])\n",
        "\n",
        "# seeing the top 5 records\n",
        "dfFull.head()"
      ],
      "execution_count": 0,
      "outputs": [
        {
          "output_type": "execute_result",
          "data": {
            "text/html": [
              "<div>\n",
              "<style scoped>\n",
              "    .dataframe tbody tr th:only-of-type {\n",
              "        vertical-align: middle;\n",
              "    }\n",
              "\n",
              "    .dataframe tbody tr th {\n",
              "        vertical-align: top;\n",
              "    }\n",
              "\n",
              "    .dataframe thead th {\n",
              "        text-align: right;\n",
              "    }\n",
              "</style>\n",
              "<table border=\"1\" class=\"dataframe\">\n",
              "  <thead>\n",
              "    <tr style=\"text-align: right;\">\n",
              "      <th></th>\n",
              "      <th>Rating</th>\n",
              "      <th>Text</th>\n",
              "    </tr>\n",
              "  </thead>\n",
              "  <tbody>\n",
              "    <tr>\n",
              "      <th>0</th>\n",
              "      <td>positive</td>\n",
              "      <td>I have bought several of the Vitality canned d...</td>\n",
              "    </tr>\n",
              "    <tr>\n",
              "      <th>1</th>\n",
              "      <td>negative</td>\n",
              "      <td>Product arrived labeled as Jumbo Salted Peanut...</td>\n",
              "    </tr>\n",
              "    <tr>\n",
              "      <th>2</th>\n",
              "      <td>positive</td>\n",
              "      <td>This is a confection that has been around a fe...</td>\n",
              "    </tr>\n",
              "    <tr>\n",
              "      <th>3</th>\n",
              "      <td>negative</td>\n",
              "      <td>If you are looking for the secret ingredient i...</td>\n",
              "    </tr>\n",
              "    <tr>\n",
              "      <th>4</th>\n",
              "      <td>positive</td>\n",
              "      <td>Great taffy at a great price.  There was a wid...</td>\n",
              "    </tr>\n",
              "  </tbody>\n",
              "</table>\n",
              "</div>"
            ],
            "text/plain": [
              "     Rating                                               Text\n",
              "0  positive  I have bought several of the Vitality canned d...\n",
              "1  negative  Product arrived labeled as Jumbo Salted Peanut...\n",
              "2  positive  This is a confection that has been around a fe...\n",
              "3  negative  If you are looking for the secret ingredient i...\n",
              "4  positive  Great taffy at a great price.  There was a wid..."
            ]
          },
          "metadata": {
            "tags": []
          },
          "execution_count": 91
        }
      ]
    },
    {
      "cell_type": "markdown",
      "metadata": {
        "id": "GBunrCezd3IG",
        "colab_type": "text"
      },
      "source": [
        "### Setting up the Data for LTSM (full)"
      ]
    },
    {
      "cell_type": "markdown",
      "metadata": {
        "colab_type": "text",
        "id": "tnhcAjlheN9s"
      },
      "source": [
        "Initalizing the variables for the LSTM Model. Numbers taken from the docs located [here](https://keras.io/examples/imdb_cnn_lstm/)"
      ]
    },
    {
      "cell_type": "code",
      "metadata": {
        "id": "FCitdhnLd5hF",
        "colab_type": "code",
        "colab": {}
      },
      "source": [
        "# For Embedding\n",
        "max_features = 20000\n",
        "maxlen = 100\n",
        "embedding_size = 128\n",
        "\n",
        "# Convolution\n",
        "kernel_size = 5\n",
        "filters = 64\n",
        "pool_size = 4\n",
        "\n",
        "# LSTM\n",
        "lstm_output_size = 70\n",
        "\n",
        "# Training\n",
        "batch_size = 30\n",
        "epochs = 2"
      ],
      "execution_count": 0,
      "outputs": []
    },
    {
      "cell_type": "markdown",
      "metadata": {
        "colab_type": "text",
        "id": "pScXCqs1ewow"
      },
      "source": [
        "Getting the data ready for emebdding, filtered out neutural reviews, number, speical characters, stopwords and converted to lowercase for better reading. Similar to the beginning of the notebook, except this time it's for the data frame containing the full data"
      ]
    },
    {
      "cell_type": "code",
      "metadata": {
        "id": "3gVzbMCLxsR0",
        "colab_type": "code",
        "colab": {}
      },
      "source": [
        "# Filtering out neutral\n",
        "dfFull = dfFull[dfFull.Rating != \"neutral\"]\n",
        "\n",
        "# Converting all the lowercase\n",
        "dfFull['Text'] = dfFull['Text'].apply(lambda x: str(x).lower())\n",
        "\n",
        "# Removing numbers and special cases\n",
        "dfFull['Text'] = dfFull['Text'].apply((lambda x: re.sub('[^a-zA-z0-9\\s]','',x)))"
      ],
      "execution_count": 0,
      "outputs": []
    },
    {
      "cell_type": "markdown",
      "metadata": {
        "id": "3LJmWVhofiKB",
        "colab_type": "text"
      },
      "source": [
        "Counting the number of positive and negative reviews in the full data"
      ]
    },
    {
      "cell_type": "code",
      "metadata": {
        "id": "f2KcvnhmfdjO",
        "colab_type": "code",
        "outputId": "3aec1d25-db53-44ab-b16b-097d95b1fd37",
        "colab": {
          "base_uri": "https://localhost:8080/",
          "height": 50
        }
      },
      "source": [
        "# Number of positive reviews\n",
        "print(dfFull[ dfFull['Rating'] == 'positive'].size)\n",
        "\n",
        "# Number of negative reviews\n",
        "print(dfFull[ dfFull['Rating'] == 'negative'].size)"
      ],
      "execution_count": 0,
      "outputs": [
        {
          "output_type": "stream",
          "text": [
            "750646\n",
            "164074\n"
          ],
          "name": "stdout"
        }
      ]
    },
    {
      "cell_type": "markdown",
      "metadata": {
        "colab_type": "text",
        "id": "BjO62gJKf6CQ"
      },
      "source": [
        "Toeknizing the data for word embeddings with the full data. Lossely modeled after the solutions in this [link](https://stackoverflow.com/questions/55578939/tokenize-each-row-in-a-dataframe-for-loop-not-working)"
      ]
    },
    {
      "cell_type": "code",
      "metadata": {
        "id": "wcLXmqjCf9Tz",
        "colab_type": "code",
        "colab": {}
      },
      "source": [
        "for idx,row in dfFull.iterrows():\n",
        "    row[0] = row[0].replace('rt',' ')\n",
        "    \n",
        "tokenizer = Tokenizer(nb_words = max_features, split=' ')\n",
        "tokenizer.fit_on_texts(dfFull['Text'].values)\n",
        "X = tokenizer.texts_to_sequences(dfFull['Text'].values)\n",
        "X = pad_sequences(X, maxlen = maxlen)"
      ],
      "execution_count": 0,
      "outputs": []
    },
    {
      "cell_type": "markdown",
      "metadata": {
        "colab_type": "text",
        "id": "coReuex3gNcN"
      },
      "source": [
        "Using get_dummies to convert the categorical text data into indicator variables. Based off the documentation [here](https://pandas.pydata.org/pandas-docs/stable/reference/api/pandas.get_dummies.html)"
      ]
    },
    {
      "cell_type": "code",
      "metadata": {
        "id": "UWwJVMBagRIv",
        "colab_type": "code",
        "outputId": "29b66dcd-25c7-4f0a-aba9-cd5ee05debcf",
        "colab": {
          "base_uri": "https://localhost:8080/",
          "height": 50
        }
      },
      "source": [
        "# Call the get_dummies function\n",
        "Y = pd.get_dummies(dfFull['Rating']).values\n",
        "\n",
        "# Performing an 80/20 split with a random state of 42\n",
        "X_train, X_test, Y_train, Y_test = train_test_split(X,Y, test_size = 0.20, random_state = 42)\n",
        "\n",
        "# Printing the shape of both the training and testing data\n",
        "print(X_train.shape,Y_train.shape)\n",
        "print(X_test.shape,Y_test.shape)"
      ],
      "execution_count": 0,
      "outputs": [
        {
          "output_type": "stream",
          "text": [
            "(365888, 100) (365888, 2)\n",
            "(91472, 100) (91472, 2)\n"
          ],
          "name": "stdout"
        }
      ]
    },
    {
      "cell_type": "markdown",
      "metadata": {
        "id": "DY0JZnhhgvkf",
        "colab_type": "text"
      },
      "source": [
        "### LSTM Model and Results for the Full Data"
      ]
    },
    {
      "cell_type": "markdown",
      "metadata": {
        "colab_type": "text",
        "id": "ZHIhuxS3hFV8"
      },
      "source": [
        "Building the First LSTM Full Model. It's a sequential model with 6 layers"
      ]
    },
    {
      "cell_type": "code",
      "metadata": {
        "colab_type": "code",
        "id": "ilf8Bzc9hIIN",
        "colab": {}
      },
      "source": [
        "def lstmFull1():\n",
        "# Inform that the model is building\n",
        "  print('Build model...')\n",
        "\n",
        "  model = Sequential()\n",
        "\n",
        "  # Add the embedding layer\n",
        "  model.add(Embedding(max_features, embedding_size, input_length=maxlen))\n",
        "  model.add(Dropout(0.25))\n",
        "  # 1D Convolution Layer with Relu activation\n",
        "  model.add(Conv1D(filters, kernel_size, padding='valid', activation='relu', strides=1))\n",
        "  model.add(MaxPooling1D(pool_size=pool_size))\n",
        "\n",
        "  # Add LSTM Layer\n",
        "  model.add(LSTM(lstm_output_size))\n",
        "\n",
        "  # Use the Softmask activiation function\n",
        "  model.add(Dense(2,activation='softmax'))\n",
        "\n",
        "  # Using categorical corss entropy and the adam optimizer\n",
        "  model.compile(loss = 'categorical_crossentropy', optimizer='adam',metrics = ['accuracy'])\n",
        "\n",
        "  # Print a summar of the model\n",
        "  print(model.summary())\n",
        "\n",
        "  return model"
      ],
      "execution_count": 0,
      "outputs": []
    },
    {
      "cell_type": "markdown",
      "metadata": {
        "id": "Aqcuu9O6hUQk",
        "colab_type": "text"
      },
      "source": [
        "Call the lstmFull1 function to the variable LSTM_Full1"
      ]
    },
    {
      "cell_type": "code",
      "metadata": {
        "id": "9m-fGNOfhSzW",
        "colab_type": "code",
        "outputId": "223b48fc-4fa3-4f9e-e1d9-ec2012e42458",
        "colab": {
          "base_uri": "https://localhost:8080/",
          "height": 386
        }
      },
      "source": [
        "LSTM_Full1 = lstmFull1()"
      ],
      "execution_count": 0,
      "outputs": [
        {
          "output_type": "stream",
          "text": [
            "Build model...\n",
            "Model: \"sequential_12\"\n",
            "_________________________________________________________________\n",
            "Layer (type)                 Output Shape              Param #   \n",
            "=================================================================\n",
            "embedding_12 (Embedding)     (None, 100, 128)          2560000   \n",
            "_________________________________________________________________\n",
            "dropout_19 (Dropout)         (None, 100, 128)          0         \n",
            "_________________________________________________________________\n",
            "conv1d_12 (Conv1D)           (None, 98, 250)           96250     \n",
            "_________________________________________________________________\n",
            "max_pooling1d_4 (MaxPooling1 (None, 24, 250)           0         \n",
            "_________________________________________________________________\n",
            "lstm_4 (LSTM)                (None, 70)                89880     \n",
            "_________________________________________________________________\n",
            "dense_18 (Dense)             (None, 2)                 142       \n",
            "=================================================================\n",
            "Total params: 2,746,272\n",
            "Trainable params: 2,746,272\n",
            "Non-trainable params: 0\n",
            "_________________________________________________________________\n",
            "None\n"
          ],
          "name": "stdout"
        }
      ]
    },
    {
      "cell_type": "markdown",
      "metadata": {
        "id": "pfr-CiGdhj_5",
        "colab_type": "text"
      },
      "source": [
        "Training the LSTM_Full1 model with a Batch size of 30 and 2 Epochs"
      ]
    },
    {
      "cell_type": "code",
      "metadata": {
        "id": "cI3dgBBmhbFK",
        "colab_type": "code",
        "outputId": "dd5028fa-2760-4708-aec1-d1cc7cdcce5d",
        "colab": {
          "base_uri": "https://localhost:8080/",
          "height": 151
        }
      },
      "source": [
        "print('Train...')\n",
        "LSTM_Full1.fit(X_train, Y_train, batch_size=batch_size, epochs=epochs,shuffle=True, validation_data=(X_test, Y_test))\n",
        "print('Model evaluation ',LSTM_Full1.evaluate(X_test,Y_test))"
      ],
      "execution_count": 0,
      "outputs": [
        {
          "output_type": "stream",
          "text": [
            "Train...\n",
            "Train on 365888 samples, validate on 91472 samples\n",
            "Epoch 1/2\n",
            "365888/365888 [==============================] - 1701s 5ms/step - loss: 0.1686 - acc: 0.9346 - val_loss: 0.1282 - val_acc: 0.9515\n",
            "Epoch 2/2\n",
            "365888/365888 [==============================] - 1702s 5ms/step - loss: 0.1057 - acc: 0.9611 - val_loss: 0.1187 - val_acc: 0.9555\n",
            "91472/91472 [==============================] - 63s 687us/step\n",
            "Model evaluation  [0.11871898203217651, 0.9554508483470352]\n"
          ],
          "name": "stdout"
        }
      ]
    },
    {
      "cell_type": "markdown",
      "metadata": {
        "id": "VkcVnVVSifnA",
        "colab_type": "text"
      },
      "source": [
        "Printing test score and test accuracy. Along with the classification report."
      ]
    },
    {
      "cell_type": "code",
      "metadata": {
        "id": "P3G1F-8Bhxqs",
        "colab_type": "code",
        "outputId": "560416d1-8650-4ed4-acae-679cdcbe445c",
        "colab": {
          "base_uri": "https://localhost:8080/",
          "height": 218
        }
      },
      "source": [
        "score, acc = LSTM_Full1.evaluate(X_test, Y_test, batch_size=batch_size)\n",
        "print('Test score:', score)\n",
        "print('Test accuracy:', acc)\n",
        "\n",
        "LSTM_Full1_Metrics = LSTM_Full1.predict(X_test, verbose=2, batch_size =batch_size)\n",
        "print(metrics.classification_report(Y_test[:,1], np.round(LSTM_Full1_Metrics[:,1]), target_names = [\"Negative\", \"Positive\"]))"
      ],
      "execution_count": 0,
      "outputs": [
        {
          "output_type": "stream",
          "text": [
            "91472/91472 [==============================] - 63s 687us/step\n",
            "Test score: 0.11871898241894133\n",
            "Test accuracy: 0.9554508369958795\n",
            "              precision    recall  f1-score   support\n",
            "\n",
            "    Negative       0.90      0.85      0.87     16421\n",
            "    Positive       0.97      0.98      0.97     75051\n",
            "\n",
            "    accuracy                           0.96     91472\n",
            "   macro avg       0.93      0.91      0.92     91472\n",
            "weighted avg       0.95      0.96      0.95     91472\n",
            "\n"
          ],
          "name": "stdout"
        }
      ]
    },
    {
      "cell_type": "markdown",
      "metadata": {
        "id": "9mB-BCUWjZQi",
        "colab_type": "text"
      },
      "source": [
        "### Experimenting with Different LSTM Epochs (Full)"
      ]
    },
    {
      "cell_type": "markdown",
      "metadata": {
        "id": "xb5UgD-Hj2TE",
        "colab_type": "text"
      },
      "source": [
        "Due to the long amount of time it takes for 2 epochs to run on the full data set (about 50 minutes per LSTM model), any graph we produce will not have enough data to determine the what number of epochs would be the best fit. So this section will be skipped for the LSTM Full Data and 2 epochs will be used in the experimentation section"
      ]
    },
    {
      "cell_type": "markdown",
      "metadata": {
        "id": "Luaml6ACwKVm",
        "colab_type": "text"
      },
      "source": [
        "### Experimenting with other LSTM models (Full)"
      ]
    },
    {
      "cell_type": "markdown",
      "metadata": {
        "id": "nzpsWmtFwPYR",
        "colab_type": "text"
      },
      "source": [
        "To keep the results/comparisons as fair as possible. The LSTM full data will be undergoing the same tests as the LSTM reduced."
      ]
    },
    {
      "cell_type": "code",
      "metadata": {
        "id": "z-5M_gOwwH1q",
        "colab_type": "code",
        "colab": {}
      },
      "source": [
        "def lstmFull2():\n",
        "# Inform that the model is building\n",
        "  print('Build model...')\n",
        "\n",
        "  model = Sequential()\n",
        "\n",
        "  # Add the embedding layer\n",
        "  model.add(Embedding(max_features, embedding_size, input_length=maxlen))\n",
        "  model.add(Dropout(0.25))\n",
        "  # 1D Convolution Layer with Sigmoid activation\n",
        "  model.add(Conv1D(filters, kernel_size, padding='valid', activation='sigmoid', strides=1))\n",
        "  model.add(MaxPooling1D(pool_size=pool_size))\n",
        "\n",
        "  # Add LSTM Layer\n",
        "  model.add(LSTM(lstm_output_size))\n",
        "\n",
        "  # Use the Softplus activiation function\n",
        "  model.add(Dense(2,activation='softplus'))\n",
        "\n",
        "  # Using categorical corss entropy and the SGD optimizer\n",
        "  model.compile(loss = 'categorical_crossentropy', optimizer='SGD',metrics = ['accuracy'])\n",
        "\n",
        "  # Print a summar of the model\n",
        "  print(model.summary())\n",
        "\n",
        "  return model"
      ],
      "execution_count": 0,
      "outputs": []
    },
    {
      "cell_type": "markdown",
      "metadata": {
        "id": "bTPfspSawph1",
        "colab_type": "text"
      },
      "source": [
        "Building the second LSTM Full Model"
      ]
    },
    {
      "cell_type": "code",
      "metadata": {
        "id": "LFnJ16hlwov8",
        "colab_type": "code",
        "outputId": "4765438c-65ad-48e9-b937-2eeca0918414",
        "colab": {
          "base_uri": "https://localhost:8080/",
          "height": 386
        }
      },
      "source": [
        "LSTM_Full2 = lstmFull2()"
      ],
      "execution_count": 0,
      "outputs": [
        {
          "output_type": "stream",
          "text": [
            "Build model...\n",
            "Model: \"sequential_13\"\n",
            "_________________________________________________________________\n",
            "Layer (type)                 Output Shape              Param #   \n",
            "=================================================================\n",
            "embedding_13 (Embedding)     (None, 100, 128)          2560000   \n",
            "_________________________________________________________________\n",
            "dropout_20 (Dropout)         (None, 100, 128)          0         \n",
            "_________________________________________________________________\n",
            "conv1d_13 (Conv1D)           (None, 98, 250)           96250     \n",
            "_________________________________________________________________\n",
            "max_pooling1d_5 (MaxPooling1 (None, 24, 250)           0         \n",
            "_________________________________________________________________\n",
            "lstm_5 (LSTM)                (None, 70)                89880     \n",
            "_________________________________________________________________\n",
            "dense_19 (Dense)             (None, 2)                 142       \n",
            "=================================================================\n",
            "Total params: 2,746,272\n",
            "Trainable params: 2,746,272\n",
            "Non-trainable params: 0\n",
            "_________________________________________________________________\n",
            "None\n"
          ],
          "name": "stdout"
        }
      ]
    },
    {
      "cell_type": "markdown",
      "metadata": {
        "id": "WVSmUtagwyAP",
        "colab_type": "text"
      },
      "source": [
        "Training the second model with 2 Epochs"
      ]
    },
    {
      "cell_type": "code",
      "metadata": {
        "id": "asIu3xRbwwbm",
        "colab_type": "code",
        "outputId": "469f95b6-3129-4abd-fada-8d1c614955ae",
        "colab": {
          "base_uri": "https://localhost:8080/",
          "height": 151
        }
      },
      "source": [
        "print('Train...')\n",
        "LSTM_Full2.fit(X_train, Y_train, batch_size=batch_size, epochs=2,shuffle=True, validation_data=(X_test, Y_test))\n",
        "print('Model evaluation ',LSTM_Full2.evaluate(X_test,Y_test))"
      ],
      "execution_count": 0,
      "outputs": [
        {
          "output_type": "stream",
          "text": [
            "Train...\n",
            "Train on 365888 samples, validate on 91472 samples\n",
            "Epoch 1/2\n",
            "365888/365888 [==============================] - 1445s 4ms/step - loss: 0.4708 - acc: 0.8207 - val_loss: 0.4711 - val_acc: 0.8205\n",
            "Epoch 2/2\n",
            "365888/365888 [==============================] - 1435s 4ms/step - loss: 0.4706 - acc: 0.8207 - val_loss: 0.4708 - val_acc: 0.8205\n",
            "91472/91472 [==============================] - 64s 696us/step\n",
            "Model evaluation  [0.4707737990832733, 0.8204805842224944]\n"
          ],
          "name": "stdout"
        }
      ]
    },
    {
      "cell_type": "markdown",
      "metadata": {
        "id": "oFqV7_ffxExX",
        "colab_type": "text"
      },
      "source": [
        "Printing the results of LSTM Model 2 (Full)"
      ]
    },
    {
      "cell_type": "code",
      "metadata": {
        "id": "gooiSnHNw8u9",
        "colab_type": "code",
        "outputId": "810fc0d2-c3c6-472f-82d8-16924dba1c5d",
        "colab": {
          "base_uri": "https://localhost:8080/",
          "height": 67
        }
      },
      "source": [
        "score, acc = LSTM_Full2.evaluate(X_test, Y_test, batch_size=batch_size)\n",
        "print('Test score:', score)\n",
        "print('Test accuracy:', acc)\n"
      ],
      "execution_count": 0,
      "outputs": [
        {
          "output_type": "stream",
          "text": [
            "91472/91472 [==============================] - 64s 695us/step\n",
            "Test score: 0.47077379915951245\n",
            "Test accuracy: 0.8204805805643205\n"
          ],
          "name": "stdout"
        }
      ]
    },
    {
      "cell_type": "markdown",
      "metadata": {
        "id": "PWP536nc82Ny",
        "colab_type": "text"
      },
      "source": [
        "Compared to the first full LSTM Model, Model 2 took an over 10 point decrease in accuracy. While the results aren't as good as the first full model, the changed parameters are much more effective with the full data than the reduced"
      ]
    },
    {
      "cell_type": "markdown",
      "metadata": {
        "id": "hjFx9a9l9Hxp",
        "colab_type": "text"
      },
      "source": [
        "Making the third LSTM full model"
      ]
    },
    {
      "cell_type": "code",
      "metadata": {
        "id": "gDYTL9IC8RZa",
        "colab_type": "code",
        "colab": {}
      },
      "source": [
        "def lstmFull3():\n",
        "# Inform that the model is building\n",
        "  print('Build model...')\n",
        "\n",
        "  model = Sequential()\n",
        "\n",
        "  # Add the embedding layer\n",
        "  model.add(Embedding(max_features, embedding_size, input_length=maxlen))\n",
        "  model.add(Dropout(0.25))\n",
        "  # 1D Convolution Layer with Linear activation\n",
        "  model.add(Conv1D(filters, kernel_size, padding='valid', activation='linear', strides=1))\n",
        "  model.add(MaxPooling1D(pool_size=pool_size))\n",
        "\n",
        "  # Add LSTM Layer\n",
        "  model.add(LSTM(lstm_output_size))\n",
        "\n",
        "  # Use the Softsign activiation function\n",
        "  model.add(Dense(2,activation='softsign'))\n",
        "\n",
        "  # Using categorical corss entropy and the Adadelta optimizer\n",
        "  model.compile(loss = 'categorical_crossentropy', optimizer='Adadelta',metrics = ['accuracy'])\n",
        "\n",
        "  # Print a summar of the model\n",
        "  print(model.summary())\n",
        "\n",
        "  return model"
      ],
      "execution_count": 0,
      "outputs": []
    },
    {
      "cell_type": "markdown",
      "metadata": {
        "id": "Y1w6Ohjw9mwg",
        "colab_type": "text"
      },
      "source": [
        "Building the model"
      ]
    },
    {
      "cell_type": "code",
      "metadata": {
        "id": "B32zFH8G9l2s",
        "colab_type": "code",
        "outputId": "d1ee3181-7cb6-4e78-ab6e-194e43bdc16e",
        "colab": {
          "base_uri": "https://localhost:8080/",
          "height": 386
        }
      },
      "source": [
        "LSTM_Full3 = lstmReduced3()"
      ],
      "execution_count": 0,
      "outputs": [
        {
          "output_type": "stream",
          "text": [
            "Build model...\n",
            "Model: \"sequential_14\"\n",
            "_________________________________________________________________\n",
            "Layer (type)                 Output Shape              Param #   \n",
            "=================================================================\n",
            "embedding_14 (Embedding)     (None, 100, 128)          2560000   \n",
            "_________________________________________________________________\n",
            "dropout_21 (Dropout)         (None, 100, 128)          0         \n",
            "_________________________________________________________________\n",
            "conv1d_14 (Conv1D)           (None, 98, 250)           96250     \n",
            "_________________________________________________________________\n",
            "max_pooling1d_6 (MaxPooling1 (None, 24, 250)           0         \n",
            "_________________________________________________________________\n",
            "lstm_6 (LSTM)                (None, 70)                89880     \n",
            "_________________________________________________________________\n",
            "dense_20 (Dense)             (None, 2)                 142       \n",
            "=================================================================\n",
            "Total params: 2,746,272\n",
            "Trainable params: 2,746,272\n",
            "Non-trainable params: 0\n",
            "_________________________________________________________________\n",
            "None\n"
          ],
          "name": "stdout"
        }
      ]
    },
    {
      "cell_type": "markdown",
      "metadata": {
        "id": "UZpa8-Jw9tOL",
        "colab_type": "text"
      },
      "source": [
        "Train the third LSTM full model with 2 epochs"
      ]
    },
    {
      "cell_type": "code",
      "metadata": {
        "id": "kHaHpE2m9rcJ",
        "colab_type": "code",
        "outputId": "89477f4d-4b3a-414a-83cc-55a78cdf8c14",
        "colab": {
          "base_uri": "https://localhost:8080/",
          "height": 151
        }
      },
      "source": [
        "print('Train...')\n",
        "LSTM_Full3.fit(X_train, Y_train, batch_size=batch_size, epochs=2,shuffle=True, validation_data=(X_test, Y_test))\n",
        "print('Model evaluation ',LSTM_Full3.evaluate(X_test,Y_test))"
      ],
      "execution_count": 0,
      "outputs": [
        {
          "output_type": "stream",
          "text": [
            "Train...\n",
            "Train on 365888 samples, validate on 91472 samples\n",
            "Epoch 1/2\n",
            "365888/365888 [==============================] - 1824s 5ms/step - loss: 2.8907 - acc: 0.1794 - val_loss: 2.8935 - val_acc: 0.1795\n",
            "Epoch 2/2\n",
            "365888/365888 [==============================] - 1823s 5ms/step - loss: 2.8908 - acc: 0.1793 - val_loss: 2.8935 - val_acc: 0.1795\n",
            "91472/91472 [==============================] - 62s 675us/step\n",
            "Model evaluation  [2.893511081901238, 0.1795194157775057]\n"
          ],
          "name": "stdout"
        }
      ]
    },
    {
      "cell_type": "markdown",
      "metadata": {
        "id": "FP3rVHKl96zR",
        "colab_type": "text"
      },
      "source": [
        "Printing the results of LSTM model 3"
      ]
    },
    {
      "cell_type": "code",
      "metadata": {
        "id": "nDg4FAOz94Lu",
        "colab_type": "code",
        "outputId": "b7c0e53f-286c-421c-a570-09469c2a225b",
        "colab": {
          "base_uri": "https://localhost:8080/",
          "height": 67
        }
      },
      "source": [
        "# Printing test score and accuracy of the third LSTM model\n",
        "score, acc = LSTM_Full3.evaluate(X_test, Y_test, batch_size=batch_size)\n",
        "print('Test score:', score)\n",
        "print('Test accuracy:', acc)"
      ],
      "execution_count": 0,
      "outputs": [
        {
          "output_type": "stream",
          "text": [
            "91472/91472 [==============================] - 62s 678us/step\n",
            "Test score: 2.8935110002641435\n",
            "Test accuracy: 0.1795194208920419\n"
          ],
          "name": "stdout"
        }
      ]
    },
    {
      "cell_type": "markdown",
      "metadata": {
        "id": "BprWIOQGMw-v",
        "colab_type": "text"
      },
      "source": [
        "This accuracy is comically low. So much like the redueced set. The relu activation provides the best results based on our LSTM expeirments"
      ]
    },
    {
      "cell_type": "markdown",
      "metadata": {
        "id": "fHKbHqHHNNUQ",
        "colab_type": "text"
      },
      "source": [
        "### Setting up the Data For CNN (Full)"
      ]
    },
    {
      "cell_type": "markdown",
      "metadata": {
        "colab_type": "text",
        "id": "jcjILNv3NSv5"
      },
      "source": [
        "Initalizing the variables for the CNN model. Numbers taken from [here](https://keras.io/examples/imdb_cnn/)"
      ]
    },
    {
      "cell_type": "code",
      "metadata": {
        "id": "5CEx3hD3NVEi",
        "colab_type": "code",
        "colab": {}
      },
      "source": [
        "# Note some parameters were changed to be more consistent with the LSTM \n",
        "# experiements so we could have an accurate comaprison\n",
        "max_features = 20000\n",
        "maxlen = 100\n",
        "batch_size = 30\n",
        "embedding_dims = 50\n",
        "filters = 250\n",
        "kernel_size = 3\n",
        "hidden_dims = 250\n",
        "epochs = 2"
      ],
      "execution_count": 0,
      "outputs": []
    },
    {
      "cell_type": "markdown",
      "metadata": {
        "id": "-FwfEugBNWi8",
        "colab_type": "text"
      },
      "source": [
        "### CNN Model and Results (Full)"
      ]
    },
    {
      "cell_type": "markdown",
      "metadata": {
        "id": "OpfdEJ-ENaRM",
        "colab_type": "text"
      },
      "source": [
        "Creating the function for the first CNN model. Based off the link above. It is a sequential model with 9 layer, it will run on 2 epochs"
      ]
    },
    {
      "cell_type": "code",
      "metadata": {
        "id": "MDfbwUUjNVnh",
        "colab_type": "code",
        "colab": {}
      },
      "source": [
        "def cnnFull1():\n",
        "  print('Build model...')\n",
        "  model = Sequential()\n",
        "\n",
        "  # we start off with an efficient embedding layer which maps\n",
        "  # our vocab indices into embedding_dims dimensions\n",
        "  model.add(Embedding(max_features,\n",
        "                      embedding_dims,\n",
        "                      input_length=maxlen))\n",
        "  model.add(Dropout(0.2))\n",
        "\n",
        "  # we add a Convolution1D, which will learn filters\n",
        "  # word group filters of size filter_length:\n",
        "  model.add(Conv1D(filters,\n",
        "                  kernel_size,\n",
        "                  padding='valid',\n",
        "                  activation='relu',\n",
        "                  strides=1))\n",
        "  # we use max pooling:\n",
        "  model.add(GlobalMaxPooling1D())\n",
        "\n",
        "  # We add a vanilla hidden layer:\n",
        "  model.add(Dense(hidden_dims))\n",
        "  model.add(Dropout(0.2))\n",
        "  model.add(Activation('relu'))\n",
        "\n",
        "  # We project onto a single unit output layer, and squash it with a sigmoid:\n",
        "  model.add(Dense(2))\n",
        "  model.add(Activation('sigmoid'))\n",
        "\n",
        "  model.compile(loss='categorical_crossentropy',\n",
        "                optimizer='adam',\n",
        "                metrics=['accuracy'])\n",
        "  \n",
        "  print(model.summary())\n",
        "  \n",
        "  return model"
      ],
      "execution_count": 0,
      "outputs": []
    },
    {
      "cell_type": "markdown",
      "metadata": {
        "id": "oj7Bj3VfNnCn",
        "colab_type": "text"
      },
      "source": [
        "Building the first full CNN model"
      ]
    },
    {
      "cell_type": "code",
      "metadata": {
        "id": "-IW3V929NmEc",
        "colab_type": "code",
        "outputId": "c49add46-54f5-4dd6-edda-3aa2ff56bde0",
        "colab": {
          "base_uri": "https://localhost:8080/",
          "height": 487
        }
      },
      "source": [
        "CNN_Full1 = cnnFull1()"
      ],
      "execution_count": 0,
      "outputs": [
        {
          "output_type": "stream",
          "text": [
            "Build model...\n",
            "Model: \"sequential_17\"\n",
            "_________________________________________________________________\n",
            "Layer (type)                 Output Shape              Param #   \n",
            "=================================================================\n",
            "embedding_17 (Embedding)     (None, 100, 50)           1000000   \n",
            "_________________________________________________________________\n",
            "dropout_26 (Dropout)         (None, 100, 50)           0         \n",
            "_________________________________________________________________\n",
            "conv1d_17 (Conv1D)           (None, 98, 250)           37750     \n",
            "_________________________________________________________________\n",
            "global_max_pooling1d_10 (Glo (None, 250)               0         \n",
            "_________________________________________________________________\n",
            "dense_25 (Dense)             (None, 250)               62750     \n",
            "_________________________________________________________________\n",
            "dropout_27 (Dropout)         (None, 250)               0         \n",
            "_________________________________________________________________\n",
            "activation_19 (Activation)   (None, 250)               0         \n",
            "_________________________________________________________________\n",
            "dense_26 (Dense)             (None, 2)                 502       \n",
            "_________________________________________________________________\n",
            "activation_20 (Activation)   (None, 2)                 0         \n",
            "=================================================================\n",
            "Total params: 1,101,002\n",
            "Trainable params: 1,101,002\n",
            "Non-trainable params: 0\n",
            "_________________________________________________________________\n",
            "None\n"
          ],
          "name": "stdout"
        }
      ]
    },
    {
      "cell_type": "markdown",
      "metadata": {
        "id": "8YTp6au1NuDa",
        "colab_type": "text"
      },
      "source": [
        "Training the model"
      ]
    },
    {
      "cell_type": "code",
      "metadata": {
        "id": "V7Mg7pdONrX5",
        "colab_type": "code",
        "outputId": "b3a414e8-046b-4bbb-db63-5e03fb6b7de9",
        "colab": {
          "base_uri": "https://localhost:8080/",
          "height": 151
        }
      },
      "source": [
        "print('Train...')\n",
        "CNN_Full1.fit(X_train, Y_train, batch_size=batch_size, epochs=2,shuffle=True, validation_data=(X_test, Y_test))\n",
        "print('Model evaluation ',CNN_Full1.evaluate(X_test,Y_test))"
      ],
      "execution_count": 0,
      "outputs": [
        {
          "output_type": "stream",
          "text": [
            "Train...\n",
            "Train on 365888 samples, validate on 91472 samples\n",
            "Epoch 1/2\n",
            "365888/365888 [==============================] - 539s 1ms/step - loss: 0.1775 - acc: 0.9307 - val_loss: 0.1397 - val_acc: 0.9479\n",
            "Epoch 2/2\n",
            "365888/365888 [==============================] - 535s 1ms/step - loss: 0.1164 - acc: 0.9572 - val_loss: 0.1146 - val_acc: 0.9577\n",
            "91472/91472 [==============================] - 21s 226us/step\n",
            "Model evaluation  [0.11456123066035542, 0.9577466328493965]\n"
          ],
          "name": "stdout"
        }
      ]
    },
    {
      "cell_type": "markdown",
      "metadata": {
        "id": "jdpEqfk2SsVh",
        "colab_type": "text"
      },
      "source": [
        "Printing the results"
      ]
    },
    {
      "cell_type": "code",
      "metadata": {
        "id": "zMWMrdM-N7H2",
        "colab_type": "code",
        "outputId": "c051d664-b0e5-4f36-c491-1be01855363b",
        "colab": {
          "base_uri": "https://localhost:8080/",
          "height": 218
        }
      },
      "source": [
        "# Printing the accuracy and test score of the first CNN1 model\n",
        "score, acc = CNN_Full1.evaluate(X_test, Y_test, batch_size=batch_size)\n",
        "print('Test score:', score)\n",
        "print('Test accuracy:', acc)\n",
        "\n",
        "# Getting the classification metrics of CNN1 model \n",
        "CNN_Full1_Metrics = CNN_Full1.predict(X_test, verbose = 2, batch_size = batch_size)\n",
        "print(metrics.classification_report(Y_test[:,1], np.round(CNN_Full1_Metrics[:,1]) ,target_names = [\"Negative\", \"Positive\"]))"
      ],
      "execution_count": 0,
      "outputs": [
        {
          "output_type": "stream",
          "text": [
            "91472/91472 [==============================] - 20s 220us/step\n",
            "Test score: 0.1145612309263065\n",
            "Test accuracy: 0.9577466215177893\n",
            "              precision    recall  f1-score   support\n",
            "\n",
            "    Negative       0.92      0.83      0.87     16421\n",
            "    Positive       0.96      0.98      0.97     75051\n",
            "\n",
            "    accuracy                           0.96     91472\n",
            "   macro avg       0.94      0.91      0.92     91472\n",
            "weighted avg       0.96      0.96      0.96     91472\n",
            "\n"
          ],
          "name": "stdout"
        }
      ]
    },
    {
      "cell_type": "markdown",
      "metadata": {
        "id": "XTIQxWtATCgB",
        "colab_type": "text"
      },
      "source": [
        "### Experimentning with diffferent CNN Epochs (Full)"
      ]
    },
    {
      "cell_type": "markdown",
      "metadata": {
        "id": "dKoWsnXkTF9k",
        "colab_type": "text"
      },
      "source": [
        "Since each Epoch takes about 11 minutes to run on the Full dataset with CNN, we can experiment a little bit. Let's run a 5 epoch model and compare it to the two"
      ]
    },
    {
      "cell_type": "code",
      "metadata": {
        "id": "2gpoVO34S2Ca",
        "colab_type": "code",
        "outputId": "c4c49e4e-5015-4ebe-be89-6db5a05b5fbe",
        "colab": {
          "base_uri": "https://localhost:8080/",
          "height": 302
        }
      },
      "source": [
        "# Training with 3 more epochs\n",
        "print('Train...')\n",
        "historyCNN_Full1 = CNN_Full1.fit(X_train, Y_train, batch_size=batch_size, epochs=5,shuffle=True, validation_data=(X_test, Y_test))\n",
        "print('Model evaluation ', CNN1.evaluate(X_test,Y_test))\n",
        "\n",
        "# Printing test score and accuracy with 5 epochs\n",
        "score, acc = CNN_Full1.evaluate(X_test, Y_test, batch_size=batch_size)\n",
        "print('Test score:', score)\n",
        "print('Test accuracy:', acc)"
      ],
      "execution_count": 0,
      "outputs": [
        {
          "output_type": "stream",
          "text": [
            "Train...\n",
            "Train on 365888 samples, validate on 91472 samples\n",
            "Epoch 1/5\n",
            "365888/365888 [==============================] - 529s 1ms/step - loss: 0.0924 - acc: 0.9667 - val_loss: 0.1152 - val_acc: 0.9576\n",
            "Epoch 2/5\n",
            "365888/365888 [==============================] - 527s 1ms/step - loss: 0.0760 - acc: 0.9728 - val_loss: 0.1118 - val_acc: 0.9604\n",
            "Epoch 3/5\n",
            "365888/365888 [==============================] - 527s 1ms/step - loss: 0.0641 - acc: 0.9773 - val_loss: 0.1195 - val_acc: 0.9602\n",
            "Epoch 4/5\n",
            "365888/365888 [==============================] - 536s 1ms/step - loss: 0.0545 - acc: 0.9805 - val_loss: 0.1387 - val_acc: 0.9601\n",
            "Epoch 5/5\n",
            "365888/365888 [==============================] - 540s 1ms/step - loss: 0.0472 - acc: 0.9833 - val_loss: 0.1186 - val_acc: 0.9601\n",
            "91472/91472 [==============================] - 20s 219us/step\n",
            "Model evaluation  [2.7611035212616373, 0.6598193982858143]\n",
            "91472/91472 [==============================] - 21s 226us/step\n",
            "Test score: 0.11857182656177695\n",
            "Test accuracy: 0.960097067308307\n"
          ],
          "name": "stdout"
        }
      ]
    },
    {
      "cell_type": "markdown",
      "metadata": {
        "id": "UBt-FmOueKIQ",
        "colab_type": "text"
      },
      "source": [
        "Accuracy has gone up a point with the increase in epochs"
      ]
    },
    {
      "cell_type": "markdown",
      "metadata": {
        "id": "PvhFWrvSeT4j",
        "colab_type": "text"
      },
      "source": [
        "Calling the plot function"
      ]
    },
    {
      "cell_type": "code",
      "metadata": {
        "id": "ktwdDAGSTdQS",
        "colab_type": "code",
        "outputId": "8bc7601b-ba10-424d-99d9-94188ab4a423",
        "colab": {
          "base_uri": "https://localhost:8080/",
          "height": 357
        }
      },
      "source": [
        "plot_history(historyCNN_Full1)"
      ],
      "execution_count": 0,
      "outputs": [
        {
          "output_type": "display_data",
          "data": {
            "image/png": "[encoded data removed]",
            "text/plain": [
              "<Figure size 864x360 with 2 Axes>"
            ]
          },
          "metadata": {
            "tags": []
          }
        }
      ]
    },
    {
      "cell_type": "markdown",
      "metadata": {
        "id": "ZLdqnHRJecBw",
        "colab_type": "text"
      },
      "source": [
        "Although this graph isn't detailed as much as the earlier ones, based on where the validation loss begins to rise again, it looks like a good epoch selection for full CNN would be 3. Let's run some experiements with it."
      ]
    },
    {
      "cell_type": "markdown",
      "metadata": {
        "id": "0rvHiZRcez2L",
        "colab_type": "text"
      },
      "source": [
        "### Experiementing with Other CNN Models (Reduced)"
      ]
    },
    {
      "cell_type": "markdown",
      "metadata": {
        "id": "gDpv8xcte3G3",
        "colab_type": "text"
      },
      "source": [
        "Experiements will be similar to the one in the earlier sections. Three epochs will be used for the other models."
      ]
    },
    {
      "cell_type": "code",
      "metadata": {
        "id": "vxlTk1leeYRo",
        "colab_type": "code",
        "colab": {}
      },
      "source": [
        "def cnnFull2():\n",
        "  print('Build model...')\n",
        "  model = Sequential()\n",
        "\n",
        "  # we start off with an efficient embedding layer which maps\n",
        "  # our vocab indices into embedding_dims dimensions\n",
        "  model.add(Embedding(max_features,\n",
        "                      embedding_dims,\n",
        "                      input_length=maxlen))\n",
        "  model.add(Dropout(0.2))\n",
        "\n",
        "  # we add a Convolution1D, which will learn filters\n",
        "  # word group filters of size filter_length:\n",
        "  model.add(Conv1D(filters,\n",
        "                  kernel_size,\n",
        "                  padding='valid',\n",
        "                  activation='sigmoid',\n",
        "                  strides=1))\n",
        "  # we use max pooling:\n",
        "  model.add(GlobalMaxPooling1D())\n",
        "\n",
        "  # We add a vanilla hidden layer:\n",
        "  model.add(Dense(hidden_dims))\n",
        "  model.add(Dropout(0.2))\n",
        "  model.add(Activation('sigmoid'))\n",
        "\n",
        "  # We project onto a single unit output layer, and squash it with a sigmoid:\n",
        "  model.add(Dense(2))\n",
        "  model.add(Activation('softplus'))\n",
        "\n",
        "  model.compile(loss='categorical_crossentropy',\n",
        "                optimizer='SGD',\n",
        "                metrics=['accuracy'])\n",
        "  \n",
        "  print(model.summary())\n",
        "  \n",
        "  return model"
      ],
      "execution_count": 0,
      "outputs": []
    },
    {
      "cell_type": "markdown",
      "metadata": {
        "id": "zD8UOSCdfB5A",
        "colab_type": "text"
      },
      "source": [
        "Building the model"
      ]
    },
    {
      "cell_type": "code",
      "metadata": {
        "id": "0sfFqXk_fA3T",
        "colab_type": "code",
        "outputId": "41851be4-2d53-42bb-94bd-c0d4dc107a18",
        "colab": {
          "base_uri": "https://localhost:8080/",
          "height": 487
        }
      },
      "source": [
        "CNN_Full2 = cnnFull2()"
      ],
      "execution_count": 0,
      "outputs": [
        {
          "output_type": "stream",
          "text": [
            "Build model...\n",
            "Model: \"sequential_18\"\n",
            "_________________________________________________________________\n",
            "Layer (type)                 Output Shape              Param #   \n",
            "=================================================================\n",
            "embedding_18 (Embedding)     (None, 100, 50)           1000000   \n",
            "_________________________________________________________________\n",
            "dropout_28 (Dropout)         (None, 100, 50)           0         \n",
            "_________________________________________________________________\n",
            "conv1d_18 (Conv1D)           (None, 98, 250)           37750     \n",
            "_________________________________________________________________\n",
            "global_max_pooling1d_11 (Glo (None, 250)               0         \n",
            "_________________________________________________________________\n",
            "dense_27 (Dense)             (None, 250)               62750     \n",
            "_________________________________________________________________\n",
            "dropout_29 (Dropout)         (None, 250)               0         \n",
            "_________________________________________________________________\n",
            "activation_21 (Activation)   (None, 250)               0         \n",
            "_________________________________________________________________\n",
            "dense_28 (Dense)             (None, 2)                 502       \n",
            "_________________________________________________________________\n",
            "activation_22 (Activation)   (None, 2)                 0         \n",
            "=================================================================\n",
            "Total params: 1,101,002\n",
            "Trainable params: 1,101,002\n",
            "Non-trainable params: 0\n",
            "_________________________________________________________________\n",
            "None\n"
          ],
          "name": "stdout"
        }
      ]
    },
    {
      "cell_type": "markdown",
      "metadata": {
        "id": "kfllbytyfI9z",
        "colab_type": "text"
      },
      "source": [
        "Training the model with 3 epochs"
      ]
    },
    {
      "cell_type": "code",
      "metadata": {
        "id": "9h6gPrDRfGUU",
        "colab_type": "code",
        "outputId": "b0d538bc-db76-439c-e140-02a8e2e8aee2",
        "colab": {
          "base_uri": "https://localhost:8080/",
          "height": 185
        }
      },
      "source": [
        "print('Train...')\n",
        "CNN_Full2.fit(X_train, Y_train, batch_size=batch_size, epochs=3,shuffle=True, validation_data=(X_test, Y_test))\n",
        "print('Model evaluation ',CNN_Full2.evaluate(X_test,Y_test))"
      ],
      "execution_count": 0,
      "outputs": [
        {
          "output_type": "stream",
          "text": [
            "Train...\n",
            "Train on 365888 samples, validate on 91472 samples\n",
            "Epoch 1/3\n",
            "365888/365888 [==============================] - 444s 1ms/step - loss: 0.4714 - acc: 0.8205 - val_loss: 0.4729 - val_acc: 0.8205\n",
            "Epoch 2/3\n",
            "365888/365888 [==============================] - 413s 1ms/step - loss: 0.4710 - acc: 0.8207 - val_loss: 0.4707 - val_acc: 0.8205\n",
            "Epoch 3/3\n",
            "365888/365888 [==============================] - 414s 1ms/step - loss: 0.4709 - acc: 0.8207 - val_loss: 0.4707 - val_acc: 0.8205\n",
            "91472/91472 [==============================] - 20s 221us/step\n",
            "Model evaluation  [0.4706808225308262, 0.8204805842224944]\n"
          ],
          "name": "stdout"
        }
      ]
    },
    {
      "cell_type": "markdown",
      "metadata": {
        "id": "w_TEZfe3kVkE",
        "colab_type": "text"
      },
      "source": [
        "Printing the results"
      ]
    },
    {
      "cell_type": "code",
      "metadata": {
        "id": "QE2W3_H7fRQD",
        "colab_type": "code",
        "outputId": "1d677d76-1724-4863-e4a7-1bf5d574accb",
        "colab": {
          "base_uri": "https://localhost:8080/",
          "height": 67
        }
      },
      "source": [
        "# Printing the accuracy and test score of the second CNN model\n",
        "score, acc = CNN_Full2.evaluate(X_test, Y_test, batch_size=batch_size)\n",
        "print('Test score:', score)\n",
        "print('Test accuracy:', acc)\n"
      ],
      "execution_count": 0,
      "outputs": [
        {
          "output_type": "stream",
          "text": [
            "91472/91472 [==============================] - 21s 224us/step\n",
            "Test score: 0.4706808223500027\n",
            "Test accuracy: 0.8204805805643205\n"
          ],
          "name": "stdout"
        }
      ]
    },
    {
      "cell_type": "markdown",
      "metadata": {
        "id": "E25WHos2k3RX",
        "colab_type": "text"
      },
      "source": [
        "Making the third Full CNN model"
      ]
    },
    {
      "cell_type": "code",
      "metadata": {
        "id": "VjEfolsfkczH",
        "colab_type": "code",
        "colab": {}
      },
      "source": [
        "def cnnFull3():\n",
        "  print('Build model...')\n",
        "  model = Sequential()\n",
        "\n",
        "  # we start off with an efficient embedding layer which maps\n",
        "  # our vocab indices into embedding_dims dimensions\n",
        "  model.add(Embedding(max_features,\n",
        "                      embedding_dims,\n",
        "                      input_length=maxlen))\n",
        "  model.add(Dropout(0.2))\n",
        "\n",
        "  # we add a Convolution1D, which will learn filters\n",
        "  # word group filters of size filter_length:\n",
        "  model.add(Conv1D(filters,\n",
        "                  kernel_size,\n",
        "                  padding='valid',\n",
        "                  activation='linear',\n",
        "                  strides=1))\n",
        "  # we use max pooling:\n",
        "  model.add(GlobalMaxPooling1D())\n",
        "\n",
        "  # We add a vanilla hidden layer:\n",
        "  model.add(Dense(hidden_dims))\n",
        "  model.add(Dropout(0.2))\n",
        "  model.add(Activation('linear'))\n",
        "\n",
        "  # We project onto a single unit output layer, and squash it with a sigmoid:\n",
        "  model.add(Dense(2))\n",
        "  model.add(Activation('softsign'))\n",
        "\n",
        "  model.compile(loss='categorical_crossentropy',\n",
        "                optimizer='Adadelta',\n",
        "                metrics=['accuracy'])\n",
        "  \n",
        "  print(model.summary())\n",
        "  \n",
        "  return model"
      ],
      "execution_count": 0,
      "outputs": []
    },
    {
      "cell_type": "markdown",
      "metadata": {
        "id": "1y9TbfUPlL5W",
        "colab_type": "text"
      },
      "source": [
        "Building the model"
      ]
    },
    {
      "cell_type": "code",
      "metadata": {
        "id": "IqBoXcCSlNQX",
        "colab_type": "code",
        "outputId": "4915faa4-1ab5-493b-c562-8f9e15440bd6",
        "colab": {
          "base_uri": "https://localhost:8080/",
          "height": 487
        }
      },
      "source": [
        "CNN_Full3 = cnnFull3()"
      ],
      "execution_count": 0,
      "outputs": [
        {
          "output_type": "stream",
          "text": [
            "Build model...\n",
            "Model: \"sequential_19\"\n",
            "_________________________________________________________________\n",
            "Layer (type)                 Output Shape              Param #   \n",
            "=================================================================\n",
            "embedding_19 (Embedding)     (None, 100, 50)           1000000   \n",
            "_________________________________________________________________\n",
            "dropout_30 (Dropout)         (None, 100, 50)           0         \n",
            "_________________________________________________________________\n",
            "conv1d_19 (Conv1D)           (None, 98, 250)           37750     \n",
            "_________________________________________________________________\n",
            "global_max_pooling1d_12 (Glo (None, 250)               0         \n",
            "_________________________________________________________________\n",
            "dense_29 (Dense)             (None, 250)               62750     \n",
            "_________________________________________________________________\n",
            "dropout_31 (Dropout)         (None, 250)               0         \n",
            "_________________________________________________________________\n",
            "activation_23 (Activation)   (None, 250)               0         \n",
            "_________________________________________________________________\n",
            "dense_30 (Dense)             (None, 2)                 502       \n",
            "_________________________________________________________________\n",
            "activation_24 (Activation)   (None, 2)                 0         \n",
            "=================================================================\n",
            "Total params: 1,101,002\n",
            "Trainable params: 1,101,002\n",
            "Non-trainable params: 0\n",
            "_________________________________________________________________\n",
            "None\n"
          ],
          "name": "stdout"
        }
      ]
    },
    {
      "cell_type": "markdown",
      "metadata": {
        "id": "EMPWHN6slSju",
        "colab_type": "text"
      },
      "source": [
        "Training the model"
      ]
    },
    {
      "cell_type": "code",
      "metadata": {
        "id": "QmIZ09jslUEU",
        "colab_type": "code",
        "outputId": "ceeafb61-7d7d-4e13-f4f8-c7cc658859ae",
        "colab": {
          "base_uri": "https://localhost:8080/",
          "height": 185
        }
      },
      "source": [
        "# 3 Epochs Used\n",
        "print('Train...')\n",
        "CNN_Full3.fit(X_train, Y_train, batch_size=batch_size, epochs=3,shuffle=True, validation_data=(X_test, Y_test))\n",
        "print('Model evaluation ',CNN_Full3.evaluate(X_test,Y_test))"
      ],
      "execution_count": 0,
      "outputs": [
        {
          "output_type": "stream",
          "text": [
            "Train...\n",
            "Train on 365888 samples, validate on 91472 samples\n",
            "Epoch 1/3\n",
            "365888/365888 [==============================] - 557s 2ms/step - loss: 0.9108 - acc: 0.1272 - val_loss: 1.3246 - val_acc: 0.1153\n",
            "Epoch 2/3\n",
            "365888/365888 [==============================] - 554s 2ms/step - loss: 3.4855 - acc: 0.7659 - val_loss: 2.8935 - val_acc: 0.8205\n",
            "Epoch 3/3\n",
            "365888/365888 [==============================] - 551s 2ms/step - loss: nan - acc: 0.3830 - val_loss: nan - val_acc: 0.1795\n",
            "91472/91472 [==============================] - 21s 224us/step\n",
            "Model evaluation  [nan, 0.1795194157775057]\n"
          ],
          "name": "stdout"
        }
      ]
    },
    {
      "cell_type": "markdown",
      "metadata": {
        "id": "Jv1n8PJ1sAft",
        "colab_type": "text"
      },
      "source": [
        "Printing the results"
      ]
    },
    {
      "cell_type": "code",
      "metadata": {
        "id": "AU5OJ6n8sCa0",
        "colab_type": "code",
        "outputId": "6f8d27ff-4c57-4852-f38c-cc9d2e958c34",
        "colab": {
          "base_uri": "https://localhost:8080/",
          "height": 67
        }
      },
      "source": [
        "# Printing the accuracy and test score of the second CNN model\n",
        "score, acc = CNN_Full3.evaluate(X_test, Y_test, batch_size=batch_size)\n",
        "print('Test score:', score)\n",
        "print('Test accuracy:', acc)"
      ],
      "execution_count": 0,
      "outputs": [
        {
          "output_type": "stream",
          "text": [
            "91472/91472 [==============================] - 20s 223us/step\n",
            "Test score: nan\n",
            "Test accuracy: 0.1795194208920419\n"
          ],
          "name": "stdout"
        }
      ]
    },
    {
      "cell_type": "markdown",
      "metadata": {
        "id": "pTNOCp_kkjJE",
        "colab_type": "text"
      },
      "source": [
        "Based on all three models of Full CNN, Model 1 Full with 5 epochs returns the best data"
      ]
    }
  ]
}