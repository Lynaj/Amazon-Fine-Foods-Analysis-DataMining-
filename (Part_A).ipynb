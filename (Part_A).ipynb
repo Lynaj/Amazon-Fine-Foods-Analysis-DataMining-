{
  "nbformat": 4,
  "nbformat_minor": 0,
  "metadata": {
    "colab": {
      "name": "(Part A).ipynb",
      "provenance": [],
      "collapsed_sections": [
        "64cdWD66WN7_",
        "MqhTaAmaaEwd",
        "GXJ3PMZxa-WG",
        "nniTsbqwisfY",
        "9u7FDB55lBFb"
      ]
    },
    "kernelspec": {
      "name": "python3",
      "display_name": "Python 3"
    }
  },
  "cells": [
    {
      "cell_type": "markdown",
      "metadata": {
        "id": "AlYzAMElQixj",
        "colab_type": "text"
      },
      "source": [
        "#**Working with the Data**"
      ]
    },
    {
      "cell_type": "markdown",
      "metadata": {
        "id": "clyfrc1wQmQc",
        "colab_type": "text"
      },
      "source": [
        "### Adding the imports"
      ]
    },
    {
      "cell_type": "code",
      "metadata": {
        "id": "SQSrvBYZP5-6",
        "colab_type": "code",
        "colab": {}
      },
      "source": [
        "# Jupyter-specific.\n",
        "%matplotlib inline\n",
        "import time\n",
        "program_start = time.time()\n",
        "\n",
        "# Colab specific.\n",
        "from google.colab import files\n",
        "\n",
        "# General\n",
        "from sklearn.feature_extraction.text import TfidfVectorizer, HashingVectorizer\n",
        "from sklearn.naive_bayes import MultinomialNB\n",
        "from sklearn.decomposition import PCA\n",
        "from sklearn.cluster import KMeans\n",
        "from sklearn.metrics import confusion_matrix\n",
        "from sklearn.metrics import accuracy_score\n",
        "from sklearn.metrics import precision_score\n",
        "from sklearn.metrics import average_precision_score\n",
        "from sklearn.metrics import recall_score\n",
        "from sklearn.model_selection import KFold\n",
        "from sklearn import neighbors\n",
        "from sklearn import tree\n",
        "from sklearn.model_selection import train_test_split\n",
        "from sklearn.model_selection import cross_val_score\n",
        "from sklearn import model_selection, preprocessing, linear_model, naive_bayes, metrics, svm, ensemble\n",
        "from sklearn.tree import DecisionTreeClassifier\n",
        "from sklearn import metrics\n",
        "from sklearn import preprocessing\n",
        "from sklearn.model_selection import GridSearchCV\n",
        "from collections import Counter\n",
        "import numpy as np\n",
        "import pandas as pd\n",
        "import matplotlib.pyplot as plt\n",
        "import seaborn as sns; sns.set() # Set the default styling. \n",
        "from io import BytesIO\n",
        "import csv\n",
        "import pickle\n",
        "from scipy.sparse import coo_matrix, vstack, csr_matrix\n",
        "\n",
        "# Plot style settings.\n",
        "plt.style.use('fivethirtyeight') # I'm a fan of this one."
      ],
      "execution_count": 0,
      "outputs": []
    },
    {
      "cell_type": "markdown",
      "metadata": {
        "id": "GYUm1EGQQoll",
        "colab_type": "text"
      },
      "source": [
        "### Reading the reduced file, taking the review and rating column"
      ]
    },
    {
      "cell_type": "code",
      "metadata": {
        "id": "G-AqHbkTCO90",
        "colab_type": "code",
        "outputId": "28e80dd8-a565-4534-e8a3-e3f88ecf6f27",
        "colab": {
          "base_uri": "https://localhost:8080/",
          "height": 229
        }
      },
      "source": [
        "y = []\n",
        "X = []\n",
        "# open reduced CSV\n",
        "with open('reduced_amazon_ff_reviews.csv', 'r') as csvFile:\n",
        "    reader = csv.reader(csvFile)\n",
        "    for row in reader:\n",
        "        X.append(row[5])\n",
        "        y.append(row[8])"
      ],
      "execution_count": 0,
      "outputs": [
        {
          "output_type": "error",
          "ename": "FileNotFoundError",
          "evalue": "ignored",
          "traceback": [
            "\u001b[0;31m---------------------------------------------------------------------------\u001b[0m",
            "\u001b[0;31mFileNotFoundError\u001b[0m                         Traceback (most recent call last)",
            "\u001b[0;32m<ipython-input-2-267d0ffb0e50>\u001b[0m in \u001b[0;36m<module>\u001b[0;34m()\u001b[0m\n\u001b[1;32m      2\u001b[0m \u001b[0mX\u001b[0m \u001b[0;34m=\u001b[0m \u001b[0;34m[\u001b[0m\u001b[0;34m]\u001b[0m\u001b[0;34m\u001b[0m\u001b[0;34m\u001b[0m\u001b[0m\n\u001b[1;32m      3\u001b[0m \u001b[0;31m# open reduced CSV\u001b[0m\u001b[0;34m\u001b[0m\u001b[0;34m\u001b[0m\u001b[0;34m\u001b[0m\u001b[0m\n\u001b[0;32m----> 4\u001b[0;31m \u001b[0;32mwith\u001b[0m \u001b[0mopen\u001b[0m\u001b[0;34m(\u001b[0m\u001b[0;34m'reduced_amazon_ff_reviews.csv'\u001b[0m\u001b[0;34m,\u001b[0m \u001b[0;34m'r'\u001b[0m\u001b[0;34m)\u001b[0m \u001b[0;32mas\u001b[0m \u001b[0mcsvFile\u001b[0m\u001b[0;34m:\u001b[0m\u001b[0;34m\u001b[0m\u001b[0;34m\u001b[0m\u001b[0m\n\u001b[0m\u001b[1;32m      5\u001b[0m     \u001b[0mreader\u001b[0m \u001b[0;34m=\u001b[0m \u001b[0mcsv\u001b[0m\u001b[0;34m.\u001b[0m\u001b[0mreader\u001b[0m\u001b[0;34m(\u001b[0m\u001b[0mcsvFile\u001b[0m\u001b[0;34m)\u001b[0m\u001b[0;34m\u001b[0m\u001b[0;34m\u001b[0m\u001b[0m\n\u001b[1;32m      6\u001b[0m     \u001b[0;32mfor\u001b[0m \u001b[0mrow\u001b[0m \u001b[0;32min\u001b[0m \u001b[0mreader\u001b[0m\u001b[0;34m:\u001b[0m\u001b[0;34m\u001b[0m\u001b[0;34m\u001b[0m\u001b[0m\n",
            "\u001b[0;31mFileNotFoundError\u001b[0m: [Errno 2] No such file or directory: 'reduced_amazon_ff_reviews.csv'"
          ]
        }
      ]
    },
    {
      "cell_type": "markdown",
      "metadata": {
        "id": "ldQ1-dHLQ08z",
        "colab_type": "text"
      },
      "source": [
        "### Making a data frame called 'df' out of column 5 and 8"
      ]
    },
    {
      "cell_type": "code",
      "metadata": {
        "id": "m6I189dXQ6DE",
        "colab_type": "code",
        "colab": {}
      },
      "source": [
        "# columns 'Rating' and 'Text' are loaded into the df\n",
        "df = pd.read_csv('reduced_amazon_ff_reviews.csv', usecols=[5, 8])"
      ],
      "execution_count": 0,
      "outputs": []
    },
    {
      "cell_type": "code",
      "metadata": {
        "id": "6jxfLsAbQ9WM",
        "colab_type": "code",
        "outputId": "3445c0ad-7c6a-486d-8c21-d2d37515704f",
        "colab": {
          "base_uri": "https://localhost:8080/",
          "height": 195
        }
      },
      "source": [
        "# top 5 records\n",
        "df.head()"
      ],
      "execution_count": 0,
      "outputs": [
        {
          "output_type": "execute_result",
          "data": {
            "text/html": [
              "<div>\n",
              "<style scoped>\n",
              "    .dataframe tbody tr th:only-of-type {\n",
              "        vertical-align: middle;\n",
              "    }\n",
              "\n",
              "    .dataframe tbody tr th {\n",
              "        vertical-align: top;\n",
              "    }\n",
              "\n",
              "    .dataframe thead th {\n",
              "        text-align: right;\n",
              "    }\n",
              "</style>\n",
              "<table border=\"1\" class=\"dataframe\">\n",
              "  <thead>\n",
              "    <tr style=\"text-align: right;\">\n",
              "      <th></th>\n",
              "      <th>Rating</th>\n",
              "      <th>Text</th>\n",
              "    </tr>\n",
              "  </thead>\n",
              "  <tbody>\n",
              "    <tr>\n",
              "      <th>0</th>\n",
              "      <td>neutral</td>\n",
              "      <td>This seems a little more wholesome than some o...</td>\n",
              "    </tr>\n",
              "    <tr>\n",
              "      <th>1</th>\n",
              "      <td>positive</td>\n",
              "      <td>I bought these at Grocery Outlet here in the S...</td>\n",
              "    </tr>\n",
              "    <tr>\n",
              "      <th>2</th>\n",
              "      <td>positive</td>\n",
              "      <td>I bought this coffee because its much cheaper ...</td>\n",
              "    </tr>\n",
              "    <tr>\n",
              "      <th>3</th>\n",
              "      <td>negative</td>\n",
              "      <td>Herbal additives in this blend destroy real te...</td>\n",
              "    </tr>\n",
              "    <tr>\n",
              "      <th>4</th>\n",
              "      <td>positive</td>\n",
              "      <td>These Nature Valley Nut Lovers Variety Pack wa...</td>\n",
              "    </tr>\n",
              "  </tbody>\n",
              "</table>\n",
              "</div>"
            ],
            "text/plain": [
              "     Rating                                               Text\n",
              "0   neutral  This seems a little more wholesome than some o...\n",
              "1  positive  I bought these at Grocery Outlet here in the S...\n",
              "2  positive  I bought this coffee because its much cheaper ...\n",
              "3  negative  Herbal additives in this blend destroy real te...\n",
              "4  positive  These Nature Valley Nut Lovers Variety Pack wa..."
            ]
          },
          "metadata": {
            "tags": []
          },
          "execution_count": 5
        }
      ]
    },
    {
      "cell_type": "code",
      "metadata": {
        "id": "9XQfZak1RRKj",
        "colab_type": "code",
        "outputId": "60e89328-1264-4abe-b68c-aec36f216d05",
        "colab": {
          "base_uri": "https://localhost:8080/",
          "height": 166
        }
      },
      "source": [
        "# basic info. 14906 records for the reduced\n",
        "df.describe()"
      ],
      "execution_count": 0,
      "outputs": [
        {
          "output_type": "execute_result",
          "data": {
            "text/html": [
              "<div>\n",
              "<style scoped>\n",
              "    .dataframe tbody tr th:only-of-type {\n",
              "        vertical-align: middle;\n",
              "    }\n",
              "\n",
              "    .dataframe tbody tr th {\n",
              "        vertical-align: top;\n",
              "    }\n",
              "\n",
              "    .dataframe thead th {\n",
              "        text-align: right;\n",
              "    }\n",
              "</style>\n",
              "<table border=\"1\" class=\"dataframe\">\n",
              "  <thead>\n",
              "    <tr style=\"text-align: right;\">\n",
              "      <th></th>\n",
              "      <th>Rating</th>\n",
              "      <th>Text</th>\n",
              "    </tr>\n",
              "  </thead>\n",
              "  <tbody>\n",
              "    <tr>\n",
              "      <th>count</th>\n",
              "      <td>14906</td>\n",
              "      <td>14906</td>\n",
              "    </tr>\n",
              "    <tr>\n",
              "      <th>unique</th>\n",
              "      <td>3</td>\n",
              "      <td>14287</td>\n",
              "    </tr>\n",
              "    <tr>\n",
              "      <th>top</th>\n",
              "      <td>positive</td>\n",
              "      <td>This review will make me sound really stupid, ...</td>\n",
              "    </tr>\n",
              "    <tr>\n",
              "      <th>freq</th>\n",
              "      <td>6699</td>\n",
              "      <td>16</td>\n",
              "    </tr>\n",
              "  </tbody>\n",
              "</table>\n",
              "</div>"
            ],
            "text/plain": [
              "          Rating                                               Text\n",
              "count      14906                                              14906\n",
              "unique         3                                              14287\n",
              "top     positive  This review will make me sound really stupid, ...\n",
              "freq        6699                                                 16"
            ]
          },
          "metadata": {
            "tags": []
          },
          "execution_count": 6
        }
      ]
    },
    {
      "cell_type": "markdown",
      "metadata": {
        "id": "K9L_gJ-kR7H1",
        "colab_type": "text"
      },
      "source": [
        "### Getting the count of each type of rating"
      ]
    },
    {
      "cell_type": "code",
      "metadata": {
        "id": "sPKgpskeRxkx",
        "colab_type": "code",
        "outputId": "3e67f763-4228-41bd-b899-465264889908",
        "colab": {
          "base_uri": "https://localhost:8080/",
          "height": 101
        }
      },
      "source": [
        "# counts the total number of different labels\n",
        "rating_counts = df.groupby('Rating')['Rating'].count()\n",
        "rating_counts.head()"
      ],
      "execution_count": 0,
      "outputs": [
        {
          "output_type": "execute_result",
          "data": {
            "text/plain": [
              "Rating\n",
              "negative    5417\n",
              "neutral     2790\n",
              "positive    6699\n",
              "Name: Rating, dtype: int64"
            ]
          },
          "metadata": {
            "tags": []
          },
          "execution_count": 7
        }
      ]
    },
    {
      "cell_type": "code",
      "metadata": {
        "id": "ic2fQNG-R_xG",
        "colab_type": "code",
        "outputId": "b777005c-6fd7-49ee-c86a-756b4ccd4e26",
        "colab": {
          "base_uri": "https://localhost:8080/",
          "height": 101
        }
      },
      "source": [
        "# getting the ratios of the ratings\n",
        "rating_counts / len(df)"
      ],
      "execution_count": 0,
      "outputs": [
        {
          "output_type": "execute_result",
          "data": {
            "text/plain": [
              "Rating\n",
              "negative    0.363411\n",
              "neutral     0.187173\n",
              "positive    0.449416\n",
              "Name: Rating, dtype: float64"
            ]
          },
          "metadata": {
            "tags": []
          },
          "execution_count": 8
        }
      ]
    },
    {
      "cell_type": "markdown",
      "metadata": {
        "id": "vDntrjf4Tiz8",
        "colab_type": "text"
      },
      "source": [
        "### Preparing the data for classification"
      ]
    },
    {
      "cell_type": "code",
      "metadata": {
        "colab_type": "code",
        "id": "uaObj6wBTnGt",
        "outputId": "415aa73a-67ff-46f0-e514-9987886a6514",
        "colab": {
          "base_uri": "https://localhost:8080/",
          "height": 70
        }
      },
      "source": [
        "# using a tfidf vecotrizer to convert review text into vectors also filters stopwords\n",
        "vectorizer = TfidfVectorizer(stop_words='english')\n",
        "X = vectorizer.fit_transform(df['Text'])\n",
        "\n",
        "print(X.shape)\n",
        "print(vectorizer.get_feature_names())"
      ],
      "execution_count": 0,
      "outputs": [
        {
          "output_type": "stream",
          "text": [
            "(14906, 24625)\n",
            "['00', '000', '004', '008', '00am', '00pm', '01', '02', '03', '030', '0307347346', '03oz', '04', '040', '05', '05140', '056', '05oz', '06', '060', '0684800012', '06oz', '06sep12', '07', '070590080010', '08', '080', '0813819857', '09', '0943151201', '095', '099', '0f', '0g', '0g12', '0g13', '0g8', '0mg', '0z', '10', '100', '1000', '1000mg', '100cal', '100cals', '100g', '100mg', '100s', '100x', '101', '1017', '102', '104', '105', '1050', '108', '10_', '10a', '10days', '10g', '10lb', '10mg', '10min', '10mins', '10minutes', '10oz', '10th', '10x', '11', '110', '110lbs', '110mg', '111', '11164', '112g', '113', '1130', '115', '115mg', '118', '119', '11g', '11l', '11months', '11oz', '11th', '11x17', '12', '120', '1200', '120g', '124', '1240', '125', '125mg', '1266273814', '128', '128078', '129', '1291331352', '12g', '12lb', '12lbs', '12ounce', '12oz', '12pk', '12th', '12yr', '13', '130', '1300', '130mg', '131', '132', '1331447807', '1335229020', '134', '1344600644', '135', '135mg', '136493', '139', '13g', '13grams', '14', '140', '1400mg', '143', '144', '1442188103', '144mg', '144web', '145', '1455', '146', '14g', '14gr', '14lb', '14oz', '14th', '15', '150', '1500', '150lb', '150mg', '150ml', '1572840994', '1583332049', '1593620675', '15g', '15ish', '15lb', '15lbs', '15mg5', '15mo', '15oz', '15s', '15secs', '15th', '16', '160', '1601', '160g', '1613', '1622', '165', '1667', '167', '16ct', '16g', '16lb', '16months', '16oz', '16th', '17', '170', '171', '172', '175', '17cm', '17g', '17lb', '17month', '17th', '18', '180', '1800', '180ea', '180mg', '184', '1866', '187', '1870', '1893', '18cnt', '18ct', '18g', '18oz', '18th', '19', '190', '1908', '190mg', '1910', '192', '1940mg', '1940s', '1948', '1950', '1950s', '1956', '1960', '1960s', '1966', '1967', '1968', '1969', '1970', '1970s', '1972', '198', '1980', '1980s', '1982', '1983', '1984', '1985', '1986', '1987', '1988', '1989', '199', '1990', '1990s', '1994', '1995', '1996', '1997', '1998', '1999', '19g', '19lbs', '1_', '1am', '1bedroom', '1cup', '1g', '1l', '1lb', '1lbs', '1mg', '1o', '1ounce', '1oz', '1pm', '1qt', '1st', '1star', '1tbls', '1tbsp', '1tsp', '1yr', '20', '200', '2000', '2000x', '2002', '2003', '2004', '2005', '2006', '2007', '2008', '2009', '200mg', '2010', '2011', '2012', '2012_', '2013', '2014', '206', '209', '20g', '20lb', '20lbs', '20mg', '20oz', '20th', '20x', '21', '210', '2100', '210calories', '2114', '214', '215', '216', '21g', '21oz', '21st', '22', '220', '225', '228', '22cm', '22ct', '22g', '22lbs', '22nd', '22oz', '23', '230', '235g', '23g', '23rd', '24', '240', '2400', '242', '24g', '24hrs', '24k', '24oz', '24pk', '24th', '24usd', '25', '250', '2500', '2500mg', '250gr', '250mg', '255', '25cents', '25g', '25lb', '25mg', '25oz', '25th', '26', '260', '268', '26mg', '26th', '27', '270calories', '27g', '27k', '27th', '28', '280', '280k', '280mg', '283g', '28g', '28lbs', '28mg', '28th', '29', '290', '290mg', '292', '299mg', '29g', '29p', '29th', '2day', '2g', '2l', '2lb', '2lbs', '2months', '2mths', '2nd', '2o', '2oz', '2p', '2pack', '2packs', '2s', '2scoops', '2t', '2tbs', '2weeks', '2x', '2yr', '2yrs', '30', '300', '3000', '3000ml', '300mg', '300mgs', '3095826', '30am', '30g', '30jul12', '30lb', '30qt', '30s', '30th', '30x', '31', '31105', '312', '3146', '3180kcal', '31859', '31grams', '32', '320', '321', '325', '325mg', '32g', '32oz', '32times', '32x', '33', '330', '337', '33g', '34', '340', '340mg', '34g', '35', '350', '3500', '350f', '350mgs', '354', '356', '357', '35g', '35lb', '35lbs', '35th', '36', '360', '362', '3663', '36g', '36gcarb', '36oz', '37', '375', '38', '38lb', '39', '390', '3am', '3da', '3g', '3hrs', '3l', '3lb', '3lbs', '3ounces', '3oz', '3packs', '3pm', '3rd', '3rds', '3s', '3tb', '3x', '3x13', '3x3x3', '3yrs', '40', '400', '40g', '40lb', '40mg', '40oz', '41', '410', '41667', '417', '41cents', '42', '420', '425', '42g', '43', '44', '440', '44lb', '45', '450', '450ml', '454', '457', '45g', '45lb', '45mg', '45oz', '46', '460', '465', '47', '475', '48', '480', '480mg', '48g', '49', '4a', '4am', '4b', '4booberry', '4c', '4eva', '4frankenberry', '4g', '4health', '4hr', '4inchesx4inches', '4lb', '4lbs', '4oz', '4th', '4thd', '4wks', '4x', '4yr', '50', '500', '5000', '50000', '500ml', '500pure', '500yards', '50ct', '50g', '50lb', '50lbs', '50mg', '50pc', '50pkts', '50plus', '51', '510', '52', '53', '54', '55', '550', '55k', '55lbs', '55mg', '55pound', '56', '57', '575mg', '57g', '58', '58c', '58g', '59', '5965', '5am', '5g', '5g12', '5l', '5lb', '5lbs', '5mg', '5min', '5oz', '5ph', '5th', '5to1star', '5x', '5yr', '60', '600', '6000', '600mg', '600ml', '600x', '60lb', '60lbs', '60mg', '60s', '61', '610', '62', '620mg26', '62g', '63', '64', '640', '64oz', '65', '650', '6500', '650mg', '65279', '65g', '65lb', '66', '660mg', '67', '675', '68', '6800', '69', '6g', '6lb', '6lbs', '6mg', '6months', '6oz', '6pm', '6th', '6x', '70', '700', '70653', '70lb', '70s', '70th', '71', '72', '720mg', '73', '73beats', '74', '740mg', '74g', '75', '750', '7500', '750mg', '750ml', '75c', '75lb', '75lbs', '75mg', '76', '77', '770', '77g', '78', '79', '7eleven', '7g', '7ish', '7lb', '7lbs', '7months', '7oz', '7pds', '7pm', '7th', '7up', '7yo', '80', '800', '80c', '80lb', '80mg', '80oz', '80s', '81', '81mg', '82', '83', '8333', '84', '85', '850', '85g', '85lbs', '86', '860mg', '866', '87', '870mg', '875', '8756', '87mg', '88', '89', '896', '8cups', '8d', '8g', '8in1', '8lb', '8oz', '8p', '8pm', '8th', '90', '900', '9000', '900ml', '9013', '9050', '90k', '90lbs', '90mg', '90oz', '90s', '90th', '91', '91016', '911drugstore', '918', '92', '930', '930p', '94', '95', '952', '95lb', '95mg', '96', '97', '98', '98oz', '99', '999', '9999', '99cents', '9g', '9gms', '9oz', '9th', '9yr', '__', '___', '___________', '______________', '________________________________________', '________________previous', '_finally_', '_i', '_other_', '_steve', '_was_', 'a1', 'a1v3u717s8vn5t', 'aa', 'aadmit', 'aafco', 'aand', 'aappublications', 'aaround', 'ab', 'aback', 'abandon', 'abbey', 'abbreviation', 'abc', 'abdomen', 'abdominal', 'abe', 'abilities', 'ability', 'able', 'abnormal', 'abnormally', 'aboiut', 'abolitionists', 'abominable', 'abomination', 'abortion', 'abot', 'abotu', 'abound', 'abrasive', 'abroad', 'abruptly', 'absence', 'absent', 'absolute', 'absolutelty', 'absolutely', 'absolutley', 'absorb', 'absorbed', 'absorbing', 'absorbs', 'absorbtion', 'absorption', 'absoulutely', 'abstain', 'abstract', 'absurd', 'absurdly', 'abudance', 'abuelita', 'abundance', 'abundant', 'abuse', 'abused', 'abut', 'abysmal', 'ac', 'acacia', 'acadamy', 'academy', 'acadian', 'acai', 'acana', 'accelerade', 'accelerates', 'acceleration', 'accelerator', 'accent', 'accented', 'accents', 'accept', 'acceptable', 'accepted', 'accepting', 'accepts', 'access', 'accessible', 'accessories', 'accessory', 'accident', 'accidental', 'accidentally', 'accidently', 'acclaim', 'acclaimate', 'acclimate', 'acclimated', 'accolades', 'accommodate', 'accommodated', 'accommodating', 'accomodated', 'accomodations', 'accompanied', 'accompanies', 'accompaniment', 'accompaniments', 'accompany', 'accompanying', 'accomplish', 'accomplished', 'accomplishes', 'accomplishing', 'accomplishment', 'accord', 'accordance', 'accordantly', 'according', 'accordingly', 'account', 'accountable', 'accountant', 'accounted', 'accounting', 'accounts', 'accross', 'accumulate', 'accumulated', 'accurate', 'accurately', 'accused', 'accustom', 'accustomed', 'accusttomed', 'ace', 'acelfame', 'aceola', 'acerbic', 'acerola', 'acesulfame', 'acetaia', 'acetate', 'acetic', 'aceto', 'acetone', 'ache', 'ached', 'acheived', 'aches', 'achieve', 'achieved', 'aching', 'achiote', 'achy', 'acia', 'acid', 'acidic', 'acidity', 'acidophilus', 'acidosis', 'acids', 'ackkk', 'acknowledge', 'acknowledgement', 'acknowledging', 'ackward', 'acl', 'acne', 'acnes', 'acquaint', 'acquainted', 'acquire', 'acquired', 'acquiring', 'acquisition', 'acre', 'acres', 'acrid', 'acs', 'act', 'acted', 'acting', 'action', 'actions', 'activate', 'activates', 'active', 'actively', 'activeone', 'activities', 'activity', 'actor', 'actors', 'actress', 'acts', 'actual', 'actuality', 'actually', 'actualy', 'acumen', 'acupuncturist', 'acuracy', 'acute', 'acutually', 'ad', 'adage', 'adagio', 'adam', 'adapt', 'adaptable', 'adaptation', 'adapted', 'adapter', 'adaption', 'adaptogen', 'add', 'added', 'addendum', 'adderall', 'addict', 'addicted', 'addicting', 'addiction', 'addictive', 'addictively', 'addicts', 'adding', 'addition', 'additional', 'additionally', 'additions', 'additive', 'additives', 'address', 'addressed', 'addresses', 'addressing', 'adds', 'ade', 'adequate', 'adequately', 'adhd', 'adhere', 'adhesive', 'adiago', 'adios', 'adjectivally', 'adjectives', 'adjunct', 'adjust', 'adjustable', 'adjusted', 'adjuster', 'adjusting', 'adjustment', 'adjustments', 'adjusts', 'administer', 'administered', 'administering', 'administration', 'administrative', 'admirable', 'admirably', 'admire', 'admired', 'admit', 'admitted', 'admittedly', 'admitting', 'admixture', 'adn', 'adobe', 'adobo', 'adolph', 'adopt', 'adopted', 'adoptee', 'adopters', 'adopts', 'adorable', 'adore', 'adored', 'adores', 'adoted', 'adrenal', 'adrenaline', 'adriatic', 'ads', 'aduki', 'adult', 'adulterants', 'adulterated', 'adulterous', 'adulthood', 'adults', 'advance', 'advanced', 'advantage', 'advantageous', 'advantages', 'adventure', 'adventuresome', 'adventurous', 'adverse', 'adversely', 'advert', 'advertise', 'advertised', 'advertisement', 'advertiser', 'advertisers', 'advertises', 'advertisibg', 'advertising', 'advertize', 'advertized', 'advertizing', 'advice', 'adviee', 'advise', 'advised', 'advises', 'advising', 'advisor', 'advisory', 'advocate', 'advocates', 'ae', 'aerated', 'aerator', 'aero', 'aerobically', 'aerogarden', 'aerogrow', 'aerogrows', 'aeroponic', 'aeropress', 'aerosol', 'aesthetic', 'aesthetically', 'aesthetics', 'afar', 'afer', 'afetr', 'affable', 'affaid', 'affairs', 'affect', 'affected', 'affecting', 'affective', 'affects', 'affictionados', 'affiliated', 'affiliates', 'affiliation', 'affirming', 'affixed', 'afflicting', 'affliction', 'afforable', 'afford', 'affordability', 'affordable', 'affordablility', 'afforded', 'affresh', 'afganistan', 'afghanistan', 'aficianado', 'aficionado', 'aforementioned', 'afraid', 'africa', 'african', 'africanredteacompany', 'afrikaaners', 'afrikaans', 'afterall', 'afterdinner', 'aftere', 'aftereffect', 'afterlife', 'aftermath', 'afternoon', 'afternoons', 'afternote', 'aftershave', 'aftertase', 'aftertast', 'aftertaste', 'aftertastes', 'afterthought', 'aftertones', 'afterward', 'aftificial', 'againthat', 'agan', 'agave', 'age', 'aged', 'ageing', 'agencies', 'agency', 'agendas', 'agent', 'agents', 'ages', 'aggravated', 'aggravating', 'aggravation', 'aggresive', 'aggressive', 'aggressively', 'aggrevated', 'aggrevation', 'aggrieved', 'agile', 'agility', 'aging', 'agitated', 'agitating', 'ago', 'agog', 'agony', 'agostino', 'agree', 'agreed', 'agreeing', 'agreement', 'agrees', 'agricultural', 'agriculture', 'agrre', 'agua', 'ah', 'aha', 'ahead', 'ahem', 'ahh', 'ahhh', 'ahhhh', 'ahhhing', 'ahi', 'ahmad', 'ahold', 'ahoy', 'ahoys', 'ai', 'aid', 'aide', 'aided', 'aids', 'aim', 'aimed', 'aiming', 'ain', 'aint', 'ainterol', 'air', 'airborne', 'airbrush', 'aircraft', 'aired', 'airforce', 'airhead', 'airing', 'airlines', 'airplane', 'airport', 'airtight', 'airway', 'airy', 'aisle', 'aji', 'ajinomoto', 'ak', 'aka', 'akc', 'akin', 'akita', 'al', 'ala', 'alabama', 'alabamians', 'alachol', 'alai', 'alameed', 'alamid', 'alarm', 'alarmed', 'alarming', 'alarmingly', 'alarms', 'alas', 'alaska', 'alaskan', 'alba', 'albacore', 'albanese', 'albeit', 'alberton', 'albertson', 'albertsons', 'albiet', 'albrecht', 'alcholic', 'alcohol', 'alcoholic', 'alcohols', 'aldi', 'ale', 'alec', 'aleia', 'alert', 'alerted', 'alertness', 'ales', 'alessi', 'alfalfa', 'alfalpha', 'alfredo', 'algae', 'algorithm', 'alias', 'alice', 'alicia', 'alien', 'aliens', 'alieve', 'alight', 'align', 'aligned', 'alike', 'aliments', 'alimentum', 'alio', 'alison', 'alissa', 'alittle', 'alive', 'alka', 'alkali', 'alkaline', 'alkalinized', 'alkalize', 'alkalized', 'alkalizing', 'alkaloid', 'alkaloids', 'alkalosis', 'alkapure', 'alleged', 'allegedly', 'allegiance', 'alleging', 'allegro', 'allen', 'allergen', 'allergenic', 'allergens', 'allergic', 'allergies', 'allergist', 'allergy', 'alleric', 'allert', 'alles', 'alleviate', 'alleviated', 'alleviation', 'alley', 'alliacae', 'alligator', 'allissa', 'allium', 'allocated', 'allocating', 'allot', 'alloted', 'allotment', 'allotted', 'allow', 'allowance', 'allowed', 'allowing', 'allows', 'allright', 'allsort', 'allsorts', 'allspice', 'allternative', 'allthat', 'alluded', 'allure', 'alluring', 'ally', 'alma', 'almighty', 'almond', 'almonds', 'almostedenplants', 'almound', 'aloe', 'aloha', 'alongside', 'aloo', 'aloof', 'alot', 'alpen', 'alpha', 'alphi', 'alphonso', 'alpo', 'alreay', 'alredy', 'alright', 'als', 'alter', 'alterative', 'altered', 'altering', 'alternate', 'alternated', 'alternating', 'alternative', 'alternatively', 'alternatives', 'alternatize', 'alters', 'altho', 'altitude', 'altogether', 'altogther', 'altoid', 'altoids', 'alton', 'altruistic', 'alum', 'aluminate', 'aluminium', 'aluminum', 'alumnus', 'alvita', 'alzheimer', 'alzo', 'amadeus', 'amano', 'amaranth', 'amarena', 'amarene', 'amaretti', 'amaretto', 'amaricans', 'amarillo', 'amateur', 'amazaon', 'amazed', 'amazement', 'amazes', 'amazing', 'amazingly', 'amazo', 'amazom', 'amazon', 'amazone', 'amazonknow', 'amazons', 'ambassador', 'amber', 'ambiance', 'ambiguous', 'ambitious', 'ambivalent', 'ambootia', 'ambrosia', 'ambrosoli', 'amd', 'amek', 'amen', 'amenable', 'amend', 'amended', 'amendments', 'amercan', 'america', 'american', 'americanized', 'americano', 'americanos', 'americans', 'americolor', 'amhad', 'amidst', 'amino', 'amish', 'amiss', 'ammazon', 'ammendments', 'ammish', 'ammo', 'ammonia', 'ammonium', 'ammounts', 'amnia', 'amonia', 'amore', 'amoretti', 'amorining', 'amorphous', 'amos', 'amoung', 'amounted', 'amounts', 'amp', 'amped', 'amphibians', 'ample', 'amplify', 'amply', 'amused', 'amuses', 'amusing', 'amusingly', 'amy', 'amz', 'ana', 'anaemic', 'analgesic', 'analize', 'analysis', 'analysisthis', 'analyst', 'analyze', 'anamorphic', 'anaphylactic', 'anarchy', 'anastasia', 'anatolian', 'anatomy', 'ancestors', 'ancho', 'anchor', 'anchovaise', 'anchovie', 'anchovies', 'anchovy', 'ancient', 'ancillary', 'andalso', 'andean', 'andes', 'andmy', 'andrea', 'andresy', 'andrew', 'andy', 'anemia', 'anesthetic', 'anesthetized', 'anew', 'angel', 'angeles', 'angelina', 'anger', 'angilina', 'angle', 'angles', 'angry', 'angus', 'anh', 'anhydride', 'anhydrous', 'animal', 'animals', 'animated', 'anise', 'anitbiotics', 'anitra', 'aniversary', 'ann', 'anna', 'annalise', 'annatto', 'annette', 'annie', 'annies', 'annihilated', 'anniversaries', 'anniversary', 'annonously', 'announce', 'announced', 'announcement', 'announcing', 'annoy', 'annoyance', 'annoyances', 'annoyed', 'annoying', 'annoys', 'annual', 'annually', 'anomaly', 'anonymity', 'anonymous', 'anothers', 'anotherwise', 'ans', 'answer', 'answered', 'answers', 'ant', 'antacid', 'antacids', 'antagonist', 'antar', 'antelope', 'antennae', 'antep', 'anthing', 'anthocyanins', 'anthony', 'anti', 'antiacids', 'antibacterial', 'antibiotic', 'antibiotics', 'anticipated', 'anticipating', 'anticipation', 'antics', 'antidepressant', 'antidote', 'antifreeze', 'antihistamines', 'antioxidant', 'antioxidants', 'antioxident', 'antioxidents', 'antioxidized', 'antioxidizing', 'antipasto', 'antispasmodics', 'antler', 'antlers', 'antonio', 'ants', 'anxiety', 'anxious', 'anxiously', 'any1', 'anybody', 'anycase', 'anyhing', 'anyhoo', 'anymore', 'anyplace', 'anytime', 'anyways', 'aol', 'aparently', 'apart', 'apartment', 'apbt', 'apears', 'apetite', 'apex', 'apfelschorle', 'apiaries', 'apiece', 'apllied', 'apnea', 'apo', 'apocalypse', 'apollo', 'apologetic', 'apologies', 'apologize', 'apologized', 'apologizing', 'apology', 'apothecary', 'app', 'appalled', 'appalling', 'apparantly', 'apparatus', 'apparent', 'apparently', 'appeal', 'appealable', 'appealed', 'appealing', 'appeals', 'appear', 'appearance', 'appearances', 'appeared', 'appearence', 'appearing', 'appears', 'appease', 'appeased', 'appeciated', 'apperance', 'appetising', 'appetit', 'appetite', 'appetizer', 'appetizers', 'appetizing', 'applaud', 'applause', 'apple', 'apples', 'applesauce', 'appletini', 'appletinis', 'applewood', 'appliance', 'appliances', 'application', 'applications', 'applicator', 'applied', 'applies', 'apply', 'applying', 'appointed', 'appointment', 'appologize', 'appox', 'apprear', 'appreciable', 'appreciably', 'appreciate', 'appreciated', 'appreciates', 'appreciating', 'appreciation', 'apprehensive', 'approach', 'approached', 'approaches', 'approaching', 'appropriate', 'appropriated', 'appropriately', 'approval', 'approve', 'approved', 'approves', 'approx', 'approximate', 'approximately', 'approximation', 'apreciate', 'apri', 'apricot', 'apricotking', 'apricots', 'april', 'apron', 'apso', 'apt', 'aptly', 'aptness', 'aq', 'aqua', 'aquafina', 'aquarium', 'aquired', 'ar', 'ara', 'arabia', 'arabic', 'arabica', 'araceae', 'arame', 'aranciata', 'arataki', 'arbol', 'arborio', 'arbuckle', 'archer', 'arches', 'archie', 'arching', 'archway', 'arco', 'arctic', 'ardent', 'area', 'areas', 'areb', 'aren', 'arena', 'arent', 'argentina', 'argentine', 'argh', 'arghh', 'argine', 'arginin', 'arguably', 'argue', 'argument', 'arguments', 'ariel', 'arise', 'arises', 'arived', 'arizona', 'ark', 'arm', 'armarkat', 'armed', 'armor', 'armpit', 'armpits', 'arms', 'army', 'arnica', 'arnold', 'aroma', 'aromas', 'aromat', 'aromatherapy', 'aromatic', 'aromatics', 'arose', 'aroung', 'arrange', 'arranged', 'arrangements', 'array', 'arriba', 'arrival', 'arrive', 'arrived', 'arrives', 'arriving', 'arrowhead', 'arrowroot', 'arroz', 'arsenic', 'art', 'arte', 'arterial', 'arteries', 'artery', 'artesan', 'artesian', 'artfully', 'arthritic', 'arthritis', 'arthur', 'arthuritis', 'artichoke', 'artichokes', 'articial', 'article', 'articles', 'articulation', 'artificail', 'artifical', 'artificial', 'artificially', 'artisan', 'artisana', 'artisanal', 'artist', 'artistic', 'arts', 'artwork', 'arugula', 'arvensis', 'asap', 'ascborbic', 'ascertain', 'ascertained', 'ascorbic', 'ascrobyl', 'ascsulfame', 'asculfame', 'asd', 'aseptic', 'ash', 'ashamed', 'ashanti', 'ashes', 'ashore', 'ashtray', 'asi', 'asia', 'asiago', 'asian', 'asians', 'aside', 'asin', 'ask', 'asked', 'asking', 'asks', 'asleep', 'asparagas', 'asparagus', 'aspartamane', 'aspartame', 'aspartate', 'aspartine', 'aspca', 'aspect', 'aspects', 'aspergillus', 'aspertaine', 'aspertame', 'aspiration', 'aspirin', 'ass', 'assam', 'assams', 'assaulted', 'assemble', 'assembled', 'assembly', 'assert', 'assertive', 'assess', 'assessment', 'asset', 'assigned', 'assignments', 'assimilated', 'assist', 'assistance', 'assistant', 'assisting', 'assit', 'assn', 'associate', 'associated', 'associates', 'association', 'associations', 'assorted', 'assortment', 'assortments', 'assume', 'assumed', 'assumes', 'assuming', 'assumming', 'assumption', 'assurance', 'assure', 'assured', 'assuredly', 'assuring', 'asteraceae', 'asterisk', 'asthma', 'astonished', 'astonishing', 'astonishment', 'astounded', 'astounding', 'astounds', 'astray', 'astringency', 'astringent', 'astroglide', 'astronaut', 'astronomical', 'atb', 'ate', 'ater', 'ates', 'athlete', 'athletes', 'athletic', 'athough', 'atkins', 'atlanta', 'atlantic', 'atleast', 'atlest', 'atomic', 'atop', 'atrociously', 'attach', 'attached', 'attaches', 'attaching', 'attachment', 'attack', 'attacked', 'attacking', 'attacks', 'attain', 'attempt', 'attempted', 'attempting', 'attempts', 'attend', 'attended', 'attendees', 'attending', 'attends', 'attention', 'attentive', 'attest', 'attic', 'attitude', 'attitudes', 'attorney', 'attorneys', 'attract', 'attracted', 'attracting', 'attraction', 'attractive', 'attractively', 'attracts', 'attributable', 'attribute', 'attributed', 'attributes', 'atwater', 'au', 'audience', 'aug', 'augie', 'augment', 'augmented', 'august', 'augusta', 'aune', 'aunt', 'auntie', 'aunts', 'auspices', 'aussie', 'austin', 'australia', 'australian', 'australias', 'authenic', 'authentic', 'authentically', 'authenticity', 'autheticity', 'author', 'authorities', 'authority', 'authorization', 'authors', 'autism', 'autistic', 'auto', 'autolyzed', 'automatic', 'automatically', 'automaticatedly', 'automotive', 'autoship', 'autoships', 'autumn', 'avacado', 'avacados', 'avaiable', 'avaialable', 'avail', 'availabe', 'availability', 'available', 'avalanche', 'avaliable', 'avalon', 'avaoderm', 'avariety', 'ave', 'avenue', 'avenues', 'average', 'averaged', 'averages', 'averaging', 'averse', 'aversion', 'avert', 'averted', 'avery', 'avg', 'aviable', 'avid', 'avidly', 'avilable', 'avocado', 'avocados', 'avoderm', 'avoid', 'avoided', 'avoiding', 'avoids', 'await', 'awaiting', 'awake', 'awakened', 'awakening', 'award', 'awarded', 'awards', 'aware', 'awareness', 'awash', 'awasome', 'away', 'awe', 'aweful', 'awesome', 'awesomely', 'awesomeness', 'awful', 'awfully', 'awhile', 'awkward', 'awkwardly', 'awoke', 'awrooooooo000', 'awsome', 'awuful', 'axe', 'ayurveda', 'ayurvedic', 'az', 'azalea', 'azar', 'aztec', 'azulene', 'b00009w5f0', 'b0000ah3rn', 'b0000ah3rp', 'b0000c69fb', 'b0000cflil', 'b0000cnu51', 'b0000dbn1f', 'b0000gl1ra', 'b00011jn56', 'b0001nbghm', 'b0001xizmq', 'b00020htts', 'b00024d9aw', 'b000261nr6', 'b00028hn5a', 'b00029kovo', 'b0002aq6ec', 'b0002ar0i8', 'b0002dhny6', 'b0002i0rlw', 'b0002y2twq', 'b00032g1s0', 'b0005zhczq', 'b00061epzy', 'b00061kxv4', 'b000634hd2', 'b00065kbik', 'b0006h0jvw', 'b0006muf6g', 'b0007a0ap8', 'b0007ovwjw', 'b0007r9l4mtasty', 'b00094jeuo', 'b0009eta6w', 'b0009f3ql6', 'b0009od4eq', 'b0009paiki', 'b0009rf8kg', 'b000a63p5q', 'b000aqhjfi', 'b000aqpmha', 'b000aqsmpo', 'b000axu99e', 'b000ayel1a', 'b000buddty', 'b000c1vwju', 'b000cqidk6', 'b000cr00e2', 'b000cr41kq', 'b000dlb2fi', 'b000dzh19u', 'b000e18cve', 'b000e1hvvq', 'b000e48ip6', 'b000e5dklm', 'b000e5gjre', 'b000e63laq', 'b000e65ojm', 'b000e65ok6', 'b000e6727o', 'b000e6lbxk', 'b000e8wias', 'b000ed7m2w', 'b000eddses', 'b000edg3tu', 'b000edm7n6', 'b000emeehe', 'b000emocxa', 'b000en8dmu', 'b000eo0xae', 'b000evt042', 'b000f0bxb0', 'b000f4f952', 'b000f4h5fe', 'b000f4h5qi', 'b000f4j76e', 'b000f9z1ws', 'b000fdbri6', 'b000fgzkwm', 'b000fmmthu', 'b000fmzmn8', 'b000focc4s', 'b000fyvkpu', 'b000fyvkrs', 'b000g6mbua', 'b000g6q4gm', 'b000g7yo2m', 'b000gg0nt6', 'b000gg1o94', 'b000gphihw', 'b000gtr2f6', 'b000hdjzwo', 'b000hdmuoe', 'b000hj7aiy', 'b000hklmm8', 'b000hql2ja', 'b000i1oltm', 'b000i21k18', 'b000i6625i', 'b000i6o5w0', 'b000i82du4', 'b000irl5ja', 'b000jp9op8', 'b000k8wi1q', 'b000kouk6a', 'b000kouk7e', 'b000kv7zgq', 'b000lktw5s', 'b000lkvive', 'b000lkvt90', 'b000lqjt1o', 'b000mlkxou', 'b000nbqunw', 'b000nmi0c0', 'b000nmjwzo', 'b000oeagco', 'b000oh73fo', 'b000ory230', 'b000pus2by', 'b000q0imok', 'b000qa4ys8', 'b000r961m0', 'b000rfs57i', 'b000rzny5g', 'b000s4gcnm', 'b000sqn3og', 'b000tk6lbs', 'b000ua0qli', 'b000ubh9yo', 'b000uvkx9c', 'b000v9sn5e', 'b000vdp11y', 'b000vrsr84', 'b000w77s60', 'b000x1cc02', 'b000xern3k', 'b000yqmb1g', 'b000z5ydo4', 'b000zonype', 'b0010cfqec', 'b0010dlwt4', 'b0010nr7c0', 'b00112tie0', 'b00113is5e', 'b0011vyfwq', 'b0012272p6', 'b001269gt2', 'b0012fljdo', 'b0012s1v2a', 'b0012x6mqa', 'b001397wv2', 'b0013cwa2k', 'b0013hfbmq', 'b0013valok', 'b0014wyxqk', 'b0014wyxtc', 'b0014wyxyw', 'b0014wyy1e', 'b0014x5o1c', 'b001534r00', 'b00153b3kw', 'b00155uy3w', 'b0016ljuvm', 'b0017i1qb6', 'b0018n1drw', 'b001940ajc', 'b001942gai', 'b00196498i', 'b0019fr0f8', 'b0019zb62q', 'b001aj1uls', 'b001an2pue', 'b001b194fy', 'b001bc0rw2', 'b001bc0w3q', 'b001bc2jqy', 'b001bdei6w', 'b001c15jcu', 'b001chft88', 'b001chizxe', 'b001chj03i', 'b001csaj96', 'b001cwec2w', 'b001d0dmme', 'b001d0gv54', 'b001d0gv90', 'b001d0gvao', 'b001d0izbm', 'b001d0izbw', 'b001e3hlx6', 'b001e52vjs', 'b001e52wag', 'b001e5drg4', 'b001e5dww8', 'b001e5dyte', 'b001e5dyui', 'b001e5e060', 'b001e5e0d8', 'b001e5e1w8', 'b001e5e2rc', 'b001e5e3jy', 'b001ell512', 'b001eo5q64', 'b001eo5rf4', 'b001eo5s6m', 'b001eo5t52', 'b001eo5u24', 'b001eo5ujw', 'b001eo64f6', 'b001eo6852', 'b001eppc5i', 'b001epq18k', 'b001eq5jjq', 'b001eq5qw6', 'b001et5y0m', 'b001et5y52', 'b001eua0v4', 'b001exf3bs', 'b001fa1kjo', 'b001fsk58s', 'b001g0nkvo', 'b001g96uk8', 'b001gcvlvi', 'b001gcvlx6', 'b001gq220i', 'b001gviuya', 'b001h3yko6', 'b001htkqwk', 'b001hwi700', 'b001hyb2p0', 'b001iz8p62', 'b001ized2m', 'b001j9lx48', 'b001jjrs6k', 'b001kuqg3o', 'b001kuslgy', 'b001l4eme4', 'b001lg940e', 'b001lg943g', 'b001lg945o', 'b001lggh2c', 'b001lggh40', 'b001lggh54', 'b001lnlw5m', 'b001m050t8', 'b001m08xss', 'b001m2bm34', 'b001m2bm4i', 'b001mqen0o', 'b001mwrt18', 'b001ngat60', 'b001nxhy8y', 'b001nxm3i0', 'b001onpmn2', 'b001p05k6i', 'b001pjqwlq', 'b001pmc3lq', 'b001q4sw36', 'b001qy03tc', 'b001rbmadg', 'b001rvawy0', 'b001rvfdoo', 'b001sb03se', 'b001siy3o2', 'b001vj0b0i', 'b001voj7s0', 'b00247d46e', 'b0025uad7s', 'b0025vf8oa', 'b00271nnli', 'b0027cny7u', 'b0027z8ves', 'b00283k02k', 'b00295ighs', 'b0029jxn9k', 'b0029jz2jy', 'b0029xdzdk', 'b0029xdzik', 'b0029xdzki', 'b0029xlh4y', 'b002aj1rme', 'b002aj1s1e', 'b002apwq0k', 'b002hfpw6i', 'b002ievjry', 'b002iezjma', 'b002jnf8cg', 'b002l444oq', 'b002rbtwc2', 'b002rbtx4o', 'b002rnyb0i', 'b002rsrupg', 'b002rsvolm', 'b002tm5458', 'b002tn49f8', 'b002wwhxs6', 'b002zog29c', 'b0030lxa0i', 'b0030vj8pe', 'b0031tj0x0', 'b0031vdkkw', 'b0034edls2', 'b0035xvqf2', 'b003679tro', 'b0037n1zew', 'b0037qgkty', 'b00389q4xw', 'b003ayyxwo', 'b003az2ecy', 'b003b55wy0', 'b003bdh16e', 'b003bgb24s', 'b003d4ix36', 'b003di09ys', 'b003dnl9u6', 'b003gtr8io', 'b003gw873g', 'b003llxbco', 'b003m1ktua', 'b003m7ttyg', 'b003mwbfxy', 'b003sky9is', 'b003tjerrg', 'b003vd8dso', 'b003vxhge6', 'b003vz7w52', 'b003x7s45u', 'b003xomhv0', 'b003xul1mk', 'b003xv1tas', 'b003ybled4', 'b003zdwmgo', 'b003zi9vsq', 'b0040dwcxg', 'b0041bszga', 'b0041o2qr6', 'b00438xvgu', 'b0045gv3jc', 'b0045vzqok', 'b004616b3y', 'b0046h1oj4', 'b0046ko7ja', 'b0046lck5m', 'b004772oug', 'b004779xhi', 'b004779xnw', 'b0049rdcri', 'b004awtr6m', 'b004cha1pg', 'b004cyjx9e', 'b004e4fugw', 'b004e4humy', 'b004ebuwhm', 'b004ebv0im', 'b004fej968', 'b004glimj0', 'b004gsi9nw', 'b004h3qboa', 'b004i3y4ie', 'b004itwdko', 'b004jlyhku', 'b004ksqxko', 'b004l2nvvs', 'b004m5w7yq', 'b004m62cou', 'b004oaz36i', 'b004p4poz8', 'b004t9xdfm', 'b004tsvu26', 'b004u49qu2', 'b004u8t97s', 'b004v6a6ee', 'b004vmvof8', 'b004yv80o4', 'b0050oihec', 'b00513bpyq', 'b00555etxy', 'b00566hyh0', 'b005du2roy', 'b005k4q1t0', 'b005lki3oy', 'b005p0ufqo', 'b005v9zb8q', 'b005vooqka', 'b006az7zno', 'b006bxuy2y', 'b006bxv176', 'b006n3i2sk', 'b006q822l0', 'b007jfmh96', 'b007jt7aey', 'b007jt7aia', 'b007rtr9ds', 'b0081smo7k', 'b1', 'b12', 'b130', 'b145', 'b17', 'b2', 'b3', 'b4', 'b40', 'b44', 'b5', 'b50', 'b6', 'b60', 'b70', 'ba', 'baaaad', 'baba', 'babaycook', 'babe', 'babies', 'babiesrus', 'baby', 'babycat', 'babycook', 'babyfood', 'babying', 'babys', 'babysit', 'babysitter', 'babysitters', 'babysitting', 'bachelor', 'bacillus', 'backed', 'backend', 'backflips', 'backflushed', 'background', 'backgrounds', 'backorder', 'backorderd', 'backordered', 'backpack', 'backpacker', 'backpackers', 'backpacking', 'backpacks', 'backs', 'backside', 'backstabber', 'backup', 'backward', 'backwards', 'backyard', 'backyards', 'bacon', 'baconnaise', 'bacony', 'bacos', 'bacteria', 'bacterial', 'bad', 'badia', 'badly', 'badness', 'badoit', 'bael', 'baffled', 'baffles', 'bag', 'bagel', 'bagels', 'bagged', 'bagger', 'baggie', 'baggies', 'bagging', 'baggy', 'bagles', 'baglets', 'bagn', 'bags', 'baguette', 'bahlsen', 'bailey', 'baileys', 'bait', 'baits', 'baja', 'bak', 'bake', 'baked', 'bakedeco', 'baker', 'bakeries', 'bakers', 'bakery', 'bakes', 'baking', 'balance', 'balanced', 'balances', 'balancing', 'balck', 'bald', 'baldwin', 'balk', 'balks', 'ball', 'ballerina', 'ballistic', 'balloon', 'ballpark', 'balls', 'balm', 'balms', 'balocco', 'baloney', 'balsamic', 'balsamico', 'balti', 'baltimore', 'bam', 'bamboo', 'ban', 'banana', 'bananas', 'bananna', 'band', 'bandages', 'bandana', 'bandit', 'bands', 'bandwagon', 'bang', 'banged', 'bangers', 'banging', 'bank', 'bankrupt', 'banks', 'bannana', 'bannans', 'banned', 'banner', 'bantered', 'baout', 'baptist', 'bar', 'baratza', 'barb', 'barbara', 'barbecue', 'barbecued', 'barbeque', 'barbie', 'barbra', 'barcode', 'bare', 'barely', 'barest', 'barf', 'barfed', 'barfing', 'bargain', 'bargaining', 'bargains', 'bargined', 'bariatric', 'bariestas', 'barilla', 'barista', 'baristas', 'bark', 'barking', 'barks', 'barkster', 'barksters', 'barlean', 'barley', 'barn', 'barney', 'barnie', 'barnyard', 'barometer', 'baronet', 'barooti', 'barr', 'barracks', 'barrel', 'barrels', 'barrier', 'barring', 'barry', 'barryfarm', 'bars', 'bas', 'base', 'baseball', 'baseboard', 'based', 'baseline', 'basement', 'basenji', 'bases', 'bash', 'bashed', 'bashing', 'basic', 'basically', 'basicly', 'basics', 'basil', 'basilico', 'basing', 'basis', 'basket', 'basketball', 'baskets', 'basmati', 'basque', 'bass', 'basset', 'bassett', 'bassetts', 'bassically', 'bastard', 'baste', 'basted', 'bastianich', 'bat', 'batavia', 'batch', 'batches', 'bates', 'bath', 'bathroom', 'bathtub', 'batko', 'batman', 'bats', 'battenberg', 'batter', 'battered', 'batteries', 'battery', 'battle', 'battling', 'bauducco', 'bauli', 'bavarian', 'bawls', 'bawss', 'baxter', 'bay', 'bayou', 'bayous', 'bays', 'bayside', 'bazooka', 'bb', 'bbb', 'bbc', 'bbg', 'bbp', 'bbq', 'bbqs', 'bc', 'bcc', 'bcoz', 'bday', 'beaba', 'beabe', 'beach', 'beachbum', 'beachside', 'beacuse', 'bead', 'beads', 'beagle', 'beagles', 'beaks', 'beam', 'bean', 'beancurd', 'beanee', 'beanilla', 'beano', 'beans', 'beany', 'bear', 'bearable', 'beard', 'bearing', 'bears', 'beast', 'beasties', 'beasts', 'beat', 'beaten', 'beater', 'beaters', 'beating', 'beats', 'beause', 'beautful', 'beautiful', 'beautifully', 'beauty', 'beaver', 'beaware', 'bebere', 'becaouse', 'becareful', 'becase', 'becaue', 'becouse', 'becuase', 'becuz', 'bed', 'bedding', 'bedmarmalade', 'bedorganic', 'bedroom', 'beds', 'bedtime', 'bee', 'beef', 'beefeater', 'beefeaters', 'beefy', 'beeing', 'beekeeping', 'beennice', 'beer', 'beers', 'bees', 'beeswax', 'beet', 'beetlejuice', 'beetles', 'beets', 'beettlejuice', 'befoe', 'befor', 'beg', 'began', 'begged', 'beggin', 'begging', 'begin', 'begin_of_the_skype_highlighting', 'begining', 'beginner', 'beginners', 'beginning', 'beginnings', 'begins', 'begrudgingly', 'begs', 'begun', 'behalf', 'behaved', 'behaving', 'behavior', 'behaviors', 'behaviour', 'beheaded', 'behold', 'beholder', 'behring', 'beige', 'beijing', 'beilieve', 'beings', 'belafonte', 'belamandil', 'belches', 'beleave', 'beleive', 'belgian', 'belgium', 'belief', 'believe', 'believed', 'believer', 'believes', 'believing', 'beligum', 'belittle', 'belive', 'belize', 'bell', 'bella', 'bellagio', 'belle', 'bellied', 'bellies', 'bellow', 'bells', 'belly', 'bellys', 'belong', 'belonged', 'belongs', 'beloved', 'belt', 'belvita', 'ben', 'benadryl', 'bench', 'benchmark', 'bend', 'bendiness', 'bending', 'bends', 'beneath', 'benechol', 'benecol', 'benefiber', 'beneficial', 'benefit', 'benefited', 'benefits', 'benefitted', 'benefitting', 'beneful', 'beneifts', 'bengal', 'bengals', 'bengi', 'benifit', 'beniful', 'benign', 'bens', 'bensdorp', 'bent', 'bentley', 'bentleys', 'benzine', 'benzoate', 'benzyltriethlyammonium', 'bergamont', 'bergamot', 'bergen', 'berger', 'bergin', 'bergins', 'berio', 'berkeley', 'bernard', 'bernese', 'berres', 'berries', 'berry', 'bertie', 'bertolli', 'besagews', 'beseech', 'best', 'bestselling', 'besty', 'bet', 'beta', 'betelgeuse', 'betelguese', 'beth', 'bethany', 'bethenny', 'bether', 'betta', 'bette', 'better', 'betteroats', 'betting', 'bettter', 'betty', 'bettycrocker', 'betwixt', 'betwoken', 'beurre', 'beverage', 'beverages', 'bevmo', 'beware', 'bewer', 'beyound', 'bf', 'bfast', 'bff', 'bfst', 'bha', 'bhaji', 'bhk', 'bht', 'bi', 'bialetti', 'biano', 'bias', 'biased', 'biases', 'bib', 'bible', 'bicarbonate', 'bice', 'bichon', 'big', 'bigbucks', 'bigelow', 'bigger', 'biggest', 'biggie', 'biggish', 'biggy', 'bigtime', 'bike', 'biker', 'biking', 'bile', 'bilge', 'biljac', 'billed', 'billing', 'bills', 'biloxi', 'biltong', 'bin', 'bind', 'binders', 'binding', 'bing', 'bingo', 'binning', 'bins', 'bio', 'bioavailable', 'biobag', 'biobags', 'biocare', 'biochemical', 'biodegradable', 'biodegrade', 'biodegradeable', 'biodiverse', 'biodynamic', 'biokleen', 'biolage', 'biological', 'biologically', 'bionature', 'biopsy', 'biotin', 'biproducts', 'birch', 'bird', 'birds', 'birki', 'birman', 'birth', 'birthday', 'biryani', 'biscoff', 'biscoti', 'biscotti', 'biscuit', 'biscuits', 'bishon', 'bison', 'bisphenol', 'bisque', 'bisquick', 'bisquits', 'bistro', 'bisulfite', 'bit', 'bite', 'biter', 'bites', 'bitey', 'biting', 'bits', 'bitten', 'bitter', 'bitterest', 'bitterness', 'bittersweet', 'bittery', 'bittman', 'bitty', 'biz', 'bizarre', 'bizarrely', 'bizzare', 'bj', 'bjs', 'black', 'blackberries', 'blackberry', 'blackbird', 'blackcat', 'blackened', 'blackening', 'blackens', 'blackgreat', 'blacks', 'blackstrap', 'blackwell', 'bladder', 'blade', 'blades', 'blah', 'blahhhhhh', 'blahs', 'blair', 'blairs', 'blame', 'blamed', 'blameless', 'blaming', 'blan', 'blanced', 'blanchard', 'blanco', 'bland', 'blande', 'blander', 'blandest', 'blandish', 'blandness', 'blank', 'blanket', 'blast', 'blasted', 'blastin', 'blasts', 'blatantly', 'blazin', 'bleach', 'bleached', 'bleaching', 'bleagh', 'bleah', 'bleak', 'blech', 'bleck', 'bleeding', 'bleeds', 'bleh', 'blemishes', 'blend', 'blended', 'blender', 'blenders', 'blending', 'blends', 'blenheim', 'blenheims', 'blenhiem', 'blerg', 'bless', 'blessed', 'blessedly', 'blessing', 'blessings', 'bletch', 'bleu', 'blew', 'blind', 'blindly', 'blink', 'bliss', 'blissful', 'blister', 'blisters', 'blizzard', 'blk', 'bloat', 'bloated', 'bloating', 'blob', 'block', 'blockage', 'blockages', 'blockbuster', 'blocked', 'blocking', 'blocks', 'blog', 'blogger', 'bloks', 'blond', 'blonde', 'blood', 'bloodies', 'bloodstream', 'bloodwork', 'bloody', 'bloom', 'bloomed', 'blooming', 'blooms', 'blossom', 'blossomed', 'blossoming', 'blossoms', 'blot', 'blotches', 'blots', 'blotted', 'blow', 'blowing', 'blowingly', 'blown', 'blowout', 'blows', 'blu', 'bluberry', 'blue', 'blueberries', 'blueberry', 'blueberryz', 'bluebonnet', 'bluebuffalo', 'blues', 'bluish', 'blunders', 'blunt', 'bluntly', 'blunts', 'blur', 'blurb', 'blurbs', 'blush', 'blustery', 'bm', 'bmb', 'bmi', 'bms', 'bnpb', 'bo', 'board', 'boarded', 'boards', 'boardwalk', 'boast', 'boasted', 'boasts', 'boat', 'boatload', 'boats', 'bob', 'boba', 'boboli', 'bobs', 'bod', 'boderline', 'bodied', 'bodies', 'bodum', 'body', 'bodybuilder', 'bodybuilding', 'bodywash', 'bog', 'bogdon', 'boggles', 'bogus', 'boil', 'boilable', 'boiled', 'boiler', 'boilermate', 'boiling', 'boils', 'boing', 'boise', 'boisterous', 'bold', 'bolder', 'boldest', 'boldly', 'boldness', 'boles', 'bolganese', 'bolgenese', 'bologna', 'bolognese', 'bolstered', 'bomb', 'bombarded', 'bombay', 'bombdiggity', 'bombed', 'bombilla', 'bombs', 'bon', 'bonanza', 'bonbons', 'bonded', 'bonding', 'bonds', 'bone', 'bonehead', 'boneless', 'bones', 'bong', 'bonita', 'bonito', 'bonkers', 'bonking', 'bonne', 'bonnets', 'bono', 'bonomo', 'bonomos', 'bons', 'bonsai', 'bonsi', 'bonus', 'bonz', 'bonzai', 'boo', 'boobies', 'boobs', 'booda', 'boodum', 'boohoo', 'book', 'booklet', 'books', 'bookstore', 'boom', 'boomed', 'boomer', 'boon', 'boonies', 'boooooo', 'boost', 'boosted', 'booster', 'boosters', 'boosting', 'boosts', 'boot', 'boots', 'booty', 'booze', 'boozy', 'boquete', 'boquetes', 'bordeaux', 'border', 'bordering', 'borderline', 'borders', 'bordom', 'bore', 'bored', 'bores', 'boring', 'born', 'borne', 'bosch', 'bosco', 'boscoli', 'boss', 'boston', 'bot', 'botanica', 'botanicals', 'botanist', 'botched', 'bother', 'bothered', 'bothering', 'bothers', 'bothersome', 'bottle', 'bottled', 'bottler', 'bottles', 'bottling', 'bottomless', 'bottomline', 'bottoms', 'botts', 'botulism', 'boudain', 'bough', 'bought', 'bouillon', 'bouillons', 'boullion', 'bounce', 'bounced', 'bouncey', 'bouncing', 'bouncy', 'bound', 'boundaries', 'boundless', 'bounds', 'bountiful', 'bouquest', 'bouquet', 'bourbon', 'bourgeois', 'boursin', 'bout', 'boutique', 'bouts', 'bouught', 'bovine', 'bovril', 'bow', 'bowel', 'bowels', 'bowl', 'bowlful', 'bowling', 'bowls', 'bows', 'box', 'box0', 'boxador', 'boxed', 'boxer', 'boxers', 'boxes', 'boxful', 'boxing', 'boxload', 'boxs', 'boy', 'boyardee', 'boycott', 'boycotting', 'boyer', 'boyfriend', 'boyfriends', 'boys', 'boysenberry', 'bp', 'bpa', 'bph', 'br', 'bra', 'brace', 'braced', 'bracelets', 'braces', 'brach', 'brachs', 'brackets', 'brad', 'brag', 'bragg', 'bragged', 'bragging', 'braided', 'braids', 'brain', 'braincells', 'brainer', 'brainier', 'brainpower', 'brains', 'braised', 'brake', 'brakes', 'bran', 'branch', 'branched', 'branches', 'brand', 'branded', 'branding', 'brands', 'brandy', 'brank', 'brashness', 'brat', 'brats', 'bratwurst', 'braun', 'brave', 'braved', 'bravo', 'brazil', 'brazilian', 'brazilians', 'breached', 'bread', 'breadcrumb', 'breadcrumbs', 'breaded', 'breadflour', 'breadiness', 'breading', 'breadmaker', 'breadman', 'breadmix', 'breads', 'breadsticks', 'breadth', 'bready', 'breafast', 'break', 'breakability', 'breakable', 'breakage', 'breaker', 'breakers', 'breakfast', 'breakfasts', 'breaking', 'breakouts', 'breakroom', 'breaks', 'breaskfast', 'breast', 'breastfed', 'breastfeed', 'breastfeeding', 'breastmilk', 'breasts', 'breat', 'breatfast', 'breath', 'breathe', 'breathed', 'breathes', 'breathing', 'breed', 'breeder', 'breeders', 'breeds', 'breeze', 'breifcase', 'bretagne', 'brethren', 'breville', 'brew', 'brewed', 'brewer', 'brewers', 'brewing', 'brewmaster', 'brews', 'breyers', 'brezza', 'brf', 'brfore', 'brian', 'brick', 'bricks', 'bride', 'bridge', 'bridgeford', 'bridges', 'bridgford', 'brie', 'brief', 'briefcase', 'briefly', 'briel', 'bright', 'brightens', 'brighter', 'brightly', 'brightness', 'brikka', 'brilliant', 'brilliantine', 'brilliantly', 'brillo', 'brimming', 'brimstone', 'brine', 'briney', 'bring', 'bringing', 'brings', 'brininess', 'brining', 'brio', 'brisk', 'briskly', 'brisling', 'bristle', 'bristles', 'bristling', 'bristol', 'brit', 'brita', 'british', 'britney', 'brits', 'britt', 'brittany', 'brittle', 'brittlle', 'brm', 'bro', 'broad', 'broadcast', 'broadcasting', 'broader', 'broadway', 'broc', 'broccoli', 'brockeim', 'brocoli', 'brocolli', 'broil', 'broiled', 'broiling', 'broke', 'broked', 'broken', 'brokers', 'bromelain', 'bronners', 'bronze', 'brooklyn', 'brooklynn', 'brooks', 'brookshire', 'bros', 'broth', 'brother', 'brothercat', 'brothers', 'brothlike', 'broths', 'brough', 'brought', 'brown', 'browne', 'browned', 'browner', 'brownie', 'brownies', 'brownish', 'browns', 'brownwood', 'browsing', 'bruce', 'bruces', 'brueggers', 'bruges', 'bruised', 'brulee', 'brunch', 'brunswick', 'bruschetta', 'brush', 'brushed', 'brushing', 'brussel', 'brussels', 'brut', 'brutal', 'brutally', 'bruxelles', 'brûl', 'bs', 'bset', 'bsg', 'bt', 'bttls', 'btu', 'btw', 'bu', 'bubba', 'bubble', 'bubbled', 'bubblegum', 'bubblemints', 'bubbles', 'bubbling', 'bubbly', 'bucatini', 'buchanan', 'buck', 'bucket', 'buckled', 'bucks', 'buckwheat', 'buckwheats', 'bud', 'budda', 'buddhist', 'buddies', 'budding', 'buddy', 'budget', 'budgeted', 'buds', 'bueller', 'buena', 'bueno', 'buff', 'buffalo', 'buffalos', 'buffet', 'buffets', 'buffoon', 'buffs', 'buford', 'bug', 'bugaboo', 'bugers', 'bugged', 'buggers', 'bugging', 'bugles', 'bugs', 'build', 'builder', 'building', 'builds', 'buildup', 'built', 'bukara', 'bulb', 'bulbous', 'bulbs', 'bulger', 'bulgogi', 'bulk', 'bulking', 'bulks', 'bulky', 'bull', 'bulldog', 'bulldogge', 'bulldogs', 'bullet', 'bullion', 'bulls', 'bullseye', 'bullseyes', 'bully', 'bullystick', 'bullysticks', 'bum', 'bumble', 'bumblebee', 'bumbola', 'bumbule', 'bummed', 'bummer', 'bump', 'bumped', 'bumper', 'bumpers', 'bumping', 'bumps', 'bumpy', 'bun', 'bunch', 'bunches', 'bundle', 'bundled', 'bundles', 'bundt', 'bungled', 'bunn', 'bunnies', 'bunny', 'buns', 'burdened', 'burger', 'burgers', 'buri', 'buried', 'burke', 'burlap', 'burley', 'burlington', 'burmannii', 'burn', 'burned', 'burner', 'burners', 'burning', 'burns', 'burnt', 'burp', 'burping', 'burps', 'burr', 'burrito', 'burritos', 'burst', 'bursting', 'bursts', 'burton', 'bury', 'burying', 'bus', 'buscuit', 'bush', 'busha', 'bushel', 'bushell', 'bushes', 'busier', 'busily', 'business', 'businesses', 'bust', 'busted', 'bustelo', 'buster', 'busting', 'bustles', 'busy', 'busybones', 'butane', 'butcher', 'butso', 'butt', 'butter', 'buttercream', 'buttered', 'butterfinger', 'butterfingers', 'butterfly', 'butterly', 'buttermilk', 'butternut', 'butters', 'butterscotch', 'butterworth', 'buttery', 'butthole', 'buttocks', 'buttom', 'button', 'buttons', 'butts', 'butylated', 'buy', 'buyer', 'buyers', 'buying', 'buyng', 'buyout', 'buys', 'buzz', 'buzzes', 'buzzing', 'buzzwords', 'buzzworthy', 'buzzzz', 'bvmc', 'bye', 'bypass', 'byproduct', 'byproducts', 'byrd', 'byt', 'byte', 'bzzagent', 'c2o', 'c6h10o5', 'c9', 'ca', 'caalmonds', 'cabbage', 'cabelas', 'cabin', 'cabinet', 'cabinets', 'cabins', 'cable', 'cabo', 'caboose', 'cacao', 'cache', 'cackling', 'cactus', 'cadbury', 'cadburys', 'caddies', 'caddy', 'cadet', 'caesar', 'caf', 'cafe', 'cafes', 'cafeteria', 'caff', 'caffe', 'caffee', 'caffein', 'caffeinate', 'caffeinated', 'caffeine', 'caffettiere', 'caffiene', 'caffinated', 'caffine', 'cage', 'cairn', 'cajoled', 'cajun', 'cajunmarket', 'cajuns', 'cake', 'caked', 'cakes', 'cakester', 'cakesters', 'cakey', 'caking', 'cal', 'calalog', 'calcium', 'calculate', 'calculated', 'calculating', 'calculation', 'calculations', 'calculator', 'calder', 'calendar', 'calendula', 'calf', 'calhoun', 'cali', 'calibrated', 'calibrating', 'calico', 'calif', 'california', 'calimyna', 'calimyrna', 'callahan', 'called', 'calling', 'callories', 'calls', 'calm', 'calmed', 'calmer', 'calming', 'caloric', 'calorie', 'calories', 'cals', 'calumet', 'calyx', 'camacho', 'camano', 'camargue', 'cambodia', 'cambridge', 'came', 'camel', 'camelbak', 'camellia', 'cameron', 'camerons', 'cameroonian', 'camitine', 'camomille', 'camp', 'campaign', 'campbell', 'campbells', 'camper', 'campers', 'campfire', 'camping', 'camps', 'campus', 'camu', 'can_', 'canada', 'canadian', 'canal', 'canape', 'canarios', 'cancel', 'canceled', 'canceling', 'cancellation', 'cancelled', 'cancelling', 'cancer', 'cancers', 'cancun', 'cancy', 'candelabra', 'candidates', 'candie', 'candied', 'candies', 'candle', 'candles', 'candy', 'candybar', 'candycane', 'candymachines', 'candys', 'cane', 'canela', 'canes', 'canidae', 'canidea', 'canin', 'canine', 'canister', 'canisters', 'canker', 'canned', 'canning', 'cannister', 'cannoli', 'canola', 'cans', 'cantaloup', 'canuba', 'canvas', 'cap', 'capabilities', 'capability', 'capable', 'capacity', 'capcom', 'cape', 'capelin', 'caperberries', 'capers', 'capetian', 'capita', 'capital', 'capitalization', 'capitalize', 'capp', 'cappaccino', 'cappaccinos', 'cappacino', 'cappiccino', 'cappichino', 'cappuccino', 'cappuccinos', 'cappuchino', 'cappuchinos', 'cappucino', 'cappucinos', 'capresso', 'capri', 'caps', 'capsaicin', 'capsicum', 'capsule', 'capsules', 'captain', 'captivating', 'capture', 'captured', 'capuccino', 'car', 'caraeml', 'carafe', 'carafes', 'carageenan', 'caramel', 'caramelized', 'caramelizes', 'caramello', 'caramelly', 'caramelo', 'caramelos', 'caramels', 'caranavi', 'carapelli', 'caravan', 'caraway', 'carb', 'carba', 'carber', 'carbers', 'carbing', 'carbo', 'carboardy', 'carbohydrate', 'carbohydrates', 'carbon', 'carbona', 'carbonate', 'carbonated', 'carbonation', 'carbonator', 'carboy', 'carbs', 'carbury', 'carby', 'carcenogenic', 'carcinigen', 'carcinogen', 'carcinogenic', 'carcinogenicity', 'carcinogens', 'carcinomas', 'card', 'cardamom', 'cardamon', 'cardboard', 'cardboardy', 'cardiac', 'cardio', 'cardiovascular', 'cards', 'care', 'cared', 'career', 'careers', 'careful', 'carefully', 'caregiver', 'caregivers', 'careless', 'carelessly', 'carelessness', 'cares', 'caretaker', 'carful', 'carfully', 'cargill', 'cargo', 'caribbean', 'caribbien', 'caribou', 'caricature', 'caring', 'carl', 'carmael', 'carmel', 'carmelina', 'carmelize', 'carmelized', 'carmellini', 'carminatives', 'carmine', 'carminic', 'carnation', 'carnauba', 'carne', 'carnevino', 'carnitas', 'carnitine', 'carnivore', 'carnivores', 'caro', 'carob', 'carol', 'carolina', 'carotene', 'carots', 'carousel', 'carpet', 'carpeted', 'carpeting', 'carpets', 'carrageenan', 'carre4', 'carriage', 'carrie', 'carried', 'carrier', 'carries', 'carring', 'carrol', 'carrot', 'carrots', 'carry', 'carrying', 'cart', 'carte', 'cartiledge', 'carting', 'carton', 'cartons', 'cartoonish', 'cartoons', 'cartridges', 'carts', 'carved', 'carving', 'cary', 'cas', 'casa', 'casbah', 'cascadian', 'case', 'casei', 'casein', 'caseinate', 'cases', 'casey', 'cash', 'cashback', 'cashed', 'cashew', 'cashews', 'cashier', 'cashing', 'casing', 'casings', 'casino', 'cask', 'casks', 'cassaroles', 'cassein', 'casserole', 'casseroles', 'cassia', 'cassifluer', 'cassiopia', 'cassis', 'cast', 'caste', 'casto', 'castoffs', 'castor', 'casual', 'casually', 'cat', 'cat111', 'catagory', 'catahoula', 'catalina', 'catalog', 'catalogue', 'catalyzed', 'catastrophic', 'catch', 'catcher', 'catchers', 'catches', 'catching', 'catchy', 'categories', 'categorize', 'category', 'catering', 'catfish', 'catfood', 'cathechins', 'catherine', 'cathi', 'cathy', 'catland', 'catlike', 'catmium', 'catnip', 'cats', 'catsup', 'catsups', 'catsure', 'cattle', 'caucasian', 'caught', 'caughtin', 'cauliflower', 'causation', 'cause', 'caused', 'causes', 'causing', 'caution', 'cautionary', 'cautions', 'cautious', 'cautiously', 'cavalcade', 'cavalier', 'cavaliers', 'cave', 'caveat', 'caveate', 'caveats', 'caved', 'cavender', 'caves', 'caviar', 'caving', 'cavities', 'cavity', 'cayenne', 'cc', 'ccp', 'ccw', 'cd', 'cdm', 'cds', 'ce', 'cealic', 'ceasar', 'cease', 'ceased', 'ceases', 'cedar', 'ceiling', 'celantro', 'celebrate', 'celebrating', 'celebration', 'celebrity', 'celephane', 'celery', 'celestial', 'celestrial', 'celiac', 'celiacs', 'cell', 'cella', 'cellar', 'cello', 'cellophane', 'cells', 'cellular', 'cellulose', 'celsius', 'censored', 'cent', 'center', 'centered', 'centers', 'centimeters', 'cento', 'central', 'centre', 'centrum', 'cents', 'centuries', 'century', 'ceo', 'cerael', 'ceramic', 'cereal', 'cereals', 'cerelac', 'ceremonial', 'ceremony', 'cerial', 'certain', 'certainly', 'certificate', 'certification', 'certifications', 'certified', 'cesar', 'cet', 'ceter', 'ceylon', 'cf', 'cfh', 'cfl', 'cfu', 'cha', 'chaff', 'chagrin', 'chagrined', 'chai', 'chain', 'chains', 'chainsaw', 'chair', 'chairman', 'chairs', 'chaise', 'chakras', 'chalk', 'chalked', 'chalkiness', 'chalky', 'challenge', 'challenged', 'challenges', 'challenging', 'chalocalate', 'chamber', 'chamoile', 'chamomile', 'chamomiles', 'champ', 'champagne', 'champion', 'champlain', 'chan', 'chana', 'chance', 'chances', 'chandelier', 'chang', 'change', 'changed', 'changer', 'changes', 'changing', 'chango', 'channel', 'channels', 'chantea', 'chaokoh', 'chaos', 'chaotic', 'chapati', 'chappatis', 'chapped', 'character', 'characteristic', 'characteristically', 'characteristics', 'characterized', 'characterless', 'characters', 'charcoal', 'chard', 'chardonnay', 'chared', 'charg', 'charge', 'charged', 'charger', 'charges', 'charging', 'charitable', 'charities', 'charity', 'charlatan', 'charlee', 'charles', 'charleston', 'charley', 'charlie', 'charm', 'charmer', 'charming', 'charms', 'charred', 'chart', 'charts', 'chase', 'chased', 'chaser', 'chashew', 'chat', 'chatanooga', 'chattaooga', 'chatter', 'chatting', 'chauffeur', 'chaulky', 'chd', 'chea', 'cheap', 'cheapees', 'cheapen', 'cheapened', 'cheaper', 'cheapest', 'cheaply', 'cheapo', 'cheapskate', 'cheapy', 'cheat', 'cheated', 'cheating', 'cheats', 'check', 'checked', 'checking', 'checkout', 'checks', 'checkup', 'checkups', 'cheddar', 'cheddary', 'chedder', 'cheedar', 'cheeesecake', 'cheek', 'cheeke', 'cheekiness', 'cheeky', 'cheep', 'cheered', 'cheerio', 'cheerios', 'cheers', 'cheesburger', 'cheescake', 'cheese', 'cheeseburger', 'cheeseburgers', 'cheesecake', 'cheeses', 'cheesier', 'cheesy', 'cheeto', 'cheetoes', 'cheetos', 'cheez', 'cheeze', 'cheezits', 'cheezy', 'chef', 'chefs', 'chemex', 'chemical', 'chemicaled', 'chemically', 'chemicals', 'chemicalsantifreeze', 'chemist', 'chemistry', 'chemists', 'chemotherapy', 'cheney', 'cheri', 'cheribundi', 'cherries', 'cherry', 'cherrybrook', 'cherryland', 'cherrypharm', 'cherrys', 'chery', 'chesapeake', 'cheshire', 'chest', 'chester', 'chestnut', 'chestnuts', 'chevron', 'chew', 'chewability', 'chewable', 'chewables', 'chewed', 'cheweez', 'chewer', 'chewers', 'chewey', 'chewie', 'chewier', 'chewies', 'chewiness', 'chewing', 'chewlotta', 'chews', 'chewy', 'chewyer', 'chewys', 'chex', 'chi', 'chia', 'chiapas', 'chicago', 'chice', 'chichen', 'chick', 'chicken', 'chickens', 'chicklet', 'chickory', 'chickpea', 'chickpeas', 'chiclet', 'chiclets', 'chicory', 'chief', 'chiefly', 'chihuahua', 'chihuahuas', 'chik', 'child', 'childhood', 'childish', 'children', 'chile', 'chiles', 'chili', 'chilies', 'chilipepper', 'chilis', 'chill', 'chilled', 'chilli', 'chillies', 'chilling', 'chills', 'chilly', 'chilpote', 'chime', 'chimes', 'chimneys', 'chin', 'china', 'chinatown', 'chinchilla', 'chinese', 'chinks', 'chinotto', 'chiou', 'chip', 'chipmunk', 'chipmunks', 'chipotle', 'chipped', 'chipper', 'chipping', 'chips', 'chipsters', 'chis', 'chisel', 'chive', 'chives', 'chloe', 'chlorella', 'chlorhexidine', 'chloride', 'chlorinated', 'chlorine', 'chlorophyl', 'chlorophyll', 'cho', 'choc', 'chocaholic', 'chocalate', 'chocalatey', 'chocholate', 'chock', 'chocked', 'chockie', 'chocking', 'chocklate', 'choclate', 'choco', 'chocoalte', 'chocoate', 'chococino', 'chococolate', 'chocofudge', 'chocoholic', 'chocoholics', 'chocolat', 'chocolate', 'chocolatea', 'chocolately', 'chocolatemint', 'chocolates', 'chocolatety', 'chocolatey', 'chocolatieness', 'chocolatier', 'chocolaty', 'chocolatyness', 'chocolote', 'chocolove', 'chocovore', 'chocovores', 'chocs', 'chocula', 'choice', 'choices', 'choir', 'choise', 'choke', 'chokeable', 'choked', 'choking', 'cholera', 'cholesterol', 'cholestorol', 'cholestrol', 'choline', 'cholocate', 'chololates', 'cholula', 'chomp', 'chompers', 'chomping', 'chomps', 'chomsky', 'chon', 'chondritin', 'chondroitin', 'choo', 'choochoo', 'choose', 'chooses', 'choosing', 'choosy', 'chop', 'choplets', 'chopped', 'chopper', 'chopping', 'chops', 'chore', 'chores', 'chorizo', 'chorro', 'chose', 'chosen', 'chow', 'chowards', 'chowder', 'chowdown', 'chowed', 'chowing', 'chows', 'choxie', 'choy', 'choya', 'chreese', 'chrismas', 'christian', 'christie', 'christmas', 'christmasy', 'chromium', 'chronic', 'chronically', 'chronicles', 'chrysanthemum', 'chrysanthemums', 'chrystal', 'chrystals', 'chubby', 'chubs', 'chuck', 'chucked', 'chuckles', 'chug', 'chugged', 'chugging', 'chum', 'chun', 'chunk', 'chunked', 'chunkier', 'chunks', 'chunky', 'chupa', 'chups', 'church', 'churro', 'churros', 'chute', 'chutney', 'chutneys', 'chwey', 'chx', 'chz', 'cialde', 'ciclismo', 'cider', 'ciders', 'cie', 'cigar', 'cigarette', 'cigarettes', 'cigarrettes', 'cigars', 'cigs', 'cilantro', 'cilia', 'cilio', 'cinammon', 'cinamon', 'cinch', 'cincinnati', 'cinco', 'cinderella', 'cindition', 'cinnamaldehyde', 'cinnamomum', 'cinnamon', 'cinnamonity', 'cinnamons', 'cinnamony', 'cinnemon', 'cinnimon', 'cinque', 'cipirani', 'circle', 'circles', 'circling', 'circuit', 'circular', 'circulation', 'circumstances', 'circumvent', 'circumvented', 'circus', 'cis', 'cited', 'cities', 'citizen', 'citrate', 'citric', 'citris', 'citrus', 'citrusmint', 'city', 'cityroast', 'citywalk', 'civet', 'civil', 'civilization', 'ck', 'cl', 'clad', 'claeys', 'claim', 'claimed', 'claiming', 'claims', 'clam', 'clamato', 'clamp', 'clams', 'clamshell', 'clangs', 'clarification', 'clarified', 'clarify', 'clarifying', 'clarity', 'clark', 'clash', 'clashed', 'clasico', 'class', 'classes', 'classic', 'classical', 'classically', 'classico', 'classics', 'classified', 'classify', 'classmates', 'classroom', 'classrooms', 'classy', 'claudio', 'claw', 'claws', 'claxton', 'clay', 'clean', 'cleaned', 'cleaner', 'cleaners', 'cleanest', 'cleaning', 'cleanings', 'cleanliness', 'cleanly', 'cleans', 'cleanse', 'cleansed', 'cleanser', 'cleansers', 'cleanses', 'cleansing', 'cleanup', 'clear', 'clearance', 'cleared', 'clearer', 'clearing', 'clearish', 'clearly', 'clears', 'cleavers', 'clementine', 'clerk', 'clever', 'cliche', 'click', 'clicked', 'clicking', 'clicks', 'client', 'clients', 'clif', 'clifbar', 'cliff', 'cliffhanger', 'climate', 'climates', 'climb', 'climbing', 'cling', 'clings', 'clinic', 'clinical', 'clip', 'clipped', 'clipper', 'clipping', 'clippings', 'clock', 'clocks', 'clog', 'clogged', 'cloggers', 'clogging', 'clogs', 'cloride', 'close', 'closeby', 'closed', 'closely', 'closer', 'closes', 'closest', 'closet', 'closets', 'closing', 'closure', 'cloth', 'clothes', 'clothing', 'clots', 'clotted', 'cloud', 'clouded', 'cloudiness', 'clouds', 'cloudy', 'clove', 'clover', 'cloves', 'cloying', 'cloyingly', 'club', 'clubs', 'clue', 'clueless', 'clum', 'clump', 'clumped', 'clumping', 'clumps', 'clumpy', 'clumsy', 'cluster', 'clustered', 'clusters', 'clutched', 'clutter', 'cm', 'cm_cr_rev_prod_img', 'cm_cr_rev_prod_title', 'cme', 'cnn', 'cns', 'co2', 'coach', 'coagulant', 'coarse', 'coarsely', 'coarser', 'coast', 'coat', 'coated', 'coating', 'coatings', 'coats', 'coax', 'coaxed', 'cob', 'cobalamin', 'cobalt', 'cobbler', 'cobblestone', 'coca', 'cocacola', 'cocaine', 'cocido', 'cocina', 'cockapoo', 'cockatiel', 'cocker', 'cocktail', 'cocktails', 'coco', 'cocoa', 'cocoas', 'cocolate', 'coconut', 'coconuts', 'coconutty', 'cod', 'code', 'codes', 'coding', 'coeliacs', 'cofee', 'cofeemate', 'coffe', 'coffed', 'coffee', 'coffeee', 'coffeees', 'coffeeforever48', 'coffeeforless', 'coffeehouse', 'coffeehouses', 'coffeemaker', 'coffeemaking', 'coffeemate', 'coffeereview', 'coffees', 'coffemaker', 'coffes', 'coffess', 'coffey', 'cofffee', 'coffie', 'cognizant', 'coil', 'coiled', 'coin', 'coincide', 'coincidence', 'coincidental', 'coincidentally', 'coined', 'coins', 'coke', 'cokes', 'cola', 'colada', 'coladas', 'colandar', 'colander', 'colas', 'colavita', 'cold', 'colder', 'colds', 'cole', 'coleslaw', 'coli', 'colic', 'colicky', 'colitis', 'collander', 'collapse', 'collapsed', 'collapses', 'collard', 'collards', 'collars', 'collateral', 'colleague', 'colleagues', 'collect', 'collected', 'collectible', 'collecting', 'collection', 'collections', 'collective', 'collectors', 'collects', 'college', 'collie', 'collingwood', 'collor', 'cologne', 'colombia', 'colombian', 'colombina', 'colomiban', 'colon', 'colonels', 'colonic', 'colonies', 'colony', 'color', 'colorado', 'colorectal', 'colored', 'colorfastness', 'colorful', 'coloring', 'colorings', 'colorless', 'colors', 'colossal', 'colour', 'colouring', 'colours', 'columbia', 'columbian', 'columbians', 'columbus', 'column', 'columns', 'com', 'coma', 'comb', 'combat', 'combats', 'combed', 'combination', 'combinations', 'combine', 'combined', 'combines', 'combing', 'combining', 'combo', 'combos', 'come', 'comeback', 'comedians', 'comedic', 'comedies', 'comedy', 'comes', 'comfit', 'comfort', 'comfortable', 'comforter', 'comforting', 'comfusing', 'comic', 'coming', 'command', 'commanding', 'commands', 'commend', 'commendable', 'commendation', 'commended', 'commensurate', 'comment', 'commentary', 'commented', 'commenter', 'commenting', 'commentors', 'comments', 'commercial', 'commercially', 'commercials', 'comming', 'commissary', 'commission', 'commit', 'commited', 'commiting', 'commitment', 'committ', 'committed', 'committee', 'committing', 'commodities', 'commodity', 'common', 'commoners', 'commonly', 'communal', 'communicate', 'communicated', 'communication', 'communion', 'communism', 'communist', 'communities', 'community', 'commute', 'compact', 'compacted', 'compacting', 'compaction', 'compained', 'compaired', 'companies', 'companion', 'companions', 'company', 'companys', 'comparable', 'comparably', 'comparative', 'compare', 'compared', 'compares', 'compariable', 'comparible', 'comparing', 'comparision', 'comparison', 'comparisons', 'comparrison', 'comparsion', 'compartment', 'compatable', 'compatibility', 'compatible', 'comped', 'compelled', 'compelling', 'compels', 'compensate', 'compensated', 'compensates', 'compensation', 'compete', 'competed', 'competely', 'competent', 'competing', 'competition', 'competitive', 'competitively', 'competitor', 'competitors', 'complacent', 'complain', 'complained', 'complaining', 'complainingsince', 'complains', 'complaint', 'complaints', 'compleat', 'compleats', 'complely', 'complement', 'complementary', 'complemented', 'complementing', 'complements', 'complete', 'completed', 'completely', 'completes', 'completey', 'completing', 'completion', 'completly', 'complex', 'complexes', 'complexion', 'complexity', 'compliance', 'complicate', 'complicated', 'complications', 'complied', 'compliment', 'complimentary', 'complimented', 'complimenting', 'compliments', 'comply', 'component', 'components', 'composed', 'composition', 'compost', 'compostable', 'composte', 'composting', 'compot', 'compound', 'compounded', 'compounds', 'compplains', 'comprably', 'compress', 'compressed', 'compression', 'comprise', 'comprised', 'comprises', 'comprising', 'comprized', 'compromise', 'compromised', 'compsny', 'computed', 'computer', 'computing', 'comrade', 'comstock', 'comsumption', 'comunications', 'comvita', 'conagra', 'conasewers', 'conceal', 'concede', 'conceivably', 'conceived', 'concentrate', 'concentrated', 'concentrates', 'concentrating', 'concentration', 'concentrations', 'concept', 'conception', 'concepts', 'concern', 'concerned', 'concerning', 'concerns', 'concert', 'conch', 'concious', 'concistency', 'conclude', 'concluded', 'conclusion', 'conclusions', 'conclusive', 'concoction', 'concoctions', 'concord', 'concrete', 'concur', 'condemnation', 'condemned', 'condense', 'condensed', 'condescending', 'condidion', 'condiment', 'condiments', 'condition', 'conditioned', 'conditioner', 'conditioners', 'conditioning', 'conditions', 'condo', 'condoning', 'condroitin', 'conducive', 'conducted', 'conducting', 'cone', 'cones', 'conesto', 'confection', 'confectionary', 'confectioner', 'confectionery', 'confections', 'conference', 'confess', 'confessed', 'confessions', 'confidence', 'confident', 'configuration', 'confined', 'confinement', 'confirm', 'confirmation', 'confirmed', 'confirming', 'confirms', 'confit', 'conflict', 'conflicted', 'conflicting', 'conform', 'conformed', 'confort', 'confriming', 'confront', 'confronted', 'confuse', 'confused', 'confuses', 'confusing', 'confusion', 'confustion', 'congealed', 'congelled', 'congenial', 'congested', 'congestion', 'conglomerate', 'conglomerates', 'congos', 'congregate', 'congregation', 'congressperson', 'conical', 'conisseur', 'conisseurs', 'conjunction', 'conjure', 'conlusion', 'conn', 'connect', 'connected', 'connecticut', 'connection', 'connie', 'conniesewers', 'connivence', 'connoisseur', 'connoisseurs', 'connor', 'connotations', 'conpared', 'conquer', 'cons', 'consarned', 'conscience', 'conscientious', 'conscious', 'consciousness', 'consecutive', 'consecutively', 'consensus', 'consequence', 'consequences', 'consequently', 'conservancy', 'conservative', 'conservativeness', 'conserving', 'consider', 'considerable', 'considerably', 'considerate', 'consideration', 'considerations', 'considered', 'considerer', 'considering', 'considers', 'consignment', 'consist', 'consistancy', 'consistant', 'consisted', 'consistency', 'consistenly', 'consistensy', 'consistent', 'consistently', 'consisting', 'consists', 'consolation', 'console', 'consoled', 'consolidate', 'consomme', 'conspiracy', 'constant', 'constantly', 'constipated', 'constipating', 'constipation', 'constituent', 'constituents', 'constitutes', 'constitution', 'constricted', 'constructed', 'construction', 'consult', 'consulted', 'consulting', 'consumable', 'consumables', 'consumate', 'consume', 'consumed', 'consumer', 'consumeraffairs', 'consumerlab', 'consumers', 'consumes', 'consuming', 'consummate', 'consumming', 'consumption', 'contact', 'contactd', 'contacted', 'contacting', 'contacts', 'contadina', 'contain', 'containe', 'contained', 'container', 'container_', 'containers', 'containing', 'containment', 'contains', 'contaminant', 'contaminants', 'contaminate', 'contaminated', 'contaminating', 'contamination', 'contanier', 'contanimation', 'contasct', 'contemplate', 'contemplating', 'contence', 'contend', 'contender', 'contenders', 'content', 'contents', 'contest', 'contested', 'context', 'contianed', 'continental', 'continual', 'continually', 'continuation', 'continue', 'continued', 'continues', 'continuing', 'continuous', 'continuously', 'continuum', 'contipation', 'contorted', 'contra', 'contraceptives', 'contract', 'contracted', 'contraction', 'contractions', 'contracts', 'contractual', 'contradict', 'contradicted', 'contradiction', 'contradicts', 'contraindications', 'contraption', 'contrary', 'contrast', 'contrasting', 'contrasts', 'contribute', 'contributed', 'contributes', 'contributing', 'contribution', 'contributions', 'control', 'controllable', 'controlled', 'controlling', 'controls', 'controversial', 'controversy', 'convection', 'conveinance', 'conveinient', 'convenience', 'convenient', 'conveniently', 'conventional', 'conversation', 'conversations', 'conversely', 'conversion', 'convert', 'converted', 'converting', 'convey', 'conveyor', 'convience', 'convienence', 'convienent', 'convienient', 'convient', 'convince', 'convinced', 'convincing', 'convinence', 'convinient', 'convoluted', 'convulsions', 'coofee', 'cooing', 'cook', 'cookathon', 'cookbook', 'cookbooks', 'cooked', 'cooker', 'cookie', 'cookies', 'cooking', 'cookoff', 'cookout', 'cookouts', 'cooks', 'cookware', 'cool', 'coolatta', 'cooled', 'cooler', 'coolers', 'coolest', 'cooling', 'cools', 'cooly', 'coombs', 'coon', 'coonass', 'coons', 'coop', 'cooper', 'cooperative', 'coopering', 'coopolvia', 'coordinating', 'coordination', 'coozy', 'copco', 'cope', 'copetitively', 'copied', 'coping', 'copious', 'copper', 'coppola', 'copy', 'copyright', 'cord', 'cordless', 'core', 'corgi', 'coriander', 'cork', 'corked', 'corking', 'corks', 'corkscrew', 'corn', 'cornbread', 'corner', 'cornered', 'corners', 'cornfields', 'cornflakes', 'corngluten', 'cornichons', 'cornmeal', 'corns', 'cornstarch', 'cornucopia', 'cornuts', 'corny', 'coronary', 'corp', 'corporate', 'corporation', 'corporations', 'corps', 'corral', 'correct', 'corrected', 'correcting', 'correction', 'corrections', 'correctly', 'correlation', 'correspondance', 'corresponded', 'corresponding', 'corrosion', 'corrosive', 'corrosponded', 'corrugated', 'corrupt', 'cortef', 'corto', 'cos', 'cosequin', 'cosmetic', 'cosmetically', 'cosmetics', 'cosmic', 'cosmopolitan', 'cost', 'costa', 'costc', 'costco', 'costcoand', 'costcos', 'costing', 'costly', 'costo', 'costs', 'costume', 'costumers', 'cosumer', 'cote', 'cotechino', 'cottage', 'cotton', 'cottonseed', 'couch', 'couches', 'coudl', 'cough', 'coughing', 'couldn', 'couln', 'coulod', 'coumarin', 'counselor', 'count', 'counted', 'counter', 'counteract', 'counteracts', 'counterbalance', 'counterfeit', 'counterpart', 'counterparts', 'counters', 'countertop', 'countertops', 'counting', 'countless', 'countries', 'country', 'counts', 'county', 'couple', 'coupled', 'couples', 'coupon', 'coupons', 'courage', 'cours', 'course', 'court', 'courteous', 'courtesy', 'couscous', 'couse', 'cousin', 'cousins', 'coutons', 'cover', 'coverage', 'covered', 'covering', 'covers', 'coversion', 'cow', 'cowardly', 'cowboy', 'cowering', 'coworker', 'coworkers', 'coyly', 'coyotes', 'cpap', 'cpmplaints', 'cps', 'cr', 'crab', 'crabbers', 'crabby', 'crabgrass', 'crabmeat', 'crabs', 'crack', 'cracked', 'cracker', 'crackers', 'cracking', 'crackle', 'crackles', 'crackling', 'crackly', 'cracks', 'cracky', 'cradle', 'craft', 'crafted', 'craftmanship', 'crafts', 'craggy', 'craisins', 'craker', 'crammed', 'cramming', 'cramp', 'cramping', 'cramps', 'cranberries', 'cranberry', 'cranbery', 'crank', 'cranking', 'cranky', 'crannies', 'crap', 'crapload', 'crapper', 'crappichino', 'crappy', 'crapuccino', 'crash', 'crashed', 'crashes', 'crashing', 'crass', 'crate', 'crated', 'crates', 'crave', 'craves', 'craving', 'cravings', 'crawfish', 'crawford', 'crawl', 'crawled', 'crawlies', 'crawling', 'crayon', 'crayons', 'craze', 'crazy', 'cream', 'creamed', 'creamer', 'creamers', 'creamier', 'creamiest', 'creaminess', 'creampuff', 'creams', 'creamsicle', 'creamy', 'creased', 'create', 'created', 'creates', 'creating', 'creation', 'creations', 'creative', 'creator', 'creators', 'creature', 'creatures', 'credentials', 'credibility', 'credible', 'credibly', 'credit', 'credited', 'credits', 'credos', 'creek', 'creeking', 'creep', 'creeper', 'creeping', 'creeps', 'creepy', 'crema', 'cremas', 'creme', 'cremes', 'cremora', 'cremosa', 'cremoso', 'creole', 'crepe', 'crepes', 'crete', 'crevices', 'crew', 'crf', 'cridersville', 'cried', 'cries', 'crime', 'criminal', 'criminals', 'crimp', 'crimson', 'cringe', 'cringed', 'cringing', 'crinkle', 'crinklingly', 'criollo', 'cripes', 'cripsy', 'crisco', 'crisis', 'crisp', 'crispbread', 'crisped', 'crisper', 'crispier', 'crispies', 'crispiness', 'crispix', 'crispness', 'crisps', 'crispy', 'crispyness', 'cristal', 'criteria', 'critic', 'critical', 'critically', 'criticism', 'criticisms', 'criticize', 'criticized', 'critics', 'critique', 'critter', 'critters', 'croaked', 'croatia', 'croccatini', 'crock', 'crocker', 'crockets', 'crockpot', 'crohn', 'croissant', 'crooks', 'crop', 'crops', 'cross', 'crossed', 'crosses', 'crossfit', 'crossing', 'crossover', 'crotch', 'crouton', 'croutons', 'crowd', 'crowded', 'crown', 'crows', 'croyden', 'cruch', 'crucial', 'crud', 'cruddy', 'crude', 'cruel', 'cruelty', 'cruinart', 'cruise', 'cruising', 'crum', 'crumb', 'crumble', 'crumbled', 'crumbles', 'crumbling', 'crumbly', 'crumbs', 'crumby', 'crummy', 'crumple', 'crumpled', 'crunch', 'crunchberries', 'crunched', 'crunches', 'crunchie', 'crunchier', 'crunchies', 'crunchiest', 'crunchin', 'crunchiness', 'crunching', 'crunchy', 'cruncy', 'crusade', 'crusades', 'crush', 'crushed', 'crushing', 'crust', 'crustacean', 'crustaceans', 'crusted', 'crusts', 'crusty', 'crutch', 'cruz', 'crying', 'crystal', 'crystalline', 'crystallize', 'crystallized', 'crystallizes', 'crystally', 'crystals', 'cs', 'csa', 'csr', 'ct', 'cu', 'cub', 'cuban', 'cubbard', 'cube', 'cubed', 'cubes', 'cubicle', 'cubs', 'cucumber', 'cucumbers', 'cud', 'cue', 'cued', 'cuervo', 'cues', 'cuidinementor', 'cuirass', 'cuisinart', 'cuisine', 'cuisines', 'culinary', 'culligan', 'culmination', 'culpa', 'culprit', 'cult', 'cultivated', 'cultivation', 'cultural', 'culture', 'cultured', 'cultures', 'cumber', 'cumbersome', 'cumin', 'cup', 'cupbard', 'cupboard', 'cupboards', 'cupcake', 'cupcakes', 'cupful', 'cupless', 'cuplet', 'cuplets', 'cuppa', 'cupping', 'cups', 'curb', 'curbing', 'curbs', 'curbside', 'curd', 'curdle', 'curdled', 'cure', 'cured', 'cures', 'curing', 'curio', 'curiosity', 'curious', 'curiousity', 'curl', 'curled', 'curls', 'curly', 'currant', 'currants', 'current', 'currently', 'curried', 'curries', 'curry', 'currys', 'curse', 'cursed', 'cursing', 'cursive', 'cursor', 'cursory', 'curtains', 'curve', 'curved', 'curves', 'cushion', 'cushioning', 'cusp', 'custard', 'custards', 'custom', 'customarily', 'customary', 'customer', 'customers', 'customized', 'customs', 'cut', 'cute', 'cuteness', 'cutlet', 'cutout', 'cuts', 'cutter', 'cutting', 'cuttings', 'cuz', 'cv', 'cvs', 'cw', 'cyanogenic', 'cycle', 'cycles', 'cycling', 'cyclist', 'cyclone', 'cyclopentasiloxane', 'cylinder', 'cylinders', 'cyst', 'cystitis', 'cysts', 'cyto', 'cytomax', 'cytosport', 'd3', 'da', 'dab', 'dabble', 'dabling', 'dabur', 'dachshund', 'dachshunds', 'dachsund', 'dacvecc', 'dad', 'daddy', 'daewoo', 'dagoba', 'dah', 'daiichi', 'dailly', 'daily', 'daim', 'dainty', 'dairly', 'dairrhea', 'dairy', 'daisies', 'daisy', 'dakota', 'dal', 'dales', 'dalfour', 'dallas', 'dalmatian', 'dam', 'damage', 'damaged', 'damages', 'damaging', 'damamge', 'damamged', 'damanged', 'damn', 'damned', 'damp', 'dampen', 'damper', 'dampness', 'dan', 'dance', 'dances', 'dancing', 'dandelion', 'dandies', 'dandruff', 'dandy', 'dane', 'daneiele', 'danes', 'danese', 'dang', 'danged', 'danger', 'dangerous', 'dangerously', 'dangers', 'daniel', 'daniele', 'daniels', 'danish', 'dank', 'danny', 'dap', 'daquiri', 'dare', 'dared', 'darjeeing', 'darjeeling', 'dark', 'darkened', 'darkens', 'darker', 'darkest', 'darkly', 'darkness', 'darling', 'darlings', 'darn', 'darned', 'darning', 'darrell', 'das', 'daschund', 'daschunds', 'dash', 'dashed', 'dashes', 'dassant', 'dat', 'data', 'date', 'dated', 'dates', 'dating', 'daughers', 'daughter', 'daughters', 'daunting', 'dave', 'daves', 'david', 'davidson', 'davidsons', 'davinci', 'davis', 'dawned', 'day', 'daya', 'daybreak', 'daycare', 'daydream', 'daydreaming', 'dayglo', 'daym', 'days', 'daywatch', 'daz', 'dc', 'dd', 'ddt', 'dea', 'dead', 'deadline', 'deadly', 'deafening', 'deal', 'dealer', 'dealers', 'dealing', 'dealings', 'dealnews', 'deals', 'dealt', 'deamfields', 'dean', 'dear', 'dearer', 'dearly', 'death', 'deathly', 'deaths', 'debate', 'debated', 'debating', 'debbie', 'debilitating', 'debris', 'debuted', 'dec', 'decade', 'decadence', 'decadent', 'decades', 'decaf', 'decafe', 'decaff', 'decaffeinated', 'decaffeinating', 'decaffienated', 'decaffinated', 'decafs', 'decal', 'decalf', 'decay', 'decaying', 'dececco', 'decedent', 'deceided', 'deceit', 'deceitful', 'deceive', 'deceived', 'deceiving', 'december', 'decent', 'decently', 'deception', 'deceptive', 'deceptively', 'decibel', 'decide', 'decided', 'decidedly', 'decidely', 'decides', 'deciding', 'decieded', 'decieved', 'decision', 'decisions', 'deck', 'decker', 'declare', 'declared', 'decline', 'declined', 'declining', 'decomposed', 'decontamination', 'decor', 'decorate', 'decorated', 'decoratifs', 'decorating', 'decoration', 'decorations', 'decorative', 'decrease', 'decreased', 'decreases', 'decreasing', 'decribed', 'decription', 'dedicated', 'dedication', 'deduct', 'deducted', 'deducting', 'deduction', 'deed', 'deeds', 'deemed', 'deep', 'deepends', 'deeper', 'deeply', 'deer', 'deet', 'deetz', 'def', 'defatted', 'default', 'defcaf', 'defeat', 'defeated', 'defeating', 'defeats', 'defect', 'defective', 'defects', 'defended', 'defense', 'defferent', 'deffinetly', 'defiantely', 'defiantly', 'deficency', 'deficiencies', 'deficiency', 'deficient', 'definably', 'definately', 'definatly', 'define', 'defined', 'definent', 'definently', 'definetely', 'definetly', 'definiatly', 'definintly', 'definite', 'definitely', 'definition', 'definitions', 'definitive', 'definitively', 'definitley', 'definitly', 'definte', 'defintely', 'defintilty', 'deflate', 'deflated', 'deform', 'defraud', 'defray', 'defrost', 'defrosted', 'defroster', 'defy', 'defying', 'deg', 'degas', 'degeneration', 'degradable', 'degrade', 'degraded', 'degrades', 'degrading', 'degreaser', 'degree', 'degrees', 'degummed', 'dehidrated', 'dehydrated', 'dehydration', 'dehydrogenated', 'deja', 'del', 'delay', 'delayed', 'delays', 'delecious', 'delectable', 'delectably', 'delete', 'deleted', 'deleterious', 'deleting', 'deli', 'delia', 'deliberate', 'deliberately', 'delicacies', 'delicacy', 'delicate', 'delicately', 'delicateness', 'delice', 'delicioso', 'delicious', 'deliciously', 'deliciousness', 'deliciuos', 'delicoius', 'delicous', 'delievery', 'delight', 'delighted', 'delightful', 'delightfully', 'delights', 'delinquent', 'delirious', 'deliriously', 'delis', 'deliscious', 'delish', 'delite', 'delites', 'deliver', 'delivered', 'deliveries', 'delivering', 'delivers', 'delivery', 'delivery_', 'delmonte', 'delobas', 'delonghi', 'delt', 'delta', 'deltamethrin', 'deluca', 'delude', 'deluded', 'delusional', 'deluxe', 'demand', 'demanded', 'demanding', 'demands', 'demeaning', 'dementia', 'demi', 'demise', 'demitasse', 'democratic', 'demographic', 'demographics', 'demolishing', 'demons', 'demonstrate', 'demonstrated', 'demonstrates', 'demonstrating', 'demonstration', 'demote', 'denali', 'denied', 'denmark', 'dennis', 'denny', 'denoted', 'denoting', 'dense', 'densely', 'denseness', 'denser', 'denshi', 'density', 'dent', 'denta', 'dental', 'dentals', 'dentashield', 'dentastix', 'dente', 'dented', 'dentie', 'dentine', 'denting', 'dentist', 'dentists', 'dento', 'dents', 'dentures', 'deny', 'denying', 'deoderant', 'deoderants', 'deodorant', 'deodorants', 'deodorised', 'deodorize', 'deodorized', 'departed', 'department', 'departments', 'departs', 'departure', 'depend', 'dependable', 'dependably', 'dependant', 'depended', 'dependent', 'depending', 'depends', 'depicted', 'depicting', 'depicts', 'deplete', 'depleted', 'depletes', 'deplorable', 'deplore', 'deployed', 'deposit', 'deposits', 'depot', 'depressed', 'depressing', 'depression', 'deprived', 'deprives', 'depriving', 'dept', 'depth', 'depths', 'deride', 'derisious', 'derisively', 'derivative', 'derived', 'derives', 'dermatitis', 'desapointed', 'desappointed', 'descale', 'descaling', 'descending', 'descent', 'described', 'describes', 'describing', 'descript', 'description', 'descriptions', 'descriptive', 'descripton', 'desecration', 'desensitized', 'desert', 'deserts', 'deserve', 'deserved', 'deservedly', 'deserves', 'deserving', 'desiccated', 'design', 'designated', 'designation', 'designed', 'designer', 'designers', 'desirable', 'desire', 'desired', 'desires', 'desiring', 'desirous', 'desk', 'deskpro', 'desks', 'desktop', 'desolve', 'desolves', 'desparate', 'desparately', 'desperate', 'desperately', 'desperation', 'despise', 'despised', 'despite', 'dessert', 'desserts', 'destestable', 'destination', 'destined', 'destroy', 'destroyed', 'destroyer', 'destroying', 'destroys', 'destructible', 'destructive', 'detach', 'detached', 'detailed', 'detailing', 'details', 'detalied', 'detangling', 'detect', 'detectable', 'detected', 'detecting', 'detective', 'detector', 'deter', 'detergent', 'detergents', 'deteriorated', 'deteriorating', 'determine', 'determined', 'determines', 'determining', 'deterrence', 'deterring', 'detest', 'detox', 'detoxification', 'detoxifying', 'detoxing', 'detract', 'detracts', 'detriment', 'detriments', 'detritus', 'detroit', 'dev', 'devastated', 'devastating', 'develop', 'develope', 'developed', 'developing', 'development', 'develops', 'deviation', 'deviations', 'device', 'devices', 'devil', 'deviled', 'devils', 'deviously', 'devise', 'devised', 'devoid', 'devolved', 'devonsheer', 'devote', 'devoted', 'devotee', 'devotees', 'devoting', 'devour', 'devoured', 'devouring', 'devours', 'devout', 'dew', 'deworm', 'dexterity', 'dextrin', 'dextrose', 'dfa', 'dg', 'dh', 'dha', 'dhahran', 'dhl', 'di', 'dia', 'diabetes', 'diabetic', 'diabetics', 'diacetyl', 'diageo', 'diagnoised', 'diagnose', 'diagnosed', 'diagnosis', 'diagonal', 'diagonally', 'dialog', 'diameter', 'diamond', 'diamondpetrecall', 'diamonds', 'diaper', 'diapers', 'diaphoretics', 'diapointing', 'diappeared', 'diappointed', 'diappointment', 'diarhhea', 'diaria', 'diarrea', 'diarreha', 'diarrhea', 'dicalcium', 'dicamba', 'dice', 'diced', 'dices', 'dick', 'dicontinued', 'did', 'diddly', 'diddn', 'didn', 'didnot', 'didnt', 'die', 'diection', 'died', 'diedrich', 'diego', 'dies', 'diet', 'dietary', 'dieter', 'dieters', 'dietician', 'dieticians', 'dieting', 'diets', 'diferentes', 'diferently', 'diff', 'differ', 'differant', 'differed', 'difference', 'differences', 'different', 'differential', 'differentials', 'differentiate', 'differentiator', 'differently', 'differenty', 'differing', 'differrence', 'differs', 'difficult', 'difficulties', 'difficulty', 'diffiult', 'diffrent', 'difftrent', 'diffuse', 'dig', 'digest', 'digestable', 'digested', 'digestible', 'digesting', 'digestion', 'digestive', 'digests', 'digger', 'diggers', 'digging', 'digit', 'digital', 'diglycerides', 'dignity', 'digress', 'digs', 'digusting', 'dijon', 'dijons', 'dilated', 'dilaurenti', 'dilaurentis', 'dilemma', 'dilemmas', 'dilettante', 'diligence', 'diligent', 'dill', 'dills', 'dilluting', 'dilmah', 'dilute', 'diluted', 'dilutes', 'diluting', 'dilution', 'dim', 'dime', 'dimension', 'dimensional', 'dimensions', 'dimentional', 'dimethiconol', 'dimethylamine', 'dimethylformamide', 'diminish', 'diminished', 'diminishes', 'dimitri', 'dine', 'diner', 'diners', 'ding', 'dingleberry', 'dingo', 'dingos', 'dings', 'dining', 'dink', 'dinky', 'dinner', 'dinners', 'dino', 'dinosaur', 'dinty', 'dioxide', 'dip', 'diplomatic', 'dipotassium', 'dipped', 'dippie', 'dipping', 'dips', 'dire', 'direct', 'directed', 'direction', 'directional', 'directions', 'directly', 'director', 'directs', 'dirt', 'dirtiest', 'dirty', 'disability', 'disaccharide', 'disadvantage', 'disadvantages', 'disagree', 'disagreement', 'disallowing', 'disapointed', 'disapointing', 'disapointment', 'disapoints', 'disappear', 'disappeared', 'disappearing', 'disappears', 'disappionted', 'disappoint', 'disappointed', 'disappointing', 'disappointingly', 'disappointment', 'disappointments', 'disappoints', 'disappoitned', 'disapponted', 'disassembled', 'disassemblies', 'disassembly', 'disaster', 'disasterous', 'disastrous', 'disbelief', 'disburses', 'disc', 'discaimer', 'discard', 'discarded', 'discern', 'discernable', 'discerned', 'discernible', 'discerning', 'discernment', 'discharge', 'discipline', 'disciplined', 'disciplining', 'disclaimer', 'disclose', 'disclosed', 'disclosing', 'disclosure', 'disco', 'discolor', 'discoloration', 'discolored', 'discolouration', 'discoloured', 'discomfort', 'disconcerting', 'disconnect', 'discontinue', 'discontinued', 'discontinuing', 'discount', 'discounted', 'discounter', 'discounting', 'discounts', 'discourage', 'discouraged', 'discouraging', 'discourse', 'discover', 'discovered', 'discovering', 'discovery', 'discrepancy', 'discribe', 'discriminate', 'discriminating', 'discrimination', 'discription', 'discs', 'discuss', 'discussed', 'discussing', 'discussion', 'discussions', 'discusting', 'diseae', 'disease', 'diseased', 'diseases', 'disect', 'disenfranchized', 'disfigured', 'disformed', 'disgruntling', 'disguise', 'disguised', 'disgust', 'disgusted', 'disgusting', 'disgustingly', 'dish', 'disheartened', 'disheartening', 'dished', 'dishes', 'dishonest', 'dishonesty', 'dishonors', 'dishtowel', 'dishwasher', 'dishwashers', 'dishwashing', 'dishwater', 'disillusioned', 'disinegrating', 'disinfect', 'disintegrate', 'disintegrates', 'disinterest', 'disinterested', 'disiving', 'disk', 'disks', 'disleading', 'dislike', 'disliked', 'dislikes', 'disliking', 'dislodge', 'dislodged', 'dismal', 'dismay', 'dismayed', 'dismiss', 'dismissing', 'disney', 'disodium', 'disolve', 'disolved', 'disolves', 'disoovle', 'disorder', 'disorders', 'disparaging', 'disparity', 'dispassionate', 'dispense', 'dispensed', 'dispenser', 'dispensers', 'dispenses', 'dispensing', 'disperse', 'displaced', 'display', 'displayed', 'displaying', 'displays', 'displaysia', 'displeased', 'displeasing', 'displeasure', 'disposable', 'disposacups', 'disposal', 'dispose', 'disposebale', 'disposed', 'disposing', 'disposition', 'disproportionate', 'disproportionately', 'dispurse', 'disputandum', 'dispute', 'disputed', 'disqualify', 'disregard', 'disregarded', 'disreguard', 'disrespect', 'disrupted', 'disruption', 'disruptions', 'disruptors', 'dissapionted', 'dissapoint', 'dissapointed', 'dissapointing', 'dissapointment', 'dissapoints', 'dissappointed', 'dissappointing', 'dissappointment', 'dissatified', 'dissatisfaction', 'dissatisfied', 'dissecting', 'dissenter', 'dissipate', 'dissipated', 'dissipates', 'dissolve', 'dissolved', 'dissolves', 'dissolving', 'distance', 'distant', 'distantly', 'distaste', 'distended', 'distict', 'distillation', 'distilled', 'distiller', 'distillers', 'distination', 'distinct', 'distinction', 'distinctive', 'distinctively', 'distinctly', 'distinguish', 'distinguishable', 'distinguished', 'distinguishes', 'distinguishing', 'distorted', 'distorts', 'distract', 'distracted', 'distracting', 'distraction', 'distraught', 'distress', 'distressed', 'distribute', 'distributed', 'distributer', 'distributing', 'distribution', 'distributor', 'distributors', 'district', 'distruction', 'disturb', 'disturbed', 'disturbing', 'disturbingly', 'disturbs', 'disulfides', 'disuse', 'ditch', 'ditzy', 'diuretic', 'dive', 'diversified', 'diversion', 'divert', 'divets', 'divide', 'divided', 'dividends', 'divider', 'dividers', 'dividing', 'divine', 'divinity', 'division', 'divorce', 'divvie', 'diy', 'diyagama', 'dizziness', 'dizzy', 'dizzying', 'dj', 'dk', 'dl', 'dl11', 'dna', 'dnorvell', 'doable', 'doberman', 'dobie', 'dobladas', 'dock', 'docked', 'docking', 'doctor', 'doctored', 'doctoring', 'doctors', 'documentation', 'documented', 'documenting', 'documents', 'dodge', 'dodgers', 'dodgy', 'doe', 'doen', 'does', 'doesn', 'doesnt', 'dog', 'dogfood', 'dogfoodadvisor', 'dogfoodanalysis', 'doggie', 'doggiemunchies', 'doggies', 'doggone', 'doggy', 'doghouse', 'dogs', 'dogsit', 'dogswell', 'dogue', 'dogwells', 'doh', 'doin', 'doing', 'dolce', 'dolcetto', 'dole', 'doll', 'dollar', 'dollars', 'dollop', 'dolores', 'dolphin', 'domata', 'domatcha', 'dome', 'domestic', 'domething', 'dominance', 'dominant', 'dominate', 'dominated', 'dominates', 'dominicks', 'domino', 'don', 'donate', 'donated', 'donating', 'donation', 'dongs', 'dongsan', 'donna', 'donot', 'dont', 'dontaed', 'donut', 'donuts', 'doo', 'doodle', 'doodles', 'doomed', 'door', 'doors', 'doorstep', 'doorsteps', 'doorstop', 'doozies', 'dop', 'dopamine', 'dorado', 'doritas', 'doritos', 'dorm', 'dormant', 'dorothy', 'dorset', 'dosage', 'dosages', 'dose', 'dosed', 'dosen', 'doses', 'dosing', 'dosn', 'dot', 'dots', 'dotted', 'dotting', 'doubble', 'double', 'doubled', 'doubles', 'doubleshot', 'doubling', 'doublt', 'doubt', 'doubtable', 'doubted', 'doubtful', 'doubts', 'doug', 'dough', 'doughnut', 'doughnuts', 'doughs', 'douglas', 'doused', 'dousing', 'douwe', 'dove', 'dowels', 'downed', 'downfall', 'downfalls', 'downgrade', 'downgraded', 'downgrading', 'downhill', 'downing', 'downplay', 'downright', 'downs', 'downside', 'downsides', 'downsized', 'downsizing', 'downtown', 'downturn', 'doxie', 'doxies', 'doze', 'dozen', 'dozens', 'dp', 'dr', 'draft', 'drag', 'dragged', 'dragging', 'dragon', 'drags', 'drain', 'drained', 'draining', 'drains', 'drake', 'dram', 'dramatic', 'dramatically', 'drank', 'drapes', 'drastic', 'drastically', 'drasticly', 'draw', 'drawback', 'drawbacks', 'drawdown', 'drawer', 'drawers', 'drawing', 'drawn', 'draws', 'drbronner', 'dread', 'dreadful', 'dreading', 'dream', 'dreamed', 'dreamfield', 'dreamfields', 'dreaming', 'dreams', 'dredded', 'dredge', 'dreg', 'dregs', 'drench', 'drenched', 'dress', 'dressed', 'dressing', 'dressings', 'drew', 'dribble', 'dribbled', 'dribbly', 'dried', 'driedcarrots', 'driedpeas', 'drier', 'dries', 'drift', 'drifted', 'drill', 'drilled', 'drink', 'drinkability', 'drinkable', 'drinked', 'drinker', 'drinkers', 'drinking', 'drinks', 'drip', 'dripped', 'dripping', 'drippings', 'drippy', 'drips', 'drive', 'driven', 'driver', 'drives', 'driveway', 'driving', 'drizzeled', 'drizzle', 'drizzled', 'dromedary', 'drooling', 'droop', 'drop', 'droplets', 'dropped', 'dropper', 'dropping', 'droppings', 'drops', 'droste', 'drought', 'drove', 'drown', 'drowned', 'drowns', 'drowsiness', 'drowsy', 'drug', 'drugged', 'drugs', 'drugstore', 'drugstore911', 'drugstores', 'drum', 'drunk', 'drv', 'dry', 'dryer', 'drying', 'dryish', 'dryness', 'drywall', 'ds11', 'dsh', 'dt', 'dtp', 'du', 'duane', 'dubbed', 'dubble', 'dubious', 'duck', 'ducking', 'duct', 'dud', 'dude', 'duds', 'duff', 'dug', 'duh', 'dukan', 'dulce', 'dull', 'dulse', 'dumb', 'dumbbells', 'dumbed', 'dumbells', 'dumbfounded', 'dumblings', 'dummy', 'dump', 'dumped', 'dumping', 'dumpling', 'dumplings', 'dumpong', 'dumps', 'dumpster', 'dunbar', 'duncan', 'dundee', 'dunk', 'dunkable', 'dunked', 'dunkers', 'dunkin', 'dunkinesque', 'dunking', 'dunno', 'duodenitis', 'duped', 'duper', 'duplicate', 'duplicates', 'duplications', 'dura', 'durability', 'durable', 'durables', 'durachew', 'duram', 'duration', 'durian', 'durkee', 'durned', 'dust', 'dustbin', 'dustcan', 'dusted', 'duster', 'dusting', 'dustless', 'dusts', 'dusty', 'dutch', 'dutched', 'dutching', 'duties', 'duty', 'duvet', 'dv', 'dvd', 'dvds', 'dvm', 'dwarf', 'dwell', 'dweller', 'dwelling', 'dwindled', 'dwindles', 'dye', 'dyed', 'dyes', 'dyi', 'dying', 'dynamic', 'dynamo', 'dynasty', 'dynomite', 'dysfunction', 'e150c', 'e500', 'e503', 'ea', 'eachother', 'eacute', 'eager', 'eagerly', 'eagle', 'ear', 'earl', 'earlier', 'early', 'earn', 'earned', 'earnest', 'earnestly', 'earning', 'earns', 'ears', 'earth', 'earthborn', 'earthier', 'earthiness', 'earthly', 'earthquake', 'earthquakes', 'earths', 'earthshift', 'earthshiftproducts', 'earthworm', 'earthworms', 'earthy', 'eas', 'ease', 'eased', 'easel', 'eases', 'easier', 'easiest', 'easily', 'easiness', 'easing', 'easly', 'east', 'easter', 'eastern', 'easy', 'eat', 'eatability', 'eatable', 'eaten', 'eater', 'eaters', 'eatery', 'eatin', 'eating', 'eats', 'eatting', 'eazier', 'eb', 'ebay', 'eboost', 'ecc', 'eccentricities', 'echinacea', 'echo', 'echoed', 'eclairs', 'eclipse', 'eclipses', 'eco', 'ecological', 'ecologically', 'economic', 'economical', 'economically', 'economy', 'ecopad', 'ecstasy', 'ecstatic', 'ect', 'ecuador', 'ecuadorian', 'eczema', 'ed', 'edamame', 'edc', 'edema', 'eden', 'edge', 'edges', 'edgier', 'edible', 'edibles', 'edit', 'edited', 'editing', 'edition', 'editions', 'edmond', 'edna', 'educate', 'educated', 'educational', 'edward', 'eeek', 'eel', 'eensy', 'eerie', 'eewww', 'ef', 'efa', 'efagold', 'effect', 'effected', 'effecting', 'effective', 'effectively', 'effectiveness', 'effects', 'effendi', 'effervescence', 'effete', 'efficacy', 'efficiencies', 'efficiency', 'efficient', 'efficiently', 'effing', 'effor', 'effort', 'effortless', 'effortlessly', 'efforts', 'egbert', 'egberts', 'egg', 'eggnog', 'eggnogg', 'eggnoggin', 'eggo', 'eggplant', 'eggs', 'ego', 'egplant', 'egrave', 'egyptian', 'eh', 'ehh', 'eiffeltower', 'eighteen', 'eighth', 'eighties', 'eighty', 'eincorn', 'einkorn', 'einsteins', 'eis', 'eitherway', 'eject', 'ekanuba', 'eko', 'ekobrew', 'el', 'elastic', 'elasticity', 'elated', 'elbow', 'elbows', 'eldeberry', 'elderberries', 'elderberry', 'elderflower', 'elderly', 'elect', 'electing', 'electric', 'electrical', 'electrician', 'electricity', 'electrocuted', 'electrolyte', 'electrolytes', 'electronet', 'electronic', 'electronics', 'elegant', 'element', 'elementary', 'elements', 'eletrolytes', 'elevate', 'elevated', 'elevating', 'elfin', 'elfman', 'elicit', 'elicits', 'eligible', 'eliminate', 'eliminated', 'eliminates', 'eliminating', 'elimination', 'eliot', 'elite', 'elixir', 'elk', 'elkhound', 'elkhounds', 'ella', 'ellagic', 'ellen', 'ellent', 'ellie', 'elm', 'elmininate', 'elmo', 'eluded', 'eludes', 'elusive', 'elves', 'elvis', 'em', 'email', 'emailed', 'emailing', 'emails', 'embarassed', 'embarassing', 'embarassingly', 'embaressed', 'embark', 'embarrasing', 'embarrassed', 'embarrasses', 'embarrassing', 'embassy', 'embedded', 'embittered', 'emblazoned', 'embossed', 'embracing', 'embroidered', 'emerald', 'emerge', 'emerged', 'emergen', 'emergencies', 'emergency', 'emergent', 'emerges', 'emerging', 'emeril', 'emerill', 'emerils', 'emigrated', 'emiril', 'emission', 'emissions', 'emitting', 'emk6', 'emma', 'emmenagogues', 'emorgan', 'emotionally', 'empanadas', 'empathetic', 'emperor', 'emphasis', 'emphasize', 'emphasizes', 'employ', 'employed', 'employee', 'employees', 'employing', 'emptied', 'empties', 'emptor', 'emptying', 'emrald', 'emril', 'emu', 'emulate', 'emulating', 'emulcified', 'emulsified', 'emulsifier', 'emulsifiers', 'emulsifies', 'emulsion', 'en', 'enable', 'enabled', 'enables', 'enacted', 'enamel', 'encased', 'encasing', 'enchanted', 'enchilada', 'enchiladas', 'enclosed', 'enclosure', 'encoded', 'encounter', 'encountered', 'encourage', 'encouraged', 'encouragement', 'encouraging', 'encouter', 'encrease', 'encrusted', 'end', 'end_of_the_skype_highlighting', 'endangered', 'endcap', 'endeavor', 'endeavors', 'ended', 'ending', 'endless', 'endocrine', 'endorse', 'endorsed', 'endorsement', 'endorsers', 'endorsing', 'ends', 'endurance', 'endure', 'endurox', 'enegry', 'enemas', 'enemies', 'enemy', 'enenews', 'ener', 'energetic', 'energies', 'energize', 'energized', 'energizer', 'energizers', 'energizing', 'energy', 'energyboost', 'enery', 'enfacare', 'enfamil', 'enforced', 'engage', 'engagement', 'engages', 'engine', 'engineer', 'engineered', 'engineering', 'engineers', 'engish', 'england', 'english', 'engry', 'enhance', 'enhanced', 'enhancement', 'enhancer', 'enhancers', 'enhances', 'enhancing', 'enjoy', 'enjoyable', 'enjoyed', 'enjoying', 'enjoyment', 'enjoys', 'enjpoy', 'enlarge', 'enlarged', 'enlightened', 'enlightening', 'enlightenment', 'enlist', 'enoough', 'enopugh', 'enormous', 'enougha', 'enought', 'enouph', 'enoz', 'enquiries', 'enrich', 'enriched', 'enriching', 'ensues', 'ensure', 'ensured', 'ensures', 'entails', 'entenmann', 'enter', 'enteral', 'entered', 'entering', 'enterococcus', 'enterprises', 'enters', 'entertain', 'entertained', 'entertaining', 'entertainment', 'enthralled', 'enthused', 'enthusiasm', 'enthusiast', 'enthusiastic', 'enthusiastically', 'enthusiatic', 'entice', 'enticed', 'enticing', 'enticingly', 'entire', 'entired', 'entirely', 'entirelypets', 'entirety', 'entr', 'entrails', 'entree', 'entrees', 'entrenched', 'entrepreneur', 'entries', 'entry', 'enuf', 'enumerate', 'envelop', 'envelope', 'envelopes', 'enveloping', 'envelops', 'envied', 'envious', 'envirkidz', 'envirokids', 'envirokidz', 'environment', 'environmental', 'environmentally', 'environments', 'envision', 'envisioned', 'envorment', 'enzimes', 'enzymatic', 'enzyme', 'enzymes', 'epa', 'epazote', 'epcot', 'ephedra', 'ephemere', 'epic', 'epically', 'epicurien', 'epidemic', 'epidemiology', 'epidural', 'episode', 'episodes', 'epitome', 'epliepsy', 'epresso', 'epstein', 'epxpensive', 'equal', 'equaling', 'equally', 'equals', 'equate', 'equation', 'equilalent', 'equilavant', 'equilent', 'equine', 'equipment', 'equipmnet', 'equitable', 'equity', 'equivalent', 'equivalents', 'er', 'era', 'eradicated', 'erase', 'erased', 'eraser', 'erectile', 'erewhon', 'ergh', 'ergo', 'ergonomically', 'erh', 'erhs', 'eric', 'erica', 'erin', 'erithritol', 'eriythritol', 'erkel', 'ernie', 'err', 'errands', 'erratic', 'erring', 'erroneously', 'error', 'errors', 'ers', 'ersatz', 'erupt', 'erupting', 'eruption', 'ery', 'erythitol', 'erythritol', 'erythurbate', 'escalated', 'escape', 'escaped', 'escapees', 'escapes', 'escaping', 'escargot', 'escargots', 'ese', 'eskimo', 'esophagitis', 'esophagus', 'esp', 'espcially', 'especially', 'espresione', 'espresso', 'espressos', 'esque', 'essay', 'essence', 'essences', 'essentia', 'essential', 'essentially', 'essentials', 'esspresso', 'est', 'established', 'establishments', 'estate', 'estates', 'esthers', 'esthetics', 'estimate', 'estimated', 'estimates', 'estimating', 'estimation', 'estrogen', 'estrogenic', 'estrogens', 'et', 'eta', 'etched', 'eternal', 'eternity', 'ethe', 'etheldreda', 'etheopian', 'ethic', 'ethical', 'ethically', 'ethics', 'ethiopia', 'ethiopian', 'ethnic', 'ethoxyquin', 'eto', 'eucalyptus', 'eugenie', 'euhh', 'eukaneuba', 'eukanuba', 'euphemism', 'euphemisms', 'euphoria', 'euphoric', 'eureka', 'euromart', 'europa', 'europe', 'european', 'eva', 'evades', 'evaluate', 'evaluating', 'evaluation', 'evan', 'evans', 'evap', 'evaporate', 'evaporated', 'evaporates', 'evco', 'eve', 'evenflo', 'evening', 'evenings', 'evenly', 'evens', 'event', 'eventhought', 'events', 'eventually', 'everbody', 'everglades', 'everlasting', 'everone', 'everthing', 'everybodies', 'everybody', 'everyday', 'everyother', 'everythign', 'everytime', 'evey', 'eveybody', 'evian', 'evidence', 'evidenced', 'evident', 'evidently', 'evil', 'evo', 'evoke', 'evolution', 'evolved', 'evoo', 'ew', 'ewww', 'ewwww', 'ewwwwww', 'ewwwwwwwwwwwwwwwwwe', 'ex', 'exacerbate', 'exacerbates', 'exacly', 'exact', 'exacting', 'exactly', 'exaggerated', 'exaggerating', 'exaggeration', 'exam', 'examination', 'examine', 'examined', 'examining', 'example', 'examples', 'exasperating', 'exbold', 'exc', 'excactly', 'excape', 'exceed', 'exceeded', 'exceeding', 'exceedingly', 'exceeds', 'exceited', 'excelent', 'excellant', 'excellence', 'excellent', 'excelsteel', 'exception', 'exceptional', 'exceptionally', 'excerpt', 'excess', 'excessive', 'excessively', 'exchange', 'exchangeable', 'exchanges', 'exchanging', 'excite', 'excited', 'excitedly', 'excitement', 'excites', 'exciting', 'exclaimed', 'exclude', 'excluded', 'excluding', 'exclusion', 'exclusive', 'exclusively', 'excrete', 'excretions', 'excruciating', 'excuse', 'excuses', 'exection', 'executed', 'execution', 'executive', 'executives', 'exellent', 'exemplary', 'exemplifies', 'exempt', 'exercise', 'exercised', 'exercises', 'exercising', 'exersice', 'exertion', 'exeter', 'exfoliant', 'exfoliating', 'exhale', 'exhaust', 'exhausted', 'exhausting', 'exhaustion', 'exhaustive', 'exhibited', 'exhilirating', 'exhorbitant', 'exist', 'existance', 'existant', 'existence', 'existent', 'existing', 'existo', 'exists', 'exited', 'exiting', 'exorbitant', 'exorcist', 'exotic', 'exp', 'expand', 'expanded', 'expands', 'expanse', 'expansion', 'expansive', 'expat', 'expect', 'expectation', 'expectations', 'expected', 'expecting', 'expects', 'expedited', 'expeditious', 'expel', 'expelled', 'expeller', 'expencive', 'expenditure', 'expense', 'expenses', 'expensive', 'expensiveness', 'experation', 'expereience', 'experience', 'experienced', 'experiences', 'experiencing', 'experiment', 'experimental', 'experimentation', 'experimented', 'experimenting', 'experiments', 'experiwence', 'expert', 'expertise', 'experts', 'expiration', 'expire', 'expired', 'expires', 'expiring', 'expiry', 'expl', 'explain', 'explaination', 'explained', 'explaing', 'explaining', 'explains', 'explanation', 'explanatory', 'explicit', 'explicitly', 'explode', 'exploded', 'explodes', 'exploding', 'exploitation', 'exploited', 'exploits', 'explored', 'explorer', 'explores', 'exploring', 'explosion', 'explosive', 'expo', 'export', 'exporting', 'expose', 'exposed', 'exposing', 'exposure', 'express', 'expressed', 'expressing', 'expresso', 'expressos', 'expurgated', 'exquisite', 'exquisitely', 'exspensive', 'extemely', 'extend', 'extended', 'extender', 'extends', 'extension', 'extensive', 'extensively', 'extent', 'exterior', 'exterminate', 'exterminated', 'external', 'extinct', 'extinguish', 'extinquished', 'extolled', 'extra', 'extract', 'extractd', 'extracted', 'extracting', 'extraction', 'extracts', 'extraneous', 'extraordinarily', 'extraordinary', 'extras', 'extravagant', 'extreme', 'extremelly', 'extremely', 'extremes', 'extremly', 'extricate', 'extruded', 'exuberant', 'exuse', 'exxercises', 'ey', 'eya', 'eye', 'eyeball', 'eyeballing', 'eyeballs', 'eyebrows', 'eyed', 'eyeed', 'eyeing', 'eyelid', 'eyelids', 'eyes', 'ez', 'ezekiel', 'fab', 'fabbri', 'fabric', 'fabulous', 'face', 'facebook', 'faced', 'facemask', 'facer', 'faces', 'facets', 'facial', 'facilitates', 'facilitie', 'facilities', 'facility', 'facing', 'facsimile', 'fact', 'factor', 'factories', 'factoring', 'factors', 'factory', 'facts', 'faculty', 'fad', 'fade', 'faded', 'fades', 'fading', 'faecium', 'faerie', 'fage', 'fahrenheit', 'faidra', 'fail', 'failed', 'failing', 'fails', 'failure', 'failures', 'faint', 'faintest', 'faintly', 'fair', 'fairbanks', 'faireness', 'fairly', 'fairness', 'fairs', 'faith', 'faithful', 'faithfully', 'fajitas', 'fake', 'fakely', 'faker', 'fakey', 'falafel', 'falcon', 'falconi', 'falim', 'fall', 'fallen', 'falling', 'falls', 'false', 'falsely', 'falvorful', 'fam', 'fame', 'familar', 'familiar', 'familiarity', 'families', 'familiy', 'family', 'famnily', 'famous', 'fan', 'fanatic', 'fanatics', 'fancier', 'fancy', 'fanfare', 'fannie', 'fans', 'fanta', 'fantasies', 'fantastic', 'fantasticly', 'fantasy', 'faq', 'faqs', 'far', 'fare', 'farfallone', 'fargiano', 'farinata', 'farm', 'farmed', 'farmer', 'farmers', 'farmhouse', 'farming', 'farmland', 'farms', 'fart', 'farther', 'farts', 'fascinating', 'fascination', 'fashion', 'fashioned', 'fast', 'fastachi', 'fasten', 'faster', 'fastest', 'fasting', 'fat', 'fatal', 'fate', 'fated', 'father', 'fathers', 'fathom', 'fatigue', 'fatigued', 'fats', 'fatted', 'fattening', 'fatter', 'fattier', 'fatty', 'fault', 'faults', 'faulty', 'fauna', 'faux', 'fav', 'fava', 'fave', 'faves', 'favor', 'favorable', 'favorably', 'favoraite', 'favored', 'favorite', 'favorites', 'favors', 'favourable', 'favourite', 'favourites', 'fawkes', 'fazermints', 'fcc', 'fd', 'fda', 'fe', 'fear', 'feared', 'fearful', 'fears', 'feasable', 'feasible', 'feast', 'feat', 'feather', 'featherlight', 'feathers', 'feature', 'featured', 'features', 'featurettes', 'featuring', 'feb', 'february', 'febuary', 'fecal', 'feces', 'fed', 'federal', 'fedex', 'fedup', 'fee', 'feeble', 'feed', 'feedback', 'feeder', 'feeders', 'feeding', 'feedings', 'feeds', 'feel', 'feeling', 'feelings', 'feels', 'fees', 'feet', 'feh', 'feint', 'feisty', 'felidae', 'feline', 'felines', 'felix', 'fell', 'felling', 'fellow', 'felt', 'female', 'females', 'fence', 'fenceline', 'fencing', 'feng', 'fennel', 'fenugreek', 'feodora', 'feral', 'fererro', 'ferment', 'fermentation', 'fermented', 'fermenting', 'ferments', 'fern', 'ferns', 'ferocious', 'ferrara', 'ferrets', 'ferris', 'ferrous', 'ferroussulfate', 'fertility', 'fertilize', 'fertilizer', 'fertilizers', 'fest', 'festival', 'festive', 'feta', 'fetal', 'fetch', 'fettuccine', 'fettuccini', 'fettuchinni', 'fetus', 'feuilletine', 'fever', 'fewer', 'fewest', 'ff', 'fhc', 'fi', 'fiance', 'fiancee', 'fiasco', 'fiber', 'fibergourmet', 'fiberous', 'fibers', 'fibre', 'fibrmyalgia', 'fibromyalgia', 'fibrous', 'fickle', 'fickled', 'ficus', 'fiddled', 'fiddler', 'fiddly', 'fido', 'field', 'fields', 'fiend', 'fiends', 'fierce', 'fiery', 'fiesta', 'fiestas', 'fife', 'fifth', 'fifths', 'fifties', 'fig', 'figgy', 'fight', 'fighting', 'fights', 'figs', 'figure', 'figured', 'figures', 'figuring', 'fiirst', 'fiji', 'file', 'filed', 'filet', 'filets', 'filing', 'filippo', 'filled', 'filler', 'fillers', 'fillet', 'fillets', 'filling', 'fillings', 'fills', 'film', 'filmmakers', 'films', 'filmy', 'filter', 'filtered', 'filtering', 'filters', 'filth', 'filthiest', 'filtration', 'fin', 'finace', 'final', 'finally', 'finaly', 'finances', 'financial', 'financially', 'fincky', 'finding', 'findings', 'finds', 'fine', 'finely', 'finer', 'fines', 'finesse', 'finest', 'finger', 'fingernails', 'fingers', 'fingertips', 'finicky', 'finiky', 'finish', 'finished', 'finishes', 'finishing', 'finland', 'finnish', 'finns', 'fiprinol', 'fir', 'fireball', 'fireballs', 'fired', 'firehouse', 'fireplace', 'fires', 'fireworks', 'firey', 'firm', 'firmer', 'firming', 'firmly', 'firmness', 'firms', 'firsthand', 'firstly', 'fish', 'fisher', 'fisheries', 'fishes', 'fishie', 'fishiness', 'fishing', 'fishy', 'fist', 'fistful', 'fisting', 'fit', 'fitness', 'fits', 'fitsugar', 'fitting', 'fittingly', 'fiv', 'fivebucks', 'fix', 'fixation', 'fixe', 'fixed', 'fixes', 'fixing', 'fixings', 'fixins', 'fixture', 'fixtures', 'fizz', 'fizzed', 'fizzer', 'fizzers', 'fizzes', 'fizzie', 'fizzies', 'fizziness', 'fizzing', 'fizzle', 'fizzles', 'fizzly', 'fizzy', 'fl', 'flabbergasted', 'flacor', 'flag', 'flair', 'flake', 'flaked', 'flakes', 'flakey', 'flakier', 'flaking', 'flaky', 'flame', 'flamin', 'flaming', 'flan', 'flaovor', 'flap', 'flaps', 'flare', 'flash', 'flashes', 'flashing', 'flashlight', 'flasks', 'flat', 'flatbread', 'flatbreads', 'flathau', 'flatness', 'flatten', 'flattened', 'flatter', 'flatulance', 'flatulence', 'flatulent', 'flavacol', 'flaver', 'flavh2o', 'flavia', 'flavoe', 'flavonoids', 'flavor', 'flavorable', 'flavorcol', 'flavord', 'flavored', 'flavorer', 'flavorful', 'flavorfull', 'flavoring', 'flavorings', 'flavorizer', 'flavorless', 'flavors', 'flavorsofguatemala', 'flavorwise', 'flavot', 'flavour', 'flavoured', 'flavourful', 'flavourless', 'flavours', 'flavroed', 'flavvors', 'flaw', 'flawed', 'flawless', 'flawlessly', 'flaws', 'flax', 'flaxseed', 'flaxseeds', 'flea', 'fleas', 'flecks', 'fleet', 'fleischmann', 'flesh', 'fleur', 'flew', 'flex', 'flexable', 'flexes', 'flexi', 'flexibility', 'flexible', 'flies', 'flight', 'flimpsy', 'flimsy', 'fling', 'flinging', 'flint', 'flip', 'flipped', 'flipping', 'flips', 'float', 'floated', 'floaters', 'floaties', 'floating', 'floats', 'flocculating', 'flock', 'flocken', 'flood', 'flooded', 'flooding', 'floor', 'floored', 'flooring', 'floors', 'flop', 'floppier', 'flopping', 'floppy', 'flops', 'floral', 'florals', 'florets', 'florette', 'florettes', 'florida', 'florists', 'floss', 'flossie', 'flossies', 'flossing', 'floundered', 'flour', 'flouride', 'flourished', 'flourless', 'flours', 'floury', 'flovoured', 'flow', 'flowed', 'flower', 'flowerbeds', 'flowerettes', 'flowering', 'flowers', 'flowery', 'flowing', 'flown', 'flows', 'flu', 'fluctuate', 'fluctuations', 'fluff', 'fluffier', 'fluffiness', 'fluffy', 'fluid', 'fluids', 'fluke', 'fluorescent', 'fluoridated', 'fluoride', 'flush', 'flushed', 'flushing', 'flutd', 'flutes', 'fluttering', 'flux', 'fly', 'flyaway', 'flyer', 'flying', 'flyswatter', 'fm', 'fnb', 'foam', 'foamer', 'foaming', 'foams', 'foamy', 'fob', 'focaccia', 'foco', 'focus', 'focused', 'focuses', 'fog', 'fogginess', 'foglifter', 'foie', 'foil', 'foiled', 'fois', 'folate', 'fold', 'folded', 'folders', 'foldgers', 'folding', 'folds', 'folger', 'folgers', 'folghers', 'foliage', 'folic', 'folks', 'folksy', 'follow', 'followe', 'followed', 'follower', 'following', 'follows', 'fond', 'fondant', 'fondants', 'fondarific', 'fondest', 'fondly', 'fondness', 'fong', 'font', 'fontana', 'foo', 'food', 'food4less', 'foodbank', 'foodci', 'foodie', 'foodies', 'foodireland', 'foodlion', 'foods', 'foodservice', 'foodstuff', 'fooducate', 'foody', 'fool', 'fooled', 'fooling', 'foolish', 'foolishly', 'foolishness', 'foolproof', 'foood', 'foor', 'foot', 'football', 'foote', 'footed', 'footing', 'footprint', 'footprints', 'foray', 'forbid', 'forbidden', 'forbids', 'force', 'forced', 'forceful', 'forcefully', 'forces', 'forcing', 'ford', 'fore', 'forefront', 'forego', 'forehead', 'foreign', 'foreigners', 'foremost', 'forerunner', 'foresee', 'foreseeable', 'forest', 'forested', 'forestomach', 'forever', 'forewarned', 'forfeited', 'forget', 'forgets', 'forgettable', 'forgetting', 'forgivable', 'forgive', 'forgiving', 'forgot', 'forgotten', 'fork', 'forking', 'form', 'formaggio', 'formaldehyde', 'formally', 'format', 'formation', 'formed', 'forming', 'forms', 'formuals', 'formula', 'formulas', 'formulated', 'formulation', 'formulations', 'fort', 'forte', 'forth', 'forthcoming', 'forthwith', 'forties', 'fortified', 'fortify', 'fortifying', 'fortina', 'fortress', 'fortuitous', 'fortunate', 'fortunately', 'fortune', 'fortunes', 'forum', 'forumla', 'forums', 'forward', 'forwards', 'forwarning', 'foster', 'fostering', 'fot', 'fought', 'foul', 'foule', 'foulest', 'foundation', 'founded', 'founder', 'founders', 'founding', 'fountain', 'fourteen', 'fourth', 'fourths', 'fourties', 'fowl', 'fox', 'foxon', 'fpr', 'fr', 'fraction', 'fractures', 'fragile', 'fragments', 'fragrance', 'fragranced', 'fragrances', 'fragrant', 'fraiche', 'frame', 'framing', 'fran', 'francais', 'francaise', 'france', 'francese', 'franchised', 'franchises', 'francine', 'francis', 'francisco', 'francisko', 'francsico', 'frank', 'franken', 'frankenfood', 'frankly', 'franks', 'frantic', 'frantically', 'frantoio', 'frappe', 'frappes', 'frappuccino', 'frappuccinos', 'frappucino', 'frapuccino', 'fraud', 'fraudulent', 'fraudulently', 'frazier', 'freak', 'freaked', 'freakin', 'freaking', 'freaks', 'fred', 'free', 'freecycle', 'freedom', 'freeing', 'freelance', 'freely', 'freen', 'freerange', 'freers', 'freez', 'freezable', 'freeze', 'freezedried', 'freezer', 'freezers', 'freezing', 'freight', 'french', 'frenchie', 'frenetic', 'frenzy', 'frequency', 'frequent', 'frequented', 'frequenting', 'frequently', 'fresca', 'fresh', 'freshen', 'freshened', 'freshener', 'fresheners', 'freshening', 'freshens', 'fresher', 'freshest', 'freshhh', 'freshies', 'freshly', 'freshman', 'freshness', 'fresno', 'fret', 'fri', 'friable', 'frickin', 'friday', 'fridge', 'fried', 'frieda', 'frieght', 'friend', 'friendliness', 'friendly', 'friends', 'fries', 'frig', 'friggin', 'frighten', 'frightening', 'frills', 'frilly', 'fringe', 'frisco', 'frise', 'frisian', 'friskie', 'friskies', 'frisky', 'frito', 'fritters', 'friut', 'friz', 'frizz', 'frizzed', 'frizzy', 'frnch', 'fro', 'frogs', 'frolicking', 'fromm', 'fromt', 'fron', 'fronm', 'frontier', 'frontline', 'frontrunner', 'froo', 'froot', 'frost', 'frosted', 'frosting', 'frostings', 'frosty', 'froth', 'frothed', 'frother', 'frothy', 'frown', 'froze', 'frozen', 'frucose', 'fructis', 'fructooligosaccharide', 'fructos', 'fructose', 'frugal', 'frugalone', 'frugle', 'fruit', 'fruitables', 'fruitabu', 'fruitcake', 'fruitcakes', 'fruited', 'fruitful', 'fruitiness', 'fruiting', 'fruition', 'fruitless', 'fruitose', 'fruits', 'fruity', 'frustrated', 'frustrating', 'frustratingly', 'frustration', 'frustrations', 'frutallegre', 'fruticosa', 'frutose', 'fry', 'fryer', 'frying', 'frys', 'fs', 'ft', 'fu', 'fuchsia', 'fudge', 'fudgeness', 'fudgey', 'fudging', 'fudgy', 'fuel', 'fueling', 'fuente', 'fuge', 'fuhgedaboutit', 'fuhgeddaboudit', 'fuhgeddaboutit', 'fuit', 'fuji', 'fujian', 'fujis', 'fukien', 'fukushima', 'ful', 'fulfill', 'fulfilled', 'fulfilling', 'fulfillment', 'fulfills', 'fuller', 'fullest', 'fullness', 'fulls', 'fully', 'fum', 'fumaric', 'fumble', 'fumbling', 'fumes', 'fun', 'funbites', 'funciona', 'function', 'functional', 'functionality', 'functionally', 'functions', 'fund', 'fundraiser', 'funeral', 'fung', 'fungal', 'funghi', 'fungicide', 'fungus', 'fungusamongus', 'funkier', 'funktified', 'funky', 'funnel', 'funnest', 'funniest', 'funny', 'funyuns', 'fur', 'furbabies', 'furballs', 'furikake', 'furious', 'furniture', 'furr', 'furry', 'furthered', 'furthermore', 'fuse', 'fused', 'fushion', 'fusion', 'fusions', 'fuss', 'fussbudget', 'fussed', 'fussie', 'fussiness', 'fussy', 'futher', 'future', 'futz', 'fuzz', 'fuzzies', 'fuzzy', 'fv', 'fw', 'fwd', 'fwiw', 'fx', 'fyi', 'ga', 'gaban', 'gabiel', 'gabriella', 'gadget', 'gag', 'gaga', 'gaged', 'gagged', 'gaggia', 'gagging', 'gags', 'gah', 'gain', 'gained', 'gaining', 'gal', 'gala', 'galen', 'galettes', 'galileo', 'gallate', 'gallery', 'gallo', 'gallon', 'gallons', 'gallopin', 'galore', 'gals', 'galt', 'gamble', 'game', 'games', 'gamy', 'ganache', 'gang', 'ganga', 'gangbusters', 'gangly', 'ganocafe', 'ganoderma', 'ganular', 'gap', 'gaping', 'gaps', 'garabage', 'garage', 'garbage', 'garbanzo', 'garbonzo', 'garden', 'gardener', 'gardeners', 'gardenias', 'gardening', 'gardens', 'gare', 'gargle', 'garibaldi', 'garlic', 'garlicky', 'garlicoil', 'garlicpepper', 'garner', 'garnier', 'garnish', 'garten', 'garvey', 'gary', 'gas', 'gascogne', 'gasket', 'gasoline', 'gasping', 'gassines', 'gassiness', 'gassy', 'gastric', 'gastritis', 'gastroenteritis', 'gastrointestinal', 'gastronomique', 'gasy', 'gate', 'gateway', 'gather', 'gathered', 'gathering', 'gatherings', 'gatlinburg', 'gator', 'gatorade', 'gators', 'gaufre', 'gave', 'gavottes', 'gawd', 'gaylord', 'gayoland', 'gazer', 'gazillion', 'gb', 'gcf', 'gdz', 'geared', 'gee', 'geena', 'geez', 'gefilte', 'gel', 'gelatin', 'gelatine', 'gelatinized', 'gelatinous', 'gelling', 'gels', 'gelson', 'gem', 'gemelli', 'gems', 'gen', 'genache', 'gene', 'general', 'generally', 'generate', 'generated', 'generates', 'generating', 'generation', 'generations', 'generic', 'generous', 'generously', 'genetically', 'genisoy', 'genius', 'geniuses', 'genmai', 'genmaicha', 'genoa', 'genova', 'gentelease', 'gentle', 'gentlease', 'gentleman', 'gentlemen', 'gentler', 'gently', 'genuine', 'genuinely', 'geo', 'geographic', 'geography', 'george', 'georgia', 'geraldines', 'geranium', 'gerard', 'gerber', 'geriatric', 'germ', 'german', 'germans', 'germany', 'germinate', 'germinated', 'germination', 'germy', 'geschwender', 'gestational', 'gesture', 'getaway', 'getaways', 'geting', 'gets', 'getting', 'gettting', 'gevailia', 'gevalia', 'gevelia', 'gew', 'gf', 'gfcf', 'gfs', 'gg', 'ghanoush', 'ghastly', 'ghee', 'ghiardelli', 'ghiradelli', 'ghiradhelli', 'ghirardelli', 'ghost', 'ghostbusters', 'ghostly', 'ghosts', 'gi', 'giada', 'giant', 'giants', 'giberish', 'gibson', 'gift', 'giftable', 'gifted', 'giftee', 'gifting', 'gifts', 'gigantic', 'giggle', 'gilbert', 'gilroy', 'gimbal', 'gimmick', 'gimmicky', 'gin', 'ginger', 'gingerale', 'gingerbread', 'gingerly', 'gingerman', 'gingers', 'gingersnap', 'gingery', 'gingivitis', 'gins', 'ginseng', 'ginsing', 'giovanni', 'giradhelli', 'girl', 'girlfriend', 'girlfriends', 'girlie', 'girls', 'girly', 'giro', 'girth', 'given', 'giver', 'gives', 'giving', 'gizzards', 'gj', 'gkaze', 'glace', 'glaceau', 'glaceed', 'glad', 'gladly', 'glance', 'glanced', 'glands', 'glandulars', 'glare', 'glaring', 'glass', 'glasses', 'glassful', 'glassware', 'glassy', 'glaze', 'glazed', 'glazing', 'gleam', 'gleamy', 'glean', 'gleaned', 'glee', 'glen', 'glencarin', 'glenfiddich', 'glenlivet', 'glenn', 'glico', 'glide', 'gliding', 'glitch', 'glitter', 'glo', 'glob', 'global', 'globalism', 'globbed', 'globby', 'gloomy', 'glop', 'gloppiness', 'gloppy', 'glops', 'gloria', 'glorified', 'glorious', 'glory', 'glosses', 'glossy', 'glove', 'glovebox', 'gloves', 'glow', 'glowing', 'glowlingly', 'glu', 'gluc', 'glucometer', 'glucono', 'glucosamine', 'glucose', 'glue', 'glued', 'gluey', 'gluing', 'gluosamine', 'glup', 'glutamate', 'glutamates', 'glutamic', 'gluten', 'glutino', 'gluton', 'glutten', 'glutton', 'gluttonous', 'glycemic', 'glycerides', 'glycerin', 'glycerine', 'glycerol', 'glycerylmonostearate', 'glycol', 'glycosides', 'gm', 'gmc', 'gmo', 'gmos', 'gmps', 'gms', 'gnarly', 'gnat', 'gnats', 'gnaw', 'gnawed', 'gnawhide', 'gnawhides', 'gnawing', 'gnc', 'gnocchi', 'goal', 'goals', 'goat', 'goats', 'gob', 'gobble', 'gobbled', 'gobbles', 'gobbling', 'goblet', 'gobs', 'gobsmacked', 'god', 'goddess', 'godfather', 'godiva', 'godly', 'gods', 'godsend', 'godzilla', 'goes', 'goetz', 'goggle', 'gogo', 'going', 'goji', 'gojiberry', 'gold', 'goldden', 'golden', 'goldendoodle', 'goldens', 'goldenseal', 'goldfish', 'goldilocks', 'goldmine', 'golean', 'gon', 'gonaturally', 'gone', 'gonna', 'goo', 'good', 'goodbye', 'goodie', 'goodies', 'goodlife', 'goodness', 'goods', 'goody', 'gooey', 'goof', 'goofy', 'goog', 'google', 'googled', 'googles', 'googling', 'gooier', 'goood', 'gooood', 'gooooooooooooood', 'goop', 'goopy', 'goose', 'gooseberries', 'gooseberry', 'gopher', 'gophers', 'gopicnic', 'gordon', 'gorged', 'gorgeous', 'gorges', 'gorging', 'gormet', 'gorrila', 'gorwn', 'gosh', 'got', 'gotay', 'goth', 'goto', 'gots', 'gotta', 'gotten', 'gouda', 'gouge', 'gouged', 'gouging', 'goulash', 'gound', 'gourd', 'gourmand', 'gourment', 'gourmet', 'gout', 'gov', 'governing', 'government', 'goya', 'gp', 'gr', 'gr8', 'grab', 'grabbed', 'grabber', 'grabbing', 'grabby', 'grabs', 'gracamole', 'grace', 'graced', 'gracefully', 'gracery', 'gracing', 'gracious', 'graciously', 'grackles', 'grad', 'grade', 'grades', 'gradually', 'graduate', 'graduated', 'graduates', 'graduating', 'grafted', 'graham', 'grahams', 'grain', 'grained', 'graininess', 'grainless', 'grains', 'grainy', 'gram', 'grama', 'gramcraker', 'grammar', 'grampa', 'grams', 'gran', 'grana', 'grand', 'grandaughter', 'grandchildren', 'granddaughter', 'granddaughters', 'grande', 'grandfather', 'grandies', 'grandkids', 'grandma', 'grandmother', 'grandmothers', 'grandniece', 'grandpa', 'grandparents', 'grandson', 'grandsons', 'graniny', 'granite', 'granny', 'granola', 'granolas', 'grant', 'granted', 'granual', 'granular', 'granularity', 'granulated', 'granules', 'grap', 'grape', 'grapefruit', 'grapefruits', 'grapes', 'grapeseed', 'grapey', 'graphic', 'graphs', 'gras', 'grasp', 'grass', 'grasses', 'grasshoppers', 'grassy', 'grate', 'grated', 'grateful', 'gratification', 'gratin', 'grating', 'gratuitous', 'grav', 'grave', 'graveies', 'gravel', 'graveyard', 'gravies', 'gravitate', 'gravity', 'gravy', 'gray', 'grayish', 'grays', 'graze', 'grease', 'greasier', 'greasiness', 'greassy', 'greasy', 'great', 'greatand', 'greater', 'greatest', 'greatly', 'greatness', 'grecian', 'greece', 'greed', 'greedy', 'greeen', 'greek', 'greem', 'green', 'greenbeans', 'greendog', 'greeneies', 'greener', 'greenery', 'greeness', 'greenhouse', 'greenie', 'greenien', 'greenies', 'greenish', 'greenlighted', 'greenlittlecat', 'greens', 'greenwood', 'greeted', 'greeting', 'greets', 'greg', 'grenadine', 'grenie', 'gretna', 'grevalia', 'grew', 'grey', 'greyhound', 'greyhounds', 'greyish', 'greys', 'grid', 'griddle', 'griddled', 'gridley', 'grieving', 'griffon', 'grill', 'grilled', 'griller', 'grillers', 'grillin', 'grilling', 'grimace', 'grimaced', 'grimacing', 'grime', 'grin', 'grind', 'grinder', 'grinders', 'grinding', 'grinds', 'griottines', 'grip', 'gripe', 'gripes', 'gripper', 'gripping', 'grisly', 'gristle', 'gristly', 'grit', 'gritiness', 'grits', 'grittiness', 'gritty', 'grity', 'grizly', 'grizzle', 'grn', 'gro', 'groaning', 'groats', 'grocer', 'grocerie', 'groceries', 'grocers', 'grocery', 'grog', 'grogginess', 'groin', 'groom', 'groomer', 'grooming', 'groove', 'grooves', 'groovie', 'groovy', 'gross', 'grossed', 'grosses', 'grossly', 'grossness', 'grotesque', 'grotesquely', 'ground', 'groundbreaking', 'grounded', 'grounding', 'grounds', 'group', 'grouped', 'grouper', 'groups', 'grove', 'grow', 'growers', 'growing', 'growl', 'growled', 'grown', 'grownups', 'grows', 'growth', 'grrrr', 'grub', 'grubbing', 'grubby', 'grubs', 'grudgingly', 'gruel', 'gruesome', 'grumpiest', 'grunts', 'gs', 'gsd', 'gt', 'gu', 'guac', 'guacamole', 'guam', 'guan', 'guangzhou', 'guano', 'guanylate', 'guapo', 'guar', 'guarana', 'guarantee', 'guaranteed', 'guarantees', 'guaranty', 'guard', 'guarded', 'guarding', 'guarenteed', 'guatamalan', 'guatemalan', 'guava', 'guayaki', 'gucamole', 'gud', 'gues', 'guess', 'guessed', 'guesses', 'guessing', 'guesstimate', 'guesswork', 'guest', 'guests', 'guff', 'guh', 'guidance', 'guide', 'guided', 'guideline', 'guidelines', 'guides', 'guilt', 'guiltless', 'guilty', 'guiney', 'guinness', 'gullah', 'gullet', 'gullets', 'gullible', 'gulp', 'gulped', 'gulping', 'gulps', 'gultin', 'gum', 'gumball', 'gumballs', 'gumbo', 'gumline', 'gummed', 'gummi', 'gummibear', 'gummie', 'gummied', 'gummier', 'gummies', 'gumminess', 'gumming', 'gummint', 'gummis', 'gummy', 'gumpaste', 'gums', 'gun', 'gundelsheim', 'gung', 'gunk', 'gunked', 'gunky', 'gunner', 'gunpowder', 'gurgling', 'gurl', 'guru', 'gus', 'gushers', 'gustaf', 'gustav', 'gustibus', 'gusto', 'gut', 'gute', 'guts', 'gutsy', 'guy', 'guys', 'guzzled', 'guzzles', 'guzzling', 'gym', 'gymnasts', 'gyokuro', 'gype', 'gypped', 'gypsy', 'gyro', 'gyros', 'gyver', 'h2o', 'ha', 'habanero', 'habaneros', 'habbit', 'habit', 'habits', 'habitual', 'habituated', 'hack', 'hacking', 'hackjob', 'hackleback', 'hadn', 'hadny', 'haelth', 'hafner', 'hag', 'hagel', 'hagen', 'hagman', 'hah', 'haha', 'hahahahah', 'haiku', 'haikudojo', 'hail', 'hails', 'hain', 'hair', 'hairball', 'hairballs', 'hairbrush', 'haircare', 'haircut', 'hairdresser', 'haired', 'hairs', 'hairspray', 'hairy', 'haitus', 'halal', 'halaleveryday', 'halall', 'haley', 'half', 'halfdozen', 'halft', 'halfway', 'halibut', 'halitoatsis', 'hall', 'halleluia', 'hallow', 'hallowed', 'halloween', 'halo', 'haltex', 'halvah', 'halve', 'halves', 'ham', 'hamburger', 'hamburgers', 'hame', 'hamilton', 'hammer', 'hammered', 'hammering', 'hampshire', 'hams', 'hamster', 'hamsters', 'hand', 'handbag', 'handbags', 'handbook', 'handcrafted', 'handed', 'handful', 'handfull', 'handfulls', 'handfuls', 'handheld', 'handing', 'handkerchiefs', 'handle', 'handled', 'handles', 'handling', 'handmade', 'handouts', 'hands', 'handsome', 'handstick', 'handwashings', 'handy', 'handyness', 'hang', 'hanging', 'hangout', 'hangover', 'hangovers', 'hangs', 'hankerin', 'hankering', 'hanneford', 'hannover', 'hanoud', 'hanout', 'hanover', 'hanukkah', 'haphazard', 'haphazardly', 'happen', 'happends', 'happened', 'happening', 'happens', 'happier', 'happiest', 'happily', 'happiness', 'happy', 'happybaby', 'happybellies', 'happymelts', 'hara', 'harass', 'harbor', 'harbors', 'hard', 'hardcore', 'harden', 'hardened', 'hardens', 'harder', 'hardest', 'harding', 'hardly', 'hardness', 'hardship', 'hardware', 'hardwood', 'hardy', 'hari', 'haribo', 'haribos', 'harika', 'harissa', 'harissas', 'harldy', 'harley', 'harm', 'harmed', 'harmful', 'harming', 'harmless', 'harmoniously', 'harmonize', 'harmony', 'harness', 'harney', 'harrar', 'harrisa', 'harrogate', 'harry', 'harsh', 'harsher', 'harshly', 'harshness', 'hartsell', 'hartz', 'harvard', 'harvest', 'harvestable', 'harvested', 'harvesting', 'harvey', 'harveys', 'has3', 'hasbro', 'haselhut', 'hash', 'hashbrowns', 'hasn', 'hassle', 'hassles', 'hasta', 'haste', 'hastily', 'hat', 'hatbox', 'hatch', 'hatchback', 'hatched', 'hate', 'hated', 'hateful', 'haters', 'hates', 'hating', 'hats', 'haughty', 'haul', 'hauling', 'haunt', 'haus', 'haute', 'havahart', 'havanese', 'havapoo', 'haved', 'haven', 'havenese', 'havent', 'haves', 'having', 'havn', 'hawai', 'hawaii', 'hawaiian', 'hawiian', 'hawk', 'hawwing', 'hay', 'hazard', 'hazardous', 'hazards', 'hazel', 'hazelnut', 'hazelnuts', 'hazlenut', 'hcfs', 'hcg', 'hci', 'hdl', 'hdpe', 'head', 'headache', 'headaches', 'headed', 'headfirst', 'heading', 'headline', 'headquarters', 'headroom', 'heads', 'heady', 'heal', 'healed', 'healing', 'health', 'healthcare', 'healther', 'healthey', 'healthfood', 'healthful', 'healthfull', 'healthier', 'healthiest', 'healthiness', 'healthly', 'healthwise', 'healthy', 'healthyer', 'healty', 'heaped', 'heapful', 'heaping', 'hear', 'heard', 'hearing', 'hearings', 'hears', 'heart', 'heartache', 'heartbeat', 'heartbeats', 'heartburn', 'heartburns', 'hearted', 'heartedly', 'heartened', 'heartening', 'heartgard', 'heartier', 'heartily', 'heartland', 'heartless', 'hearts', 'heartsick', 'heartworm', 'hearty', 'heat', 'heated', 'heater', 'heath', 'heathers', 'heating', 'heats', 'heaven', 'heavenly', 'heavens', 'heavently', 'heavier', 'heaviest', 'heavily', 'heaviness', 'heavy', 'heb', 'heck', 'hectic', 'hedge', 'hee', 'heed', 'heeded', 'heel', 'heeler', 'heels', 'heft', 'hefty', 'heidi', 'heifer', 'height', 'heightening', 'heights', 'heijn', 'heimlich', 'heinous', 'heinz', 'heirloom', 'heirlooms', 'held', 'helen', 'helene', 'helf', 'helfer', 'hell', 'hellfire', 'hellmann', 'hello', 'hellooooo', 'help', 'helped', 'helper', 'helpful', 'helpfull', 'helping', 'helpings', 'helplessly', 'helps', 'helthier', 'hemming', 'hemorrhage', 'hemp', 'hempnutrition', 'hempseed1', 'hempseeds', 'henry', 'hens', 'herb', 'herbal', 'herbalife', 'herbalist', 'herbals', 'herbes', 'herbicide', 'herbicides', 'herbs', 'herdez', 'herds', 'heres', 'heresy', 'herion', 'heritage', 'herman', 'hermetic', 'hermetically', 'hero', 'heroes', 'heroin', 'herring', 'herrings', 'herseys', 'hershey', 'hersheys', 'hes', 'hesistant', 'hesistate', 'hesitant', 'hesitate', 'hesitated', 'hesitation', 'hestitant', 'hestitation', 'hexagons', 'hexametaphosphate', 'hexane', 'hextra', 'hey', 'hfcs', 'hfsc', 'hg', 'hgigh', 'hh', 'hhusband', 'hi', 'hibernation', 'hibiscus', 'hic', 'hickory', 'hicky', 'hid', 'hidden', 'hide', 'hideous', 'hideously', 'hides', 'hiding', 'hidrata', 'hidvegi', 'hiesenburg', 'higgins', 'high', 'highchair', 'higher', 'highest', 'highish', 'highland', 'highlands', 'highlight', 'highlighted', 'highlights', 'highly', 'highpoints', 'highs', 'hight', 'hightest', 'hightly', 'highway', 'hike', 'hiked', 'hiker', 'hikers', 'hikes', 'hiking', 'hilachas', 'hilarious', 'hilarity', 'hill', 'hills', 'hillshire', 'hilly', 'himala', 'himalayalabalyakamonkatonka', 'himalayan', 'himalayas', 'hind', 'hindenberg', 'hinders', 'hindsight', 'hines', 'hing', 'hinge', 'hint', 'hinted', 'hints', 'hip', 'hippest', 'hippie', 'hippies', 'hippos', 'hips', 'hire', 'hisbiscus', 'hispanic', 'hisses', 'histamine', 'histimine', 'historian', 'historical', 'history', 'hit', 'hitchiker', 'hitman', 'hits', 'hitting', 'hives', 'hleps', 'hm', 'hmm', 'hmmm', 'hmmmm', 'hmmmmm', 'hmmmmmm', 'ho', 'hoard', 'hoarding', 'hoax', 'hobbiest', 'hobby', 'hoc', 'hockey', 'hodges', 'hodgson', 'hoe', 'hoewever', 'hog', 'hogs', 'hogwash', 'hoisin', 'hoity', 'hold', 'holder', 'holders', 'holding', 'holds', 'hole', 'holes', 'holic', 'holiday', 'holidays', 'holistic', 'holland', 'holler', 'hollow', 'hollowed', 'hollywood', 'holocaust', 'holster', 'holy', 'home', 'homeade', 'homedepot', 'homegrown', 'homeless', 'homemade', 'homemaded', 'homeopathic', 'homes', 'homesick', 'homestly', 'homestyle', 'hometown', 'homework', 'homogenous', 'honduran', 'honees', 'honest', 'honestly', 'honesty', 'honey', 'honeybush', 'honeycomb', 'honeydew', 'honeyed', 'honeymoon', 'honeymooning', 'honeypot', 'honeys', 'honeysuckle', 'honeywagon', 'honeywell', 'hong', 'honolulu', 'honor', 'honoring', 'hoo', 'hooch', 'hood', 'hooded', 'hoodys', 'hoof', 'hoofer', 'hoofers', 'hook', 'hooked', 'hoopla', 'hoops', 'hooray', 'hooty', 'hooves', 'hop', 'hope', 'hoped', 'hopeful', 'hopefully', 'hopeless', 'hopelessly', 'hopes', 'hoping', 'hopped', 'hoppin', 'hopping', 'hops', 'horde', 'horehounds', 'horible', 'horizon', 'horizontally', 'hormel', 'hormone', 'hormones', 'horn', 'hornet', 'hornets', 'horrendous', 'horrendously', 'horrible', 'horribly', 'horrid', 'horrific', 'horrified', 'horrifyingly', 'horror', 'horrors', 'hors', 'horse', 'horseradish', 'horses', 'horton', 'horts', 'horzontally', 'hos', 'hose', 'hosed', 'hoses', 'hospital', 'hospitality', 'hospitals', 'host', 'hosted', 'hostess', 'hostile', 'hosts', 'hot', 'hotdog', 'hotdogs', 'hotel', 'hotels', 'hotmail', 'hotness', 'hotsauce', 'hott', 'hotta', 'hotter', 'hottest', 'hound', 'hounded', 'hounds', 'hour', 'hourglass', 'hourly', 'hours', 'house', 'housecats', 'housed', 'household', 'households', 'housemate', 'houseplants', 'houses', 'housewarming', 'housewife', 'housework', 'housing', 'houston', 'houten', 'houtte', 'hover', 'hovered', 'hovering', 'howard', 'howevert', 'howling', 'hows', 'hoy', 'hp', 'hre', 'href', 'hrs', 'hth', 'htm', 'html', 'http', 'huband', 'hubba', 'hubbard', 'hubby', 'huckleberry', 'hudsband', 'hue', 'hug', 'huge', 'hugely', 'huger', 'hugest', 'hugger', 'hugh', 'hughes', 'hughly', 'hugry', 'huh', 'hula', 'hull', 'hulled', 'hulless', 'hulls', 'hum', 'human', 'humane', 'humanely', 'humanity', 'humans', 'humble', 'humid', 'humidified', 'humidity', 'humm', 'humming', 'hummos', 'hummus', 'humor', 'hump', 'humungous', 'humus', 'hun', 'hunan', 'hunch', 'hund', 'hundreds', 'hung', 'hungarian', 'hunger', 'hungery', 'hungrier', 'hungry', 'hunk', 'hunks', 'hunt', 'hunted', 'hunter', 'hunting', 'hunts', 'hurling', 'hurray', 'hurricane', 'hurricanes', 'hurry', 'hurt', 'hurting', 'hurts', 'husband', 'husbands', 'hush', 'husk', 'huskies', 'husks', 'husky', 'hut', 'huy', 'hve', 'hvy', 'hybrid', 'hybrids', 'hyde', 'hyderabad', 'hyderabadi', 'hydrate', 'hydrated', 'hydrates', 'hydrating', 'hydration', 'hydro', 'hydrochloric', 'hydrochloride', 'hydrodgenated', 'hydrogen', 'hydrogenated', 'hydrogenating', 'hydroginated', 'hydrolized', 'hydrolysis', 'hydrolyzed', 'hydroponic', 'hydroponically', 'hydrotherapist', 'hydroxide', 'hydroxyanisole', 'hydroxytoluene', 'hygiene', 'hygienes', 'hygienic', 'hygienist', 'hygrogenated', 'hyland', 'hype', 'hyped', 'hyper', 'hyperactivity', 'hyperbole', 'hypersensitive', 'hypersweet', 'hypertension', 'hyperthyroidism', 'hypnotic', 'hypnotized', 'hypoallergenic', 'hypocrite', 'hypocritical', 'hypodermic', 'hypoglycemia', 'hypoglycemic', 'hypothalamus', 'hypothesized', 'hypothyroid', 'hyrdogenated', 'hysterectomy', 'hysteria', 'hysterical', 'hysterically', 'hyvee', 'ia', 'iam', 'iams', 'ib', 'ibarra', 'ibd', 'ibs', 'ic', 'icd', 'ice', 'iceberg', 'icebreakers', 'icecream', 'icecubes', 'iced', 'ices', 'icey', 'icicng', 'icing', 'ick', 'icky', 'icon', 'iconic', 'icons', 'icy', 'id', 'ida', 'idaho', 'idahoan', 'idea', 'ideal', 'ideally', 'ideas', 'idem', 'identical', 'identifiable', 'identifiably', 'identification', 'identified', 'identify', 'identifying', 'identity', 'ideographic', 'ideology', 'ides', 'idiocies', 'idiot', 'idiots', 'idk', 'idle', 'ido', 'iffy', 'ig4u', 'igastro', 'iggy', 'igniting', 'ignition', 'ignorance', 'ignorant', 'ignore', 'ignored', 'ignores', 'ignoring', 'igourmet', 'iherb', 'ii', 'iin', 'iirc', 'ikea', 'ikeda', 'ill', 'illegal', 'illegible', 'illicit', 'illinois', 'illness', 'illnesses', 'illogical', 'ills', 'illusion', 'illusions', 'illustrate', 'illustrated', 'illustrates', 'illustration', 'illy', 'ilo', 'ily', 'im', 'image', 'images', 'imaginable', 'imaginary', 'imagination', 'imaginative', 'imagine', 'imagined', 'imagining', 'imail', 'imbalance', 'imbibed', 'imbibers', 'imed', 'imform', 'imformation', 'imho', 'imitate', 'imitates', 'imitation', 'imitations', 'imitators', 'immaculate', 'immature', 'immediate', 'immediately', 'immediatly', 'immeidately', 'immense', 'immensely', 'immersed', 'immortal', 'immortalitea', 'immpressed', 'immune', 'imo', 'impact', 'impacted', 'impacting', 'impacts', 'impart', 'imparted', 'impartial', 'imparts', 'impatient', 'impatiently', 'impeccable', 'impedes', 'imperfections', 'implement', 'implicated', 'implicit', 'implied', 'implies', 'implore', 'imply', 'import', 'importance', 'important', 'importantly', 'imported', 'importer', 'importing', 'imports', 'imporvements', 'impossible', 'impractical', 'impracticality', 'impregnated', 'impregnating', 'impress', 'impressed', 'impression', 'impressions', 'impressive', 'impressively', 'imprints', 'impromptu', 'improper', 'improperly', 'improve', 'improved', 'improvement', 'improvements', 'improves', 'improving', 'improvisation', 'improvise', 'improvised', 'impulse', 'impulsive', 'impurities', 'ina', 'inaccessible', 'inaccurate', 'inactive', 'inactivity', 'inadequate', 'inadvertently', 'inane', 'inanimate', 'inappropriate', 'inaugural', 'inbetween', 'incarnations', 'incase', 'incentive', 'inch', 'inches', 'inchs', 'incidence', 'incident', 'incidentally', 'incidents', 'incision', 'incl', 'inclination', 'incline', 'inclined', 'include', 'include10g', 'included', 'includes', 'including', 'inclusion', 'inclusions', 'inclusive', 'income', 'incomparable', 'incompatible', 'incompetent', 'incomplete', 'incompletely', 'inconsequential', 'inconsistant', 'inconsistencies', 'inconsistency', 'inconsistent', 'inconsolably', 'inconspicuous', 'incontinence', 'inconvenience', 'inconveniences', 'inconvenient', 'incorporate', 'incorporated', 'incorporating', 'incorrect', 'incorrectly', 'increase', 'increased', 'increases', 'increasing', 'increasingly', 'incrediably', 'incredible', 'incredibly', 'incredient', 'incredients', 'increiblemente', 'increments', 'incriminate', 'incur', 'indefinitely', 'indegrients', 'indented', 'indentions', 'indents', 'independence', 'independent', 'independently', 'indescribable', 'indescribably', 'indestructable', 'indestructible', 'indeterminate', 'index', 'india', 'indiad', 'indian', 'indiana', 'indians', 'indicate', 'indicated', 'indicates', 'indicating', 'indication', 'indications', 'indicative', 'indicator', 'indicators', 'indiciate', 'indies', 'indifference', 'indifferent', 'indigestible', 'indigestion', 'indisguishable', 'indispensable', 'indisputably', 'indistiguishable', 'indistinguishable', 'individual', 'individualistic', 'individually', 'individuals', 'indivudal', 'indonesia', 'indonesian', 'indoor', 'indoors', 'induce', 'induced', 'inducer', 'inducing', 'indulge', 'indulgence', 'indulgences', 'indulgent', 'indulging', 'indus', 'industrial', 'industrially', 'industries', 'industry', 'indux', 'ine', 'inebriation', 'inedible', 'ineffective', 'ineffectual', 'ineligible', 'inept', 'inever', 'inevitable', 'inevitably', 'inexcusable', 'inexpensive', 'inexpierence', 'inexplicable', 'inexplicably', 'infact', 'infamil', 'infamous', 'infant', 'infantile', 'infants', 'infarctions', 'infected', 'infection', 'infections', 'inferior', 'infernal', 'infertility', 'infestation', 'infested', 'infinite', 'infinitely', 'inflamed', 'inflammation', 'inflammatory', 'inflammed', 'inflate', 'inflated', 'inflation', 'inflexible', 'inflicts', 'influence', 'influenced', 'influenster', 'info', 'inforcers', 'inform', 'informal', 'information', 'informational', 'informative', 'informed', 'informing', 'infrared', 'infuse', 'infused', 'infuser', 'infuses', 'infusing', 'infusion', 'infusions', 'infusium23', 'ing', 'ingedients', 'ingenious', 'ingenuitea', 'ingest', 'ingested', 'ingesting', 'ingestion', 'ingests', 'ingreadients', 'ingrediant', 'ingrediants', 'ingredient', 'ingredients', 'ingrediets', 'ingredigent', 'ingredrients', 'ingreients', 'ingridents', 'inhale', 'inhaled', 'inhaler', 'inhales', 'inhaling', 'inherantly', 'inherent', 'inherently', 'inhibiting', 'inhibitor', 'inhibits', 'inhomogeneity', 'inidividually', 'initial', 'initially', 'initiated', 'initiates', 'injected', 'injection', 'injections', 'injector', 'injest', 'injured', 'injurious', 'injury', 'ink', 'inks', 'inline', 'inn', 'innards', 'inner', 'innocence', 'innocent', 'innova', 'inoffensive', 'inoperative', 'inordinately', 'inorganic', 'inosinate', 'inositol', 'inprovement', 'input', 'inquire', 'inquired', 'inquires', 'inquiries', 'inquiry', 'ins', 'insane', 'insanely', 'insanity', 'insect', 'insecticide', 'insects', 'insensitive', 'insert', 'inserted', 'inserting', 'insertion', 'inserts', 'inset', 'inside', 'insider', 'insides', 'insight', 'insightbb', 'insights', 'insignificanat', 'insignificant', 'insinuate', 'insipid', 'insist', 'insisted', 'insists', 'insize', 'insofar', 'insoluble', 'insomnia', 'insomniac', 'inspect', 'inspected', 'inspecting', 'inspection', 'inspections', 'inspiration', 'inspire', 'inspired', 'inspires', 'inspiring', 'inspite', 'installation', 'installed', 'instance', 'instances', 'instant', 'instantaneously', 'instantly', 'instants', 'instead', 'instict', 'instill', 'instinct', 'instincts', 'institute', 'institutes', 'institution', 'institutional', 'instore', 'instructed', 'instruction', 'instructions', 'instructive', 'instructs', 'instrument', 'insufficiency', 'insufficient', 'insulated', 'insulation', 'insulin', 'insult', 'insulted', 'insulting', 'insure', 'insures', 'insuring', 'intact', 'intacted', 'intake', 'intakes', 'intanstly', 'integral', 'integrity', 'intelligence', 'intelligent', 'intelligentsia', 'intend', 'intended', 'intending', 'intened', 'intense', 'intensed', 'intensely', 'intensified', 'intensity', 'intensive', 'intention', 'intentional', 'intentionally', 'intentions', 'intently', 'interact', 'interacted', 'interaction', 'interactions', 'interactive', 'interchangable', 'interchangeably', 'interested', 'interesterfied', 'interesterified', 'interesting', 'interestingly', 'interests', 'interfere', 'interferes', 'interfering', 'interior', 'interiors', 'intermittent', 'internal', 'international', 'internationally', 'interned', 'internet', 'interpret', 'interpreted', 'interruptions', 'interstate', 'interstitial', 'intertwine', 'interval', 'intervals', 'intervene', 'intervened', 'interview', 'interviews', 'intestinal', 'intestine', 'intestines', 'intestional', 'inthe', 'intial', 'intimidating', 'intimidator', 'intolerable', 'intolerance', 'intolerances', 'intolerant', 'intollerant', 'intoxicating', 'intrgued', 'intricacies', 'intricate', 'intricately', 'intrigued', 'intriguing', 'introduce', 'introduced', 'introduces', 'introducing', 'introduction', 'introductions', 'intuitive', 'inu', 'inulin', 'inundated', 'invading', 'invariably', 'invasion', 'invasive', 'invented', 'inventing', 'invention', 'inventors', 'inventory', 'inverse', 'invert', 'invest', 'investagation', 'invested', 'investigate', 'investigated', 'investigates', 'investigating', 'investigation', 'investigators', 'investing', 'investment', 'investors', 'invigorating', 'invisible', 'invitations', 'invited', 'inviting', 'invoice', 'involve', 'involved', 'involves', 'involving', 'inward', 'iodate', 'iodine', 'iodized', 'ionic', 'ions', 'iooked', 'iota', 'iowa', 'iq', 'ira', 'iranian', 'iraq', 'irate', 'ireland', 'irene', 'iridescent', 'iris', 'irish', 'irl', 'iroast', 'iron', 'ironic', 'ironically', 'ironman', 'irons', 'irony', 'irradiated', 'irratible', 'irrational', 'irregular', 'irregularities', 'irregulars', 'irresistably', 'irresistible', 'irresponsible', 'irritability', 'irritable', 'irritant', 'irritants', 'irritate', 'irritated', 'irritating', 'irritation', 'irritations', 'is_', 'isa', 'ise', 'ish', 'island', 'islander', 'islands', 'isle', 'isn', 'isnt', 'isobutyl', 'isolate', 'isolated', 'isolates', 'isomac', 'isomalt', 'israel', 'israeli', 'issimo', 'issue', 'issued', 'issues', 'issuing', 'ist', 'istanbul', 'ital', 'italain', 'italia', 'italian', 'italiano', 'italy', 'itc', 'itch', 'itchies', 'itchiness', 'itching', 'itchy', 'item', 'itemized', 'itemnot', 'items', 'iten', 'iterations', 'itis', 'itme', 'ito', 'itslef', 'itt', 'iu', 'iv', 'ive', 'ives', 'ivory', 'iwill', 'izakayas', 'izze', 'j5411054', 'jabbed', 'jack', 'jackass', 'jacked', 'jacket', 'jackets', 'jackie', 'jacking', 'jackpot', 'jacks', 'jacob', 'jacobs', 'jacobsen', 'jade', 'jaded', 'jager', 'jagermeister', 'jagged', 'jai', 'jail', 'jaipur', 'jake', 'jalape', 'jalapeno', 'jalapenos', 'jalepeno', 'jalepenos', 'jalepino', 'jalope', 'jam', 'jamacan', 'jamaica', 'jamaican', 'jamba', 'jambalaya', 'james', 'jameson', 'jammed', 'jammie', 'jammies', 'jammin', 'jamming', 'jams', 'jan', 'janaury', 'janellelaine', 'january', 'japan', 'japanese', 'jar', 'jarred', 'jarritos', 'jarrow', 'jarrows', 'jars', 'jars_', 'jasmati', 'jasmin', 'jasmine', 'jason', 'java', 'jaw', 'jawbreaker', 'jaws', 'jay', 'jays', 'jaz', 'jazz', 'jazzed', 'jazzes', 'jazzing', 'jbm', 'jealous', 'jean', 'jeans', 'jeez', 'jeffery', 'jeffm', 'jeffrey', 'jel', 'jell', 'jellied', 'jellies', 'jello', 'jelly', 'jellybelly', 'jemima', 'jemimah', 'jennies', 'jeremiah', 'jerk', 'jerked', 'jerkee', 'jerkey', 'jerkies', 'jerky', 'jerkys', 'jerkyusa', 'jerquee', 'jerry', 'jersey', 'jesus', 'jet', 'jewel', 'jewell', 'jewelry', 'jfred', 'jgibson', 'jif', 'jiff', 'jiffy', 'jiggling', 'jiggly', 'jillion', 'jim', 'jimmies', 'jims', 'jingle', 'jinx', 'jipped', 'jitters', 'jittery', 'jive', 'jo', 'joann', 'joanne', 'job', 'jobs', 'jocalat', 'joe', 'joes', 'joey', 'johanna', 'john', 'johnny', 'join', 'joined', 'joining', 'joint', 'joints', 'joke', 'joked', 'jokes', 'joking', 'jokingly', 'jolie', 'jolly', 'jolokia', 'jols', 'jolt', 'jon', 'jonathan', 'jones', 'jonesing', 'jonny', 'joray', 'jordan', 'jorge', 'jose', 'joseph', 'josephs', 'jostled', 'jostling', 'jour', 'journal', 'journalist', 'journals', 'journey', 'jovial', 'joy', 'joycie', 'joyful', 'joyriding', 'joyva', 'joyvah', 'jp', 'jpav', 'jr', 'jrs', 'jrt', 'jrts', 'js', 'jsut', 'juan', 'juces', 'judge', 'judged', 'judgement', 'judges', 'judging', 'judgment', 'judicious', 'judy', 'juevos', 'jug', 'jugo', 'jugs', 'juicce', 'juice', 'juiced', 'juicer', 'juices', 'juicier', 'juiciness', 'juicing', 'juicy', 'juicyfruit', 'juke', 'juked', 'julep', 'jules', 'julian', 'juliet', 'july', 'jumbled', 'jumbo', 'jumbone', 'jump', 'jumpbo', 'jumped', 'jumper', 'jumping', 'jumps', 'jumpstart', 'jumpy', 'jun', 'june', 'june10', 'june25th', 'junior', 'juniper', 'junk', 'junket', 'junkie', 'junkies', 'junks', 'junky', 'juno', 'jury', 'jus', 'just', 'justice', 'justifiably', 'justification', 'justified', 'justifies', 'justify', 'justin', 'justine', 'justins', 'justly', 'juuuuuust', 'jvs', 'ka', 'kabayaki', 'kabobs', 'kaboodle', 'kadota', 'kadotas', 'kafe', 'kaffee', 'kaffer', 'kaffir', 'kah', 'kahlua', 'kaiser', 'kakes', 'kal', 'kale', 'kaluha', 'kame', 'kamehameha', 'kamut', 'kandahar', 'kangan', 'kangaroo', 'kansas', 'kap', 'kape', 'kapha', 'kaps', 'kar', 'karl', 'karleton', 'karma', 'karmic', 'karo', 'kasha', 'kashi', 'kashrutd', 'kasugai', 'kat', 'katie', 'kats', 'katzenzungen', 'kauaii', 'kava', 'kaviar', 'kay', 'kaylee', 'kc', 'kcal', 'kcup', 'kcups', 'keaton', 'keebler', 'keemun', 'keen', 'keenan', 'keeper', 'keeping', 'keeps', 'keffir', 'kefir', 'kegs', 'keith', 'kelapo', 'kellegg', 'kelley', 'kellog', 'kellogg', 'kelloggs', 'kellogs', 'kelloigg', 'kelly', 'kelp', 'ken', 'kenco', 'kennel', 'kent', 'kentucky', 'kenya', 'kenyan', 'kept', 'kernals', 'kernel', 'kernels', 'kerrie', 'kerruig', 'keshua', 'keshwa', 'ketchup', 'keto', 'ketogenic', 'ketone', 'kettle', 'kettles', 'keurig', 'keurigg', 'keurigs', 'keuring', 'kevala', 'kevin', 'key', 'keyboard', 'keylime', 'keys', 'keywords', 'kg', 'kg1', 'khnow', 'ki', 'kia', 'kibble', 'kibbles', 'kick', 'kicked', 'kicker', 'kickin', 'kicking', 'kicks', 'kicksforcause', 'kid', 'kiddie', 'kiddin', 'kidding', 'kiddo', 'kiddos', 'kiddush', 'kidney', 'kidneys', 'kids', 'kielbasa', 'kies', 'kikkoman', 'kikunae', 'kilambe', 'kili', 'kill', 'killed', 'killer', 'killers', 'killing', 'killingly', 'kills', 'kilo', 'kilogram', 'kilos', 'kilter', 'kimchi', 'kind', 'kinda', 'kinder', 'kindergartner', 'kindergartners', 'kindly', 'kinds', 'king', 'kingdom', 'kings', 'kingsolver', 'kinks', 'kinnikinnick', 'kipper', 'kippered', 'kippers', 'kirkland', 'kirkoswald', 'kirtland', 'kiss', 'kissed', 'kisses', 'kissing', 'kisu', 'kit', 'kitamu', 'kitchen', 'kitchenaid', 'kitchens', 'kite', 'kithen', 'kits', 'kitschy', 'kitsers', 'kitten', 'kittencal', 'kittens', 'kitters', 'kitties', 'kitty', 'kiwi', 'kix', 'kk', 'kkups', 'kl', 'klbd', 'klene', 'klonopin', 'klum', 'kluski', 'kmart', 'kmr', 'knack', 'knead', 'kneading', 'kneads', 'knee', 'kneed', 'knees', 'knew', 'knife', 'knit', 'knives', 'kno', 'knob', 'knobby', 'knobs', 'knock', 'knocked', 'knocking', 'knockoff', 'knocks', 'knorr', 'knot', 'knots', 'knott', 'knotted', 'knotts', 'know', 'knowing', 'knowingly', 'knowledge', 'knowledgeable', 'knowlege', 'known', 'knows', 'knox', 'knoxx', 'koa', 'kobe', 'kodiak', 'kofta', 'kohl', 'kojel', 'koko', 'kombuch', 'kombucha', 'komforte', 'komi', 'komodo', 'kona', 'kong', 'kongpao', 'kongs', 'kook', 'kool', 'koolaid', 'koosh', 'kopi', 'korea', 'korean', 'korma', 'korn', 'kort', 'kosher', 'kourig', 'kovacich', 'kpak', 'kpaks', 'krab', 'krabby', 'kraft', 'kratom', 'krausen', 'kraut', 'krave', 'kretek', 'krill', 'krinkle', 'krisp', 'krispie', 'krispies', 'krispy', 'krista', 'kroger', 'kronung', 'krupa', 'krups', 'krusteaz', 'ks', 'ksar', 'kthnxbai', 'kuan', 'kudos', 'kuerig', 'kuhns', 'kuireg', 'kun', 'kung', 'kup', 'kups', 'kureg', 'kurig', 'kurnals', 'kurobuta', 'kush', 'kusmi', 'kwazulu', 'kwok', 'kyjen', 'kyle', 'la', 'lab', 'label', 'labeled', 'labeling', 'labelled', 'labels', 'lable', 'labled', 'labor', 'laboratories', 'laboratory', 'laborers', 'labors', 'labour', 'labracollie', 'labrada', 'labradoodle', 'labradoodles', 'labrador', 'labradors', 'labs', 'lac05', 'lacas', 'laced', 'lack', 'lacked', 'lacking', 'lacklaster', 'lackluster', 'lacks', 'lacquered', 'lactic', 'lactobacillus', 'lactone', 'lactose', 'lad', 'laden', 'ladies', 'ladle', 'lady', 'ladybug', 'ladyfinger', 'laffy', 'lagavulin', 'lah', 'lahaina', 'laid', 'lake', 'lakes', 'laksa', 'laku', 'lam', 'lamb', 'lambs', 'lame', 'lamenting', 'lammy', 'lamp', 'lan', 'land', 'landed', 'landfill', 'landfills', 'landlord', 'landmark', 'lands', 'landscape', 'lane', 'langs', 'language', 'languages', 'lanka', 'lanky', 'lanolin', 'lansinoh', 'lantchips', 'lantern', 'laogai', 'lap', 'laphroig', 'lapped', 'lapping', 'laps', 'lapsang', 'lapsed', 'laptop', 'lara', 'larabar', 'larabars', 'larage', 'lard', 'lardo', 'larege', 'larg', 'large', 'largely', 'larger', 'largest', 'largish', 'lark', 'larousse', 'larry', 'larva', 'larvae', 'las', 'lasagne', 'lass', 'lasted', 'lastest', 'lasting', 'lastly', 'lasts', 'latched', 'latches', 'late', 'lated', 'lately', 'later', 'laters', 'latest', 'lather', 'lathered', 'lathers', 'latin', 'latte', 'lattee', 'lattes', 'laudable', 'lauded', 'lauding', 'laugh', 'laughable', 'laughed', 'laughing', 'launch', 'launched', 'laundering', 'laundry', 'laureate', 'laurel', 'laurie', 'lava', 'lavazza', 'lavazzo', 'lavender', 'lavenders', 'law', 'lawn', 'lawns', 'lawry', 'laws', 'lawsuit', 'lawyer', 'lawyers', 'laxative', 'laxatives', 'laxatone', 'laxitive', 'lay', 'layer', 'layered', 'layers', 'laying', 'layman', 'lays', 'lazier', 'laziness', 'lazy', 'lb', 'lbs', 'lc', 'ldl', 'le', 'lea', 'leach', 'leached', 'leaches', 'leaching', 'lead', 'leaded', 'leading', 'leads', 'leaf', 'leafy', 'league', 'leagues', 'leak', 'leakage', 'leaked', 'leaking', 'leaks', 'leaky', 'lean', 'leaned', 'leaner', 'leaning', 'leans', 'leap', 'leaps', 'learn', 'learned', 'learning', 'learns', 'learnt', 'leary', 'leash', 'leat', 'leather', 'leatherette', 'leathers', 'leathery', 'leave', 'leavened', 'leavening', 'leaves', 'leaving', 'leavings', 'leche', 'lechithin', 'lecithin', 'lectured', 'led', 'lee', 'leech', 'leeks', 'leeper', 'leery', 'left', 'lefted', 'leftover', 'leftovers', 'leg', 'legacy', 'legal', 'legally', 'leganza', 'legendary', 'legged', 'legible', 'legion', 'legislators', 'legit', 'legitimate', 'legitimately', 'lego', 'legs', 'lehua', 'lemme', 'lemmings', 'lemmon', 'lemon', 'lemonade', 'lemonades', 'lemongrass', 'lemonheads', 'lemons', 'lemony', 'lend', 'lends', 'length', 'lengthened', 'lengths', 'lengthy', 'lenient', 'lenoir', 'lenses', 'lent', 'lentil', 'lentils', 'lenting', 'leonard', 'leone', 'leonidas', 'leopard', 'lesions', 'lessen', 'lessened', 'lessening', 'lesser', 'lessman', 'lesson', 'lessons', 'lest', 'let', 'letdown', 'lethal', 'lethargic', 'lethargy', 'lethergic', 'letichen', 'lets', 'letter', 'lettering', 'letters', 'letting', 'lettuce', 'leukotrienes', 'level', 'leveled', 'levels', 'lever', 'lewisberry', 'lf', 'lg', 'lhasa', 'li', 'liability', 'liable', 'liam', 'liars', 'libbys', 'liberal', 'liberally', 'liberaly', 'liberty', 'library', 'libre', 'license', 'licensed', 'licenses', 'licensing', 'lichee', 'lichen', 'licheniformis', 'lichi', 'lick', 'licked', 'lickers', 'lickety', 'lickily', 'lickin', 'licking', 'lickings', 'lickins', 'licks', 'licorce', 'licorice', 'licorices', 'lid', 'lide', 'lidl', 'lids', 'lie', 'lied', 'liege', 'lies', 'liesure', 'lieu', 'life', 'lifeless', 'lifelong', 'lifesaver', 'lifesavers', 'lifespan', 'lifestyle', 'lifetime', 'lifewater', 'lift', 'lifted', 'lifter', 'lifting', 'ligament', 'ligaments', 'light', 'lightbulbs', 'lighted', 'lighten', 'lightening', 'lighter', 'lightest', 'lightheaded', 'lighting', 'lightly', 'lightness', 'lightning', 'lights', 'lightweight', 'lije', 'likable', 'like', 'likeable', 'liked', 'likelihood', 'likely', 'liken', 'likened', 'likeness', 'likens', 'likers', 'likes', 'likety', 'likewise', 'liking', 'likley', 'lil', 'lilac', 'lili', 'lilly', 'lily', 'lima', 'limb', 'limbaugh', 'limbo', 'lime', 'limeaid', 'limeeco', 'limes', 'limey', 'limit', 'limitation', 'limitations', 'limited', 'limitedly', 'limiting', 'limits', 'limon', 'limonata', 'limp', 'limpest', 'limping', 'limpless', 'limted', 'lincoln', 'linda', 'lindor', 'lindsay', 'lindt', 'line', 'lined', 'linens', 'liner', 'liners', 'lines', 'lineup', 'linger', 'lingered', 'lingerie', 'lingering', 'lingers', 'lingonberries', 'linguine', 'lining', 'linings', 'link', 'linked', 'linking', 'links', 'linoleic', 'linoleum', 'linseed', 'linus', 'lion', 'lip', 'lipid', 'lipil', 'lipoprotein', 'lipped', 'lips', 'lipton', 'liptons', 'liquefy', 'liqueur', 'liquid', 'liquids', 'liquidum', 'liquidy', 'liquified', 'liquifies', 'liquifying', 'liquor', 'liquorice', 'list', 'listed', 'listen', 'listened', 'listening', 'listens', 'listerine', 'listing', 'listings', 'listless', 'listmania', 'lists', 'listsed', 'lit', 'lite', 'liter', 'literacy', 'literal', 'literally', 'literately', 'literature', 'liters', 'litigious', 'litltle', 'litmus', 'litre', 'litte', 'litter', 'litterally', 'litterbox', 'litters', 'little', 'littler', 'livable', 'live', 'lived', 'lively', 'livened', 'livens', 'liver', 'livers', 'lives', 'livestock', 'livid', 'living', 'lizano', 'lizzie', 'lizzies', 'lkast', 'll', 'llc', 'lll', 'ln', 'lo', 'load', 'loaded', 'loading', 'loads', 'loaf', 'loathe', 'loathed', 'loaves', 'lobbying', 'lobbyists', 'lobelia', 'lobell', 'lobster', 'lobsters', 'loc', 'local', 'locality', 'locally', 'locate', 'located', 'locates', 'locating', 'location', 'locations', 'locator', 'locators', 'lock', 'locked', 'locker', 'locking', 'locks', 'loco', 'locust', 'lodge', 'lodged', 'lodges', 'loew', 'log', 'logged', 'logic', 'logical', 'logistic', 'logo', 'logs', 'lol', 'lolipop', 'lollipop', 'lollipops', 'lolol', 'lond', 'london', 'lone', 'lonely', 'long', 'longed', 'longer', 'longest', 'longevity', 'longevitywarehouse', 'longing', 'longingly', 'longmont', 'longr', 'longstanding', 'longterm', 'longtime', 'look', 'looked', 'lookimg', 'lookin', 'looking', 'lookout', 'looks', 'lookup', 'loooong', 'looooove', 'loooove', 'looooves', 'loooveed', 'loop', 'loophole', 'loops', 'loopy', 'loos', 'loose', 'loosely', 'loosen', 'loosening', 'looser', 'looses', 'loosing', 'lopped', 'lopsided', 'lorann', 'lord', 'lordy', 'lore', 'lorenzo', 'lorraine', 'loryn', 'los', 'lose', 'loser', 'loses', 'losing', 'loss', 'losses', 'lost', 'lot', 'lotion', 'lotions', 'lots', 'lotta', 'lottery', 'lotus', 'lou', 'loud', 'louder', 'loudly', 'louis', 'louisiana', 'lounge', 'lousiana', 'lousy', 'lov', 'lovaza', 'love', 'loveable', 'loved', 'lovely', 'lover', 'lovers', 'loves', 'lovethese', 'lovin', 'loving', 'lovingly', 'low', 'lowe', 'lowell', 'lower', 'lowered', 'lowering', 'lowers', 'lowes', 'lowest', 'lowfat', 'lowrey', 'lows', 'lox', 'loyal', 'loyalist', 'loyalty', 'lozenge', 'lozenges', 'lpunky', 'lt', 'lu', 'luau', 'lucini', 'lucious', 'luck', 'lucked', 'luckiest', 'luckily', 'lucks', 'lucky', 'lucuma', 'lucy', 'ludicrous', 'lug', 'luggage', 'lugging', 'luke', 'lukewarm', 'lull', 'lullaby', 'lulled', 'lulu', 'luman', 'lumbar', 'lump', 'lumpfish', 'lumps', 'lumpy', 'luna', 'lunas', 'lunch', 'lunchables', 'lunchbox', 'lunchboxes', 'lunches', 'lunchtime', 'lundberg', 'lung', 'lungs', 'lupus', 'lure', 'lures', 'lurking', 'lurks', 'luscious', 'lush', 'lustrous', 'lutheran', 'luv', 'luved', 'luwak', 'luxardo', 'luxurious', 'luxuriously', 'luxury', 'luzianne', 'luztransparente', 'ly', 'lychee', 'lycopene', 'lydia', 'lying', 'lynch', 'lynette', 'lynne', 'lysinemonohydrochloride', 'lytwyn', 'ma', 'mac', 'maca', 'macabre', 'macadamia', 'macadamias', 'macadamiat', 'macademia', 'macaroni', 'macaronis', 'macarons', 'macaroon', 'macaroons', 'maccha', 'macchiato', 'macchiatos', 'mace', 'mache', 'machiato', 'machiatto', 'machince', 'machine', 'machinery', 'machines', 'maching', 'machining', 'machne', 'mack', 'mackeral', 'mackerel', 'macro', 'macrobiotic', 'macrobiotics', 'mad', 'madagascar', 'madden', 'maddeningly', 'maddog', 'madeira', 'madeleine', 'madeleines', 'madhava', 'madhave', 'madhouse', 'madison', 'madly', 'madras', 'mae', 'maestria', 'maestro', 'mag', 'magazine', 'magenta', 'maggi', 'maggie', 'maggots', 'magic', 'magical', 'magically', 'maglaris', 'magnesium', 'magnet', 'magnificent', 'magnifico', 'magnifying', 'magnolia', 'magnum', 'magreta', 'mahalo', 'maharastra', 'mahatma', 'mahogany', 'mahogony', 'mai', 'maid', 'maids', 'mail', 'mailbox', 'mailed', 'mailer', 'mailing', 'maille', 'mailman', 'mailorder', 'mails', 'main', 'maine', 'mainland', 'mainly', 'mainstay', 'mainstream', 'maintain', 'maintained', 'maintaing', 'maintaining', 'maintains', 'maintenance', 'maison', 'maitland', 'maize', 'majic', 'major', 'majority', 'majorly', 'make', 'makeout', 'maker', 'makers', 'makes', 'makeshift', 'makeup', 'maki', 'makig', 'makign', 'making', 'maks', 'malai', 'malamute', 'malamutes', 'malarky', 'malatodexri', 'malaysia', 'malden', 'male', 'males', 'malfunction', 'malfunctioned', 'malher', 'malian', 'malic', 'malitol', 'mall', 'malleable', 'mallomar', 'mallomars', 'mallowmar', 'mallowmars', 'maloney', 'malossol', 'malt', 'malta', 'malted', 'maltese', 'malti', 'maltipoo', 'maltitol', 'maltodextrin', 'maltodextrine', 'malts', 'malty', 'mama', 'maman', 'mamas', 'mamber', 'mamma', 'mammals', 'mammarella', 'man', 'mana', 'managable', 'manage', 'manageability', 'manageable', 'manageble', 'managed', 'management', 'manager', 'managers', 'manages', 'managing', 'manchurian', 'mandarin', 'mandated', 'mandatory', 'mandheling', 'mandrin', 'mandy', 'maneuver', 'manga', 'manganese', 'manganous', 'mangia', 'mangle', 'mangled', 'mango', 'mangoes', 'mangos', 'mangosteen', 'mangrove', 'manhattan', 'manhattans', 'maniacal', 'manic', 'manicured', 'manila', 'manilla', 'manioc', 'manipulate', 'manipulating', 'manischewitz', 'manitoba', 'mankind', 'manly', 'manna', 'manner', 'mannered', 'mannitol', 'manor', 'mantra', 'manuafacturer', 'manual', 'manually', 'manuals', 'manuevering', 'manufactur', 'manufacture', 'manufactured', 'manufacturer', 'manufacturered', 'manufacturers', 'manufactures', 'manufacturing', 'manuka', 'manure', 'manuvuer', 'map', 'maple', 'mapleine', 'mapley', 'mapo', 'mar', 'maranatha', 'maraschino', 'marathon', 'marathoner', 'marathons', 'marble', 'marbled', 'marbling', 'marblized', 'marcas', 'march', 'marche', 'marcona', 'marcos', 'mardoll', 'marg', 'margareta', 'margarine', 'margarita', 'margaritas', 'margerine', 'margherita', 'margin', 'marginal', 'marginally', 'margins', 'mariachi', 'mariande', 'mariani', 'marias', 'marie', 'marielle', 'marigold', 'marinade', 'marinades', 'marinading', 'marinara', 'marinate', 'marinated', 'marinating', 'marine', 'mario', 'marion', 'marionberry', 'maritime', 'marjoram', 'marjorine', 'mark', 'marked', 'markedly', 'marker', 'markers', 'market', 'marketable', 'marketed', 'marketer', 'marketers', 'marketing', 'marketplace', 'markets', 'marketspice', 'marking', 'markings', 'marks', 'markup', 'marlene', 'marley', 'marleycoffee', 'marmalade', 'marmalades', 'marmite', 'marnier', 'marnoto', 'maroon', 'marred', 'marriage', 'married', 'marries', 'marrow', 'marry', 'mars', 'marsala', 'marshal', 'marshall', 'marshalls', 'marshals', 'marshmallow', 'marshmallows', 'marshmellow', 'marshmellows', 'mart', 'martec', 'martek', 'martelli', 'martha', 'martin', 'martini', 'martinis', 'martinson', 'marts', 'maruchan', 'marvel', 'marvelous', 'mary', 'marye', 'maryland', 'marzanos', 'marzetti', 'marzipan', 'mas', 'masa', 'masala', 'mascerated', 'maschine', 'mascot', 'masculine', 'maseca', 'mash', 'mashbill', 'mashed', 'mashing', 'mask', 'masked', 'masking', 'masks', 'mason', 'masquerading', 'mass', 'massachusetts', 'massage', 'massaged', 'massages', 'massaging', 'masses', 'massey', 'massive', 'massively', 'master', 'mastered', 'masterfood', 'masterpiece', 'masters', 'mastic', 'mastication', 'mastif', 'mastiff', 'mastro', 'mat', 'match', 'matcha', 'matchas', 'matched', 'matches', 'matching', 'mate', 'mated', 'material', 'materialize', 'materials', 'maternal', 'maternity', 'mates', 'math', 'matlitol', 'matouk', 'matt', 'mattd', 'matter', 'mattered', 'matters', 'mature', 'matzo', 'matzoh', 'matzos', 'maui', 'maunfacturer', 'maunual', 'mauro', 'maury', 'mauve', 'maverick', 'max', 'maxed', 'maxes', 'maxi', 'maximize', 'maximizing', 'maximum', 'maximus', 'maxshouse', 'maxwell', 'maxx', 'maybe', 'maybee', 'maynards', 'mayo', 'mayonaise', 'mayonaisse', 'mayonnaise', 'mays', 'mazel', 'mazipan', 'mazzetti', 'mazzola', 'mba', 'mc', 'mcase', 'mccann', 'mccanns', 'mccormick', 'mccoy', 'mcd', 'mcdolnald', 'mcdonald', 'mcdonaldland', 'mcdonalds', 'mcdougall', 'mcdougalls', 'mcevoy', 'mcfadden', 'mcg', 'mcgyver', 'mch', 'mckormick', 'mcpa', 'mcpp', 'mcts', 'mcvitie', 'mcvities', 'mcvittie', 'md', 'mde', 'me0w', 'mea', 'meadowsweet', 'meager', 'meal', 'meals', 'mealtime', 'mealtimes', 'mealy', 'mean', 'meaning', 'meaningful', 'meaningless', 'meanings', 'means', 'meant', 'meantime', 'measure', 'measured', 'measurement', 'measurements', 'measures', 'measuring', 'meat', 'meatballs', 'meaterer', 'meatier', 'meatiness', 'meatless', 'meatloaf', 'meats', 'meaty', 'mechancally', 'mechanical', 'mechanically', 'mechanism', 'med', 'medaglia', 'medal', 'medeum', 'media', 'medical', 'medically', 'medicate', 'medicating', 'medication', 'medications', 'mediciation', 'medicinal', 'medicinals', 'medicine', 'medicines', 'mediciney', 'medidicne', 'medieocre', 'mediocore', 'mediocre', 'mediocrity', 'mediterranean', 'mediterraneans', 'meditteranean', 'medium', 'mediums', 'medjool', 'medley', 'medleys', 'medline', 'meds', 'meeeeeeeeee', 'meet', 'meeting', 'meetings', 'meets', 'mef', 'mega', 'megabrand', 'megacup', 'megadose', 'megafudge', 'meh', 'mehmet', 'mehs', 'meijer', 'mein', 'meister', 'mejor', 'melamime', 'melamine', 'melange', 'melanine', 'melba', 'meld', 'melded', 'melinda', 'melipone', 'melissa', 'melita', 'melitta', 'mellitus', 'mellow', 'mellowed', 'mellowing', 'mellows', 'melon', 'melt', 'meltdown', 'melted', 'melting', 'melts', 'melty', 'member', 'members', 'membership', 'memberships', 'membranes', 'memorable', 'memories', 'memorized', 'memorizing', 'memory', 'men', 'menadione', 'mend', 'mendocino', 'menopause', 'menstral', 'menstrual', 'mental', 'mentality', 'mentally', 'mentha', 'menthe', 'menthol', 'mention', 'mentioned', 'mentioning', 'mentionning', 'mentions', 'mento', 'menu', 'meow', 'meowing', 'meows', 'meowser', 'mercado', 'mercedes', 'merchandise', 'merchandiser', 'merchant', 'merchants', 'merckens', 'mercola', 'mercury', 'mercy', 'mere', 'merely', 'merest', 'meringues', 'merit', 'merited', 'merits', 'merket', 'mermaid', 'mermaids', 'merrick', 'merritt', 'merry', 'merryville', 'mesa', 'mesh', 'meshed', 'mesmerize', 'mesmerizing', 'mesquite', 'mess', 'message', 'messages', 'messaging', 'messed', 'messes', 'messier', 'messing', 'messinia', 'messy', 'mestemacher', 'met', 'metabisulfite', 'metabolic', 'metabolife', 'metabolism', 'metabolizable', 'metabolize', 'metal', 'metalic', 'metallic', 'metamucel', 'metaphor', 'metephores', 'meter', 'meth', 'methanol', 'methinks', 'methionine', 'method', 'methodologies', 'methodology', 'methods', 'methoxide', 'methyl', 'methylene', 'methylmorpholine', 'methylsulfonylmethane', 'methymercury', 'meticulous', 'metric', 'metro', 'metromint', 'mex', 'mexican', 'mexico', 'mexicoke', 'meyer', 'mezze', 'mezzetta', 'mfg', 'mfgr', 'mfrg', 'mg', 'mgo', 'mgs', 'mi', 'mia', 'miami', 'mice', 'michael', 'michaels', 'micheal', 'michel', 'michigan', 'micom', 'micro', 'microbeads', 'microbial', 'microbrews', 'microcrystalline', 'microfiltration', 'microground', 'micronic', 'microorganisms', 'microrganisms', 'microscope', 'microscopic', 'microwavable', 'microwave', 'microwaveable', 'microwaved', 'microwaves', 'microwaving', 'mid', 'midday', 'middle', 'middles', 'middling', 'mideast', 'mideium', 'midgees', 'midget', 'midium', 'midnight', 'midpalate', 'midrange', 'midrowave', 'midterm', 'midwatch', 'midwest', 'midwife', 'miffed', 'mightily', 'mightly', 'mighty', 'migion', 'mignon', 'migraine', 'migraines', 'migrated', 'mikey', 'mil', 'milan', 'milano', 'mild', 'milder', 'mildew', 'mildly', 'mildred', 'mile', 'mileage', 'miler', 'miles', 'military', 'milk', 'milka', 'milking', 'milks', 'milkshakes', 'milky', 'millas', 'milled', 'miller', 'millet', 'milligram', 'milligrams', 'millimeter', 'millimeters', 'milling', 'million', 'millionaire', 'millions', 'mills', 'millstone', 'milo', 'milquetoast', 'mimic', 'mimicked', 'mimics', 'min', 'minature', 'mince', 'mincemeat', 'minching', 'minct', 'mind', 'minded', 'mindful', 'mindless', 'minds', 'mindset', 'mineral', 'minerally', 'minerals', 'minerva', 'mines', 'minestrone', 'mingle', 'mingnon', 'mini', 'miniature', 'minichews', 'minimal', 'minimalist', 'minimalistic', 'minimally', 'minimize', 'minimized', 'minimum', 'minis', 'minisclue', 'miniscule', 'ministrone', 'miniute', 'minneapolis', 'minneosta', 'minnesota', 'minnie', 'minon', 'minor', 'minority', 'minorly', 'minors', 'minpin', 'minpins', 'mins', 'mint', 'minterals', 'mints', 'minty', 'minumum', 'minus', 'minute', 'minutely', 'minutes', 'mio', 'mir', 'miracle', 'miracles', 'miraculous', 'miraculously', 'mirepoix', 'mirifica', 'miron', 'mirror', 'mis', 'misadvertises', 'misc', 'miscarriage', 'miscarriages', 'mischa', 'mischief', 'mischievious', 'miser', 'miserable', 'miserably', 'miserly', 'misery', 'misfilling', 'misfire', 'misfortune', 'misguided', 'misguiding', 'mishandled', 'mishandling', 'mishaps', 'mishmash', 'misinformation', 'mislabeled', 'mislabeling', 'mislead', 'misleading', 'misled', 'misnomer', 'miso', 'misprint', 'misread', 'misreading', 'misrepresent', 'misrepresentation', 'misrepresentations', 'misrepresented', 'misrepresents', 'miss', 'missed', 'misses', 'misshapen', 'missing', 'mission', 'mississippi', 'missouri', 'misstep', 'missy', 'mist', 'mistake', 'mistaken', 'mistakenly', 'mistakes', 'mistaking', 'misted', 'mister', 'misting', 'mistook', 'misty', 'misunderstand', 'misunderstanding', 'misunderstood', 'mitchell', 'mite', 'mites', 'miticides', 'mitigate', 'mitsukan', 'mix', 'mix1', 'mixed', 'mixer', 'mixers', 'mixes', 'mixing', 'mixture', 'mixtures', 'mixup', 'mizithra', 'mking', 'mkt', 'ml', 'mlc', 'mlk', 'mm', 'mmf', 'mmm', 'mmmm', 'mmmmm', 'mmmmmm', 'mmmmmmm', 'mmmmmmmm', 'mmmmmmmmmm', 'mn', 'mo', 'moaning', 'mob', 'mobile', 'mobility', 'mobster', 'mocafe', 'moccamaster', 'mocha', 'mochas', 'mochi', 'mock', 'mockery', 'mocking', 'mocktail', 'mocktails', 'moctail', 'moctails', 'mod', 'mode', 'model', 'models', 'modena', 'modenaceti', 'modeno', 'moderate', 'moderately', 'moderation', 'modern', 'modes', 'modest', 'modestly', 'modifiable', 'modification', 'modifications', 'modified', 'modifier', 'modify', 'moe', 'moering', 'mofo', 'mohter', 'moi', 'moist', 'moisten', 'moistened', 'moistening', 'moister', 'moistness', 'moisture', 'moisturing', 'moisturize', 'moisturized', 'moisturizer', 'moisturizers', 'moisturizes', 'moisturizing', 'moiturizers', 'mojave', 'mojito', 'mojitos', 'mojo', 'moka', 'mol', 'molars', 'molassas', 'molasses', 'molassesm', 'mold', 'molded', 'molding', 'molds', 'moldy', 'mole', 'molecular', 'molecule', 'molecules', 'moleman', 'moles', 'molly', 'molokai', 'molten', 'moltitol', 'molybdenum', 'mom', 'moment', 'moments', 'momma', 'mommie', 'mommies', 'mommy', 'moms', 'momtana', 'mon', 'monastery', 'monavie', 'monday', 'monde', 'money', 'moneywise', 'monies', 'moniker', 'monin', 'monitor', 'monitored', 'monju', 'monk', 'monkey', 'monkey1', 'mono', 'monoarabica', 'monocalcium', 'monoglycerides', 'mononitrate', 'monopolizing', 'monopoly', 'monosaccharides', 'monosodium', 'monotony', 'monounsat', 'monounsaturated', 'monsanto', 'monster', 'monsters', 'monstrously', 'monta', 'montana', 'monte', 'monteux', 'month', 'monthly', 'months', 'montina', 'montly', 'montmorillonite', 'montomrillonite', 'montreal', 'monument', 'moo', 'mooching', 'mood', 'moods', 'moody', 'moogabooga', 'moom', 'moon', 'moong', 'moonlight', 'moore', 'moos', 'moose', 'moosh', 'moozles', 'mopped', 'moppin', 'moral', 'morals', 'moravian', 'moreables', 'mores', 'moreso', 'moring', 'morining', 'morkie', 'morning', 'morningi', 'mornings', 'moroccan', 'morocco', 'morons', 'morph', 'morphing', 'morris', 'morrisons', 'morsals', 'morsel', 'morsels', 'mortar', 'mortars', 'morton', 'mos', 'moscow', 'moseley', 'mosey', 'moshing', 'mositness', 'mosquito', 'mosquitoes', 'mosquitos', 'moss', 'mosses', 'mossy', 'mote', 'motel', 'moth', 'mother', 'motherhood', 'mothers', 'moths', 'motion', 'motivate', 'motivated', 'motivating', 'motivation', 'motivational', 'motive', 'moto', 'motor', 'motorcycle', 'mott', 'motta', 'mottino', 'mottled', 'motto', 'mould', 'mouldy', 'mound', 'mounds', 'mount', 'mountable', 'mountain', 'mountains', 'mountaintop', 'mounted', 'mounth', 'mountian', 'mounting', 'mouse', 'mousie', 'mousse', 'moustly', 'moutain', 'mouth', 'mouthfeel', 'mouthful', 'mouthing', 'mouths', 'mouthwash', 'mouthwatering', 'moveable', 'moved', 'movement', 'movements', 'movers', 'moves', 'movie', 'movies', 'moving', 'mow', 'mowed', 'moxie', 'mozaffarian', 'mozarella', 'mozeralla', 'mozzarella', 'mp', 'mr', 'mroe', 'mrps', 'mrs', 'mrsa', 'ms', 'msg', 'msgs', 'msm', 'msrp', 'mt', 'mt500', 'mtg', 'mucous', 'mucousy', 'mucuous', 'mucus', 'mud', 'mudammas', 'muddling', 'muddy', 'mudpie', 'mudslide', 'mudslides', 'mueller', 'muesli', 'muffin', 'muffins', 'mug', 'mugs', 'mui', 'muir', 'mulberry', 'mulch', 'mule', 'mull', 'mullein', 'multi', 'multibrands', 'multigrain', 'multinational', 'multipack', 'multipacks', 'multipe', 'multiple', 'multiples', 'multiplied', 'multiplying', 'multiportion', 'multivitamin', 'mum', 'mumble', 'mumbo', 'mumu', 'munch', 'munchable', 'munched', 'munches', 'munchie', 'munchies', 'munching', 'munchkin', 'munchos', 'munchy', 'mundane', 'mung', 'municipal', 'municipalities', 'mur', 'murcky', 'murder', 'murders', 'muriel', 'murky', 'murray', 'muscatel', 'muschoom', 'muscle', 'muscles', 'muse', 'museli', 'museums', 'mush', 'mushed', 'mushier', 'mushiness', 'mushroom', 'mushrooms', 'mushroomy', 'mushy', 'music', 'musical', 'musk', 'musketeers', 'musky', 'mussel', 'mussels', 'mussini', 'mustache', 'mustang', 'mustapha', 'mustard', 'mustards', 'muster', 'mustered', 'musty', 'mut', 'mutant', 'mutants', 'mutation', 'muted', 'mutt', 'mutts', 'mycafe', 'myer', 'mylar', 'mylicon', 'myocardial', 'myriad', 'myrtle', 'myselft', 'mysteries', 'mysterious', 'mysteriously', 'mystery', 'mystified', 'mystifying', 'myth', 'mythical', 'naan', 'nabisco', 'nach', 'nacho', 'nachos', 'nada', 'naggin', 'nagging', 'nah', 'nail', 'nails', 'naive', 'najduch', 'naked', 'namaste', 'namby', 'named', 'nameless', 'names', 'namesake', 'naming', 'nana', 'nanas', 'nance', 'nancy', 'nando', 'nantucket', 'nap', 'napili', 'napkin', 'napkins', 'naples', 'napoleon', 'napping', 'narnia', 'narob', 'narrow', 'narrowed', 'narrower', 'narrows', 'nas', 'nasa', 'nasal', 'nasopharynx', 'nastier', 'nasties', 'nastiest', 'nastiness', 'nasty', 'nat', 'nathan', 'nation', 'national', 'nations', 'nationwide', 'native', 'natro', 'natually', 'natura', 'natural', 'naturala', 'naturallly', 'naturally', 'naturalness', 'naturals', 'naturbosco', 'nature', 'natured', 'natures', 'naturopath', 'naturopaths', 'naught', 'naughty', 'nausea', 'nauseate', 'nauseated', 'nauseating', 'nauseatingly', 'nauseous', 'nauseum', 'nausia', 'nausiating', 'nautral', 'navajo', 'navigate', 'navitas', 'navitasnaturals', 'navratan', 'navy', 'nawlins', 'nay', 'nb', 'nc', 'nd', 'ne', 'neapolitan', 'near', 'nearby', 'nearest', 'nearly', 'neat', 'neated', 'neater', 'neatest', 'neatly', 'nebraska', 'neccesarily', 'necco', 'neccos', 'necessarily', 'necessary', 'necessity', 'neck', 'necropsy', 'necta', 'nectar', 'nectarines', 'nectars', 'nectresse', 'nee', 'need', 'needed', 'needing', 'needle', 'needles', 'needless', 'needs', 'needt', 'negate', 'negated', 'negates', 'negating', 'negative', 'negatively', 'negatives', 'neglect', 'neglected', 'negligence', 'negligible', 'negris', 'neice', 'neighbor', 'neighborhood', 'neighbors', 'neighbour', 'neo', 'neon', 'neonate', 'neopolitan', 'neosure', 'nephew', 'nephews', 'nerds', 'nerdy', 'nero', 'nerve', 'nervous', 'nervousness', 'nescafe', 'nescfe', 'nesco', 'neslo', 'nespesso', 'nespresso', 'nesquik', 'ness', 'nest', 'nestea', 'nested', 'nestle', 'nestles', 'nestley', 'nests', 'net', 'nether', 'netherlands', 'neti', 'netting', 'nettle', 'nettles', 'network', 'neuman', 'neuro', 'neuroendocrine', 'neurological', 'neuropathology', 'neuroscientists', 'neurotic', 'neurotoxin', 'neurotoxins', 'neutered', 'neutral', 'neutralized', 'neutralizes', 'neutralizing', 'neutrogena', 'nevada', 'nevermind', 'nevr', 'new', 'newbee', 'newborn', 'newer', 'newest', 'newf', 'newly', 'newlyweds', 'newman', 'newmann', 'newmans', 'news', 'newspaper', 'newspapers', 'newton', 'newtons', 'ngredients', 'nguyen', 'niacin', 'niacinamide', 'niaspan', 'nib', 'nibble', 'nibbled', 'nibblers', 'nibbles', 'nibbling', 'niblets', 'nibs', 'nicaragua', 'nicaraguan', 'nice', 'nicely', 'nicer', 'nicest', 'niche', 'nick', 'nickel', 'nickle', 'nicks', 'nicoise', 'nicotene', 'nicotine', 'nicu', 'nido', 'niece', 'nieces', 'niederegger', 'nielsen', 'nifty', 'niger', 'nigh', 'night', 'nightly', 'nightmare', 'nightmares', 'nights', 'nighttime', 'nignt', 'nih', 'nile', 'nilla', 'ninja', 'nintendo', 'nip', 'nipple', 'nipples', 'nips', 'nirav', 'nirvana', 'nishimoto', 'nissin', 'nit', 'nite', 'nitrate', 'nitrates', 'nitric', 'nitrite', 'nitrogen', 'nitrosamines', 'nitroso', 'nix', 'nj', 'noah', 'noamally', 'nobel', 'noble', 'nobu', 'nocks', 'nocs', 'nod', 'nodding', 'noddles', 'nodoz', 'nog', 'noiced', 'noir', 'noire', 'noise', 'noises', 'noisette', 'noisily', 'noisy', 'nola', 'nolonger', 'nom', 'nominal', 'nominally', 'nominated', 'nominations', 'nomshim', 'non', 'nonchalant', 'nondairy', 'nondescript', 'nonessential', 'nonesuch', 'nonetheless', 'nonexistent', 'nonfat', 'nong', 'nongshim', 'nonni', 'nonnie', 'nonnies', 'nonscientific', 'nonsense', 'nonstick', 'nonstop', 'nonsweet', 'nont', 'nonuts', 'noodels', 'noodle', 'noodles', 'nooks', 'noolde', 'noon', 'noooo', 'noooooooooo', 'nope', 'nordic', 'nordicware', 'nori', 'norm', 'normal', 'normalized', 'normally', 'norpro', 'north', 'northeast', 'northeastern', 'northern', 'northridge', 'northwest', 'norwalk', 'norway', 'norwegian', 'nos', 'nose', 'nosed', 'noses', 'noshing', 'nost', 'nostalgia', 'nostalgic', 'nostril', 'nostrils', 'notable', 'notably', 'notch', 'notcied', 'note', 'noteced', 'noted', 'notes', 'noteworthy', 'nothign', 'noticable', 'noticably', 'notice', 'noticeable', 'noticeably', 'noticealbly', 'noticed', 'notices', 'noticing', 'notification', 'notified', 'notify', 'notifying', 'noting', 'notions', 'notorious', 'notoriously', 'nottingham', 'notwithstanding', 'nougat', 'noun', 'nourish', 'nourished', 'nourishing', 'nourishment', 'nov', 'nov03', 'novel', 'novels', 'novelty', 'november', 'novice', 'novices', 'novoandina', 'nowadays', 'nowwwwww', 'nozzle', 'npr', 'ns', 'nt', 'ntilde', 'ntingwe', 'nuance', 'nuances', 'nub', 'nubby', 'nubs', 'nucat', 'nuclear', 'nude', 'nudged', 'nueske', 'nueva', 'nuf', 'nuff', 'nugat', 'nugets', 'nugget', 'nuggets', 'nugo', 'nuisance', 'nuke', 'nuked', 'nuking', 'nullify', 'num', 'numb', 'number', 'numbers', 'numbing', 'numbness', 'numbs', 'numero', 'numerous', 'numi', 'numirus', 'nummy', 'nunaturals', 'nunavut', 'nurnberg', 'nurnberger', 'nurse', 'nursed', 'nursery', 'nurses', 'nursing', 'nurture', 'nut', 'nutella', 'nutes', 'nutirent', 'nutition', 'nutiva', 'nutless', 'nutmeg', 'nutra', 'nutrajoint', 'nutramax', 'nutramigen', 'nutrasweet', 'nutri', 'nutricious', 'nutricity', 'nutrident', 'nutrient', 'nutrients', 'nutrional', 'nutrious', 'nutrisca', 'nutrisoda', 'nutrisodas', 'nutrisweet', 'nutrition', 'nutritional', 'nutritional_benefits_hemp', 'nutritionally', 'nutritionals', 'nutritionist', 'nutritionists', 'nutritious', 'nutritiously', 'nutritive', 'nutrium', 'nutro', 'nuts', 'nutsedge', 'nutshell', 'nutter', 'nutters', 'nutthins', 'nuttier', 'nuttiness', 'nutty', 'nuun', 'nuvet', 'nuwave', 'nv', 'nw', 'ny', 'nyc', 'nylabone', 'nylabones', 'nylon', 'nyquil', 'nys', 'nz', 'o_o', 'oahu', 'oak', 'oat', 'oatcakes', 'oatey', 'oatmeal', 'oatmeals', 'oats', 'oaty', 'obedience', 'obedient', 'oberta', 'oberto', 'obese', 'obesity', 'obey', 'object', 'objected', 'objection', 'objectionable', 'objectional', 'objections', 'objective', 'objectively', 'objects', 'obligate', 'obligated', 'obligatory', 'obliged', 'obliterated', 'oblivion', 'obnoxious', 'obscene', 'obscenely', 'obscure', 'obscured', 'observant', 'observation', 'observational', 'observations', 'observed', 'observer', 'observing', 'obsessed', 'obsessions', 'obsessiontea', 'obsidian', 'obstacle', 'obstacles', 'obstical', 'obstruction', 'obtain', 'obtainable', 'obtained', 'obtaining', 'obtrusive', 'obvious', 'obviously', 'oc', 'ocassional', 'ocassions', 'occaisional', 'occasion', 'occasional', 'occasionally', 'occasionaly', 'occasions', 'occassion', 'occassional', 'occassionally', 'occupied', 'occupies', 'occupy', 'occupying', 'occur', 'occurance', 'occured', 'occurence', 'occurred', 'occurrence', 'occurring', 'occurs', 'ocd', 'ocean', 'oceanfish', 'ocha', 'oct', 'oct2013', 'october', 'octopus', 'octupus', 'od', 'odd', 'oddly', 'oddness', 'odds', 'odea', 'oden', 'oder', 'odered', 'odiferous', 'odor', 'odorless', 'odors', 'oehser', 'oelschlager', 'oen', 'oesophageal', 'oeuvres', 'of4', 'offed', 'offend', 'offended', 'offender', 'offending', 'offends', 'offense', 'offensive', 'offer', 'offered', 'offering', 'offerings', 'offerning', 'offers', 'office', 'officemate', 'officepro', 'offices', 'official', 'officially', 'officials', 'offload', 'offloading', 'offor', 'offputting', 'offs', 'offset', 'oftentimes', 'ofter', 'og', 'oganic', 'ogling', 'oh', 'ohama', 'ohao', 'ohio', 'ohsawa', 'oi', 'oikos', 'oil', 'oiled', 'oiliness', 'oils', 'oily', 'oilyness', 'oine', 'oj', 'ok', 'okay', 'okc', 'okchahac', 'okinawa', 'okonomiyaki', 'okra', 'ol', 'old', 'olde', 'older', 'oldest', 'olds', 'ole', 'olean', 'oleic', 'olein', 'oleta', 'olive', 'olives', 'ollie', 'olney', 'oloroso', 'omaha', 'omahas', 'omega', 'omega3', 'omegas', 'omelets', 'omg', 'omission', 'omit', 'omitted', 'omnivore', 'omnivores', 'omnivorous', 'omnomnom', 'oncologist', 'oneness', 'ones', 'ongoing', 'onine', 'onion', 'onions', 'oniony', 'online', 'onlinen', 'ons', 'onset', 'ont', 'ontime', 'onward', 'ony', 'oo', 'ooey', 'oohing', 'oolong', 'oolongs', 'oolor', 'ooma', 'oomph', 'ooof', 'oooh', 'ooops', 'oops', 'ooze', 'oozes', 'oozing', 'op', 'opaque', 'opaqueness', 'opd', 'opeing', 'open', 'openable', 'opened', 'opener', 'opening', 'openly', 'openned', 'opens', 'operate', 'operates', 'operating', 'operation', 'operations', 'operative', 'operatives', 'operfect', 'opertunity', 'ophelia', 'opinion', 'opinions', 'opinoin', 'opionion', 'opium', 'oposite', 'oppenheim', 'oppinion', 'opportunities', 'opportunity', 'opposed', 'opposite', 'opposites', 'oppossum', 'opt', 'opted', 'optimal', 'optimally', 'optimistic', 'optimize', 'optimized', 'optimizing', 'optimum', 'option', 'optional', 'options', 'optuion', 'oragnic', 'oral', 'orange', 'oranges', 'orangey', 'orangeyness', 'orangina', 'orangy', 'orbit', 'orbitz', 'orca', 'orchard', 'orchestrated', 'orchid', 'ordeal', 'order', 'orderagain', 'orderd', 'ordered', 'ordering', 'orderly', 'orders', 'ordinarily', 'ordinary', 'ording', 'ordor', 'ordred', 'ordrer', 'ore', 'orecciette', 'oreded', 'oredered', 'oredering', 'oregano', 'oregon', 'oregonian', 'orem', 'oreo', 'oreos', 'org', 'orgain', 'organ', 'organic', 'organics', 'organism', 'organisms', 'organix', 'organization', 'organizations', 'organized', 'organizer', 'organizing', 'organo', 'organs', 'orgasmically', 'orginal', 'orginally', 'orichiette', 'orient', 'oriental', 'orientation', 'oriented', 'orig', 'origin', 'original', 'originale', 'originali', 'originally', 'originals', 'originated', 'originates', 'origins', 'origional', 'orignal', 'orijen', 'orijin', 'orkney', 'orlando', 'orleans', 'ornamental', 'ornery', 'oro', 'ortega', 'orville', 'oryzae', 'orzo', 'os', 'oscar', 'ose', 'osem', 'oskri', 'osmosis', 'oster', 'ostrich', 'ostrim', 'ot', 'otc', 'otcmaster', 'othet', 'otho', 'otis', 'otoh', 'otter', 'otto', 'ou', 'oubvious', 'ouch', 'ought', 'ounce', 'ouncer', 'ounces', 'ourpets', 'ourspydem', 'outback', 'outbreak', 'outcome', 'outcomes', 'outdated', 'outdates', 'outdone', 'outdoor', 'outdoors', 'outer', 'outfits', 'outgrew', 'outgrowing', 'outing', 'outings', 'outlandish', 'outlast', 'outlaw', 'outlawed', 'outlay', 'outlet', 'outlets', 'outlined', 'outlive', 'outpost', 'output', 'outrage', 'outrageous', 'outrageously', 'outright', 'outs', 'outset', 'outside', 'outsource', 'outsourced', 'outsourcing', 'outstanding', 'outta', 'outvoted', 'outweigh', 'outweighed', 'outweighs', 'outweight', 'ov', 'oval', 'ovaltine', 'ove', 'oven', 'ovenproof', 'ovens', 'ovepowering', 'overabundance', 'overact', 'overall', 'overalls', 'overbaked', 'overbearing', 'overbearingly', 'overblown', 'overboard', 'overbrew', 'overbrewing', 'overbright', 'overcame', 'overcharging', 'overcome', 'overcook', 'overcooked', 'overdo', 'overdoing', 'overdone', 'overdose', 'overdosing', 'overdrive', 'overdue', 'overeating', 'overfeed', 'overfishing', 'overflow', 'overflowed', 'overflowing', 'overflows', 'overhaul', 'overhead', 'overindulge', 'overindulgence', 'overjoyed', 'overkill', 'overload', 'overloaded', 'overlook', 'overlooked', 'overlooking', 'overly', 'overnight', 'overpayed', 'overpaying', 'overpour', 'overpower', 'overpowered', 'overpowering', 'overpoweringly', 'overpowers', 'overprice', 'overpriced', 'overpricing', 'overprocessed', 'overpump', 'overrated', 'overreacted', 'overreacting', 'override', 'overriden', 'overrides', 'overriding', 'overrun', 'overs', 'oversalted', 'oversalting', 'oversea', 'overseas', 'overseasoned', 'overseasoning', 'overshadowed', 'oversight', 'oversize', 'oversized', 'overstacked', 'oversteep', 'overstock', 'overstuffed', 'oversweet', 'oversweetened', 'overtakes', 'overtaste', 'overtime', 'overtly', 'overtone', 'overtones', 'overtook', 'overused', 'overview', 'overwatering', 'overweight', 'overwelming', 'overwhelm', 'overwhelmed', 'overwhelming', 'overwhelmingly', 'overwhelms', 'overwired', 'ovre', 'owe', 'owed', 'owing', 'owl', 'owned', 'owner', 'owners', 'owning', 'owns', 'ox_sc_act_title_1', 'oxalate', 'oxalis', 'oxidant', 'oxidants', 'oxidation', 'oxidative', 'oxide', 'oxident', 'oxidents', 'oxidize', 'oxidized', 'oxidizes', 'oxygen', 'oxygenated', 'oxymoron', 'oyster', 'oysters', 'oz', 'ozarka', 'ozbo', 'ozone', 'ozs', 'ozzie', 'p90x', 'pa', 'pac', 'pacakged', 'pace', 'paces', 'pacific', 'pacing', 'pack', 'packable', 'package', 'packaged', 'packages', 'packagge', 'packaging', 'packed', 'packer', 'packet', 'packets', 'packettes', 'packges', 'packing', 'packs', 'pad', 'padano', 'padaria', 'padded', 'padding', 'paddle', 'paddywhack', 'padres', 'pads', 'paducah', 'page', 'pages', 'paid', 'pail', 'pails', 'pain', 'painful', 'painfully', 'painlessly', 'pains', 'paint', 'painted', 'painting', 'paints', 'pair', 'paired', 'pairing', 'pairs', 'pajamas', 'pak', 'pakcage', 'pakcof', 'pakistan', 'paks', 'pal', 'palak', 'palatable', 'palatal', 'palate', 'palates', 'pale', 'paleo', 'paleolithic', 'paler', 'pales', 'palestine', 'palet', 'paletable', 'palette', 'pallate', 'pallet', 'palletable', 'palm', 'palmer', 'palming', 'palmitate', 'palouse', 'palpable', 'pals', 'pam', 'pamala', 'pamby', 'pamela', 'pamelas', 'pamper', 'pampered', 'pampering', 'pamphlet', 'pams', 'pan', 'panacea', 'panache', 'panama', 'panamanian', 'panang', 'panasonic', 'panax', 'panca', 'pancackes', 'pancake', 'pancakes', 'pancreas', 'pancreatic', 'pancreatitis', 'panda', 'pandan', 'pander', 'pandora', 'paneeer', 'paneer', 'panel', 'panels', 'panettone', 'panforte', 'pang', 'pangs', 'panic', 'panni', 'panning', 'panos', 'panosteitis', 'pans', 'pant', 'pantene', 'pantothenate', 'pantry', 'pants', 'pantsy', 'pantyhose', 'pao', 'papain', 'papaya', 'paper', 'paperboard', 'paperclip', 'papers', 'papillions', 'papillomas', 'papillon', 'papillons', 'pappardalle', 'pappardelle', 'papper', 'paprica', 'paprika', 'paprikas', 'par', 'para', 'parade', 'paradise', 'paradox', 'paraffin', 'paraffinum', 'paragon', 'paragraph', 'parakeets', 'paralysis', 'paralyzed', 'parameters', 'paramount', 'paranoia', 'paranoid', 'paranormal', 'parasite', 'parasites', 'parboiled', 'parcel', 'parched', 'pardon', 'pareil', 'parent', 'parenthesis', 'parenting', 'parents', 'pareve', 'parfait', 'parfeclty', 'parfume', 'paring', 'paris', 'parisian', 'parisien', 'park', 'parked', 'parking', 'parkinson', 'parks', 'parm', 'parma', 'parmacotto', 'parmesan', 'parmesean', 'parmesiana', 'parmigiano', 'parody', 'parpadelle', 'parsing', 'parsley', 'parsnip', 'parsnips', 'parson', 'partake', 'parted', 'parthenon', 'partial', 'partially', 'partialy', 'participant', 'participants', 'participate', 'participated', 'particle', 'particles', 'particular', 'particularly', 'particulary', 'particulates', 'particules', 'parties', 'parting', 'partly', 'partner', 'partnership', 'parts', 'party', 'parve', 'paskesz', 'paso', 'pass', 'passable', 'passage', 'passed', 'passes', 'passify', 'passing', 'passion', 'passionate', 'passionately', 'passionfruit', 'passive', 'past', 'pasta', 'pastas', 'paste', 'pasted', 'pastel', 'pastes', 'pasteurization', 'pasteurize', 'pasteurized', 'pastey', 'pastic', 'pastries', 'pastry', 'pasts', 'pasture', 'pasty', 'pat', 'patae', 'patak', 'pataks', 'patch', 'patched', 'patches', 'pate', 'patel', 'patent', 'patented', 'patently', 'patents', 'pates', 'path', 'pathetic', 'pathetically', 'paths', 'pathway', 'paticular', 'patience', 'patient', 'patiently', 'patients', 'patio', 'pato', 'patricia', 'patrick', 'pats', 'patten', 'pattern', 'pattie', 'pattied', 'patties', 'patting', 'patty', 'patyk', 'pau', 'paul', 'paula', 'pauling', 'pause', 'paused', 'paved', 'pavement', 'pavlov', 'pavoni', 'paw', 'pawed', 'pawing', 'pawn', 'paws', 'paxo', 'pay', 'payday', 'paydirt', 'payed', 'paying', 'payload', 'payment', 'payments', 'pays', 'pb', 'pb2', 'pba', 'pbjs', 'pc', 'pca', 'pcb', 'pcos', 'pcp', 'pcs', 'pdf', 'pdq', 'pds', 'pea', 'peaberries', 'peaberry', 'peace', 'peaceful', 'peaces', 'peach', 'peaches', 'peachiness', 'peachy', 'peacock', 'peak', 'peaked', 'pealed', 'peanut', 'peanutbutter', 'peanuts', 'peanutty', 'peanuty', 'peapod', 'pear', 'pearl', 'pearled', 'pearls', 'pears', 'pearsons', 'peas', 'peat', 'pebble', 'pebbles', 'pecan', 'pecans', 'pecorino', 'pectin', 'peculiar', 'ped', 'pedal', 'pedestrian', 'pediagree', 'pediatrician', 'pediatricians', 'pediatrics', 'pedigree', 'pedigrees', 'pee', 'peek', 'peeked', 'peeking', 'peel', 'peeled', 'peeling', 'peels', 'peer', 'peers', 'pees', 'peet', 'peets', 'peeuwww', 'pefect', 'peforated', 'pefrect', 'pegetables', 'pei', 'peice', 'peicer', 'peices', 'pekingese', 'pekingnese', 'pelased', 'pele', 'peligrino', 'pellegrino', 'pellet', 'pellets', 'peloponesus', 'pembroke', 'pen', 'penalty', 'penance', 'penang', 'pence', 'pencil', 'pending', 'pendleton', 'penelope', 'penetrate', 'penetrates', 'penguinmints', 'penises', 'penne', 'pennies', 'pennsylvania', 'penny', 'pensacola', 'penzey', 'penzys', 'people', 'peoplefood', 'peoples', 'pep', 'pepito', 'pepped', 'pepper', 'peppercorn', 'peppercorns', 'peppered', 'pepperidge', 'peppermill', 'peppermint', 'peppermints', 'pepperminty', 'pepperoncini', 'pepperoncinis', 'pepperoni', 'peppers', 'peppery', 'pepporoni', 'peppy', 'pepsi', 'pepsico', 'pepsin', 'pepto', 'peptones', 'perceived', 'percent', 'percentage', 'percentages', 'percentile', 'perceptible', 'perception', 'perceptions', 'perceptive', 'percieved', 'percolation', 'percolator', 'peregrinating', 'perfct', 'perfect', 'perfectamente', 'perfected', 'perfecting', 'perfection', 'perfectly', 'perfecto', 'perfer', 'perfers', 'perforated', 'perforations', 'perform', 'performance', 'performances', 'performed', 'performer', 'performing', 'performs', 'perfume', 'perfumed', 'perfumes', 'perfumey', 'perfumy', 'peril', 'perimeter', 'period', 'periodically', 'periods', 'peripheral', 'perishable', 'perishables', 'perk', 'perkiness', 'perking', 'perks', 'perky', 'permalink', 'permanantly', 'permanent', 'permanently', 'permeate', 'permeates', 'permethrin', 'permieter', 'permit', 'permitted', 'permutation', 'permutations', 'pernigotti', 'pero', 'peroni', 'peroxide', 'perpetually', 'perplexed', 'perrier', 'perrins', 'perscription', 'perservatives', 'persevered', 'persian', 'persians', 'persimmons', 'persist', 'persisted', 'persistent', 'persistently', 'persnickety', 'persnickity', 'person', 'personal', 'personalitea', 'personalities', 'personality', 'personalized', 'personally', 'personnal', 'personnally', 'persons', 'perspective', 'persperant', 'persuaded', 'pertfect', 'peru', 'perugina', 'peruse', 'perused', 'perusing', 'peruvian', 'pesky', 'pessimist', 'pest', 'pester', 'pestering', 'pesticide', 'pesticides', 'pestle', 'pesto', 'pests', 'pet', 'petals', 'petco', 'pete', 'peter', 'peterreeve', 'peters', 'peterson', 'petfood', 'petfooddirect', 'petguard', 'petit', 'petite', 'petmart', 'petmate', 'petproductssettlement', 'petrified', 'petrochemicals', 'petrolatum', 'petroleum', 'petropics', 'pets', 'petsafe', 'petsmart', 'petsmarts', 'petstore', 'petty', 'petunia', 'petunias', 'petzlife', 'pevention', 'pez', 'pf', 'pfffft', 'pftt', 'pg', 'pgh', 'pgpr', 'pgt', 'ph', 'phals', 'pharma', 'pharmaceutical', 'pharmaceuticals', 'pharmacy', 'phase', 'phases', 'phasing', 'phenolpthalein', 'phenomenal', 'phenomenally', 'phenominally', 'phenylalanie', 'phenylalanine', 'phew', 'philadelphia', 'philippine', 'philippines', 'philips', 'philistines', 'phillips', 'philosophically', 'philosophy', 'phlegmy', 'pho', 'phobia', 'phoenix', 'phone', 'phoned', 'phones', 'phonographic', 'phony', 'phoo', 'phosophoric', 'phosphate', 'phosphoric', 'phosphorous', 'phosphorus', 'photo', 'photocopy', 'photograph', 'photographed', 'photographs', 'photography', 'photos', 'phrase', 'phrases', 'phthalate', 'physcian', 'physical', 'physically', 'physician', 'physiology', 'phytosterols', 'pi', 'piad', 'piana', 'pic', 'picanta', 'picante', 'picholine', 'pick', 'picked', 'pickey', 'pickier', 'pickiest', 'pickin', 'picking', 'pickings', 'pickle', 'pickled', 'pickles', 'pickling', 'picks', 'pickup', 'picky', 'picnic', 'picnics', 'pico', 'pics', 'pictographic', 'picture', 'pictured', 'pictures', 'pie', 'piece', 'pieced', 'pieces', 'piecrust', 'pienaroma', 'pier', 'pierce', 'pierced', 'piercer', 'pierces', 'piercing', 'pierre', 'pies', 'pig', 'piglets', 'pigs', 'pike', 'pikes', 'pilaf', 'pilafs', 'pile', 'piled', 'piles', 'piling', 'pill', 'pillar', 'pillars', 'pilled', 'pilling', 'pillow', 'pillows', 'pillowy', 'pills', 'pillsbury', 'pim', 'pimento', 'pimiento', 'pimple', 'pimples', 'pims', 'pin', 'pina', 'pinch', 'pinching', 'pinchingly', 'pindi', 'pine', 'pineapple', 'pineapples', 'pinenut', 'piney', 'ping', 'pingos', 'pinhead', 'pink', 'pinkish', 'pinnacle', 'pinnapples', 'pinot', 'pinpoint', 'pinpointed', 'pins', 'pinscher', 'pint', 'pinto', 'pintos', 'pints', 'pinwheels', 'pioneer', 'pioneered', 'pipe', 'pipeline', 'piperita', 'piping', 'pips', 'piquant', 'piqued', 'pirana', 'pirate', 'pirates', 'pirouline', 'piss', 'pissed', 'pistacchio', 'pistachio', 'pistachios', 'pistacio', 'pistashios', 'pit', 'pita', 'pitas', 'pitbull', 'pitbulls', 'pitch', 'pitched', 'pitcher', 'pitching', 'pitfall', 'pith', 'pitiful', 'pits', 'pitt', 'pitted', 'pittsburgh', 'pity', 'pixie', 'pizazz', 'pizza', 'pizzas', 'pizzaz', 'pizzazz', 'pizzle', 'pizzles', 'pj', 'pk', 'pkg', 'pkgs', 'pks', 'pkts', 'place', 'placebo', 'placed', 'placement', 'places', 'placing', 'plague', 'plain', 'plainly', 'plan', 'plane', 'planes', 'planet', 'planned', 'planning', 'plano', 'plans', 'plant', 'plantain', 'plantarum', 'plantation', 'planted', 'planter', 'planters', 'plantin', 'planting', 'plants', 'plaque', 'plaster', 'plastered', 'plastic', 'plasticky', 'plastics', 'plasticware', 'plasticy', 'plate', 'plateau', 'plates', 'platform', 'platforms', 'platic', 'platinum', 'plato', 'platos', 'platter', 'play', 'playbook', 'playdate', 'playdates', 'played', 'player', 'players', 'playful', 'playground', 'playing', 'plays', 'plaza', 'plead', 'pleading', 'pleas', 'pleasant', 'pleasantly', 'pleasantness', 'pleaseant', 'pleased', 'pleasent', 'pleaser', 'pleases', 'pleasing', 'pleasingly', 'pleasurable', 'pleasure', 'pleasures', 'plebian', 'pledge', 'pledged', 'plentiful', 'plenty', 'plesant', 'plethora', 'pliable', 'pliant', 'pliers', 'plocky', 'plop', 'plopped', 'plot', 'plowed', 'plowing', 'ploy', 'pls', 'plsin', 'plucked', 'plug', 'plugged', 'plugging', 'plugs', 'plum', 'plumb', 'plummeted', 'plummit', 'plump', 'plumper', 'plumping', 'plumrose', 'plums', 'plunge', 'plunged', 'plunger', 'plunking', 'plural', 'plus', 'pluse', 'pluses', 'plywood', 'plz', 'pm', 'pms', 'pn', 'po', 'poached', 'poachers', 'pocari', 'pocket', 'pocketbook', 'pockets', 'pocky', 'pod', 'podmerchant', 'pods', 'poem', 'point', 'pointed', 'pointer', 'pointers', 'pointing', 'pointless', 'points', 'poised', 'poison', 'poisoned', 'poisoning', 'poisonous', 'poisonously', 'poisons', 'poke', 'poked', 'poker', 'poking', 'poland', 'polar', 'polar2', 'polarizing', 'pole', 'polenta', 'poles', 'police', 'policy', 'polish', 'polished', 'polishing', 'polite', 'political', 'politically', 'politics', 'pollan', 'pollinate', 'pollinates', 'pollo', 'pollute', 'polluted', 'polluting', 'pollution', 'pollux', 'poly', 'polycarbonate', 'polyester', 'polyethylene', 'polymer', 'polynesian', 'polyphenol', 'polyphenols', 'polyphosphate', 'polysaccharide', 'polyscias', 'polysorbate', 'polyunsat', 'polyunsaturated', 'polyurethane', 'pom', 'pomace', 'pomagranate', 'pomegranate', 'pomegranates', 'pomegrantes', 'pomeranian', 'pomeranians', 'pomi', 'pommegranate', 'pomodoro', 'pomonas', 'pompadour', 'pompeian', 'pond', 'pondering', 'pong', 'pontefract', 'pony', 'ponzu', 'poo', 'pooch', 'pooches', 'poodle', 'poodles', 'poof', 'poofs', 'pooky', 'pool', 'pooled', 'pools', 'poop', 'pooped', 'pooping', 'poops', 'poopy', 'poor', 'poore', 'poorest', 'poorly', 'poos', 'pop', 'popchip', 'popchips', 'popcicles', 'popcorn', 'popcorners', 'popcornopolis', 'popcorns', 'pope', 'poped', 'poping', 'popocorn', 'poppability', 'poppable', 'popped', 'popper', 'poppers', 'poppin', 'popping', 'poppy', 'poppycock', 'poppyseed', 'pops', 'popsicle', 'poptart', 'poptarts', 'populace', 'popular', 'popularity', 'popularly', 'population', 'populations', 'porcelain', 'porch', 'porcini', 'porcinis', 'porducts', 'pored', 'pores', 'pork', 'porky', 'porn', 'porous', 'porray', 'porride', 'porridge', 'port', 'portabella', 'portability', 'portable', 'portablitiy', 'portablt', 'portafilter', 'porterhouse', 'portillo', 'portion', 'portioned', 'portioning', 'portions', 'portland', 'portrait', 'portraying', 'pose', 'posed', 'poses', 'position', 'positioned', 'positions', 'positive', 'positively', 'positives', 'positve', 'posses', 'possessed', 'possesses', 'possessing', 'possession', 'possessive', 'possibilities', 'possibility', 'possible', 'possibly', 'post', 'postage', 'postal', 'posted', 'poster', 'posters', 'posting', 'postings', 'postive', 'postmark', 'postprandial', 'posts', 'postum', 'pot', 'potao', 'potasium', 'potassium', 'potassiumchloride', 'potato', 'potatoe', 'potatoes', 'potatoey', 'potator', 'potatos', 'potency', 'potent', 'potential', 'potentially', 'potful', 'potfull', 'potion', 'pots', 'potted', 'potter', 'pottery', 'potties', 'potting', 'potty', 'pouch', 'pouched', 'pouches', 'pouf', 'poulet', 'poultry', 'pouncake', 'pounce', 'pounces', 'pounch', 'pound', 'pounded', 'pounder', 'pounding', 'pounds', 'poupon', 'poupourri', 'pour', 'pourable', 'poured', 'pouring', 'pours', 'pouts', 'pow', 'powder', 'powderd', 'powdered', 'powders', 'powdery', 'powedered', 'power', 'powerade', 'powerbar', 'powerberry', 'powered', 'powerful', 'powerhouse', 'powering', 'powers', 'pp', 'ppi', 'ppl', 'ppm', 'ppppp', 'pps', 'pr', 'practical', 'practically', 'practice', 'practices', 'practise', 'prairie', 'praise', 'praised', 'praises', 'praising', 'praline', 'pralines', 'prancing', 'prandial', 'pray', 'prayed', 'prayers', 'pre', 'prebiotic', 'prebiotics', 'precaution', 'precautions', 'preceded', 'precessed', 'precious', 'precipitate', 'precise', 'precisely', 'precision', 'precludes', 'preconceived', 'precooked', 'precursor', 'precursors', 'predate', 'predator', 'predetermined', 'predicament', 'predicated', 'predict', 'predilections', 'predisposed', 'prednisone', 'predominance', 'predominant', 'predominantly', 'predominate', 'predominately', 'predominates', 'preemies', 'preface', 'prefect', 'prefer', 'preferable', 'preferably', 'preferance', 'prefered', 'preference', 'preferences', 'preferential', 'preferida', 'preferred', 'preferrence', 'preferring', 'prefers', 'preggo', 'pregnancy', 'pregnant', 'prego', 'pregrinding', 'preheat', 'preheated', 'preium', 'prejudice', 'prejudices', 'preload', 'premade', 'premature', 'prematurely', 'premeasured', 'premier', 'premise', 'premises', 'premium', 'premiums', 'premixed', 'prenatal', 'prep', 'prepackaged', 'prepaid', 'prepara', 'preparation', 'preparations', 'prepare', 'prepared', 'preparing', 'preperation', 'preposterously', 'prepped', 'pres', 'presa', 'preschool', 'preschooler', 'presciptions', 'prescored', 'prescribe', 'prescribed', 'prescribes', 'prescription', 'prescriptions', 'presence', 'presense', 'present', 'presentable', 'presentation', 'presentations', 'presented', 'presenting', 'presently', 'presents', 'preservation', 'preservative', 'preservatives', 'preserve', 'preserved', 'preserves', 'preserving', 'presevatives', 'presided', 'president', 'presient', 'press', 'pressed', 'presses', 'pressing', 'pressure', 'pressurized', 'presto', 'presumably', 'presume', 'presuming', 'pretend', 'pretended', 'pretending', 'pretenses', 'pretezels', 'prettier', 'prettiest', 'prettily', 'pretty', 'pretzel', 'pretzelcrisps', 'pretzels', 'pretzles', 'prevailed', 'prevalent', 'prevent', 'preventative', 'prevented', 'preventing', 'preventive', 'prevents', 'preview', 'previous', 'previously', 'prewashed', 'prey', 'prezels', 'price', 'priced', 'priceed', 'priceless', 'pricepoint', 'pricer', 'prices', 'pricess', 'pricetag', 'pricewise', 'pricey', 'pricier', 'pricing', 'prictures', 'pricy', 'pride', 'prides', 'priest', 'prilosec', 'prima', 'primal', 'primaraily', 'primarily', 'primary', 'primavera', 'prime', 'priming', 'primium', 'primo', 'prince', 'princess', 'princesses', 'principal', 'principle', 'principles', 'pringles', 'print', 'printed', 'printer', 'printers', 'printing', 'prints', 'prioduct', 'prior', 'prioritizing', 'priority', 'prised', 'prison', 'pristine', 'pritchett', 'pritty', 'privacy', 'private', 'privates', 'privies', 'prix', 'prize', 'prized', 'prizes', 'pro', 'pro0duct', 'pro200', 'proactive', 'prob', 'probability', 'probable', 'probably', 'probado', 'probar', 'probars', 'probblems', 'probbly', 'probe', 'probelm', 'probelms', 'probiotic', 'probiotics', 'problably', 'problem', 'problematic', 'problems', 'probley', 'problly', 'probs', 'proccess', 'procedure', 'proceed', 'proceeded', 'proceeding', 'proceedings', 'proceeds', 'proceedures', 'process', 'processed', 'processer', 'processes', 'processing', 'processor', 'processsed', 'proclaim', 'proclaiming', 'proclaims', 'procuct', 'procure', 'procuring', 'prod', 'prodcut', 'prodding', 'prodigious', 'produce', 'produced', 'producer', 'producers', 'produces', 'producing', 'product', 'production', 'productive', 'productmeal', 'products', 'produts', 'profanities', 'profanity', 'profess', 'professed', 'profession', 'professional', 'professionalism', 'professionally', 'professionals', 'professor', 'professors', 'proficient', 'profile', 'profiles', 'profit', 'profitability', 'profitable', 'profits', 'proflowers', 'profound', 'profoundly', 'profusely', 'program', 'programming', 'programs', 'progresively', 'progress', 'progresses', 'progression', 'progressively', 'progresso', 'prohibit', 'prohibitive', 'proirity', 'project', 'projected', 'projectile', 'projections', 'projects', 'proletarians', 'proliferating', 'prolific', 'prolong', 'prolonged', 'prolonging', 'prominent', 'prominently', 'promise', 'promised', 'promises', 'promising', 'promo', 'promote', 'promoted', 'promotes', 'promoting', 'promotion', 'promotional', 'promotions', 'prompt', 'prompted', 'prompting', 'promptly', 'promptness', 'prompts', 'prone', 'prong', 'pronouncd', 'pronounce', 'pronounceable', 'pronounced', 'proof', 'proofed', 'prop', 'propel', 'propelled', 'propensity', 'proper', 'properly', 'properties', 'property', 'propest', 'propionate', 'proplan', 'proplyene', 'proportion', 'proportions', 'proposed', 'proposition', 'propped', 'propping', 'proprietary', 'props', 'propter', 'propyl', 'propylene', 'pros', 'prosciutto', 'prospect', 'prospective', 'prospects', 'prostacyclins', 'prostate', 'prostrate', 'protect', 'protected', 'protecting', 'protection', 'protective', 'protein', 'proteins', 'protest', 'protested', 'protien', 'protiens', 'protocol', 'proton', 'protruding', 'prouct', 'proud', 'proudly', 'proust', 'prove', 'proved', 'proven', 'provence', 'proverbial', 'proves', 'provide', 'provided', 'providence', 'provider', 'providers', 'provides', 'providing', 'province', 'provinces', 'proving', 'provision', 'prowel', 'prozac', 'prudhomme', 'prune', 'pruned', 'prunes', 'pruney', 'pruning', 'pry', 'prying', 'ps', 'pseudo', 'psl', 'psls', 'pst', 'psyche', 'psychological', 'psychos', 'psychosis', 'psychotic', 'psyllium', 'pts', 'pu', 'pub', 'public', 'publication', 'publications', 'publicity', 'publicly', 'publish', 'published', 'publix', 'puchase', 'puchased', 'puches', 'puck', 'puckered', 'puckering', 'pucks', 'pudding', 'puddings', 'puddle', 'puddlefish', 'pudgy', 'pueraria', 'puerh', 'puff', 'puffed', 'puffiness', 'puffing', 'puffins', 'puffs', 'puffy', 'pug', 'puggle', 'pukapuka', 'puke', 'puked', 'puking', 'pull', 'pulled', 'pulling', 'pulls', 'pulp', 'pulpy', 'pulsates', 'pulse', 'pultry', 'pulverize', 'pulverized', 'pumkin', 'pumking', 'pumkpin', 'pummel', 'pump', 'pumped', 'pumpernickel', 'pumping', 'pumpkin', 'pumpkins', 'pumpless', 'pumps', 'pun', 'punch', 'punched', 'punches', 'punchy', 'punctually', 'puncture', 'punctured', 'punctures', 'pundits', 'pungent', 'pungently', 'punicalagin', 'punishment', 'punjab', 'punture', 'puny', 'pup', 'pupils', 'pupose', 'puppets', 'puppies', 'puppodums', 'pupps', 'puppy', 'puppychow', 'puppyhood', 'pups', 'pur1na', 'purchace', 'purchasce', 'purchase', 'purchased', 'purchaseing', 'purchaser', 'purchasers', 'purchases', 'purchasing', 'purchasting', 'pure', 'purebar', 'purebred', 'puree', 'pureed', 'pureeing', 'purees', 'purely', 'pureness', 'purer', 'purest', 'purevia', 'purhase', 'puri', 'purification', 'purified', 'purifier', 'purifiers', 'purify', 'purifying', 'purim', 'purina', 'puris', 'purist', 'purity', 'puroast', 'purple', 'purpleish', 'purples', 'purplish', 'purported', 'purportedly', 'purpose', 'purposefully', 'purposely', 'purposes', 'purrfectly', 'purring', 'purse', 'pursue', 'pursued', 'pursuit', 'purveryor', 'purveyor', 'purvia', 'purview', 'push', 'pushed', 'pushes', 'pushing', 'pussies', 'putrid', 'puts', 'putting', 'putty', 'puzzel', 'puzzle', 'puzzled', 'puzzles', 'puzzling', 'pylori', 'pyramid', 'pyramide', 'pyramids', 'pyrenees', 'pyrethrin', 'pyrex', 'pyridoxal', 'pyridoxine', 'pyrophosphate', 'pysical', 'pât', 'pão', 'qa', 'qatmeal', 'qfc', 'qid', 'qt', 'qts', 'qty', 'quacamole', 'quadratini', 'quadrefiore', 'quadruple', 'quadruples', 'quaff', 'quaility', 'quaint', 'quaity', 'quaker', 'quakers', 'qualified', 'qualifies', 'qualify', 'qualities', 'quality', 'qualm', 'qualms', 'quanity', 'quantities', 'quantitly', 'quantity', 'quart', 'quarter', 'quartermaster', 'quarters', 'quarts', 'quck', 'quckly', 'que', 'queasy', 'quebec', 'quechua', 'queen', 'queens', 'queijo', 'quench', 'quenched', 'quencher', 'quenches', 'quenching', 'query', 'quesada', 'quesadillas', 'queso', 'quest', 'question', 'questionable', 'questioned', 'questioning', 'questions', 'quib', 'quibble', 'quiche', 'quick', 'quickbreads', 'quicker', 'quickest', 'quickie', 'quickly', 'quickness', 'quiejo', 'quiet', 'quietly', 'quik', 'quinchia', 'quinclorac', 'quinoa', 'quintessential', 'quirks', 'quirky', 'quisp', 'quit', 'quite', 'quits', 'quitting', 'qunching', 'quot', 'quotations', 'quote', 'quoted', 'quotes', 'r4', 'rabbit', 'rabbits', 'rabid', 'rabidly', 'raccoon', 'raccoons', 'raccuia', 'race', 'races', 'rachael', 'rachel', 'racial', 'racing', 'rack', 'racked', 'racket', 'racks', 'racoons', 'racquetball', 'radar', 'raddish', 'radiant', 'radiating', 'radiation', 'radical', 'radically', 'radicals', 'radio', 'radioactive', 'radish', 'radius', 'rag', 'ragdolls', 'rage', 'ragged', 'ragu', 'raid', 'raided', 'raiders', 'raiding', 'raids', 'railing', 'railroad', 'railway', 'rain', 'rainbow', 'raincoast', 'rained', 'rainforest', 'rainier', 'rains', 'rainwater', 'rainy', 'raise', 'raised', 'raisen', 'raises', 'raisin', 'raising', 'raisins', 'raison', 'raisons', 'raitha', 'rajma', 'raleigh', 'ralph', 'ralphs', 'ramada', 'raman', 'ramem', 'ramen', 'ramens', 'ramifications', 'ramm', 'ramming', 'ramos', 'ramp', 'rampage', 'rampant', 'ramune', 'ramyun', 'ran', 'ranch', 'rancher', 'rancheritos', 'ranchero', 'rancheros', 'ranchers', 'rancid', 'rancidity', 'rancilio', 'random', 'randomly', 'randy', 'rang', 'range', 'ranged', 'ranges', 'ranging', 'rank', 'ranked', 'ranking', 'ranks', 'rant', 'ranted', 'ranting', 'rantings', 'rap', 'rapa', 'rapeseed', 'rapid', 'rapidly', 'rapini', 'rapturous', 'rapunzel', 'rapuzel', 'rare', 'rarely', 'raring', 'rarity', 'ras', 'rasberry', 'rase', 'rash', 'rashes', 'rasin', 'rasins', 'raspberries', 'raspberry', 'rasperry', 'rat', 'ratatouille', 'rate', 'rated', 'raters', 'rates', 'rathr', 'ratical', 'rating', 'ratings', 'ratio', 'ration', 'rational', 'rationale', 'rations', 'ratios', 'rats', 'rattle', 'rattled', 'rattles', 'rattling', 'raucous', 'raunch', 'raunched', 'raunchy', 'rave', 'raved', 'ravenous', 'ravenwood', 'raves', 'raving', 'ravioli', 'raviolis', 'raw', 'rawhide', 'rawhides', 'rawhids', 'ray', 'raya', 'raz', 'razzaberry', 'razzmatazz', 'rb', 'rbd', 'rcv', 'rda', 'reach', 'reached', 'reaches', 'reaching', 'react', 'reacted', 'reacting', 'reaction', 'reactions', 'reactive', 'reacts', 'read', 'readable', 'reade', 'reader', 'readily', 'reading', 'readings', 'reads', 'ready', 'reagan', 'reagular', 'reaks', 'real', 'realatively', 'realign', 'realise', 'realised', 'realistic', 'realistically', 'realities', 'reality', 'realize', 'realized', 'realizes', 'realizing', 'reall', 'really', 'reallyenjoyed', 'realm', 'realy', 'reapeat', 'reappearance', 'reappearing', 'reapply', 'rear', 'reason', 'reasonabe', 'reasonable', 'reasonably', 'reasonanably', 'reasoned', 'reasons', 'reassembled', 'reassuring', 'reatil', 'reation', 'reauen', 'reb', 'rebate', 'rebaudiana', 'rebecca', 'rebiana', 'rebuy', 'recall', 'recalled', 'recalling', 'recalls', 'recap', 'reccomed', 'reccomend', 'reccomended', 'reccommend', 'reccommendations', 'recd', 'recehcked', 'receieved', 'receipes', 'receipt', 'receive', 'received', 'receives', 'receiving', 'recenly', 'recent', 'recently', 'receptacle', 'reception', 'receptionist', 'receptive', 'receptors', 'recess', 'recession', 'recharge', 'recheck', 'rechecking', 'reciepts', 'recieve', 'recieved', 'reciever', 'recieving', 'recipe', 'recipees', 'recipes', 'recipie', 'recipient', 'recipients', 'recipies', 'recite', 'recive', 'recived', 'recklessly', 'reckon', 'reclaim', 'reclined', 'recliner', 'reclosable', 'reclose', 'recloseable', 'reclosed', 'recognition', 'recognizable', 'recognize', 'recognized', 'recognizes', 'recoil', 'recoiled', 'recolor', 'recomend', 'recomended', 'recomiendo', 'recommed', 'recommend', 'recommendation', 'recommendations', 'recommended', 'recommendig', 'recommending', 'recommends', 'recomment', 'recommned', 'reconnaissance', 'reconsider', 'reconstitute', 'reconstituted', 'reconstitutes', 'reconstituting', 'reconstructed', 'recopmmend', 'record', 'recorded', 'recorder', 'recording', 'records', 'recoup', 'recourse', 'recover', 'recovered', 'recovering', 'recovery', 'recreate', 'recreated', 'recruit', 'rectangle', 'rectangular', 'rectified', 'rectify', 'recurring', 'recv', 'recyclable', 'recycle', 'recycled', 'recycling', 'red', 'redbarn', 'redbull', 'reddish', 'reddness', 'redeemable', 'redeeming', 'redenbacher', 'redesign', 'redesigned', 'redesigning', 'redespresso', 'redfish', 'redhanded', 'redi', 'rediculous', 'rediculously', 'redirected', 'rediscovered', 'redish', 'redken', 'redmill', 'redneck', 'redness', 'redolent', 'redone', 'reds', 'redskin', 'reduce', 'reduced', 'reduces', 'reducing', 'reduction', 'redvines', 'redy', 'reece', 'reed', 'reeeally', 'reek', 'reeking', 'reeks', 'reenforced', 'reese', 'reeses', 'ref', 'refer', 'reference', 'referenced', 'references', 'refering', 'refernce', 'referral', 'referred', 'referring', 'refers', 'refil', 'refill', 'refillable', 'refilled', 'refilling', 'refills', 'refined', 'refinement', 'refining', 'reflect', 'reflected', 'reflecting', 'reflection', 'reflects', 'reflers', 'reflex', 'reflux', 'reformed', 'reformulate', 'reformulated', 'reformulation', 'refrain', 'refresh', 'refreshed', 'refresher', 'refreshes', 'refreshing', 'refreshingly', 'refreshment', 'refrideration', 'refridgerate', 'refridgerator', 'refried', 'refrig', 'refrigerate', 'refrigerated', 'refrigerating', 'refrigeration', 'refrigerator', 'refrigerators', 'refund', 'refundable', 'refunded', 'refunding', 'refunds', 'refurbished', 'refusal', 'refuse', 'refused', 'refuses', 'refusing', 'reg', 'regain', 'regained', 'regaining', 'regard', 'regarded', 'regarding', 'regardless', 'regards', 'regenerate', 'reggae', 'reggiano', 'reggie', 'regime', 'regimen', 'regiment', 'regimented', 'reginald', 'region', 'regions', 'register', 'registered', 'registration', 'registry', 'regrading', 'regret', 'regreted', 'regretful', 'regrets', 'regrettable', 'regrettably', 'regretted', 'regualar', 'reguested', 'regular', 'regularity', 'regularly', 'regulars', 'regulate', 'regulated', 'regulates', 'regulation', 'regulations', 'regulator', 'regulatory', 'regulsr', 'rehardened', 'reheat', 'reheating', 'rehydrate', 'rehydrated', 'rehydrates', 'rehydrating', 'rehydration', 'reiews', 'reigns', 'reimburse', 'reimbursed', 'rein', 'reincarnation', 'reinforce', 'reinforced', 'reinforces', 'reinsert', 'reintroduce', 'reintroduced', 'reishi', 'reistance', 'reiterate', 'reject', 'rejected', 'rejecting', 'rejects', 'rejoice', 'rejuvenated', 'relabel', 'relabeled', 'relate', 'related', 'relates', 'relating', 'relation', 'relations', 'relationship', 'relationships', 'relative', 'relatively', 'relatives', 'relax', 'relaxation', 'relaxed', 'relaxers', 'relaxes', 'relaxing', 'release', 'released', 'releases', 'releasing', 'relegated', 'reletively', 'relevant', 'reliability', 'reliable', 'reliably', 'reliant', 'relied', 'relief', 'relieve', 'relieved', 'relieves', 'relieving', 'religious', 'religiously', 'religously', 'relish', 'relishes', 'relist', 'relive', 'reliving', 'reload', 'reloaded', 'reluctant', 'reluctantly', 'relunctantly', 'rely', 'relying', 'rem', 'remain', 'remainder', 'remainders', 'remained', 'remaining', 'remains', 'remarkable', 'remarkably', 'remarked', 'remarks', 'remedel', 'remedied', 'remedies', 'remedy', 'remember', 'remembered', 'remembering', 'remembers', 'remind', 'reminded', 'reminder', 'reminders', 'reminding', 'reminds', 'reminicent', 'reminiscent', 'reminiscing', 'remix', 'remnants', 'remote', 'remotely', 'remotes', 'remotly', 'removable', 'removal', 'remove', 'removed', 'remover', 'removes', 'removing', 'remp', 'ren', 'renal', 'rename', 'rendang', 'rendered', 'rendereing', 'rendering', 'renders', 'rendition', 'renew', 'renewables', 'renewed', 'renewing', 'renfro', 'renfros', 'rennet', 'reno', 'renowned', 'rent', 'renter', 'reopen', 'reorder', 'reordered', 'reordering', 'rep', 'repackaged', 'repackaging', 'repacked', 'repair', 'repaired', 'repairing', 'repare', 'repeat', 'repeated', 'repeatedly', 'repeating', 'repeats', 'repellant', 'repellent', 'repellents', 'repelling', 'repels', 'repetition', 'repetitive', 'rephrase', 'replace', 'replaced', 'replacement', 'replacements', 'replacer', 'replacers', 'replaces', 'replacing', 'replacment', 'replenish', 'replenished', 'replenishment', 'replica', 'replicate', 'replicated', 'replicates', 'replication', 'replied', 'reply', 'report', 'reported', 'reportedly', 'reporter', 'reporting', 'reports', 'repost', 'repotted', 'represent', 'representation', 'representative', 'representatives', 'represented', 'representing', 'represents', 'reproduce', 'reproduction', 'reps', 'repsonse', 'republic', 'repudable', 'repulsive', 'repurchase', 'repurchasing', 'repurpose', 'repurposed', 'reputable', 'reputation', 'reputed', 'request', 'requested', 'requester', 'requesting', 'requests', 'require', 'required', 'requirement', 'requirements', 'requires', 'requiring', 'requisite', 'rerouted', 'rescue', 'rescued', 'rescues', 'reseal', 'resealable', 'resealed', 'resealing', 'reseals', 'research', 'researched', 'researchers', 'researching', 'reseller', 'resellers', 'reselling', 'resemblance', 'resemblances', 'resemble', 'resembled', 'resembles', 'resembling', 'resend', 'resending', 'resent', 'resentfully', 'reser', 'reserach', 'reservation', 'reservations', 'reserve', 'reserved', 'reservoir', 'resevior', 'reship', 'residences', 'resident', 'residents', 'residing', 'residual', 'residue', 'residues', 'resifet', 'resilient', 'resin', 'resist', 'resistance', 'resistant', 'resisted', 'resisting', 'reslly', 'resolidified', 'resolution', 'resolve', 'resolved', 'resolving', 'resonable', 'resonate', 'resond', 'resort', 'resorted', 'resounding', 'resources', 'respect', 'respectable', 'respected', 'respectful', 'respectfully', 'respective', 'respectively', 'respects', 'respiratory', 'respite', 'responce', 'respond', 'responded', 'responding', 'responds', 'response', 'responses', 'responsibility', 'responsible', 'responsive', 'resposes', 'ressucitated', 'rest', 'restaraunt', 'restarts', 'restate', 'restaurant', 'restaurants', 'restaurent', 'rested', 'restful', 'resting', 'restirred', 'restless', 'restlessness', 'restock', 'restocked', 'restore', 'restored', 'restrained', 'restraunt', 'restrict', 'restricted', 'restricting', 'restriction', 'restrictions', 'restrictive', 'restroom', 'restructured', 'rests', 'resturant', 'resturants', 'result', 'resulted', 'resulting', 'results', 'resumed', 'resuming', 'resurrected', 'resutls', 'resveratrol', 'ret', 'retail', 'retailer', 'retailers', 'retailes', 'retailing', 'retails', 'retain', 'retained', 'retains', 'retaped', 'retard', 'retention', 'rethink', 'retinal', 'retired', 'retract', 'retreat', 'retrieve', 'retrieved', 'retriever', 'retrievers', 'retro', 'retrospect', 'retry', 'retunable', 'return', 'returnable', 'returned', 'returning', 'returns', 'reunion', 'reusable', 'reuse', 'reuseable', 'reused', 'reusing', 'reva', 'reveal', 'revealed', 'revealing', 'reveals', 'reveiw', 'reveiws', 'revelation', 'revenue', 'reverse', 'reversed', 'revert', 'review', 'reviewed', 'reviewer', 'reviewers', 'reviewing', 'reviews', 'revise', 'revised', 'revisiting', 'revitalize', 'revitalized', 'revitalizing', 'revive', 'revives', 'revoir', 'revolting', 'revolution', 'revolve', 'revolving', 'revs', 'revue________________', 'revv', 'reward', 'rewarded', 'rewarding', 'rewards', 'rewarm', 'reworking', 'rewrite', 'rex', 'reynard', 'rg_', 'rhanks', 'rhe', 'rhodesdian', 'rhododendron', 'rhubarb', 'rhyme', 'rhythm', 'rib', 'ribbon', 'ribbons', 'ribena', 'riboflavin', 'ribs', 'rica', 'rican', 'rice', 'ricecake', 'ricechoco', 'ricemaker', 'rices', 'riceselect', 'rich', 'richard', 'richer', 'richest', 'richly', 'richness', 'ricke', 'ricotta', 'rid', 'riddance', 'ridden', 'riddence', 'riddens', 'ridder', 'ridding', 'riddled', 'ride', 'rider', 'rides', 'ridge', 'ridgeback', 'ridged', 'ridges', 'ridiculous', 'ridiculously', 'ridiculousness', 'riding', 'ried', 'riedel', 'riehle', 'riesling', 'rig', 'rigatoni', 'right', 'righteous', 'rightful', 'rightly', 'rights', 'rigid', 'rigidly', 'rigorous', 'rigorously', 'rigth', 'rihanna', 'rim', 'rims', 'rin', 'rinaldi', 'rind', 'rinds', 'ring', 'ringing', 'rings', 'rink', 'rinse', 'rinsed', 'rinses', 'rinsing', 'rinsings', 'rio', 'rip', 'ripe', 'riped', 'ripening', 'ripens', 'ripoff', 'ripped', 'ripping', 'ripple', 'rips', 'rise', 'risen', 'rises', 'rishi', 'rising', 'risk', 'risked', 'risking', 'risks', 'risky', 'risotto', 'rita', 'rite', 'ritter', 'ritthausen', 'ritual', 'rituals', 'ritz', 'rival', 'rivaled', 'rivals', 'river', 'rivers', 'riverside', 'rmaho', 'ro', 'road', 'roadside', 'roadtrips', 'roaming', 'roarin', 'roaring', 'roast', 'roasted', 'roaster', 'roasters', 'roastery', 'roastiness', 'roasting', 'roastmasters', 'roasts', 'roasty', 'rob', 'robb', 'robbed', 'robbery', 'robbing', 'robed', 'robert', 'roberts', 'robertsons', 'robes', 'robinsons', 'robitussin', 'robot', 'robotic', 'robots', 'robust', 'robusta', 'robustly', 'robusto', 'robutussin', 'roca', 'rocher', 'rochers', 'rochester', 'rock', 'rockers', 'rocket', 'rocketed', 'rockies', 'rockin', 'rocks', 'rockstar', 'rockstars', 'rocky', 'rod', 'rodelle', 'rodent', 'rodents', 'rodeo', 'rods', 'roe', 'roger', 'roiboos', 'rojo', 'roland', 'rolands', 'role', 'roles', 'roll', 'rolled', 'roller', 'rollerball', 'rollers', 'rolling', 'rollover', 'rolls', 'roma', 'romance', 'romano', 'romantic', 'romanticized', 'romeo', 'romp', 'romping', 'ron', 'ronald', 'ronnie', 'ronzoni', 'roobios', 'rood', 'roof', 'rooftops', 'rooibois', 'rooibos', 'rooibosses', 'room', 'roomate', 'roomie', 'roommate', 'roommates', 'rooms', 'roomy', 'roos', 'roost', 'root', 'rootbeer', 'rooting', 'roots', 'rope', 'roped', 'ropes', 'rosa', 'rosamonte', 'rose', 'rosehip', 'rosehips', 'rosemary', 'rosemead', 'roses', 'rosewater', 'roshke', 'ross', 'rossa', 'rossana', 'rosso', 'rosted', 'rostung', 'roswell', 'rot', 'rotate', 'rotation', 'rotational', 'rotations', 'rotel', 'roth', 'rotini', 'rotis', 'rotisserie', 'rott', 'rotted', 'rotten', 'rotties', 'rotting', 'rottweiler', 'rotty', 'rough', 'roughly', 'rougie', 'roulette', 'round', 'rounded', 'rounding', 'rounds', 'roused', 'route', 'routed', 'routine', 'routinely', 'routines', 'roux', 'row', 'rows', 'roy', 'royal', 'royally', 'royals', 'rrripe', 'rsvp', 'rte', 'rub', 'rubbed', 'rubber', 'rubberbands', 'rubbermaid', 'rubbery', 'rubberyness', 'rubbing', 'rubbish', 'rubble', 'rubinsteins', 'rubric', 'rubs', 'rubust', 'ruby', 'rude', 'rudolf', 'ruffles', 'rug', 'rugelach', 'rugged', 'rugs', 'ruin', 'ruined', 'ruining', 'ruins', 'rule', 'ruled', 'ruler', 'rules', 'ruling', 'rum', 'rumor', 'rumored', 'rumors', 'run', 'rung', 'runing', 'runner', 'runners', 'runnier', 'running', 'runningrabbit', 'runny', 'runs', 'runt', 'rupture', 'ruptured', 'rural', 'rush', 'rushed', 'rushing', 'rusk', 'rusks', 'russel', 'russell', 'russells', 'russet', 'russia', 'russian', 'rust', 'rustic', 'rustica', 'rustichella', 'rustmarmalade', 'rustoleum', 'rusty', 'rut', 'rutabaga', 'ruth', 'rv', 'rx', 'ry', 'ryan', 'ryder', 'rye', 'ryvita', 'sabrina', 'sac', 'saccharide', 'saccharin', 'saccharine', 'sachet', 'sachets', 'sack', 'sacks', 'saco', 'sacred', 'sacrifice', 'sacrificed', 'sacrifices', 'sacrificing', 'sacrine', 'sad', 'sadaf', 'saddened', 'saddens', 'sadder', 'sadie', 'sadistic', 'sadly', 'sadness', 'saeco', 'saesoning', 'saf', 'safari', 'safe', 'safely', 'safer', 'safest', 'safety', 'safeway', 'safflower', 'saffron', 'saftey', 'sag', 'sage', 'sager', 'sagging', 'sahale', 'sahara', 'said', 'saifun', 'saigon', 'sail', 'saint', 'sake', 'sakes', 'salad', 'salada', 'saladitos', 'salads', 'salami', 'salamis', 'salamon', 'salba', 'sale', 'salem', 'sales', 'salesman', 'saline', 'saliva', 'salivary', 'salivate', 'salivating', 'salkeld', 'salmon', 'salmonela', 'salmonella', 'salon', 'saloon', 'salsa', 'salsas', 'salt', 'saltaholic', 'saltaholics', 'saltaire59', 'salted', 'saltee', 'saltier', 'saltiest', 'saltine', 'saltines', 'saltiness', 'salting', 'saltoholic', 'salts', 'salty', 'saltyness', 'salute', 'salvagable', 'salvage', 'salvaged', 'salvation', 'sam', 'sambazon', 'sameness', 'samll', 'sammys', 'samne', 'sample', 'sampled', 'sampler', 'samplers', 'samples', 'sampling', 'samplings', 'sams', 'samsclub', 'samyang', 'san', 'sand', 'sanding', 'sandwhich', 'sandwich', 'sandwiched', 'sandwiches', 'sandwiching', 'sandy', 'sane', 'sanford', 'sanitary', 'sanitation', 'sanitized', 'sanity', 'sank', 'sanka', 'sankriti', 'sans', 'sanskriti', 'santa', 'santaniello', 'sao', 'sapling', 'saquin', 'sara', 'saran', 'sardine', 'sardines', 'sardins', 'sardo', 'sargeant', 'sarsaparilla', 'sasparilla', 'sat', 'satay', 'satchel', 'satchels', 'sated', 'satellite', 'sathwic', 'satiate', 'satiated', 'satiating', 'satiation', 'satifaction', 'satin', 'satisfaction', 'satisfactorily', 'satisfactory', 'satisfied', 'satisfies', 'satisfy', 'satisfying', 'satisfyingly', 'satisifed', 'satisying', 'saturated', 'saturday', 'sauce', 'sauced', 'saucer', 'sauces', 'saucy', 'saudi', 'sauer', 'sauerbraten', 'sauerkraut', 'saugages', 'saunier', 'sauntered', 'sausage', 'sausages', 'sause', 'saut', 'saute', 'sauted', 'sautee', 'sauteed', 'sauteeing', 'sauteing', 'savannah', 'save', 'saved', 'saver', 'savers', 'saves', 'savinas', 'saving', 'savings', 'savior', 'savon', 'savor', 'savored', 'savories', 'savoring', 'savory', 'savouring', 'savu', 'savvy', 'saw', 'sawdust', 'say', 'sayan', 'sayers', 'sayin', 'saying', 'says', 'sazerac', 'sb', 'sc', 'scads', 'scalding', 'scale', 'scalling', 'scallions', 'scallop', 'scallops', 'scalp', 'scalps', 'scam', 'scammed', 'scan', 'scandal', 'scandals', 'scandinavian', 'scanned', 'scanner', 'scanning', 'scant', 'scantly', 'scar', 'scarce', 'scare', 'scared', 'scares', 'scarf', 'scarfage', 'scarfed', 'scarfing', 'scarfs', 'scarpetto', 'scars', 'scarves', 'scary', 'scatter', 'scattered', 'scattering', 'scavenge', 'scenario', 'scene', 'scenery', 'scenes', 'scent', 'scented', 'scenting', 'scents', 'scentsy', 'sceptical', 'schar', 'scharfenberger', 'scharffen', 'scharffenberger', 'scharffenbergers', 'schedule', 'scheduled', 'scheme', 'schidigera', 'schilling', 'schizzle', 'schlag', 'schlepped', 'schlepping', 'schnauzer', 'schnauzers', 'schnellimbiss', 'schnitzels', 'schnoodle', 'school', 'schoolers', 'schools', 'schoolwork', 'schrapnel', 'schultz', 'schwartz', 'schwepps', 'sci', 'science', 'science_ion_exchange', 'sciences', 'scientific', 'scientifically', 'scientist', 'scientists', 'scissorhands', 'scissors', 'scoffed', 'scone', 'scones', 'scoop', 'scoopable', 'scoopaway', 'scooped', 'scooper', 'scooping', 'scoops', 'scope', 'scopes', 'scorched', 'scorching', 'score', 'scored', 'scores', 'scoring', 'scorned', 'scorpion', 'scotch', 'scotland', 'scott', 'scottie', 'scottish', 'scotts', 'scottsdale', 'scotty', 'scour', 'scours', 'scout', 'scouts', 'scoville', 'scrabble', 'scramble', 'scrambled', 'scrap', 'scrape', 'scraped', 'scrapes', 'scraping', 'scraps', 'scratch', 'scratched', 'scratcher', 'scratches', 'scratching', 'scratchy', 'scrathing', 'scrawny', 'scream', 'screamed', 'screames', 'screaming', 'screams', 'screechings', 'screen', 'screening', 'screenplay', 'screens', 'screw', 'screwdriver', 'screwed', 'screwing', 'screws', 'screwtop', 'scrimp', 'script', 'scripts', 'scripture', 'scrolls', 'scrotum', 'scrub', 'scrubbed', 'scrubber', 'scrubbing', 'scrubs', 'scrumptions', 'scrumptious', 'scrumptuous', 'scrupulous', 'scrutinize', 'scrutiny', 'scum', 'scumbag', 'scurried', 'scurvy', 'sd', 'se', 'sea', 'seabear', 'seafood', 'seal', 'sealable', 'sealed', 'sealer', 'sealing', 'seals', 'seam', 'seamlessly', 'seams', 'search', 'searched', 'searches', 'searching', 'searing', 'sears', 'seas', 'seasalt', 'seasame', 'seasoinings', 'season', 'seasonal', 'seasonally', 'seasoned', 'seasoning', 'seasonings', 'seasons', 'seat', 'seatbelt', 'seattle', 'seaweed', 'seaweeds', 'seaweedy', 'sec', 'seca', 'secchi', 'sechung', 'secon', 'second', 'secondary', 'secondly', 'seconds', 'secret', 'secretary', 'secreted', 'secrets', 'section', 'sections', 'secure', 'secured', 'securely', 'securities', 'security', 'sed', 'sedan', 'sedating', 'sedatives', 'sediment', 'sedimentary', 'seed', 'seeded', 'seedlander', 'seedless', 'seedlings', 'seeds', 'seedy', 'seeing', 'seek', 'seeker', 'seeking', 'seelect', 'seemd', 'seemingly', 'seen', 'seep', 'seeped', 'seeping', 'seeps', 'seer', 'seered', 'sees', 'sefs', 'segment', 'segregated', 'sehr', 'seiled', 'seizure', 'seizures', 'sel', 'seldom', 'selecion', 'select', 'selected', 'selecting', 'selection', 'selections', 'selective', 'selects', 'selenite', 'selenium', 'self', 'sell', 'seller', 'sellers', 'sellin', 'selling', 'sello', 'sells', 'seltzer', 'seltzers', 'selves', 'semantics', 'semblance', 'semesters', 'semi', 'semifreddo', 'semisweet', 'semolina', 'sempio', 'sen', 'senate', 'sencha', 'send', 'sendak', 'sender', 'sending', 'sends', 'senior', 'seniors', 'senna', 'senors', 'sensa', 'sensation', 'sensations', 'sensative', 'sense', 'senseless', 'senseo', 'senseos', 'senses', 'sensibilities', 'sensible', 'sensibly', 'sensicare', 'sensitive', 'sensitivies', 'sensitivities', 'sensitivity', 'sensitve', 'sensorially', 'sensual', 'sent', 'sented', 'sentence', 'sentiment', 'sentimental', 'sep', 'separate', 'separated', 'separately', 'separates', 'separating', 'separation', 'separatly', 'seperate', 'seperated', 'seperately', 'seperatley', 'sept', 'september', 'septic', 'sequestering', 'seratonin', 'serbia', 'serendipi', 'serendipitea', 'sergeant', 'serial', 'series', 'seriously', 'serius', 'serrano', 'serum', 'serve', 'served', 'serveice', 'servents', 'serveral', 'serves', 'service', 'serviceable', 'serviceman', 'servicemen', 'services', 'servies', 'serving', 'servings', 'sesame', 'sesmark', 'session', 'sessions', 'set', 'seth', 'sets', 'setter', 'setting', 'settings', 'settle', 'settled', 'settlement', 'settlements', 'settles', 'settling', 'settlors', 'setup', 'seurat', 'sev', 'seveal', 'seven', 'seventeen', 'seventh', 'seventies', 'seventy', 'sever', 'severe', 'severeal', 'severed', 'severely', 'severity', 'severly', 'sewage', 'sewer', 'sewn', 'sex', 'sexy', 'sf', 'sfbay', 'sfo', 'sfuff', 'shabby', 'shade', 'shaded', 'shades', 'shadier', 'shadix', 'shadow', 'shadowed', 'shady', 'shaft', 'shafts', 'shag', 'shakable', 'shake', 'shaken', 'shaker', 'shakes', 'shakespeare', 'shakey', 'shaking', 'shaky', 'shales', 'shall', 'shallot', 'shallow', 'sham', 'shame', 'shameful', 'shameless', 'shampoo', 'shampooed', 'shampooing', 'shampoos', 'shamrock', 'shan', 'shanks', 'shape', 'shaped', 'shapes', 'shar', 'shards', 'share', 'shared', 'shareholders', 'shares', 'shari', 'sharing', 'shark', 'sharkbanana', 'sharkies', 'sharks', 'sharp', 'sharpen', 'sharper', 'sharpness', 'sharwood', 'shatter', 'shattered', 'shaved', 'shavings', 'shaw', 'shawn', 'shea', 'sheba', 'shed', 'shedded', 'shedding', 'shedule', 'sheen', 'sheeps', 'sheer', 'sheesh', 'sheet', 'sheets', 'shek', 'shelby', 'shelf', 'shelfs', 'shell', 'shelled', 'shellfish', 'shelling', 'shells', 'shelnutt', 'shelter', 'shelters', 'sheltie', 'shelties', 'shelton', 'shelve', 'shelved', 'shelves', 'shennanigans', 'shepard', 'sheperd', 'shephard', 'shepherd', 'shepherds', 'sheppard', 'sherif', 'sherpa', 'sherry', 'shes', 'shhhhhhh', 'shi', 'shiba', 'shibolim', 'shichimi', 'shied', 'shield', 'shift', 'shifted', 'shifts', 'shih', 'shihpoo', 'shihtzu', 'shiitake', 'shiitakis', 'shim', 'shimer', 'shimmering', 'shin', 'shine', 'shined', 'shiner', 'shines', 'shiney', 'shingles', 'shinier', 'shiny', 'ship', 'shiping', 'shipment', 'shipments', 'shipped', 'shipper', 'shippers', 'shippimg', 'shipping', 'ships', 'shirakiku', 'shiratake', 'shirataki', 'shirazi', 'shiritaki', 'shirt', 'shirts', 'shitake', 'shizzle', 'shizzled', 'shmancy', 'shmaya', 'shock', 'shocked', 'shocker', 'shockers', 'shocking', 'shockingly', 'shocks', 'shoddiest', 'shoddy', 'shoe', 'shoebox', 'shoes', 'shoestring', 'shoneys', 'shood', 'shook', 'shoot', 'shooter', 'shooters', 'shooting', 'shoots', 'shop', 'shoppe', 'shopped', 'shopper', 'shoppers', 'shopping', 'shoprite', 'shops', 'short', 'shortage', 'shortbread', 'shortbreads', 'shortcake', 'shortcakes', 'shortcoming', 'shortcut', 'shortcuts', 'shorted', 'shorten', 'shortening', 'shorter', 'shortest', 'shorthair', 'shorthaired', 'shorthairs', 'shortlist', 'shortly', 'shortness', 'shorts', 'shot', 'shots', 'shoulder', 'shoulders', 'shouldn', 'shouldnt', 'shoumei', 'shout', 'shove', 'shoved', 'shoving', 'showdown', 'showed', 'showen', 'shower', 'showering', 'showing', 'shown', 'shows', 'shoya', 'shoyu', 'shoyus', 'shread', 'shred', 'shredded', 'shredder', 'shreds', 'shrimp', 'shrimps', 'shrines', 'shrink', 'shrinking', 'shrivel', 'shriveled', 'shrivels', 'shrivled', 'shrooms', 'shrub', 'shrug', 'shrugged', 'shrugs', 'shrunk', 'shu', 'shucked', 'shudder', 'shudders', 'shui', 'shul', 'shuns', 'shut', 'shuts', 'shuttle', 'shwepps', 'shy', 'shyer', 'si', 'siamese', 'siberian', 'siblings', 'sic', 'sice', 'sichuan', 'sicilian', 'siciliano', 'sick', 'sickened', 'sickening', 'sickeningly', 'sickens', 'sickly', 'sickness', 'sided', 'sides', 'sidewalk', 'sideways', 'sidney', 'siegals', 'siena', 'sienese', 'sierra', 'sieve', 'siezures', 'sift', 'sifted', 'sifter', 'sifting', 'sifts', 'sigh', 'sight', 'sighthounds', 'sights', 'sign', 'signaled', 'signature', 'signed', 'signifcant', 'signifiant', 'significance', 'significant', 'significantly', 'signified', 'signing', 'signs', 'silent', 'silica', 'silicate', 'silico', 'silicon', 'silicone', 'silicones', 'silk', 'silki', 'silkier', 'silky', 'sillier', 'silliness', 'silly', 'silver', 'silverfish', 'silverskin', 'silvery', 'similac', 'similar', 'similarity', 'similarly', 'similiar', 'simliar', 'simmer', 'simmered', 'simmering', 'simmply', 'simple', 'simplehuman', 'simpler', 'simpleton', 'simplicity', 'simplify', 'simply', 'simular', 'simulate', 'simulation', 'simultaneously', 'sin', 'sincerely', 'sinewey', 'sinewy', 'sinful', 'sinfully', 'sing', 'singapore', 'singer', 'singers', 'singing', 'single', 'singlehandedly', 'singles', 'singleton', 'singular', 'sink', 'sinker', 'sinks', 'sins', 'sinus', 'sinuses', 'sip', 'siphon', 'siphoning', 'sipped', 'sippin', 'sipping', 'sippy', 'sips', 'sirloin', 'sirop', 'sirs', 'sissy', 'sister', 'sistercat', 'sisterci', 'sisters', 'sit', 'site', 'sites', 'sits', 'sitting', 'sittings', 'situation', 'situations', 'sixteen', 'sixth', 'sizable', 'size', 'sized', 'sizes', 'sizing', 'sizzle', 'sizzling', 'skating', 'skeeball', 'skeleton', 'skeptic', 'skeptical', 'skepticle', 'sketchy', 'skewed', 'skewer', 'skewers', 'skewing', 'skillet', 'skillets', 'skills', 'skim', 'skimp', 'skimped', 'skimpy', 'skin', 'skinless', 'skinned', 'skinnier', 'skinning', 'skinny', 'skinnygirl', 'skins', 'skip', 'skipjack', 'skipped', 'skipping', 'skippy', 'skirt', 'skittles', 'skor', 'sku', 'skull', 'skunk', 'skunks', 'sky', 'skye', 'skyline', 'skyrocket', 'skyrocketed', 'skyrocketing', 'sl70', 'slab', 'slabs', 'slack', 'slackened', 'slake', 'slam', 'slamming', 'slant', 'slap', 'slapped', 'slapstick', 'slashed', 'slated', 'slather', 'slathered', 'slaughter', 'slaughterhouse', 'slaughtering', 'slave', 'slavery', 'slaw', 'sledding', 'sleek', 'sleep', 'sleeper', 'sleepily', 'sleepiness', 'sleeping', 'sleepless', 'sleeplessness', 'sleepy', 'sleepytime', 'sleeve', 'sleeves', 'sleigh', 'slender', 'slept', 'sleuthing', 'slew', 'slice', 'sliced', 'slices', 'slicing', 'slick', 'slicked', 'slickly', 'slid', 'slide', 'slider', 'slides', 'sliding', 'slighly', 'slight', 'slightest', 'slightly', 'slim', 'slime', 'slimed', 'slimey', 'slimmer', 'slimy', 'slip', 'slipped', 'slippery', 'slipping', 'slips', 'slit', 'slits', 'slitting', 'sliver', 'slivered', 'slivers', 'slivvers', 'slobber', 'slobbered', 'slogan', 'slop', 'sloppily', 'sloppy', 'slosh', 'slot', 'sloth', 'slothful', 'slots', 'slovak', 'slow', 'slowed', 'slowely', 'slower', 'slowest', 'slowing', 'slowly', 'slows', 'sluder', 'sludge', 'sludgy', 'slug', 'sluggish', 'slump', 'slurp', 'slurped', 'slurpee', 'slurping', 'slurry', 'slush', 'slushy', 'smack', 'smacked', 'smacking', 'smackingly', 'smacks', 'small', 'smaller', 'smallest', 'smallish', 'smallist', 'smalll', 'smallness', 'smalls', 'smart', 'smartblend', 'smartbone', 'smartbones', 'smartened', 'smarter', 'smartest', 'smartfood', 'smarties', 'smash', 'smashed', 'smashing', 'smattering', 'smear', 'smeared', 'smearing', 'smell', 'smelled', 'smelling', 'smells', 'smelly', 'smelt', 'smidge', 'smidgen', 'smidgeon', 'smile', 'smiled', 'smiles', 'smiley', 'smiley360', 'smiling', 'smith', 'smithereens', 'smiths', 'smitten', 'smok', 'smoke', 'smoked', 'smokehouse', 'smoker', 'smokey', 'smokeyness', 'smokeys', 'smokie', 'smokiness', 'smoking', 'smoky', 'smoooooshed', 'smoosh', 'smooth', 'smoothe', 'smoother', 'smoothering', 'smoothest', 'smoothie', 'smoothies', 'smoothing', 'smoothly', 'smoothness', 'smooties', 'smores', 'smother', 'smothered', 'smouldering', 'smucker', 'smuckers', 'smudged', 'smuggled', 'smushy', 'snack', 'snacked', 'snacker', 'snackers', 'snackimals', 'snacking', 'snackmasters', 'snacks', 'snacktime', 'snackwell', 'snacky', 'snafu', 'snail', 'snails', 'snak', 'snake', 'snakes', 'snaking', 'snap', 'snapea', 'snapeas', 'snapped', 'snapper', 'snappiness', 'snapping', 'snappish', 'snapple', 'snappy', 'snaps', 'snarf', 'snarfing', 'snarling', 'snatch', 'snatched', 'snatches', 'snax', 'sneak', 'sneakily', 'sneaking', 'sneaks', 'sneaky', 'sneeze', 'sneezed', 'sneezing', 'snicker', 'snickerdoodle', 'snickers', 'sniders', 'sniff', 'sniffed', 'sniffers', 'sniffing', 'sniffle', 'sniffs', 'snikiddy', 'snip', 'snippin', 'sniveling', 'snob', 'snobby', 'snobs', 'snook', 'snoozeberry', 'snoring', 'snorted', 'snot', 'snout', 'snouts', 'snow', 'snowcone', 'snowflakes', 'snowing', 'snows', 'snowstorm', 'snowy', 'snub', 'snubbed', 'snubs', 'snuff', 'snuggles', 'snuggling', 'snugly', 'snyder', 'snyders', 'soak', 'soaked', 'soaker', 'soaking', 'soaks', 'soap', 'soapbox', 'soaps', 'soapy', 'soar', 'soaring', 'soba', 'sobe', 'sober', 'socal', 'socca', 'soccer', 'social', 'socializing', 'socially', 'society', 'socket', 'sockeye', 'socks', 'soda', 'sodamix', 'sodas', 'sodastream', 'sodes', 'sodiu', 'sodium', 'sodiumbisulfite', 'sodiumn', 'soduim', 'soemthing', 'soething', 'sofa', 'soffits', 'sofia', 'soft', 'softball', 'softdrinks', 'soften', 'softenable', 'softened', 'softening', 'softens', 'softer', 'softest', 'softgels', 'softness', 'sogginess', 'soggy', 'soil', 'soiled', 'soiree', 'sojo', 'sojos', 'solable', 'sold', 'soldier', 'soldiers', 'soldout', 'sole', 'solea', 'soledad', 'solely', 'soles', 'soley', 'solicit', 'solid', 'solidified', 'solidifies', 'solidifying', 'solidly', 'solids', 'solis', 'solitary', 'solo', 'solocups', 'solofil', 'solofill', 'solomon', 'soluble', 'solution', 'solutions', 'solvable', 'solve', 'solved', 'solvent', 'solvents', 'solvers', 'solves', 'somber', 'somebody', 'someday', 'somedays', 'somehwere', 'somen', 'someones', 'someplace', 'somersaults', 'somethin', 'somethingin', 'somethings', 'sometrimes', 'somewhat', 'sommers', 'somthing', 'somtimes', 'son', 'sonoma', 'sons', 'soo', 'soon', 'sooner', 'sooo', 'soooo', 'sooooo', 'soooooo', 'sooooooo', 'soooooooooo', 'soopers', 'sooth', 'soothe', 'soothed', 'soother', 'soothing', 'soozie', 'sophie', 'sophisticated', 'sophistry', 'sopped', 'soppy', 'sops', 'sorbate', 'sorbet', 'sorbic', 'sorbital', 'sorbitol', 'sorcery', 'sore', 'sorely', 'soreness', 'sores', 'sorghum', 'sorrel', 'sorrento', 'sorry', 'sort', 'sorta', 'sorted', 'sorting', 'sorts', 'sot', 'sotre', 'souchong', 'sought', 'soul', 'soulistic', 'sound', 'sounded', 'sounding', 'soundlike', 'soundly', 'sounds', 'soundtrack', 'souor', 'soup', 'soupier', 'soups', 'soupy', 'sour', 'source', 'sourced', 'sourceofvitamine', 'sources', 'sourcing', 'sourdoug', 'sourdough', 'sourdoughs', 'soured', 'sourish', 'sourness', 'sours', 'south', 'southeast', 'souther', 'southern', 'southerner', 'southerners', 'southwest', 'southwestern', 'sowed', 'sox', 'soy', 'soya', 'soyabella', 'soybean', 'soybeans', 'soymilk', 'soyquick', 'sp', 'spa', 'space', 'spacecraft', 'spaces', 'spacey', 'spacing', 'spades', 'spaghetti', 'spagitti', 'spain', 'spam', 'span', 'spaniel', 'spaniels', 'spanish', 'spare', 'sparingly', 'spark', 'sparked', 'sparking', 'sparkle', 'sparkles', 'sparkling', 'sparkly', 'sparling', 'sparlking', 'sparse', 'spartingly', 'spasms', 'spat', 'spatini', 'spatter', 'spatula', 'spawned', 'spaying', 'spc', 'spca', 'speak', 'speaker', 'speaking', 'speaks', 'spearment', 'spearmint', 'spearmints', 'spears', 'spec', 'special', 'speciality', 'specialize', 'specialized', 'specializes', 'specially', 'specials', 'specialteas', 'specialties', 'specialty', 'species', 'specific', 'specificallly', 'specifically', 'specifics', 'specified', 'specifiy', 'specify', 'specimens', 'speckled', 'specks', 'specs', 'spectacular', 'spectrometer', 'spectrum', 'spectrums', 'speculate', 'speculated', 'speculation', 'speech', 'speechless', 'speed', 'speedee', 'speedy', 'speical', 'spell', 'spelled', 'spelling', 'spelnda', 'spelt', 'spend', 'spenda', 'spending', 'spends', 'spendy', 'spent', 'spermint', 'spew', 'spewed', 'spewing', 'speysider', 'sphere', 'spheres', 'spice', 'spiced', 'spices', 'spicesinc', 'spiceworld', 'spicey', 'spicier', 'spiciest', 'spiciness', 'spicing', 'spicy', 'spider', 'spiders', 'spike', 'spiked', 'spikes', 'spiking', 'spill', 'spillage', 'spilled', 'spilling', 'spills', 'spin', 'spinach', 'spinal', 'spine', 'spinkles', 'spinners', 'spinning', 'spiral', 'spirals', 'spirit', 'spirited', 'spirits', 'spiritually', 'spirulina', 'spit', 'spite', 'spits', 'spitting', 'spitups', 'spitz', 'splash', 'splashed', 'splashers', 'splashes', 'splashier', 'splashing', 'splatter', 'splattering', 'spleen', 'splenda', 'splendid', 'spliced', 'splinter', 'splintered', 'splintering', 'splinters', 'split', 'splits', 'splitting', 'splodged', 'splotched', 'splotches', 'splotchy', 'splurge', 'splurged', 'splurging', 'spoil', 'spoilage', 'spoiled', 'spoiling', 'spoils', 'spoke', 'spoken', 'spokesman', 'spokesmen', 'sponge', 'sponges', 'spongier', 'spongy', 'sponsor', 'sponsoring', 'sponsors', 'sponsorship', 'spooked', 'spoon', 'spoonability', 'spoonable', 'spoonful', 'spoonfuls', 'spooning', 'spoons', 'sporadically', 'spores', 'spork', 'sporks', 'sport', 'sporting', 'sports', 'sportswhey', 'spot', 'spotajava', 'spotless', 'spots', 'spotted', 'spotty', 'spouse', 'spout', 'spouts', 'sprang', 'spray', 'sprayed', 'spraying', 'sprays', 'spread', 'spreadable', 'spreading', 'spreads', 'sprig', 'sprightly', 'spring', 'springer', 'springfield', 'springiness', 'springs', 'springtails', 'sprinkeled', 'sprinkle', 'sprinkled', 'sprinkler', 'sprinkles', 'sprinklin', 'sprinkling', 'sprinklng', 'sprint', 'sprite', 'sprites', 'spritz', 'sprout', 'sprouted', 'sprouting', 'sprouts', 'spruce', 'sprulina', 'sprung', 'spry', 'spud', 'spuds', 'spuralina', 'spurred', 'spurting', 'spurts', 'spydem', 'sq', 'sqeezed', 'squamous', 'square', 'squared', 'squares', 'squash', 'squashed', 'squashy', 'squatter', 'squawking', 'squeak', 'squeaker', 'squeaking', 'squeaky', 'squeeeezing', 'squeekers', 'squeekiness', 'squeeking', 'squeemish', 'squeezable', 'squeeze', 'squeezed', 'squeezes', 'squeezing', 'squint', 'squinty', 'squirels', 'squirmy', 'squirrel', 'squirrels', 'squirt', 'squirted', 'squirting', 'squirts', 'squish', 'squished', 'squishy', 'sr', 'sr_1_1', 'sr_1_11', 'sr_1_5', 'srew', 'sri', 'sriracha', 'sryup', 'ss', 'ss525cs', 'ssee', 'sshe', 'ssomething', 'ssooooooo', 'ssshhhhh', 'ssssoooooooo', 'st', 'stab', 'stabbed', 'stabile', 'stability', 'stabilize', 'stabilized', 'stabilizers', 'stable', 'stacjed', 'stack', 'stackable', 'stacked', 'stacks', 'stacy', 'stadium', 'staff', 'stage', 'stages', 'staggering', 'staghorn', 'stail', 'stain', 'stained', 'staining', 'stainless', 'stains', 'stair', 'stairs', 'stakich', 'stale', 'staled', 'staleness', 'stalk', 'stalks', 'stalky', 'stall', 'stalls', 'stalwarts', 'stamina', 'stamp', 'stamped', 'stamping', 'stamps', 'stand', 'standalone', 'standard', 'standardized', 'standards', 'standby', 'standing', 'standmixer', 'standout', 'standpoint', 'stands', 'standstill', 'stank', 'stankiness', 'stanky', 'stanley', 'staple', 'stapled', 'staples', 'stappled', 'star', 'starbax', 'starbuck', 'starbucks', 'starburst', 'starbursts', 'starbux', 'starch', 'starches', 'starchy', 'stardom', 'stared', 'stares', 'stargazer', 'stargazers', 'staring', 'stark', 'starkist', 'starmark', 'starr', 'starring', 'stars', 'starsucks', 'start', 'startbucks', 'startburst', 'startch', 'startchy', 'started', 'starter', 'starters', 'starting', 'startles', 'starts', 'starvation', 'starve', 'starved', 'starving', 'starwest', 'stash', 'stashed', 'state', 'stated', 'statement', 'statements', 'states', 'stateside', 'statesman', 'statin', 'stating', 'statins', 'station', 'stationary', 'stationed', 'stations', 'statisfing', 'statistics', 'stats', 'statue', 'status', 'stave', 'staving', 'stawberries', 'stay', 'stayathomemom', 'staybridge', 'stayed', 'staying', 'stays', 'stead', 'steadily', 'steady', 'steak', 'steakhouse', 'steaks', 'steal', 'stealing', 'stealla', 'steals', 'steam', 'steambath', 'steamed', 'steamer', 'steamers', 'steaming', 'steams', 'steamy', 'stearamdo', 'stearate', 'steaz', 'steel', 'steep', 'steeped', 'steeper', 'steeping', 'steeply', 'steeps', 'steer', 'steering', 'steet', 'steggie', 'stegosaurus', 'steinbracher', 'stella', 'stellar', 'stem', 'stems', 'stench', 'step', 'stephen', 'stepped', 'stepping', 'steps', 'sterile', 'sterility', 'steriods', 'stern', 'steroid', 'steroids', 'sterols', 'steve', 'steven', 'stevia', 'steviaclear', 'stevita', 'stew', 'stewart', 'stewed', 'stews', 'sth', 'stick', 'sticker', 'stickered', 'stickier', 'stickiest', 'stickiness', 'sticking', 'stickler', 'sticks', 'sticky', 'stiff', 'stiffen', 'stiffened', 'stik', 'stiks', 'stil', 'stila', 'stimpy', 'stimulant', 'stimulate', 'stimulated', 'stimulates', 'stimulating', 'stimulation', 'stimuli', 'sting', 'stinger', 'stingers', 'stinging', 'stings', 'stingy', 'stink', 'stinkers', 'stinking', 'stinks', 'stinky', 'stir', 'stircrazy', 'stirfry', 'stirred', 'stirrers', 'stirring', 'stirs', 'stitch', 'stitches', 'stitching', 'stivia', 'stix', 'stoats', 'stock', 'stocked', 'stocking', 'stockings', 'stockpile', 'stocks', 'stogie', 'stok', 'stoked', 'stole', 'stoli', 'stollen', 'stomach', 'stomachache', 'stomachaches', 'stomache', 'stomachics', 'stomachs', 'stone', 'stoned', 'stones', 'stonewall', 'stonewalls', 'stong', 'stood', 'stooge', 'stooges', 'stool', 'stools', 'stoop', 'stop', 'stoplight', 'stopover', 'stopped', 'stopper', 'stopping', 'stops', 'stopwatch', 'storable', 'storage', 'store', 'storebought', 'storebrand', 'stored', 'storefront', 'stores', 'stories', 'storing', 'storm', 'storms', 'story', 'stout', 'stove', 'stover', 'stoves', 'stovetop', 'stow', 'straberries', 'straight', 'straighted', 'straighten', 'straightened', 'straightener', 'straightforward', 'strain', 'strained', 'strainer', 'strainers', 'straining', 'strains', 'strait', 'strand', 'stranded', 'strands', 'strange', 'strangely', 'stranger', 'strap', 'strapped', 'strategically', 'strategy', 'stratosphere', 'straw', 'strawberries', 'strawberry', 'strawberryish', 'strawberrys', 'straws', 'stray', 'strayed', 'strays', 'stream', 'street', 'streets', 'stregth', 'streisand', 'strenght', 'strength', 'strengthen', 'strengthened', 'strengthening', 'strenuous', 'strenuously', 'stress', 'stressed', 'stresses', 'stressful', 'stressing', 'stretch', 'stretched', 'stretching', 'stretchy', 'streusel', 'strewing', 'strewn', 'strict', 'strictly', 'stricy', 'stride', 'strike', 'strikes', 'striking', 'string', 'stringent', 'strings', 'stringy', 'strip', 'stripe', 'striped', 'stripes', 'stripped', 'stripper', 'stripping', 'strips', 'strive', 'strives', 'stroganoff', 'stroke', 'strokes', 'stroller', 'strong', 'stronger', 'strongest', 'strongly', 'struck', 'structural', 'structure', 'struggle', 'struggled', 'struggles', 'struggling', 'strung', 'strutted', 'struvite', 'stuart', 'stubb', 'stubborn', 'stubbs', 'stuck', 'studded', 'student', 'students', 'studied', 'studies', 'study', 'studying', 'stuf', 'stuff', 'stuffed', 'stuffer', 'stuffers', 'stuffing', 'stuffs', 'stuffy', 'stumbled', 'stumbling', 'stumped', 'stunk', 'stunning', 'stupendously', 'stupid', 'stupidly', 'sturdier', 'sturdiest', 'sturdy', 'sturgeon', 'sturm', 'stuttering', 'style', 'styled', 'styles', 'styling', 'stylish', 'styro', 'styrofoam', 'styrofoamy', 'sub', 'subcontinent', 'subcription', 'subdue', 'subdued', 'subject', 'subjected', 'subjecting', 'subjective', 'subjects', 'sublime', 'sublte', 'submerging', 'submit', 'submitted', 'subpar', 'subscibed', 'subscribe', 'subscribeand', 'subscribed', 'subscriber', 'subscribers', 'subscribing', 'subscrible', 'subscription', 'subscriptions', 'subsctribe', 'subsequent', 'subsequently', 'subside', 'subsided', 'subsides', 'subsisted', 'subsitute', 'subsribe', 'substanailly', 'substance', 'substances', 'substandard', 'substantial', 'substantially', 'substantive', 'substatute', 'substitude', 'substitue', 'substitute', 'substituted', 'substitutes', 'substituting', 'substitution', 'substitutions', 'substrate', 'subtely', 'subterfuge', 'subtexts', 'subtilis', 'subtle', 'subtler', 'subtleties', 'subtlety', 'subtly', 'subtract', 'subtracted', 'subtracts', 'suburban', 'suburbs', 'subway', 'sucanat', 'succeeded', 'succeeding', 'succeeds', 'succes', 'success', 'successful', 'successfully', 'succession', 'succinate', 'succulent', 'succulents', 'succumb', 'sucess', 'suchard', 'suck', 'sucked', 'sucker', 'suckered', 'suckers', 'suckin', 'sucking', 'sucks', 'sucorse', 'sucralose', 'sucrose', 'suction', 'sudburymarket', 'sudden', 'suddenly', 'sudenly', 'suds', 'sue', 'sued', 'suers', 'suet', 'suffer', 'suffered', 'sufferer', 'sufferers', 'suffering', 'suffers', 'suffice', 'suffices', 'sufficient', 'sufficiently', 'suffragettes', 'sugaira', 'sugar', 'sugared', 'sugarfree', 'sugarless', 'sugarlike', 'sugars', 'sugary', 'suger', 'sugery', 'sugested', 'suggary', 'suggest', 'suggested', 'suggesting', 'suggestion', 'suggestions', 'suggestive', 'suggests', 'suguar', 'suing', 'suit', 'suitable', 'suitcase', 'suitcoat', 'suite', 'suited', 'suites', 'suiting', 'suits', 'suki', 'sulfate', 'sulfates', 'sulfentrazone', 'sulfite', 'sulfites', 'sulfur', 'sulfuric', 'sullenly', 'sulphate', 'sulpher', 'sulphur', 'sulur', 'sum', 'sumac', 'sumatra', 'sumatran', 'summar', 'summarily', 'summarize', 'summary', 'summation', 'summed', 'summer', 'summers', 'summertime', 'summery', 'summoned', 'sums', 'sumutra', 'sun', 'sunbeam', 'sunbelt', 'sunburn', 'sunbutter', 'sundae', 'sunday', 'sunflower', 'sunk', 'sunkist', 'sunland', 'sunmaid', 'sunmakers', 'sunny', 'sunridge', 'sunrise', 'sunrises', 'sunroom', 'sunscreen', 'sunset', 'sunshine', 'suolo', 'super', 'super5mix', 'superawesome', 'superb', 'superball', 'superballs', 'superbowl', 'supercrema', 'superfine', 'superfood', 'superfoods', 'superfruit', 'superhealthy', 'superhot', 'superior', 'superiour', 'supermaket', 'superman', 'supermarker', 'supermarket', 'supermarkets', 'supermix', 'supernatural', 'supernaturally', 'superquick', 'supersaver', 'supertaster', 'supervise', 'supervised', 'supervising', 'supervision', 'supervisor', 'supieror', 'suposed', 'supper', 'supplament', 'supple', 'supplement', 'supplemental', 'supplementation', 'supplemented', 'supplementing', 'supplements', 'supplied', 'supplier', 'suppliers', 'supplies', 'suppliment', 'supply', 'supplying', 'support', 'supported', 'supporting', 'supportive', 'supports', 'suppose', 'suppose_', 'supposed', 'supposedly', 'supposee', 'suppossed', 'supppose', 'suppressing', 'suppression', 'supps', 'suppsosed', 'supr', 'suprema', 'supreme', 'supremely', 'supremo', 'suprise', 'suprised', 'suprisingly', 'sur', 'sure', 'surely', 'sures', 'surf', 'surface', 'surfaces', 'surfed', 'surgar', 'surgeon', 'surgeries', 'surgery', 'surgically', 'surly', 'surmise', 'surpass', 'surpassed', 'surpasses', 'surplus', 'surprise', 'surprised', 'surprises', 'surprising', 'surprisingly', 'surprize', 'surprized', 'surreal', 'surreally', 'surrounded', 'surrounding', 'surroundings', 'surrounds', 'survey', 'surveys', 'survied', 'survival', 'survivalists', 'survive', 'survived', 'survives', 'surviving', 'survivor', 'susan', 'susbscribe', 'susceptible', 'suscribe', 'sushi', 'sushinut', 'sushis', 'suspect', 'suspected', 'suspended', 'suspends', 'suspension', 'suspicion', 'suspicions', 'suspicious', 'suspiciously', 'sustain', 'sustainability', 'sustainable', 'sustainably', 'sustained', 'sustaining', 'sustenance', 'suuupppper', 'suzanne', 'suzhou', 'sw', 'swad', 'swaggable', 'swai', 'swallow', 'swallowed', 'swallowing', 'swallows', 'swamp', 'swanson', 'swap', 'swapped', 'swapping', 'swarm', 'swarmed', 'swarming', 'swarms', 'swat', 'swatted', 'swatting', 'sway', 'swayed', 'swear', 'swears', 'sweat', 'sweatenned', 'sweating', 'sweats', 'sweaty', 'swedish', 'sweeney', 'sweeneys', 'sweentness', 'sweep', 'sweepings', 'sweet', 'sweetarts', 'sweeted', 'sweeten', 'sweetend', 'sweetened', 'sweetener', 'sweeteners', 'sweetening', 'sweetens', 'sweeter', 'sweeterner', 'sweetest', 'sweetheart', 'sweetie', 'sweeting', 'sweetish', 'sweetleaf', 'sweetmints', 'sweetned', 'sweetner', 'sweetners', 'sweetness', 'sweets', 'sweettart', 'sweettarts', 'sweetz', 'swell', 'swelling', 'swept', 'swet', 'swheatscoop', 'swift', 'swiftly', 'swig', 'swigs', 'swill', 'swim', 'swimming', 'swine', 'swing', 'swinging', 'swings', 'swipe', 'swirl', 'swirled', 'swirling', 'swirls', 'swish', 'swished', 'swiss', 'switch', 'switchaholic', 'switched', 'switching', 'switzerland', 'swollen', 'swore', 'sworn', 'swt', 'syked', 'syllabic', 'sylvia', 'symbiotic', 'symbol', 'symbols', 'symmetrical', 'symphony', 'symposium', 'symptom', 'symptoms', 'sympton', 'symptons', 'synder', 'synders', 'syndrom', 'syndrome', 'synergy', 'synonymous', 'synopses', 'syntax', 'synthesis', 'synthesize', 'synthesized', 'synthetic', 'synthetics', 'syrian', 'syringe', 'syrup', 'syrups', 'syrupy', 'syrupyness', 'systems', 'szechaun', 'szechuan', 't2n', 't6635', 'tab', 'tabasco', 'tabby', 'table', 'tables', 'tablespoon', 'tablespoons', 'tablespoonsful', 'tablet', 'tablets', 'tabs', 'tacked', 'tacky', 'taco', 'tacoma', 'tacos', 'tact', 'tactfully', 'tactic', 'tactics', 'tad', 'taffy', 'tag', 'tagalongs', 'tagatose', 'tagged', 'tagline', 'tags', 'tahini', 'tahitian', 'tai', 'tail', 'tailor', 'tainted', 'taints', 'taiwan', 'taiwanese', 'taj', 'take8', 'taked', 'taken', 'takeout', 'takes', 'taking', 'takingly', 'talcum', 'tale', 'talented', 'tales', 'talisker', 'talk', 'talked', 'talkin', 'talking', 'talks', 'tall', 'tallents', 'taller', 'tallest', 'tallow', 'talons', 'tam', 'tamale', 'tamales', 'tamarind', 'tamarined', 'tamayokucha', 'tame', 'tamed', 'tamer', 'tames', 'tamp', 'tampa', 'tampanade', 'tamped', 'tampered', 'tampering', 'tamping', 'tams', 'tamworth', 'tan', 'tandem', 'tandoor', 'tang', 'tangent', 'tangerine', 'tangerines', 'tangible', 'tangle', 'tangled', 'tangles', 'tangy', 'tank', 'tanka', 'tankard', 'tannicky', 'tannin', 'tanqueray', 'tantalizes', 'tantalizing', 'tantalyzing', 'tantamount', 'tantrum', 'tanzania', 'tanzanian', 'tao', 'tap', 'tapas', 'tapatio', 'tape', 'taped', 'tapenade', 'tapered', 'taping', 'tapioca', 'tapped', 'taps', 'tapwater', 'tar', 'taramosalata', 'target', 'targeted', 'targets', 'targine', 'tarnish', 'tarnishing', 'taro', 'tarragon', 'tarrazu', 'tarry', 'tart', 'tartar', 'tartaric', 'tarter', 'tartest', 'tartness', 'tarts', 'tase', 'tased', 'tasha', 'tasing', 'task', 'taske', 'tasked', 'tasks', 'tassimo', 'tassmio', 'tast', 'taste', 'tastebuds', 'tasted', 'tasteful', 'tasteing', 'tasteless', 'tastelss', 'taster', 'tasters', 'tastes', 'tastety', 'tastewise', 'tastey', 'tastie', 'tastier', 'tastiest', 'tasting', 'tastings', 'tastless', 'tasty', 'tat', 'tata', 'tate', 'tates', 'tato', 'tatse', 'tatsed', 'tatters', 'tattoo', 'taught', 'taurine', 'tauts', 'tavalon', 'tax', 'taxes', 'taxi', 'taylor', 'tazah', 'tazo', 'tb', 'tbl', 'tbm', 'tbs', 'tbsp', 'tbspoons', 'tbspp', 'tbsps', 'te', 'tea', 'teabag', 'teabagging', 'teabags', 'teaball', 'teacakecoffee', 'teach', 'teacher', 'teaching', 'teacup', 'teakettle', 'teal', 'team', 'teams', 'teaposy', 'teapot', 'tear', 'tearing', 'tears', 'teas', 'teasans', 'tease', 'teased', 'teaser', 'teasp', 'teaspoon', 'teaspoonful', 'teaspoonfull', 'teaspoons', 'teasppon', 'teast', 'teatime', 'teavana', 'teazone', 'tech', 'techni', 'technical', 'technically', 'technique', 'techniques', 'techno', 'technology', 'tecture', 'ted', 'teddies', 'teddy', 'tedious', 'tee', 'teeccino', 'teecino', 'teen', 'teenage', 'teenager', 'teenagers', 'teenee', 'teenie', 'teeniest', 'teens', 'teensy', 'teeny', 'teetering', 'teeth', 'teething', 'teff', 'teflon', 'teied', 'teisseire', 'tek', 'tel', 'telephone', 'television', 'tell', 'tellicherry', 'telling', 'tells', 'telltale', 'tembleque', 'temp', 'tempature', 'tempatures', 'temped', 'tempeh', 'temper', 'temperament', 'temperamental', 'temperature', 'temperatures', 'tempered', 'tempermental', 'temperture', 'temple', 'temporarily', 'temporary', 'temps', 'temptation', 'temptations', 'tempted', 'tempting', 'tempurature', 'tenable', 'tenaciously', 'tend', 'tendancy', 'tended', 'tendencies', 'tendency', 'tendendcy', 'tender', 'tenderize', 'tenderized', 'tenderizes', 'tenderloin', 'tenderness', 'tenders', 'tending', 'tendons', 'tends', 'tennessee', 'tennis', 'tens', 'tense', 'tension', 'tent', 'tentative', 'tentatively', 'tenth', 'tenuous', 'tequila', 'tequiyaed', 'terephthalate', 'terer', 'teriaki', 'teriyaki', 'term', 'terminal', 'terminals', 'terms', 'terra', 'terrain', 'terribale', 'terrible', 'terribly', 'terrie', 'terrier', 'terriers', 'terrific', 'terrified', 'terrifying', 'terrior', 'territorial', 'territory', 'terriyaki', 'terro', 'terroir', 'terror', 'terrorism', 'terrorizing', 'terrors', 'terrrible', 'terry', 'tertiary', 'tesco', 'tesoro', 'test', 'tested', 'tester', 'testers', 'testified', 'testify', 'testimonial', 'testimonials', 'testimonies', 'testing', 'tests', 'testy', 'tether', 'tetley', 'tetra', 'tetrapaks', 'tetras', 'teurig', 'tex', 'texan', 'texas', 'texmati', 'text', 'textbook', 'textile', 'textual', 'textural', 'texturally', 'texture', 'textured', 'textures', 'texturizer', 'texturizing', 'texuture', 'tge', 'tgif', 'th', 'tha', 'thai', 'thailand', 'thank', 'thanked', 'thankful', 'thankfully', 'thanking', 'thanks', 'thanksgiving', 'thatch', 'thats', 'thaw', 'thawed', 'thay', 'theater', 'theaters', 'theatre', 'theatrical', 'thecup', 'thee', 'theese', 'thei', 'theirs', 'theme', 'themed', 'theo', 'theobroma', 'theories', 'theorized', 'theory', 'therapies', 'therapy', 'therefor', 'thereof', 'theres', 'thermal', 'thermogenesis', 'thermometer', 'thermos', 'thermostat', 'thern', 'thes', 'thesedon', 'thesein', 'theses', 'thethriftstoremountaineer', 'theyd', 'theyre', 'thiamin', 'thiamine', 'thicken', 'thickened', 'thickener', 'thickeners', 'thicker', 'thickest', 'thickly', 'thickness', 'thicknesses', 'thief', 'thier', 'thigh', 'thing', 'thingies', 'things', 'thingys', 'think', 'thinking', 'thinkng', 'thinks', 'thinkthin', 'thinly', 'thinned', 'thinner', 'thinners', 'thinning', 'thins', 'thionyl', 'thir', 'thirdly', 'thirds', 'thirst', 'thirstier', 'thirsty', 'thirteen', 'thirties', 'thirty', 'thistle', 'thisw', 'thius', 'tho', 'thomas', 'thorns', 'thornton', 'thorough', 'thoroughly', 'thou', 'thought', 'thoughtful', 'thoughtless', 'thoughts', 'thougt', 'thougth', 'thousand', 'thousands', 'thr', 'thrash', 'threaded', 'threads', 'threat', 'threaten', 'threatened', 'threatening', 'threes', 'threw', 'thried', 'thrifts', 'thrill', 'thrilled', 'thrills', 'thrive', 'thrived', 'thriving', 'throat', 'throats', 'thromboxanes', 'throughly', 'througout', 'throuhg', 'throw', 'throwing', 'thrown', 'throws', 'thryoid', 'thse', 'thsn', 'thst', 'thumb', 'thumbnail', 'thumbs', 'thunder', 'thunderstorms', 'thunk', 'thur', 'thursday', 'thusly', 'thw', 'thy', 'thyey', 'thyme', 'thyroid', 'ti', 'tiajuana', 'tiana', 'tibet', 'tibetan', 'ticked', 'ticket', 'ticking', 'tickle', 'tickled', 'tickles', 'tickling', 'tidbit', 'tidbits', 'tide', 'tidy', 'tie', 'tied', 'tier', 'ties', 'tiger', 'tigher', 'tighly', 'tight', 'tightened', 'tightening', 'tighter', 'tightest', 'tightly', 'tightness', 'tigthen', 'tihnk', 'tiki', 'tikicat', 'tikka', 'tikuanyin', 'til', 'tile', 'tiles', 'till', 'tillamook', 'tilted', 'tim', 'time', 'timed', 'timeframe', 'timeliness', 'timely', 'timer', 'times', 'timid', 'timing', 'timmothy', 'timmy', 'timothy', 'timothys', 'tin', 'tincture', 'tine', 'tinge', 'tinged', 'tingle', 'tingles', 'tingling', 'tingly', 'tings', 'tini', 'tiniest', 'tinker', 'tinkering', 'tinkyada', 'tinned', 'tinny', 'tins', 'tint', 'tinted', 'tiny', 'tinycat', 'tip', 'tipped', 'tipping', 'tippy', 'tips', 'tiptoed', 'tire', 'tired', 'tirelessly', 'tires', 'tiring', 'tis', 'tisane', 'tisano', 'tish', 'tissues', 'titanium', 'title', 'titled', 'titular', 'tj', 'tl', 'tlc', 'tm', 'tmi', 'tne', 'to0', 'toast', 'toasted', 'toasteds', 'toaster', 'toasting', 'toasts', 'toasty', 'tobacco', 'tobacman', 'tobias', 'tobler', 'tocopherois', 'tocopherols', 'tocopheryl', 'today', 'todays', 'todd', 'toddler', 'toddlers', 'toddy', 'toe', 'toes', 'tofee', 'toffee', 'tofu', 'togarashi', 'togehther', 'toilet', 'toiletries', 'toilets', 'toiling', 'toity', 'token', 'tokyo', 'told', 'toledo', 'tolerable', 'tolerance', 'tolerant', 'tolerate', 'tolerated', 'tolerates', 'tolerating', 'tolerences', 'toll', 'toluca', 'toluene', 'tom', 'tomaotes', 'tomato', 'tomatoe', 'tomatoes', 'tomatoey', 'tomatos', 'tome', 'tomfoolery', 'tommy', 'tomorrow', 'ton', 'tone', 'toned', 'toner', 'tones', 'tonga', 'tongol', 'tongue', 'tongues', 'tonic', 'tonics', 'tonification', 'tonight', 'tonnes', 'tonno', 'tons', 'tony', 'tooberry', 'toohpaste', 'took', 'tool', 'toolbox', 'tools', 'tooo', 'toooo', 'tooooo', 'tooooooo', 'tooooooooo', 'toot', 'tooth', 'toothbrush', 'toothless', 'toothlessness', 'toothpaste', 'toothpick', 'toothpicks', 'toothpowder', 'tooths', 'toothsome', 'tootie', 'toots', 'tootsie', 'toped', 'topiary', 'topic', 'topics', 'topnotch', 'topped', 'topper', 'toppers', 'topping', 'toppings', 'topps', 'tops', 'topsy', 'torani', 'tore', 'toriani', 'tormented', 'torn', 'tornadoes', 'toronto', 'tortellini', 'tortilla', 'tortillas', 'tortillita', 'torture', 'torturing', 'toscana', 'toscano', 'toss', 'tossd', 'tossed', 'tossing', 'tostadas', 'tostito', 'tostitos', 'tot', 'total', 'totaling', 'totality', 'totally', 'totals', 'tote', 'toting', 'totonac', 'totonacs', 'tots', 'totw', 'tou', 'touch', 'touchable', 'touched', 'touches', 'touching', 'tough', 'tougher', 'toughest', 'tounge', 'tour', 'tourangelle', 'touring', 'tourism', 'tourist', 'tout', 'touted', 'toutes', 'touting', 'touts', 'towel', 'towels', 'tower', 'towers', 'town', 'townhouse', 'towns', 'tox', 'toxic', 'toxicity', 'toxicology', 'toxin', 'toxins', 'toy', 'toying', 'toys', 'tplo', 'trace', 'traced', 'traces', 'trachea', 'tracing', 'track', 'tracked', 'tracking', 'tracks', 'tract', 'tractor', 'tracy', 'trade', 'traded', 'trademark', 'trademarked', 'tradeoff', 'trader', 'traders', 'trading', 'tradional', 'tradition', 'traditional', 'traditionally', 'traditions', 'traditonal', 'traffic', 'tragacanth', 'tragedy', 'tragic', 'tragically', 'trail', 'trailer', 'trailers', 'trailing', 'trails', 'train', 'trained', 'trainer', 'training', 'trains', 'trait', 'trajectories', 'tramp', 'traning', 'trans', 'transaction', 'transcends', 'transcriptionist', 'transelate', 'transfat', 'transfats', 'transfer', 'transferred', 'transferring', 'transfers', 'transform', 'transformed', 'transforms', 'transgressions', 'transient', 'transit', 'transition', 'transitioned', 'transitioning', 'translate', 'translated', 'translates', 'translation', 'translucent', 'transmission', 'transparency', 'transparent', 'transplant', 'transplanted', 'transport', 'transportable', 'transportation', 'transported', 'transporting', 'trap', 'trapped', 'trapping', 'trappist', 'traps', 'trash', 'trashcan', 'trashed', 'trashing', 'trauma', 'traumatized', 'travel', 'traveled', 'traveler', 'travelers', 'traveling', 'traveller', 'travelling', 'travels', 'traverse', 'travesties', 'travesty', 'tray', 'trays', 'tre', 'treacle', 'tread', 'treadmill', 'treasure', 'treasures', 'treat', 'treated', 'treater', 'treaters', 'treating', 'treatment', 'treats', 'tree', 'treeline', 'treenuts', 'trees', 'trek', 'treks', 'tremendous', 'tremendously', 'trend', 'trendiest', 'trendy', 'trenette', 'trenton', 'tres', 'tri', 'triacetin', 'trial', 'trialing', 'trials', 'triaminic', 'triangle', 'triangles', 'triangular', 'triathlete', 'tribeca', 'tribute', 'tricalcium', 'trick', 'tricked', 'tricks', 'tricky', 'triclopyr', 'trident', 'tried', 'tries', 'trifle', 'trigger', 'triggered', 'triggering', 'triggers', 'triglycerides', 'trim', 'trimester', 'trimesters', 'trimmed', 'trimmer', 'trimming', 'trimmings', 'tring', 'trinity', 'trio', 'trip', 'tripe', 'triple', 'tripled', 'tripping', 'trips', 'triscuit', 'triskets', 'trityl', 'trivedi', 'trivia', 'trivial', 'troffie', 'trofiette', 'trolli', 'troop', 'troops', 'tropica', 'tropical', 'trots', 'trotter', 'trouble', 'troublemaker', 'troubles', 'troubleshout', 'troublesome', 'troubling', 'troufle', 'trout', 'trow', 'truck', 'truckload', 'trucks', 'true', 'truely', 'truer', 'truest', 'truffel', 'truffettes', 'truffle', 'truffled', 'truffles', 'trufle', 'trufles', 'truly', 'trumpet', 'trumpeting', 'trumps', 'trung', 'trunk', 'trust', 'trusted', 'trustful', 'trusting', 'trusts', 'trustworthy', 'trusty', 'trusweets', 'truth', 'truthful', 'truthfully', 'truthfulness', 'truvia', 'try', 'tryed', 'tryied', 'tryin', 'trying', 'tsa', 'tsao', 'tsb', 'tsc', 'tsp', 'tsps', 'tsunami', 'tthat', 'tu', 'tub', 'tubberware', 'tube', 'tuber', 'tubes', 'tubing', 'tubs', 'tubular', 'tuck', 'tucked', 'tuckerton', 'tucson', 'tuened', 'tues', 'tuesday', 'tuffy', 'tufts', 'tug', 'tugged', 'tugging', 'tulley', 'tully', 'tullys', 'tulsa', 'tulsi', 'tumbler', 'tumblers', 'tumeric', 'tummies', 'tummy', 'tummys', 'tumor', 'tumors', 'tums', 'tuna', 'tune', 'tuno', 'tuns', 'tupperware', 'turbinado', 'turbo', 'turd', 'turds', 'tureky', 'turk', 'turkey', 'turkeys', 'turkish', 'turmeric', 'turn', 'turnabout', 'turnaround', 'turned', 'turning', 'turnoff', 'turnpike', 'turns', 'turtle', 'tuscan', 'tuscanny', 'tuscany', 'tussy', 'tutti', 'tutus', 'tv', 'tvp', 'twain', 'tweak', 'tweaked', 'tweaking', 'tweek', 'tweeking', 'tweleve', 'twentysomethings', 'twice', 'twig', 'twigs', 'twin', 'twince', 'twining', 'twinings', 'twininigs', 'twinkies', 'twinkle', 'twinning', 'twinnings', 'twins', 'twist', 'twisted', 'twisters', 'twisting', 'twists', 'twisty', 'twitching', 'twitchy', 'twitter', 'twix', 'twizzler', 'twizzlers', 'twos', 'twosome', 'tx', 'ty', 'tyger', 'tylanol', 'tylenol', 'tyme', 'type', 'typecast', 'typed', 'types', 'typhoo', 'typical', 'typically', 'typing', 'typo', 'typos', 'tyson', 'tzao', 'tzatziki', 'tzu', 'tzus', 'uber', 'uc', 'ucc', 'ucky', 'udi', 'udon', 'ugh', 'ughh', 'ugly', 'uh', 'uhm', 'uk', 'ukraine', 'ulcer', 'ulcerated', 'ulta', 'ultima', 'ultimate', 'ultimately', 'ultra', 'ultramix', 'um', 'umami', 'umbrella', 'umeshu', 'umm', 'ummm', 'ummmm', 'unable', 'unacceptable', 'unadultarated', 'unadulterated', 'unaffected', 'unaffordable', 'unagi', 'unanimous', 'unanswered', 'unappealed', 'unappealing', 'unappealingly', 'unappetizing', 'unappreciative', 'unattended', 'unattractive', 'unavailability', 'unavailable', 'unavoidable', 'unaware', 'unbalanced', 'unbearable', 'unbeatable', 'unbeatably', 'unbecoming', 'unbeknownst', 'unbelievable', 'unbelievably', 'unbelieveable', 'unbiased', 'unbleached', 'unblocking', 'unboiled', 'unborn', 'unbranded', 'unbrewed', 'unbroken', 'uncap', 'uncapped', 'uncaring', 'uncertain', 'uncertainty', 'uncharacteristic', 'unchewable', 'unchewed', 'unclasped', 'uncle', 'unclean', 'unclear', 'uncomfortable', 'uncomfortably', 'uncommon', 'uncomplicated', 'unconcerned', 'unconscionable', 'uncontrolable', 'uncontrollable', 'uncontrollably', 'unconventional', 'unconvinced', 'uncooked', 'uncorrected', 'uncovered', 'uncut', 'und', 'undamaged', 'undecipherable', 'undelivered', 'undeniable', 'undeniably', 'undented', 'underarm', 'underarms', 'underbite', 'undercooked', 'undercooking', 'undercurrent', 'undercurrents', 'undercut', 'underdone', 'underestimate', 'underfilled', 'undergo', 'undergone', 'underground', 'underhanded', 'underlying', 'undermining', 'underneath', 'underpants', 'underpinning', 'underpriced', 'undersalting', 'underside', 'understand', 'understandable', 'understandably', 'understanding', 'understands', 'understated', 'understatement', 'understood', 'undertaste', 'undertone', 'undertones', 'undertray', 'underutilized', 'underwear', 'underweight', 'underwhelmed', 'underwhelming', 'undeserved', 'undeserving', 'undesirable', 'undesireable', 'undesired', 'undetectable', 'undetermined', 'undigestable', 'undigested', 'undigestible', 'undiluted', 'undisclosed', 'undissolved', 'undistinguished', 'undisturbed', 'undo', 'undoubtably', 'undoubtedly', 'undrained', 'undrinkable', 'undue', 'undulating', 'uneasy', 'uneaten', 'unedible', 'uneducated', 'unemployed', 'unequal', 'unequaled', 'unethical', 'uneven', 'unevenly', 'unexceptional', 'unexciting', 'unexpected', 'unexpectedly', 'unexpired', 'unfair', 'unfamiliar', 'unfiltered', 'unfinished', 'unfit', 'unflavored', 'unflavorful', 'unfolded', 'unfolds', 'unforgettable', 'unfortntately', 'unfortunate', 'unfortunately', 'unfortunatley', 'unfortunatly', 'unfounded', 'unfresh', 'unfreshness', 'unfriendly', 'unfrosted', 'unfurl', 'unglued', 'ungreased', 'unground', 'unhappy', 'unharmed', 'unhealthier', 'unhealthiest', 'unhealthy', 'unheard', 'unhelpful', 'unholy', 'unhulled', 'unhydrogenated', 'unidentifiable', 'unidentified', 'uniform', 'uniformed', 'uniformity', 'uniformly', 'unilever', 'unimportant', 'unimpressed', 'unimpressive', 'uninformative', 'uninhibited', 'uninitiated', 'uninspired', 'uninspiring', 'unintentional', 'uninteresting', 'uninvited', 'union', 'unique', 'uniquely', 'uniqueness', 'unit', 'unite', 'united', 'unitl', 'units', 'universal', 'universally', 'universe', 'university', 'unjustified', 'unknowing', 'unknowingly', 'unknown', 'unknowns', 'unlabeled', 'unleashes', 'unless', 'unlike', 'unlikely', 'unload', 'unloaded', 'unloading', 'unlock', 'unlucky', 'unmarked', 'unmatched', 'unmeasured', 'unmelted', 'unmistakable', 'unmistakeable', 'unmixed', 'unmotivated', 'unnacceptable', 'unnamed', 'unnatural', 'unnaturally', 'unneccssary', 'unnecessarily', 'unnecessary', 'unnerved', 'unnerving', 'uno', 'unobtrusive', 'unofficial', 'unopen', 'unopend', 'unopened', 'unpainted', 'unpalatability', 'unpalatable', 'unplanned', 'unpleasant', 'unpleasantly', 'unplugging', 'unpopped', 'unpredictable', 'unprepared', 'unpretentious', 'unprocessed', 'unprofessional', 'unpronoucable', 'unpronounceable', 'unproven', 'unquote', 'unreadable', 'unreal', 'unrealistic', 'unrealistically', 'unreasonable', 'unrecognizable', 'unrecyclable', 'unrefined', 'unrelated', 'unreliable', 'unrelieved', 'unremarkable', 'unrested', 'unreturned', 'unripe', 'unroasted', 'unroll', 'unrolled', 'unsafe', 'unsalted', 'unsanitary', 'unsatisfactory', 'unsatisfied', 'unsatisfying', 'unsaturated', 'unsavory', 'unscathed', 'unscented', 'unscientific', 'unscrew', 'unscrewed', 'unscrews', 'unscrupulous', 'unsealed', 'unseasonably', 'unseasoned', 'unseen', 'unsettled', 'unsettles', 'unsightly', 'unsmashed', 'unsold', 'unsophisticated', 'unspicy', 'unspreadable', 'unstable', 'unstained', 'unstoppable', 'unsubscribed', 'unsubscribing', 'unsuccessful', 'unsuited', 'unsulfured', 'unsupervised', 'unsure', 'unsurprising', 'unsuspecting', 'unsustainable', 'unsweet', 'unsweeted', 'unsweetend', 'unsweetened', 'unsympathetic', 'untasted', 'untested', 'unthinkable', 'untill', 'untli', 'unto', 'untouched', 'untreated', 'untried', 'untrue', 'untruth', 'untterly', 'unusable', 'unusal', 'unused', 'unusual', 'unusually', 'unverified', 'unwanted', 'unwarranted', 'unwearable', 'unwelcome', 'unwholesome', 'unwieldy', 'unwilling', 'unwinding', 'unwitting', 'unwrap', 'unwrapped', 'unwrapping', 'unzip', 'upc', 'upcoming', 'update', 'updated', 'updates', 'updating', 'upfront', 'upgrade', 'upgraded', 'upgrading', 'uphill', 'upholstery', 'upland', 'uplift', 'uplifted', 'uploaded', 'uploads', 'upped', 'upper', 'upping', 'uppy', 'upright', 'ups', 'upscale', 'upset', 'upsets', 'upsetting', 'upside', 'upsizing', 'upstairs', 'upstate', 'upswing', 'upton', 'uptown', 'upturned', 'upward', 'upwards', 'ur', 'urban', 'uretic', 'urg', 'urge', 'urged', 'urges', 'uri', 'uric', 'urin', 'urinary', 'urinate', 'urinating', 'urine', 'urn', 'urological', 'urologist', 'urpy', 'ursi', 'ursula', 'usa', 'usability', 'usable', 'usado', 'usage', 'usaully', 'usb', 'usda', 'use', 'useable', 'used', 'useful', 'usefulness', 'useless', 'uselessly', 'user', 'users', 'uses', 'using', 'usp', 'usps', 'usual', 'usually', 'usualy', 'ususally', 'ut', 'utah', 'utensil', 'utensils', 'uterine', 'uterus', 'utf8', 'uti', 'utilities', 'utilize', 'utilizes', 'utilizing', 'utter', 'utterly', 'utz', 'uu', 'uv', 'uva', 'v8', 'va', 'vac', 'vacant', 'vacation', 'vacationed', 'vacationers', 'vacationing', 'vacay', 'vaccine', 'vaccines', 'vaccum', 'vaccuum', 'vacumn', 'vacuum', 'vacuumed', 'vacuuming', 'vague', 'vaguely', 'valdez', 'valdosta', 'valentina', 'valentine', 'valentines', 'valerian', 'valiant', 'valid', 'validate', 'vallencia', 'valley', 'valleys', 'valrhona', 'valuable', 'value', 'valued', 'values', 'valve', 'van', 'vanes', 'vanilla', 'vanillaish', 'vanillas', 'vanillin', 'vanills', 'vanished', 'vanishing', 'vapid', 'vaping', 'vapor', 'vapors', 'vareties', 'variability', 'variable', 'variables', 'variance', 'variances', 'variant', 'variants', 'variation', 'variations', 'varied', 'varieities', 'varies', 'variet', 'varietal', 'varietals', 'varieties', 'variety', 'various', 'varities', 'varity', 'vary', 'varying', 'vase', 'vaseline', 'vasodilator', 'vast', 'vastly', 'vatamins', 'vcaps', 've', 'veal', 'veeeeeeeeeeery', 'veer', 'veered', 'veg', 'vega', 'vegan', 'vegannaise', 'vegans', 'vegas', 'vegatable', 'vegatables', 'vege', 'vegei', 'vegetable', 'vegetables', 'vegetal', 'vegetarian', 'vegetarians', 'vegetarion', 'veggie', 'veggiedent', 'veggies', 'vegie', 'vegies', 'vegs', 'vegtables', 'vehicle', 'vein', 'veinier', 'veins', 'velcro', 'veletta', 'velveeta', 'velvet', 'velvety', 'vender', 'vending', 'vendor', 'vendors', 'veneer', 'veneziane', 'venice', 'venison', 'vension', 'vent', 'vente', 'ventera', 'venti', 'ventilate', 'venture', 'ventured', 'venue', 'venus', 'ver', 'vera', 'veracruz', 'veranda', 'verbally', 'verbena', 'verbiage', 'verde', 'verdict', 'verge', 'vergers', 'verification', 'verified', 'verify', 'verifying', 'verions', 'verities', 'verity', 'verizon', 'vermicelli', 'vermiculite', 'vermin', 'vermont', 'vermouth', 'vernon', 'vernor', 'verona', 'verrrrrrrrrrrrrrrry', 'verrry', 'versa', 'versatile', 'verse', 'version', 'versions', 'versitile', 'versitility', 'verson', 'versus', 'vertical', 'vertically', 'verus', 'vessel', 'vessels', 'vet', 'veterinarian', 'veterinarians', 'veterinary', 'vets', 'vfusion', 'vh', 'vhs', 'vi', 'viable', 'vial', 'vials', 'vias', 'vibe', 'vibrance', 'vibrant', 'vibrantly', 'vibration', 'vibrations', 'vice', 'vicinity', 'victim', 'victims', 'victoria', 'victorian', 'video', 'videogame', 'videos', 'vie', 'vienna', 'viennese', 'vietnam', 'vietnamese', 'view', 'viewed', 'viewing', 'viewpoint', 'views', 'vigor', 'vigorous', 'vigorously', 'vile', 'village', 'vimto', 'vinaigrette', 'vinci', 'vindaloo', 'vindications', 'vine', 'vinegar', 'vinegars', 'vinegary', 'vineger', 'vines', 'vineyard', 'vinger', 'vinigar', 'vinigars', 'vino', 'vinous', 'vintage', 'vinter', 'vinturi', 'vinum', 'viola', 'violation', 'violence', 'violent', 'violently', 'violet', 'virbac', 'virgin', 'virginia', 'virtually', 'virtue', 'virtuosos', 'virtuous', 'virus', 'viruses', 'visable', 'visalus', 'viscous', 'visible', 'visibly', 'visine', 'visions', 'visit', 'visited', 'visiters', 'visiting', 'visitor', 'visitors', 'visits', 'visor', 'visual', 'visually', 'visuals', 'vit', 'vita', 'vitacoco', 'vitacost', 'vitagravy', 'vitahound', 'vital', 'vitality', 'vitamin', 'vitamine', 'vitamins', 'vitamix', 'vitas', 'vitaspelt', 'vite', 'vitemin', 'vitimins', 'vitro', 'vivarin', 'vivid', 'vividly', 'vivifying', 'vlasic', 'vm', 'vocabulary', 'vodka', 'voice', 'voicemail', 'voicemails', 'voices', 'void', 'voila', 'voilaa', 'volatile', 'volcanos', 'volt', 'volume', 'volumes', 'voluntarily', 'volunteered', 'volunteering', 'volunterily', 'voluptuoso', 'vomit', 'vomited', 'vomiting', 'vomitted', 'vomitting', 'vons', 'voodoo', 'vorum', 'vote', 'voted', 'votes', 'voting', 'vouch', 'vouchers', 'vowed', 'vox', 'voxbox', 'voyage', 'vplenish', 'vs', 'vt', 'vu', 'vue', 'vv', 'vw', 'vwkpck03no38', 'wa', 'wa98032', 'waaaaaay', 'waaaaaayyy', 'waaaaay', 'waaaay', 'waaay', 'waaayyyyyyyy', 'waana', 'wabash', 'wack', 'wacky', 'wad', 'wads', 'wafer', 'wafers', 'waffle', 'waffles', 'waft', 'wafted', 'wafting', 'wafts', 'wag', 'wager', 'wages', 'wagged', 'wagging', 'wagon', 'wah', 'waist', 'waistline', 'wait', 'waited', 'waiter', 'waiting', 'waitress', 'waits', 'waivers', 'wakame', 'wake', 'wakes', 'wakeup', 'waking', 'wal', 'walden', 'walgreen', 'walgreens', 'walk', 'walked', 'walker', 'walkers', 'walking', 'walks', 'wall', 'wallet', 'wallflower', 'wallgreens', 'wallop', 'wallpaper', 'walls', 'wally', 'walmart', 'walmarts', 'walnut', 'walnuts', 'wand', 'wander', 'wandered', 'wandering', 'wane', 'wanna', 'wannabee', 'want', 'wanted', 'wanting', 'wants', 'wanut', 'war', 'ward', 'wards', 'ware', 'warehouse', 'warehouses', 'warfarin', 'warheads', 'warily', 'waring', 'warm', 'warmed', 'warmer', 'warming', 'warms', 'warmth', 'warn', 'warned', 'warner', 'warning', 'warnings', 'warns', 'warp', 'warped', 'warrant', 'warrants', 'warranty', 'warrior', 'warriors', 'wartered', 'waruva', 'wary', 'wasa', 'wasabi', 'wash', 'washable', 'washed', 'washer', 'washes', 'washing', 'washings', 'washington', 'washy', 'wasit', 'wasn', 'wasnt', 'wasp', 'wasps', 'wastage', 'waste', 'wasted', 'wasteful', 'wasteline', 'wastes', 'wasting', 'watch', 'watchdog', 'watched', 'watcher', 'watchers', 'watchersspoint', 'watches', 'watchful', 'watching', 'water', 'watered', 'waterfowl', 'watering', 'wateringly', 'watermelon', 'waterproof', 'waters', 'watery', 'watkins', 'watmore', 'watsonkabeicoffee', 'watt', 'wattage', 'watter', 'wave', 'waved', 'wavers', 'waves', 'wavy', 'wawa', 'wax', 'waxed', 'waxier', 'waxt', 'waxy', 'way', 'wayne', 'ways', 'wayy', 'wayyy', 'wayyyy', 'wayyyyy', 'weak', 'weaken', 'weakened', 'weaker', 'weakest', 'weakly', 'weakness', 'wean', 'weaning', 'weapon', 'wear', 'wearable', 'wearers', 'wearing', 'weark', 'wears', 'weary', 'weat', 'weather', 'weave', 'weavels', 'weaver', 'web', 'webbing', 'weber', 'webers', 'webmd', 'webpage', 'webs', 'website', 'websites', 'webstore', 'wed', 'wedderspoon', 'wedding', 'wedge', 'wedged', 'wedges', 'wednesday', 'wee', 'weed', 'weeding', 'weeds', 'weeee', 'week', 'weekday', 'weekdays', 'weekend', 'weekends', 'weeking', 'weekly', 'weeknight', 'weeks', 'weenie', 'weening', 'weetabix', 'wegman', 'wegmans', 'weigh', 'weighed', 'weighing', 'weighs', 'weight', 'weighted', 'weightless', 'weightproblem', 'weights', 'weighty', 'weil', 'weim', 'weimaraner', 'weiner', 'weird', 'weirded', 'weirdest', 'weirdly', 'weirdness', 'weirdo', 'weiss', 'wel', 'welch', 'welche', 'welcome', 'welcomed', 'welfare', 'wellbites', 'wellington', 'welll', 'wellness', 'wells', 'wellville', 'welp', 'welsh', 'wen', 'wendigos', 'went', 'wept', 'weren', 'werent', 'werk', 'werther', 'werthers', 'weruva', 'wessel', 'wesson', 'west', 'westbend', 'western', 'westie', 'westies', 'westminster', 'weston', 'westsoy', 'wet', 'wether', 'wetness', 'wetted', 'wetting', 'wew', 'wf', 'wh', 'whack', 'whacked', 'whacks', 'wham', 'whammy', 'whamo', 'whatchamacallit', 'whatnot', 'whats', 'whatsoever', 'whatsover', 'wheat', 'wheatblend', 'wheaten', 'wheatgrass', 'wheatgrasskit', 'wheaties', 'wheaton', 'wheats', 'wheaty', 'wheel', 'wheelchair', 'wheelhouse', 'wheels', 'whelmed', 'whelming', 'whelmingly', 'whem', 'wheres', 'whets', 'whew', 'whey', 'whichever', 'whiff', 'whiffs', 'whilst', 'whim', 'whimper', 'whimpy', 'whine', 'whined', 'whining', 'whip', 'whipcream', 'whipped', 'whippet', 'whipping', 'whirl', 'whirley', 'whirlwind', 'whirly', 'whirlypop', 'whisk', 'whiska', 'whiskas', 'whisked', 'whisker', 'whiskers', 'whiskey', 'whisking', 'whisky', 'whisper', 'whispers', 'whistle', 'whistleblower', 'whistled', 'whistles', 'white', 'whitefish', 'whiten', 'whiter', 'whites', 'whitewash', 'whith', 'whitish', 'whitmans', 'whitney', 'whiz', 'whizz', 'whoa', 'wholefoods', 'wholegrain', 'wholeheartedly', 'wholes', 'wholesale', 'wholesalers', 'wholesome', 'wholistic', 'wholly', 'whomever', 'whoooooo', 'whooooooooooo', 'whoop', 'whoops', 'whopper', 'whoppers', 'whopping', 'whow', 'whrite', 'whyman', 'whyyyy', 'wi', 'wick', 'wicked', 'wickedly', 'wicker', 'wickles', 'wide', 'widely', 'wider', 'widescreen', 'widespread', 'width', 'wieght', 'wiener', 'wienie', 'wierd', 'wife', 'wifes', 'wiff', 'wig', 'wihtin', 'wii', 'wiki', 'wikipedia', 'wild', 'wildberry', 'wilderness', 'wildest', 'wildflower', 'wildly', 'wildness', 'wilds', 'wile', 'wiling', 'willbe', 'willett', 'willfully', 'willget', 'william', 'williams', 'williamsburg', 'willing', 'willingly', 'willow', 'willpower', 'wilson', 'wilt', 'wilted', 'wilton', 'wimp', 'wimpy', 'win', 'wince', 'wincingly', 'winco', 'wind', 'winding', 'window', 'windows', 'windowsil', 'windowsill', 'winds', 'windy', 'wine', 'wined', 'winer', 'winery', 'wines', 'winey', 'wing', 'winging', 'wings', 'winnco', 'winner', 'winners', 'winning', 'winnings', 'winona', 'wins', 'wint', 'winter', 'winterfrost', 'wintergreen', 'wintering', 'wintermints', 'winters', 'wipe', 'wiped', 'wipeout', 'wipes', 'wiping', 'wire', 'wired', 'wiredweird', 'wires', 'wirh', 'wiring', 'wiry', 'wisconsin', 'wisconsinmade', 'wisdom', 'wise', 'wisecrackers', 'wisely', 'wiser', 'wish', 'wishbone', 'wishe', 'wished', 'wishes', 'wishful', 'wishing', 'wishlist', 'wishy', 'wisk', 'wisks', 'wist', 'wit', 'witch', 'withdraw', 'withdrawal', 'withdrawals', 'withheld', 'withholding', 'withstand', 'withstood', 'witness', 'witnessed', 'wits', 'wives', 'wizard', 'wizardry', 'wizards', 'wk', 'wl', 'wll', 'wlmart', 'wmd', 'wnat', 'wnjoyed', 'wobbler', 'wodge', 'woe', 'woes', 'wok', 'woke', 'wold', 'wolf', 'wolfberry', 'wolfe', 'wolfed', 'wolfes', 'wolfgang', 'wolfing', 'wolfram', 'wolfs', 'wolfson', 'woman', 'women', 'won', 'wonder', 'wondered', 'wonderful', 'wonderfull', 'wonderfully', 'wonderfulness', 'wondering', 'wonders', 'wonka', 'wonky', 'wont', 'wonton', 'woo', 'wood', 'wooded', 'wooden', 'woodford', 'woodgrain', 'woods', 'woodshed', 'woodshop', 'woodsorrel', 'woodstream', 'woodsy', 'woody', 'woof', 'woofed', 'woofs', 'woohoo', 'wool', 'woosh', 'woot', 'woozy', 'wopping', 'worcestershire', 'worcestshire', 'word', 'worded', 'wording', 'wordlessly', 'wordpress', 'words', 'wordy', 'wore', 'worht', 'work', 'workable', 'workaday', 'workaround', 'workday', 'workdays', 'worked', 'worker', 'workers', 'workin', 'working', 'workout', 'workouts', 'workplace', 'works', 'workshops', 'world', 'worlds', 'worldwide', 'worm', 'worms', 'worn', 'worned', 'worried', 'worries', 'worrisome', 'worry', 'worrying', 'wors', 'worse', 'worsen', 'worst', 'wort', 'worth', 'worthington', 'worthless', 'worthwhile', 'worthy', 'wou', 'woud', 'woudl', 'woudn', 'woul', 'wouldn', 'wouldnt', 'wouldve', 'wound', 'wounds', 'woven', 'wow', 'wowbutter', 'wowed', 'wows', 'wp', 'wqant', 'wrap', 'wraped', 'wrapped', 'wrapper', 'wrappers', 'wrapping', 'wrappings', 'wraps', 'wrath', 'wreck', 'wrecking', 'wrestle', 'wretched', 'wretchedly', 'wrigley', 'wrigleys', 'wring', 'wrinkle', 'wrinkles', 'write', 'writer', 'writers', 'writes', 'writeup', 'writing', 'written', 'wrong', 'wronged', 'wrote', 'wrought', 'wrung', 'ws', 'wt', 'wtf', 'wu', 'wud', 'wudgy', 'wudnt', 'wurly', 'wuruva', 'wussy', 'wuzzy', 'wv', 'ww', 'www', 'wyler', 'wyoming', 'wysong', 'x1', 'x2', 'x3', 'x4', 'x6', 'x8', 'xanathan', 'xanthan', 'xanthin', 'xd', 'xhipping', 'xl', 'xlear', 'xlichew', 'xlyitol', 'xmas', 'xometimes', 'xpensive', 'xplode', 'xrays', 'xtra', 'xtract', 'xx', 'xxxx', 'xxxxx', 'xyitol', 'xyletol', 'xylichew', 'xylitol', 'xyloburst', 'xylosweet', 'xyltol', 'ya', 'yaaaaay', 'yaaay', 'yacking', 'yacky', 'yacon', 'yadda', 'yah', 'yahoo', 'yak', 'yakisoba', 'yaknowhudahmsayin', 'yale', 'yam', 'yama', 'yamamotoyama', 'yamate', 'yams', 'yan', 'yang', 'yanked', 'yankee', 'yanks', 'yard', 'yards', 'yarn', 'yarrow', 'yawns', 'yay', 'yea', 'yeah', 'yeahhhhhhhhhhhhhhh', 'year', 'yearly', 'yearn', 'yearning', 'years', 'yeast', 'yeastiness', 'yeasty', 'yelling', 'yello', 'yellow', 'yellowfin', 'yellowish', 'yellowy', 'yep', 'yer', 'yerba', 'yes', 'yesterday', 'yg', 'yi', 'yield', 'yielded', 'yields', 'yikes', 'yin', 'ying', 'yippee', 'yippy', 'yiragcheffe', 'yirgacheffe', 'yirgacheffes', 'ylou', 'ymmmmmmmmmmmmm', 'ymmv', 'yo', 'yoga', 'yoghurt', 'yogi', 'yogis', 'yogurt', 'yoke', 'yoked', 'yokes', 'yoki', 'yoks', 'yolk', 'yolks', 'yolky', 'yomogi', 'yoo', 'yoohoo', 'yor', 'york', 'yorkie', 'yorkies', 'yorks', 'yorkshire', 'yoru', 'yosemite', 'yoshida', 'youd', 'yougurt', 'youll', 'young', 'younger', 'youngest', 'youngsters', 'youre', 'yourkie', 'yous', 'youself', 'youth', 'youthful', 'youtube', 'youve', 'yoy', 'yoyo', 'yr', 'yrs', 'ys', 'yuban', 'yucateco', 'yucatel', 'yucca', 'yuccas', 'yuck', 'yuckity', 'yucko', 'yucky', 'yuckyness', 'yuk', 'yuky', 'yum', 'yumish', 'yumm', 'yummier', 'yummiest', 'yumminess', 'yummm', 'yummmm', 'yummmmm', 'yummmmmm', 'yummmmmmmmmm', 'yummmmmmmmmmmm', 'yummmmmmmmmmy', 'yummmmy', 'yummmy', 'yummuy', 'yummy', 'yummyearth', 'yummyness', 'yummys', 'yums', 'yunnan', 'yup', 'yuppie', 'yuppies', 'yuuuck', 'zaar', 'zabar', 'zack', 'zag', 'zagnut', 'zamori', 'zante', 'zap', 'zapp', 'zappable', 'zapped', 'zapping', 'zatarains', 'zatarans', 'zattar', 'zazz', 'zealand', 'zealots', 'zebra', 'zeco', 'zellies', 'zen', 'zenobia', 'zero', 'zest', 'zesta', 'zesty', 'zevia', 'zhejiang', 'zhena', 'zico', 'zicos', 'ziegler', 'zig', 'ziggie', 'ziggies', 'ziggy', 'zillion', 'zinc', 'zincsulfate', 'zinfandel', 'zing', 'zinger', 'zingy', 'zip', 'zipfizz', 'ziploc', 'ziplock', 'ziplocks', 'zipped', 'zipper', 'zippered', 'zippers', 'zippy', 'zips', 'ziva', 'ziwi', 'ziyad', 'zoe', 'zoethout', 'zojirushi', 'zola', 'zoloft', 'zombie', 'zone', 'zoo', 'zoom', 'zooming', 'zorroz', 'zucchini', 'zuke', 'zukes', 'zuko', 'zulu', 'zuppa', 'zupreem', 'zx', 'zylitor', 'zzzzzzzzzzz', 'île']\n"
          ],
          "name": "stdout"
        }
      ]
    },
    {
      "cell_type": "markdown",
      "metadata": {
        "id": "0cd38aRJVAhX",
        "colab_type": "text"
      },
      "source": [
        "### Splitting the labels from the review text"
      ]
    },
    {
      "cell_type": "code",
      "metadata": {
        "id": "yRJTcmggT81Z",
        "colab_type": "code",
        "outputId": "0527f2d8-b850-4c09-81b4-f2517d89afe0",
        "colab": {
          "base_uri": "https://localhost:8080/",
          "height": 118
        }
      },
      "source": [
        "# putting the ratings into the variable y\n",
        "y = df['Rating']\n",
        "y.head()"
      ],
      "execution_count": 0,
      "outputs": [
        {
          "output_type": "execute_result",
          "data": {
            "text/plain": [
              "0     neutral\n",
              "1    positive\n",
              "2    positive\n",
              "3    negative\n",
              "4    positive\n",
              "Name: Rating, dtype: object"
            ]
          },
          "metadata": {
            "tags": []
          },
          "execution_count": 10
        }
      ]
    },
    {
      "cell_type": "markdown",
      "metadata": {
        "id": "64cdWD66WN7_",
        "colab_type": "text"
      },
      "source": [
        "### Splitting up the training/testing with an 80/20 split"
      ]
    },
    {
      "cell_type": "code",
      "metadata": {
        "id": "GT8dEJboV8we",
        "colab_type": "code",
        "colab": {}
      },
      "source": [
        "# split the data 80/20 and add random state 55\n",
        "X_train, X_test, y_train, y_test = train_test_split(X, y, test_size=0.2, random_state=55)"
      ],
      "execution_count": 0,
      "outputs": []
    },
    {
      "cell_type": "code",
      "metadata": {
        "id": "FeKBdPciX4En",
        "colab_type": "code",
        "outputId": "d4469591-dc61-4756-ad5e-938435e1c5fa",
        "colab": {
          "base_uri": "https://localhost:8080/",
          "height": 1000
        }
      },
      "source": [
        "# X_train containts text as a vector, and y_train contains the label\n",
        "print(X_train)\n",
        "print(y_train)"
      ],
      "execution_count": 0,
      "outputs": [
        {
          "output_type": "stream",
          "text": [
            "  (0, 2800)\t0.20249946955992829\n",
            "  (0, 9220)\t0.20610249335546876\n",
            "  (0, 22804)\t0.2223036920019355\n",
            "  (0, 11583)\t0.20610249335546876\n",
            "  (0, 6730)\t0.20249946955992829\n",
            "  (0, 12330)\t0.17370009606253528\n",
            "  (0, 16660)\t0.4122049867109375\n",
            "  (0, 22086)\t0.15953264817297533\n",
            "  (0, 12350)\t0.20249946955992829\n",
            "  (0, 23790)\t0.1433314495265086\n",
            "  (0, 3735)\t0.13264660585163504\n",
            "  (0, 6000)\t0.16927686920049767\n",
            "  (0, 4235)\t0.10957462876027817\n",
            "  (0, 14406)\t0.33696895009477307\n",
            "  (0, 13111)\t0.09754733846318929\n",
            "  (0, 12753)\t0.1507747924445192\n",
            "  (0, 7625)\t0.12892377969773905\n",
            "  (0, 3915)\t0.12118251756451574\n",
            "  (0, 20231)\t0.1239097788146052\n",
            "  (0, 24070)\t0.1236794972578539\n",
            "  (0, 5170)\t0.10230855276100193\n",
            "  (0, 23876)\t0.11293866939108049\n",
            "  (0, 7232)\t0.09913586835037033\n",
            "  (0, 14661)\t0.12067327326109742\n",
            "  (0, 13670)\t0.11602875822361754\n",
            "  :\t:\n",
            "  (11923, 19319)\t0.07747314212909547\n",
            "  (11923, 19066)\t0.13375508847990547\n",
            "  (11923, 7463)\t0.05945104781646569\n",
            "  (11923, 9570)\t0.08404349135240155\n",
            "  (11923, 1402)\t0.08424614324312861\n",
            "  (11923, 23799)\t0.050279122004077116\n",
            "  (11923, 10367)\t0.0603433521993288\n",
            "  (11923, 10238)\t0.06462656464567958\n",
            "  (11923, 17129)\t0.054900845095146235\n",
            "  (11923, 13626)\t0.05736807854506416\n",
            "  (11923, 12370)\t0.09744548113040609\n",
            "  (11923, 12974)\t0.05175950101991625\n",
            "  (11923, 10535)\t0.0696673543169079\n",
            "  (11923, 15349)\t0.0509861775338804\n",
            "  (11923, 19623)\t0.05952532633103244\n",
            "  (11923, 3419)\t0.34664608371489497\n",
            "  (11923, 7261)\t0.07897156765508095\n",
            "  (11923, 17125)\t0.06820742810280209\n",
            "  (11923, 23394)\t0.13250831956549258\n",
            "  (11923, 7219)\t0.10010241645838132\n",
            "  (11923, 934)\t0.055839684678779956\n",
            "  (11923, 12833)\t0.028405747825134282\n",
            "  (11923, 24443)\t0.07159751812089979\n",
            "  (11923, 15949)\t0.0829307032996162\n",
            "  (11923, 3363)\t0.046766813134887016\n",
            "1427     positive\n",
            "2360     negative\n",
            "3332     positive\n",
            "10805    positive\n",
            "4401     negative\n",
            "           ...   \n",
            "14877    positive\n",
            "968      negative\n",
            "12583    negative\n",
            "4762     negative\n",
            "12749    negative\n",
            "Name: Rating, Length: 11924, dtype: object\n"
          ],
          "name": "stdout"
        }
      ]
    },
    {
      "cell_type": "code",
      "metadata": {
        "id": "a860dwH1YXb7",
        "colab_type": "code",
        "outputId": "6b29147c-4efd-43b7-bfa6-b11e5c7ad915",
        "colab": {
          "base_uri": "https://localhost:8080/",
          "height": 1000
        }
      },
      "source": [
        "# X_test containts text as a vector, and y_test contains the label\n",
        "print(X_test)\n",
        "print(y_test)"
      ],
      "execution_count": 0,
      "outputs": [
        {
          "output_type": "stream",
          "text": [
            "  (0, 21131)\t0.4439561842194609\n",
            "  (0, 10593)\t0.2976862255027319\n",
            "  (0, 19952)\t0.3090762545105446\n",
            "  (0, 10977)\t0.2353844403303505\n",
            "  (0, 19041)\t0.22904996613364018\n",
            "  (0, 5709)\t0.23204834210414302\n",
            "  (0, 2062)\t0.2536194086442817\n",
            "  (0, 18455)\t0.2149542370959537\n",
            "  (0, 12994)\t0.20523740430619172\n",
            "  (0, 14248)\t0.20938776574994486\n",
            "  (0, 19348)\t0.27269223032208856\n",
            "  (0, 3419)\t0.22362655408202992\n",
            "  (0, 21816)\t0.16958498390821947\n",
            "  (0, 17125)\t0.12100447768342433\n",
            "  (0, 9901)\t0.11160232453584615\n",
            "  (0, 10072)\t0.13346190950501766\n",
            "  (0, 21768)\t0.11530469724999953\n",
            "  (0, 3363)\t0.16593482421815078\n",
            "  (0, 3818)\t0.1472414238167197\n",
            "  (1, 1869)\t0.1067694945977203\n",
            "  (1, 18923)\t0.11132121613151008\n",
            "  (1, 18924)\t0.11132121613151008\n",
            "  (1, 19897)\t0.10103500365087663\n",
            "  (1, 14132)\t0.09725779102684333\n",
            "  (1, 17948)\t0.09218383921310282\n",
            "  :\t:\n",
            "  (2980, 10854)\t0.1595681164335756\n",
            "  (2980, 11535)\t0.1352129779634383\n",
            "  (2980, 8587)\t0.15839071876826963\n",
            "  (2980, 5985)\t0.1709019091131299\n",
            "  (2980, 2946)\t0.10806220791231941\n",
            "  (2980, 4593)\t0.15701280957112693\n",
            "  (2980, 12370)\t0.1214203783788281\n",
            "  (2980, 7261)\t0.09840125488237911\n",
            "  (2980, 19809)\t0.17198656177489532\n",
            "  (2980, 10586)\t0.14136064938267065\n",
            "  (2980, 13116)\t0.15448503403092792\n",
            "  (2980, 7220)\t0.1313305100624205\n",
            "  (2981, 16657)\t0.37475699146811725\n",
            "  (2981, 4408)\t0.3485619276918124\n",
            "  (2981, 17148)\t0.2938807054345932\n",
            "  (2981, 7262)\t0.27241574314910644\n",
            "  (2981, 24616)\t0.6140874678047401\n",
            "  (2981, 16202)\t0.20246082383361466\n",
            "  (2981, 17486)\t0.14823626648418572\n",
            "  (2981, 17129)\t0.14923900536088028\n",
            "  (2981, 10746)\t0.15137918744339193\n",
            "  (2981, 13105)\t0.22404219039862042\n",
            "  (2981, 10586)\t0.15419559761544457\n",
            "  (2981, 10072)\t0.10224942804490392\n",
            "  (2981, 21768)\t0.0883386082847856\n",
            "4699     negative\n",
            "6456     positive\n",
            "5788     negative\n",
            "2991     negative\n",
            "683      positive\n",
            "           ...   \n",
            "3617     positive\n",
            "11890    positive\n",
            "11733    positive\n",
            "9093     negative\n",
            "9468     positive\n",
            "Name: Rating, Length: 2982, dtype: object\n"
          ],
          "name": "stdout"
        }
      ]
    },
    {
      "cell_type": "markdown",
      "metadata": {
        "id": "MqhTaAmaaEwd",
        "colab_type": "text"
      },
      "source": [
        "#**Naive Bayes Classifier**"
      ]
    },
    {
      "cell_type": "code",
      "metadata": {
        "id": "n5m1OxPAYw4_",
        "colab_type": "code",
        "outputId": "50027cae-e6ee-4960-819b-9faae5714606",
        "colab": {
          "base_uri": "https://localhost:8080/",
          "height": 34
        }
      },
      "source": [
        "# Create instance of the NB classifier\n",
        "modelNB = MultinomialNB()\n",
        "\n",
        "# Fit to data (also called training the model\n",
        "modelNB.fit(X_train, y_train)"
      ],
      "execution_count": 0,
      "outputs": [
        {
          "output_type": "execute_result",
          "data": {
            "text/plain": [
              "MultinomialNB(alpha=1.0, class_prior=None, fit_prior=True)"
            ]
          },
          "metadata": {
            "tags": []
          },
          "execution_count": 14
        }
      ]
    },
    {
      "cell_type": "code",
      "metadata": {
        "id": "h4sh6AhcaWlL",
        "colab_type": "code",
        "outputId": "5827aca7-8153-47c0-bb13-31bf8fbbdf91",
        "colab": {
          "base_uri": "https://localhost:8080/",
          "height": 34
        }
      },
      "source": [
        "# create NB prediction variable for the labels \n",
        "y_predNB = modelNB.predict(X_test)\n",
        "\n",
        "# compute accuracy\n",
        "accuracy_score(y_test, y_predNB)"
      ],
      "execution_count": 0,
      "outputs": [
        {
          "output_type": "execute_result",
          "data": {
            "text/plain": [
              "0.6492287055667337"
            ]
          },
          "metadata": {
            "tags": []
          },
          "execution_count": 15
        }
      ]
    },
    {
      "cell_type": "markdown",
      "metadata": {
        "id": "PodOLkbhasKP",
        "colab_type": "text"
      },
      "source": [
        "This model correctly predicted the rating of a review about 65% of the time"
      ]
    },
    {
      "cell_type": "markdown",
      "metadata": {
        "id": "GXJ3PMZxa-WG",
        "colab_type": "text"
      },
      "source": [
        "### Precision Score\n",
        "The precision is the ability of the classifier not to label as postiive a sample that is negative"
      ]
    },
    {
      "cell_type": "code",
      "metadata": {
        "id": "65HWSvUXbnav",
        "colab_type": "code",
        "outputId": "093ffb78-b66f-41a0-ff71-5b9af030db71",
        "colab": {
          "base_uri": "https://localhost:8080/",
          "height": 121
        }
      },
      "source": [
        "# best value is 1 and worst value is 0\n",
        "print(\"Macro Precision:\",precision_score(y_test, y_predNB, average='macro'))\n",
        "print(\"Micro Precision:\",precision_score(y_test, y_predNB, average='micro'))\n",
        "print(\"Weighted Precision:\", precision_score(y_test, y_predNB, average='weighted'))\n"
      ],
      "execution_count": 0,
      "outputs": [
        {
          "output_type": "stream",
          "text": [
            "Macro Precision: 0.4529694927656925\n",
            "Micro Precision: 0.6492287055667337\n",
            "Weighted Precision: 0.5435689763648446\n"
          ],
          "name": "stdout"
        },
        {
          "output_type": "stream",
          "text": [
            "/usr/local/lib/python3.6/dist-packages/sklearn/metrics/classification.py:1437: UndefinedMetricWarning: Precision is ill-defined and being set to 0.0 in labels with no predicted samples.\n",
            "  'precision', 'predicted', average, warn_for)\n"
          ],
          "name": "stderr"
        }
      ]
    },
    {
      "cell_type": "markdown",
      "metadata": {
        "id": "e1ew0Y8jboUP",
        "colab_type": "text"
      },
      "source": [
        "**Macro Precision:** Calculates metrics for each label, and find the unweighted mean. Does not take label imbalance into account. <br>\n",
        "**Micro Precision:** Calculates Metrics globally by counting the total true positives, false negatives, and false positives. <br>\n",
        "**Weighted Precision:** Calculate metrics for each label, and find their average weighted by support (the number of true instances for each label). This alters ‘macro’ to account for label imbalance.<br><br>\n",
        "Definitions taken from Scikit Learn documentation found [here](https://scikit-learn.org/stable/modules/generated/sklearn.metrics.precision_score.html)"
      ]
    },
    {
      "cell_type": "markdown",
      "metadata": {
        "id": "nniTsbqwisfY",
        "colab_type": "text"
      },
      "source": [
        "### Recall Score\n",
        "The revall is intuitively the ability of the classifier to find all the positive samples"
      ]
    },
    {
      "cell_type": "code",
      "metadata": {
        "id": "8xPiXkxxd647",
        "colab_type": "code",
        "outputId": "88ec03b4-b627-403b-a54b-1e5ffe9649fb",
        "colab": {
          "base_uri": "https://localhost:8080/",
          "height": 84
        }
      },
      "source": [
        "# best value is 1 and worst value is 0\n",
        "print(\"\\nMacro Recall:\", recall_score(y_test, y_predNB, average='macro'))\n",
        "print(\"Micro Recall:\", recall_score(y_test, y_predNB, average='micro'))\n",
        "print(\"Weighted Recall:\", recall_score(y_test, y_predNB, average='weighted'))"
      ],
      "execution_count": 0,
      "outputs": [
        {
          "output_type": "stream",
          "text": [
            "\n",
            "Macro Recall: 0.5195389606355865\n",
            "Micro Recall: 0.6492287055667337\n",
            "Weighted Recall: 0.6492287055667337\n"
          ],
          "name": "stdout"
        }
      ]
    },
    {
      "cell_type": "markdown",
      "metadata": {
        "id": "lZEKvgJKdCX6",
        "colab_type": "text"
      },
      "source": [
        "Defintitions for the different types of recall are the same as precision. Documentation used can be found from SciKit [here](https://scikit-learn.org/stable/modules/generated/sklearn.metrics.recall_score.html)"
      ]
    },
    {
      "cell_type": "markdown",
      "metadata": {
        "id": "9u7FDB55lBFb",
        "colab_type": "text"
      },
      "source": [
        "### 10 Fold Cross Validation"
      ]
    },
    {
      "cell_type": "markdown",
      "metadata": {
        "id": "9Z2A0N3WdZfV",
        "colab_type": "text"
      },
      "source": [
        "Evalulates a score by cross-validation. Takes the model, test attributes, and number of splits as parameters. SciKit documentation can be found [here](https://scikit-learn.org/stable/modules/generated/sklearn.model_selection.cross_val_score.html)"
      ]
    },
    {
      "cell_type": "code",
      "metadata": {
        "id": "19-9n20aldrr",
        "colab_type": "code",
        "colab": {}
      },
      "source": [
        "scoresNB = cross_val_score(modelNB, X_test, y_test, cv=10)"
      ],
      "execution_count": 0,
      "outputs": []
    },
    {
      "cell_type": "code",
      "metadata": {
        "id": "aLM_I6HxmWzN",
        "colab_type": "code",
        "outputId": "20cc177e-ac84-4019-ef3f-6b861aa6e470",
        "colab": {
          "base_uri": "https://localhost:8080/",
          "height": 67
        }
      },
      "source": [
        "print(\"Accuracy: %0.2f(+/-%0.2f)\" %(scoresNB.mean(), scoresNB.std()*2))\n",
        "print(scoresNB)"
      ],
      "execution_count": 0,
      "outputs": [
        {
          "output_type": "stream",
          "text": [
            "Accuracy: 0.56(+/-0.04)\n",
            "[0.55       0.54       0.58862876 0.53020134 0.55704698 0.56711409\n",
            " 0.57718121 0.55218855 0.55555556 0.58249158]\n"
          ],
          "name": "stdout"
        }
      ]
    },
    {
      "cell_type": "markdown",
      "metadata": {
        "id": "mB0QcXMOgv4q",
        "colab_type": "text"
      },
      "source": [
        "#**kNN Classifier**"
      ]
    },
    {
      "cell_type": "code",
      "metadata": {
        "id": "n2mYlT2PiXI5",
        "colab_type": "code",
        "colab": {}
      },
      "source": [
        "# create the kNN classifier \n",
        "modelK = neighbors.KNeighborsClassifier(n_neighbors=3)"
      ],
      "execution_count": 0,
      "outputs": []
    },
    {
      "cell_type": "code",
      "metadata": {
        "id": "eo48GIClmUtP",
        "colab_type": "code",
        "outputId": "1d04ae12-8abe-4275-bbf0-cb10c8eca7c8",
        "colab": {
          "base_uri": "https://localhost:8080/",
          "height": 67
        }
      },
      "source": [
        "# fit the model\n",
        "modelK.fit(X_train, y_train)"
      ],
      "execution_count": 0,
      "outputs": [
        {
          "output_type": "execute_result",
          "data": {
            "text/plain": [
              "KNeighborsClassifier(algorithm='auto', leaf_size=30, metric='minkowski',\n",
              "                     metric_params=None, n_jobs=None, n_neighbors=3, p=2,\n",
              "                     weights='uniform')"
            ]
          },
          "metadata": {
            "tags": []
          },
          "execution_count": 21
        }
      ]
    },
    {
      "cell_type": "code",
      "metadata": {
        "id": "qE9SkfLEmthV",
        "colab_type": "code",
        "colab": {}
      },
      "source": [
        "# create prediction variable \n",
        "y_predK = modelK.predict(X_test)"
      ],
      "execution_count": 0,
      "outputs": []
    },
    {
      "cell_type": "code",
      "metadata": {
        "id": "mZaofteptkhb",
        "colab_type": "code",
        "outputId": "648a22b1-754c-4e07-80de-7e3eef166ebf",
        "colab": {
          "base_uri": "https://localhost:8080/",
          "height": 34
        }
      },
      "source": [
        "print(y_predK)"
      ],
      "execution_count": 0,
      "outputs": [
        {
          "output_type": "stream",
          "text": [
            "['negative' 'negative' 'negative' ... 'positive' 'negative' 'positive']\n"
          ],
          "name": "stdout"
        }
      ]
    },
    {
      "cell_type": "markdown",
      "metadata": {
        "id": "h3ugh9-Vhebz",
        "colab_type": "text"
      },
      "source": [
        "### Accuracy score with 3NN"
      ]
    },
    {
      "cell_type": "code",
      "metadata": {
        "id": "F1uJ2nXMtrkC",
        "colab_type": "code",
        "outputId": "90b06659-8d63-4f6f-a4f2-a60b34458ad9",
        "colab": {
          "base_uri": "https://localhost:8080/",
          "height": 34
        }
      },
      "source": [
        "# accuracy score of 3NN\n",
        "accuracy_score(y_test, y_predK) * 100"
      ],
      "execution_count": 0,
      "outputs": [
        {
          "output_type": "execute_result",
          "data": {
            "text/plain": [
              "52.8504359490275"
            ]
          },
          "metadata": {
            "tags": []
          },
          "execution_count": 24
        }
      ]
    },
    {
      "cell_type": "markdown",
      "metadata": {
        "id": "Fd2O1lobtiEc",
        "colab_type": "text"
      },
      "source": [
        "Predicted correctly about 53% of the time"
      ]
    },
    {
      "cell_type": "markdown",
      "metadata": {
        "id": "HEZtHuSBf_tH",
        "colab_type": "text"
      },
      "source": [
        "### Trying different K values for kNN"
      ]
    },
    {
      "cell_type": "markdown",
      "metadata": {
        "id": "_2JvcY8-eimD",
        "colab_type": "text"
      },
      "source": [
        "Code chunk below checks the accuracy for different values of K from 1 to 10. <br> Code provided by Jason from the Collab Notebook"
      ]
    },
    {
      "cell_type": "code",
      "metadata": {
        "id": "FeQKsrK4tuvR",
        "colab_type": "code",
        "outputId": "3338af48-59a3-46c0-cc1f-c2fb982ed637",
        "colab": {
          "base_uri": "https://localhost:8080/",
          "height": 54
        }
      },
      "source": [
        "# Code chunk provided by Jason in the Collab Notebook\n",
        "\n",
        "# Create list to store results in outer scope.\n",
        "acc_vs_k = []\n",
        "\n",
        "# Let's try from k = 1 to k = 10.\n",
        "for k in range(1, 11): # range(from inclusive beginning, to exclusive end)\n",
        "  # Build model with k value.\n",
        "  modelKnn = neighbors.KNeighborsClassifier(n_neighbors=k)\n",
        "  \n",
        "  # Fit the model with the training data.\n",
        "  modelKnn.fit(X_train, y_train)\n",
        "\n",
        "  # Use the fitted model to predict the classes for the test data.\n",
        "  y_predKnn = modelKnn.predict(X_test)\n",
        "  \n",
        "  # Add the accuracy to the list for plotting.\n",
        "  acc_vs_k.append(accuracy_score(y_test, y_predKnn))\n",
        "  \n",
        "print(acc_vs_k)"
      ],
      "execution_count": 0,
      "outputs": [
        {
          "output_type": "stream",
          "text": [
            "[0.5013413816230717, 0.5040241448692153, 0.528504359490275, 0.528504359490275, 0.539570757880617, 0.5449362843729041, 0.5516431924882629, 0.54560697518444, 0.5576794097920859, 0.5516431924882629]\n"
          ],
          "name": "stdout"
        }
      ]
    },
    {
      "cell_type": "markdown",
      "metadata": {
        "id": "U_LfCfoifsSE",
        "colab_type": "text"
      },
      "source": [
        "Returns the K with the highest accuracy from above. Code chunk provided by Jason "
      ]
    },
    {
      "cell_type": "code",
      "metadata": {
        "id": "Fpk3DOk3t-KJ",
        "colab_type": "code",
        "outputId": "d4137187-4a72-42ce-d6f2-1eefc868ad3c",
        "colab": {
          "base_uri": "https://localhost:8080/",
          "height": 34
        }
      },
      "source": [
        "# Code chunk prvided by Jason in the Collab Notebook\n",
        "\n",
        "idx_of_best_k = np.argmax(acc_vs_k)\n",
        "\n",
        "# To avoid super-long lines, use a string with placeholders, pass it into\n",
        "# print() calling format() on it to replace the placeholders.\n",
        "# This is the so-called Pythonic way of doing things, which helps keep code\n",
        "# clear and readable.\n",
        "format_string = 'Best K value is {k_value} at index {idx} with acc of {acc}%.'\n",
        "print(format_string.format(k_value=idx_of_best_k+1,\n",
        "      idx=idx_of_best_k,\n",
        "      acc=acc_vs_k[idx_of_best_k]*100))"
      ],
      "execution_count": 0,
      "outputs": [
        {
          "output_type": "stream",
          "text": [
            "Best K value is 9 at index 8 with acc of 55.76794097920859%.\n"
          ],
          "name": "stdout"
        }
      ]
    },
    {
      "cell_type": "markdown",
      "metadata": {
        "id": "x4M_OZo6f5WU",
        "colab_type": "text"
      },
      "source": [
        "### Precision and Recall for 3NN"
      ]
    },
    {
      "cell_type": "code",
      "metadata": {
        "id": "Qe_1qNOcuLL5",
        "colab_type": "code",
        "outputId": "1247b688-2971-4669-936c-ac88cbc2d540",
        "colab": {
          "base_uri": "https://localhost:8080/",
          "height": 67
        }
      },
      "source": [
        "# best value is 1 and worst value is 0\n",
        "print(\"Macro Precision:\",precision_score(y_test, y_predK, average='macro'))\n",
        "print(\"Micro Precision:\",precision_score(y_test, y_predK, average='micro'))\n",
        "print(\"Weighted Precision:\", precision_score(y_test, y_predK, average='weighted'))"
      ],
      "execution_count": 0,
      "outputs": [
        {
          "output_type": "stream",
          "text": [
            "Macro Precision: 0.4777554213123231\n",
            "Micro Precision: 0.528504359490275\n",
            "Weighted Precision: 0.5044440625645044\n"
          ],
          "name": "stdout"
        }
      ]
    },
    {
      "cell_type": "code",
      "metadata": {
        "id": "gOjULJiVzHZV",
        "colab_type": "code",
        "outputId": "30960f1e-d1d6-477f-8215-0659a8194b68",
        "colab": {
          "base_uri": "https://localhost:8080/",
          "height": 67
        }
      },
      "source": [
        "print(\"Macro Recall:\", recall_score(y_test, y_predK, average='macro'))\n",
        "print(\"Micro Recall:\", recall_score(y_test, y_predK, average='micro'))\n",
        "print(\"Weighted Recall:\", recall_score(y_test, y_predK, average='weighted'))"
      ],
      "execution_count": 0,
      "outputs": [
        {
          "output_type": "stream",
          "text": [
            "Macro Recall: 0.43658022364468696\n",
            "Micro Recall: 0.528504359490275\n",
            "Weighted Recall: 0.528504359490275\n"
          ],
          "name": "stdout"
        }
      ]
    },
    {
      "cell_type": "markdown",
      "metadata": {
        "id": "LZPPqVJxjNZI",
        "colab_type": "text"
      },
      "source": [
        "### 10 Fold Cross Validation witk 3NN"
      ]
    },
    {
      "cell_type": "code",
      "metadata": {
        "id": "p7_VFhdSzPKX",
        "colab_type": "code",
        "colab": {}
      },
      "source": [
        "scoresK = cross_val_score(modelK, X_test, y_test, cv=10)"
      ],
      "execution_count": 0,
      "outputs": []
    },
    {
      "cell_type": "code",
      "metadata": {
        "id": "ShR49cRfzXvX",
        "colab_type": "code",
        "outputId": "6417023b-2acf-40f8-c512-f6bc6482f23b",
        "colab": {
          "base_uri": "https://localhost:8080/",
          "height": 67
        }
      },
      "source": [
        "print(\"Accuracy: %0.2f(+/-%0.2f)\" %(scoresK.mean(), scoresK.std()*2))\n",
        "print(scoresK)"
      ],
      "execution_count": 0,
      "outputs": [
        {
          "output_type": "stream",
          "text": [
            "Accuracy: 0.49(+/-0.08)\n",
            "[0.56       0.47333333 0.47157191 0.43288591 0.50671141 0.48322148\n",
            " 0.5033557  0.46464646 0.48484848 0.56565657]\n"
          ],
          "name": "stdout"
        }
      ]
    },
    {
      "cell_type": "markdown",
      "metadata": {
        "id": "bypZaNTQp6Zd",
        "colab_type": "text"
      },
      "source": [
        "### 10 Fold Cross Validation with 1-10 NN from above"
      ]
    },
    {
      "cell_type": "code",
      "metadata": {
        "id": "7A1YlwjgpfU-",
        "colab_type": "code",
        "outputId": "b4673768-4626-4c8e-ea56-6b2414ec0924",
        "colab": {
          "base_uri": "https://localhost:8080/",
          "height": 67
        }
      },
      "source": [
        "scoresKNN = cross_val_score(modelKnn, X_test, y_test, cv = 10)\n",
        "\n",
        "print(\"Accuracy: %0.2f(+/-%0.2f)\" %(scoresKNN.mean(), scoresKNN.std()*2))\n",
        "print(scoresKNN)"
      ],
      "execution_count": 0,
      "outputs": [
        {
          "output_type": "stream",
          "text": [
            "Accuracy: 0.52(+/-0.07)\n",
            "[0.54       0.54333333 0.52173913 0.4966443  0.58724832 0.52013423\n",
            " 0.52348993 0.45117845 0.50505051 0.54208754]\n"
          ],
          "name": "stdout"
        }
      ]
    },
    {
      "cell_type": "markdown",
      "metadata": {
        "id": "Ay6KOLv61vvL",
        "colab_type": "text"
      },
      "source": [
        "#**Decision Tree Classifier**"
      ]
    },
    {
      "cell_type": "markdown",
      "metadata": {
        "id": "KIytebPogWb_",
        "colab_type": "text"
      },
      "source": [
        "Decision Tree Classifiers use example code from the SciKit documentation found [here.](https://scikit-learn.org/stable/modules/generated/sklearn.tree.DecisionTreeClassifier.html)"
      ]
    },
    {
      "cell_type": "code",
      "metadata": {
        "id": "qfznYCTQzd3A",
        "colab_type": "code",
        "outputId": "93a529ef-23e2-4982-e053-c357e2486533",
        "colab": {
          "base_uri": "https://localhost:8080/",
          "height": 235
        }
      },
      "source": [
        "# this classifier is using the gini index (\"default\") and no max depth\n",
        "# it is also using the best split\n",
        "\n",
        "# create decision tree classifier\n",
        "dTreeClf = DecisionTreeClassifier() \n",
        "\n",
        "# train decision tree classifier\n",
        "dTreeClf = dTreeClf.fit(X_train, y_train)\n",
        "\n",
        "# predict response for test data set\n",
        "y_predTree = dTreeClf.predict(X_test)\n",
        "\n",
        "print(\"Accuracy:\", metrics.accuracy_score(y_test, y_predTree))\n",
        "\n",
        "print(\"\\nMacro Precision:\", precision_score(y_test, y_predTree, average='macro'))\n",
        "print(\"Micro Precision:\", precision_score(y_test, y_predTree, average='micro'))\n",
        "print(\"Weighted Precision:\", precision_score(y_test, y_predTree, average='weighted' ))\n",
        "\n",
        "print(\"\\nMacro Recall:\", recall_score(y_test, y_predTree, average='macro'))\n",
        "print(\"Micro Recall:\", recall_score(y_test, y_predTree, average='micro'))\n",
        "print(\"Weighted Recall:\", recall_score(y_test, y_predTree, average='weighted'))\n",
        "\n",
        "scoresT1 = cross_val_score(dTreeClf, X_test, y_test, cv=10)\n",
        "print(\"\\n10-Fold Accuracy: %0.2f(+/-%0.2f)\" %(scoresT1.mean(), scoresT1.std()*2))\n",
        "print(scoresT1)\n"
      ],
      "execution_count": 0,
      "outputs": [
        {
          "output_type": "stream",
          "text": [
            "Accuracy: 0.56841046277666\n",
            "\n",
            "Macro Precision: 0.5107480205592941\n",
            "Micro Precision: 0.56841046277666\n",
            "Weighted Precision: 0.5617607215527445\n",
            "\n",
            "Macro Recall: 0.510046433007273\n",
            "Micro Recall: 0.56841046277666\n",
            "Weighted Recall: 0.56841046277666\n",
            "\n",
            "10-Fold Accuracy: 0.52(+/-0.04)\n",
            "[0.53       0.50666667 0.52842809 0.5033557  0.52013423 0.55033557\n",
            " 0.52684564 0.49494949 0.47474747 0.53198653]\n"
          ],
          "name": "stdout"
        }
      ]
    },
    {
      "cell_type": "markdown",
      "metadata": {
        "id": "gbupeZZU4fbb",
        "colab_type": "text"
      },
      "source": [
        "We got a low accuracy so let's expeirment with dTree parameters"
      ]
    },
    {
      "cell_type": "code",
      "metadata": {
        "id": "dVQKYe8C4Zqe",
        "colab_type": "code",
        "outputId": "0fec6676-8579-4df3-b359-8043039bd6b1",
        "colab": {
          "base_uri": "https://localhost:8080/",
          "height": 289
        }
      },
      "source": [
        "# this classifier is using entropy for the information gain and a max depth of 3\n",
        "# it is also using the best split\n",
        "\n",
        "# create decision tree classifier\n",
        "dTreeClf = DecisionTreeClassifier(criterion=\"entropy\", max_depth=3)\n",
        "\n",
        "# train decision tree classifier\n",
        "dTreeClf = dTreeClf.fit(X_train, y_train)\n",
        "\n",
        "# predict response for test data set\n",
        "y_predTree = dTreeClf.predict(X_test)\n",
        "\n",
        "print(\"Accuracy:\", metrics.accuracy_score(y_test, y_predTree))\n",
        "\n",
        "print(\"\\nMacro Precision:\", precision_score(y_test, y_predTree, average='macro'))\n",
        "print(\"Micro Precision:\", precision_score(y_test, y_predTree, average='micro'))\n",
        "print(\"Weighted Precision:\", precision_score(y_test, y_predTree, average='weighted' ))\n",
        "\n",
        "print(\"\\nMacro Recall:\", recall_score(y_test, y_predTree, average='macro'))\n",
        "print(\"Micro Recall:\", recall_score(y_test, y_predTree, average='micro'))\n",
        "print(\"Weighted Recall:\", recall_score(y_test, y_predTree, average='weighted'))\n",
        "\n",
        "scoresT2 = cross_val_score(dTreeClf, X_test, y_test, cv=10)\n",
        "print(\"\\n10-Fold Accuracy: %0.2f(+/-%0.2f)\" %(scoresT2.mean(), scoresT2.std()*2))\n",
        "print(scoresT2)\n",
        "\n"
      ],
      "execution_count": 0,
      "outputs": [
        {
          "output_type": "stream",
          "text": [
            "Accuracy: 0.4597585513078471\n",
            "\n",
            "Macro Precision: 0.36303550193457834\n",
            "Micro Precision: 0.4597585513078471\n",
            "Weighted Precision: 0.4571280263053682\n",
            "\n",
            "Macro Recall: 0.40301470567783243\n",
            "Micro Recall: 0.4597585513078471\n",
            "Weighted Recall: 0.4597585513078471\n"
          ],
          "name": "stdout"
        },
        {
          "output_type": "stream",
          "text": [
            "/usr/local/lib/python3.6/dist-packages/sklearn/metrics/classification.py:1437: UndefinedMetricWarning: Precision is ill-defined and being set to 0.0 in labels with no predicted samples.\n",
            "  'precision', 'predicted', average, warn_for)\n"
          ],
          "name": "stderr"
        },
        {
          "output_type": "stream",
          "text": [
            "\n",
            "10-Fold Accuracy: 0.48(+/-0.02)\n",
            "[0.47333333 0.48       0.48494983 0.47651007 0.48322148 0.48322148\n",
            " 0.48993289 0.48484848 0.46801347 0.46127946]\n"
          ],
          "name": "stdout"
        }
      ]
    },
    {
      "cell_type": "code",
      "metadata": {
        "id": "K8e5lGrq4vAG",
        "colab_type": "code",
        "outputId": "b28dce85-d8da-4d6c-ee0b-6fe0f4a4a2a2",
        "colab": {
          "base_uri": "https://localhost:8080/",
          "height": 235
        }
      },
      "source": [
        "# this classifier is using entropy for the gini and a max depth of 10\n",
        "# it is also using the best split\n",
        "\n",
        "# create decision tree classifier\n",
        "dTreeClf = DecisionTreeClassifier(criterion=\"gini\", max_depth=10)\n",
        "\n",
        "# train decision tree classifier\n",
        "dTreeClf = dTreeClf.fit(X_train, y_train)\n",
        "\n",
        "# predict response for test data set\n",
        "y_predTree = dTreeClf.predict(X_test)\n",
        "\n",
        "print(\"Accuracy:\", metrics.accuracy_score(y_test, y_predTree))\n",
        "\n",
        "print(\"\\nMacro Precision:\", precision_score(y_test, y_predTree, average='macro'))\n",
        "print(\"Micro Precision:\", precision_score(y_test, y_predTree, average='micro'))\n",
        "print(\"Weighted Precision:\", precision_score(y_test, y_predTree, average='weighted' ))\n",
        "\n",
        "print(\"\\nMacro Recall:\", recall_score(y_test, y_predTree, average='macro'))\n",
        "print(\"Micro Recall:\", recall_score(y_test, y_predTree, average='micro'))\n",
        "print(\"Weighted Recall:\", recall_score(y_test, y_predTree, average='weighted'))\n",
        "\n",
        "scoresT3 = cross_val_score(dTreeClf, X_test, y_test, cv=10)\n",
        "print(\"\\n10-Fold Accuracy: %0.2f(+/-%0.2f)\" %(scoresT3.mean(), scoresT3.std()*2))\n",
        "print(scoresT3)"
      ],
      "execution_count": 0,
      "outputs": [
        {
          "output_type": "stream",
          "text": [
            "Accuracy: 0.562374245472837\n",
            "\n",
            "Macro Precision: 0.46247753530166885\n",
            "Micro Precision: 0.562374245472837\n",
            "Weighted Precision: 0.5160728039611223\n",
            "\n",
            "Macro Recall: 0.46759969969515836\n",
            "Micro Recall: 0.562374245472837\n",
            "Weighted Recall: 0.562374245472837\n",
            "\n",
            "10-Fold Accuracy: 0.53(+/-0.04)\n",
            "[0.52       0.50666667 0.5451505  0.53020134 0.56040268 0.53691275\n",
            " 0.58389262 0.52861953 0.52188552 0.51178451]\n"
          ],
          "name": "stdout"
        }
      ]
    },
    {
      "cell_type": "markdown",
      "metadata": {
        "id": "d6UyGxvu7EAQ",
        "colab_type": "text"
      },
      "source": [
        "Gini is the best criteria. And accuracy goes up slightly with a higher mex_depth but it isn't too noticable. Also as the Max Depth goes higher we run the risk of over classifying the tree"
      ]
    },
    {
      "cell_type": "markdown",
      "metadata": {
        "id": "iDop24FKkEq7",
        "colab_type": "text"
      },
      "source": [
        "#**Random Forest Classifier**"
      ]
    },
    {
      "cell_type": "markdown",
      "metadata": {
        "id": "pOCkIPPPbseZ",
        "colab_type": "text"
      },
      "source": [
        "### Making an instance of the classifier"
      ]
    },
    {
      "cell_type": "markdown",
      "metadata": {
        "id": "UPImu5QVhwbk",
        "colab_type": "text"
      },
      "source": [
        "Both Random Forest and SVM Classifiers are similar to Nathalie's Research code"
      ]
    },
    {
      "cell_type": "code",
      "metadata": {
        "id": "LzNSGtRskL6C",
        "colab_type": "code",
        "outputId": "f982c16b-0932-4aa6-f172-5818d4beb09c",
        "colab": {
          "base_uri": "https://localhost:8080/",
          "height": 134
        }
      },
      "source": [
        "# creating an instance of the classification model\n",
        "modelRF = ensemble.RandomForestClassifier(n_estimators=100)\n",
        "\n",
        "# training the model\n",
        "modelRF.fit(X_train, y_train)"
      ],
      "execution_count": 0,
      "outputs": [
        {
          "output_type": "execute_result",
          "data": {
            "text/plain": [
              "RandomForestClassifier(bootstrap=True, class_weight=None, criterion='gini',\n",
              "                       max_depth=None, max_features='auto', max_leaf_nodes=None,\n",
              "                       min_impurity_decrease=0.0, min_impurity_split=None,\n",
              "                       min_samples_leaf=1, min_samples_split=2,\n",
              "                       min_weight_fraction_leaf=0.0, n_estimators=100,\n",
              "                       n_jobs=None, oob_score=False, random_state=None,\n",
              "                       verbose=0, warm_start=False)"
            ]
          },
          "metadata": {
            "tags": []
          },
          "execution_count": 35
        }
      ]
    },
    {
      "cell_type": "markdown",
      "metadata": {
        "id": "AD3lhQdbb4TJ",
        "colab_type": "text"
      },
      "source": [
        "###Finding the accuracy score of the random forest model"
      ]
    },
    {
      "cell_type": "code",
      "metadata": {
        "id": "EsE5VUOBkOqn",
        "colab_type": "code",
        "outputId": "da594de1-5015-4c63-cd31-0ac4c6f10776",
        "colab": {
          "base_uri": "https://localhost:8080/",
          "height": 34
        }
      },
      "source": [
        "# making a RF prediction variable and calulcating the accuracy\n",
        "y_predRF = modelRF.predict(X_test)\n",
        "\n",
        "accuracy_score(y_test, y_predRF)"
      ],
      "execution_count": 0,
      "outputs": [
        {
          "output_type": "execute_result",
          "data": {
            "text/plain": [
              "0.6961770623742455"
            ]
          },
          "metadata": {
            "tags": []
          },
          "execution_count": 36
        }
      ]
    },
    {
      "cell_type": "markdown",
      "metadata": {
        "id": "h-H7u5PNcBCR",
        "colab_type": "text"
      },
      "source": [
        "### Different precision and recall scores"
      ]
    },
    {
      "cell_type": "code",
      "metadata": {
        "id": "zRVvhu4XkgSu",
        "colab_type": "code",
        "outputId": "69b0511d-2086-4c65-f5f5-6da26d8f48a5",
        "colab": {
          "base_uri": "https://localhost:8080/",
          "height": 151
        }
      },
      "source": [
        "print(\"\\nMacro Precision:\", precision_score(y_test, y_predRF, average='macro'))\n",
        "print(\"Micro Precision:\", precision_score(y_test, y_predRF, average='micro'))\n",
        "print(\"Weighted Precision:\", precision_score(y_test, y_predRF, average='weighted' ))\n",
        "\n",
        "print(\"\\nMacro Recall:\", recall_score(y_test, y_predRF, average='macro'))\n",
        "print(\"Micro Recall:\", recall_score(y_test, y_predRF, average='micro'))\n",
        "print(\"Weighted Recall:\", recall_score(y_test, y_predRF, average='weighted'))"
      ],
      "execution_count": 0,
      "outputs": [
        {
          "output_type": "stream",
          "text": [
            "\n",
            "Macro Precision: 0.7535834993148581\n",
            "Micro Precision: 0.6961770623742455\n",
            "Weighted Precision: 0.7274275454743321\n",
            "\n",
            "Macro Recall: 0.5789062052927014\n",
            "Micro Recall: 0.6961770623742455\n",
            "Weighted Recall: 0.6961770623742455\n"
          ],
          "name": "stdout"
        }
      ]
    },
    {
      "cell_type": "code",
      "metadata": {
        "id": "FU1DM1uaksi8",
        "colab_type": "code",
        "outputId": "92236354-fccc-4566-976e-5bc8d9287f30",
        "colab": {
          "base_uri": "https://localhost:8080/",
          "height": 84
        }
      },
      "source": [
        "scoresRF = cross_val_score(modelRF, X_test, y_test, cv=10)\n",
        "print(\"\\n10-Fold Accuracy: %0.2f(+/-%0.2f)\" %(scoresRF.mean(), scoresRF.std()*2))\n",
        "print(scoresRF)"
      ],
      "execution_count": 0,
      "outputs": [
        {
          "output_type": "stream",
          "text": [
            "\n",
            "10-Fold Accuracy: 0.64(+/-0.05)\n",
            "[0.62666667 0.62333333 0.65551839 0.66778523 0.67114094 0.6442953\n",
            " 0.66442953 0.60606061 0.62962963 0.60606061]\n"
          ],
          "name": "stdout"
        }
      ]
    },
    {
      "cell_type": "markdown",
      "metadata": {
        "id": "Ry1yVuD_laoZ",
        "colab_type": "text"
      },
      "source": [
        "#**SVM Classifiers**"
      ]
    },
    {
      "cell_type": "markdown",
      "metadata": {
        "id": "bIa6xtGViB69",
        "colab_type": "text"
      },
      "source": [
        "Function below trains the model so multiple SVM methods can be tested"
      ]
    },
    {
      "cell_type": "code",
      "metadata": {
        "id": "gCOcDitsoOcd",
        "colab_type": "code",
        "colab": {}
      },
      "source": [
        "#function for accuracy and precision, see svm for parameters\n",
        "def train_model(classifier, feature_vector_train, label, feature_vector_valid, is_neural_net=False):\n",
        "    # Fit the training dataset on the classifier\n",
        "    classifier.fit(feature_vector_train, label)\n",
        "\n",
        "    # Predict the labels on validation dataset\n",
        "    predictions = classifier.predict(feature_vector_valid)\n",
        "\n",
        "    if is_neural_net:\n",
        "        predictions = predictions.argmax(axis=-1)\n",
        "\n",
        "    return accuracy_score(y_test, predictions), precision_score(y_test, predictions, average=None).mean(), recall_score(y_test, predictions, average=None).mean()"
      ],
      "execution_count": 0,
      "outputs": []
    },
    {
      "cell_type": "markdown",
      "metadata": {
        "id": "0hF_3_D-i03k",
        "colab_type": "text"
      },
      "source": [
        "SVM Methods used are:\n",
        "\n",
        "\n",
        "*   SVM Linear\n",
        "*   SVM RBF\n",
        "*   SVM Polynomial\n",
        "*   SVM Sigmoid \n",
        "*   RF<br>\n",
        "\n",
        "Each method has it's accuracy, precision score, and recall score calculated. In addition to it's 10-Fold Cross Validation accuracy\n",
        "\n",
        "\n",
        "\n"
      ]
    },
    {
      "cell_type": "code",
      "metadata": {
        "id": "uptAaIrRtRYN",
        "colab_type": "code",
        "outputId": "6479508f-d6df-43a8-8169-3aa576614292",
        "colab": {
          "base_uri": "https://localhost:8080/",
          "height": 54
        }
      },
      "source": [
        "# SVM Linear\n",
        "metrics = train_model(svm.SVC(kernel='linear', gamma='scale', random_state=42), X_train, y_train, X_test)\n",
        "print(\"SVM, Kernel = 'linear',  \", metrics)\n"
      ],
      "execution_count": 0,
      "outputs": [
        {
          "output_type": "stream",
          "text": [
            "SVM, Kernel = 'linear',   (0.7025486250838363, 0.6434568541100872, 0.6113409212500162)\n"
          ],
          "name": "stdout"
        }
      ]
    },
    {
      "cell_type": "code",
      "metadata": {
        "id": "Wyi1i0ZItRVb",
        "colab_type": "code",
        "outputId": "bdab8b75-bd24-4add-96e2-eb42edb19d0a",
        "colab": {
          "base_uri": "https://localhost:8080/",
          "height": 54
        }
      },
      "source": [
        "# SVM RBF\n",
        "metrics = train_model(svm.SVC(kernel='rbf', gamma='scale'), X_train, y_train, X_test, )\n",
        "print(\"SVM, Kernel = 'RBF' ,  \", metrics)"
      ],
      "execution_count": 0,
      "outputs": [
        {
          "output_type": "stream",
          "text": [
            "SVM, Kernel = 'RBF' ,   (0.710261569416499, 0.6852531635585281, 0.6009422503614107)\n"
          ],
          "name": "stdout"
        }
      ]
    },
    {
      "cell_type": "code",
      "metadata": {
        "id": "qNqVdXsDtRSq",
        "colab_type": "code",
        "outputId": "601e71b6-2b3d-4f7a-9ff1-28278f183d7f",
        "colab": {
          "base_uri": "https://localhost:8080/",
          "height": 54
        }
      },
      "source": [
        "# SVM Polynomial\n",
        "metrics = train_model(svm.SVC(kernel='poly', gamma='scale'), X_train, y_train, X_test)\n",
        "print(\"SVM, Kernel = 'polynomial' ,  \", metrics)"
      ],
      "execution_count": 0,
      "outputs": [
        {
          "output_type": "stream",
          "text": [
            "SVM, Kernel = 'polynomial' ,   (0.5710932260228034, 0.7710210651765962, 0.45160311397095426)\n"
          ],
          "name": "stdout"
        }
      ]
    },
    {
      "cell_type": "code",
      "metadata": {
        "id": "ba7pQYZrtRFE",
        "colab_type": "code",
        "outputId": "a5feeb32-64c6-4112-9f2f-5c122bdd3ecd",
        "colab": {
          "base_uri": "https://localhost:8080/",
          "height": 54
        }
      },
      "source": [
        "# SVM Sigmoid\n",
        "metrics = train_model(svm.SVC(kernel='sigmoid', gamma='scale'), X_train, y_train, X_test)\n",
        "print(\"SVM, Kernel = 'sigmoid' ,  \", metrics)"
      ],
      "execution_count": 0,
      "outputs": [
        {
          "output_type": "stream",
          "text": [
            "SVM, Kernel = 'sigmoid' ,   (0.6981891348088531, 0.6361996291285522, 0.6014817053080835)\n"
          ],
          "name": "stdout"
        }
      ]
    },
    {
      "cell_type": "code",
      "metadata": {
        "id": "HYnjnW70uU1J",
        "colab_type": "code",
        "outputId": "56c927ac-921c-4510-df1c-ebee3a6d561c",
        "colab": {
          "base_uri": "https://localhost:8080/",
          "height": 54
        }
      },
      "source": [
        "# RF\n",
        "metrics = train_model(ensemble.RandomForestClassifier(n_estimators=100), X_train, y_train, X_test)\n",
        "print(\"RF, n_estimators = 100,  \", metrics)"
      ],
      "execution_count": 0,
      "outputs": [
        {
          "output_type": "stream",
          "text": [
            "RF, n_estimators = 100,   (0.6854460093896714, 0.7516697911795323, 0.5698788412749746)\n"
          ],
          "name": "stdout"
        }
      ]
    },
    {
      "cell_type": "code",
      "metadata": {
        "id": "Z9dzTp59uUz5",
        "colab_type": "code",
        "outputId": "7472b49c-75c6-4351-badb-2ef40fb438fc",
        "colab": {
          "base_uri": "https://localhost:8080/",
          "height": 101
        }
      },
      "source": [
        "# 10-Fold Cross validation\n",
        "\n",
        "print(\"10-Fold Cross Validation Scores on TFIDF Vectors using SVM (Kernel = Linear)\")\n",
        "# 10-Fold Cross validation\n",
        "clf_svm = svm.SVC(kernel='linear', gamma='scale', C=1, random_state=42)\n",
        "scores_svm = cross_val_score(clf_svm, X_train, y_train, cv=10)\n",
        "print(scores_svm)\n",
        "print(\"Accuracy: %0.2f (+/- %0.2f)\\n\" % (scores_svm.mean(), scores_svm.std() * 2))\n"
      ],
      "execution_count": 0,
      "outputs": [
        {
          "output_type": "stream",
          "text": [
            "10-Fold Cross Validation Scores on TFIDF Vectors using SVM (Kernel = Linear)\n",
            "[0.69932998 0.69011725 0.6789606  0.68063705 0.69237217 0.68540268\n",
            " 0.6795302  0.67422334 0.70277078 0.69437448]\n",
            "Accuracy: 0.69 (+/- 0.02)\n",
            "\n"
          ],
          "name": "stdout"
        }
      ]
    },
    {
      "cell_type": "code",
      "metadata": {
        "id": "i2IBXmdjuUvo",
        "colab_type": "code",
        "outputId": "d1ce8476-9ade-4b43-dc0b-afac470a8b12",
        "colab": {
          "base_uri": "https://localhost:8080/",
          "height": 101
        }
      },
      "source": [
        "print(\"10-Fold Cross Validation Scores on TFIDF Vectors using SVM (Kernel = Polynomial)\")\n",
        "# 10-Fold Cross validation\n",
        "clf_svm = svm.SVC(kernel='poly', gamma='scale', C=1, random_state=42)\n",
        "scores_svm = cross_val_score(clf_svm, X_train, y_train, cv=10)\n",
        "print(scores_svm)\n",
        "print(\"Accuracy: %0.2f (+/- %0.2f)\\n\" % (scores_svm.mean(), scores_svm.std() * 2))\n"
      ],
      "execution_count": 0,
      "outputs": [
        {
          "output_type": "stream",
          "text": [
            "10-Fold Cross Validation Scores on TFIDF Vectors using SVM (Kernel = Polynomial)\n",
            "[0.54690117 0.5561139  0.54484493 0.54400671 0.55155071 0.54781879\n",
            " 0.54278523 0.55667506 0.56171285 0.54575987]\n",
            "Accuracy: 0.55 (+/- 0.01)\n",
            "\n"
          ],
          "name": "stdout"
        }
      ]
    },
    {
      "cell_type": "code",
      "metadata": {
        "id": "9JZH8-TmuUoX",
        "colab_type": "code",
        "outputId": "ac36681a-0d3a-43d7-8ce6-fc8ae99ac51a",
        "colab": {
          "base_uri": "https://localhost:8080/",
          "height": 101
        }
      },
      "source": [
        "print(\"10-Fold Cross Validation Scores on TFIDF Vectors using SVM (Kernel = Sigmoid)\")\n",
        "# 10-Fold Cross validation\n",
        "clf_svm = svm.SVC(kernel='sigmoid', gamma='scale', C=1, random_state=42)\n",
        "scores_svm = cross_val_score(clf_svm, X_train, y_train, cv=10)\n",
        "print(scores_svm)\n",
        "print(\"Accuracy: %0.2f (+/- %0.2f)\\n\" % (scores_svm.mean(), scores_svm.std() * 2))\n"
      ],
      "execution_count": 0,
      "outputs": [
        {
          "output_type": "stream",
          "text": [
            "10-Fold Cross Validation Scores on TFIDF Vectors using SVM (Kernel = Sigmoid)\n",
            "[0.69346734 0.67755444 0.67225482 0.67309304 0.67812238 0.6795302\n",
            " 0.6761745  0.67086482 0.6868178  0.68849706]\n",
            "Accuracy: 0.68 (+/- 0.01)\n",
            "\n"
          ],
          "name": "stdout"
        }
      ]
    },
    {
      "cell_type": "code",
      "metadata": {
        "id": "04rs6pnZuUlh",
        "colab_type": "code",
        "outputId": "83b61634-dd52-4e01-a937-2ffb5138752f",
        "colab": {
          "base_uri": "https://localhost:8080/",
          "height": 101
        }
      },
      "source": [
        "print(\"10-Fold Cross Validation Scores on TFIDF Vectors using SVM (Kernel = RBF)\")\n",
        "# 10-Fold Cross validation\n",
        "clf_svm = svm.SVC(kernel='rbf', gamma='scale', C=1, random_state=42)\n",
        "scores_svm = cross_val_score(clf_svm, X_train, y_train, cv=10)\n",
        "print(scores_svm)\n",
        "print(\"Accuracy: %0.2f (+/- %0.2f)\\n\" % (scores_svm.mean(), scores_svm.std() * 2))\n"
      ],
      "execution_count": 0,
      "outputs": [
        {
          "output_type": "stream",
          "text": [
            "10-Fold Cross Validation Scores on TFIDF Vectors using SVM (Kernel = RBF)\n",
            "[0.7160804  0.71105528 0.69069573 0.69572506 0.6898575  0.69966443\n",
            " 0.68624161 0.70361041 0.71284635 0.70696893]\n",
            "Accuracy: 0.70 (+/- 0.02)\n",
            "\n"
          ],
          "name": "stdout"
        }
      ]
    },
    {
      "cell_type": "markdown",
      "metadata": {
        "id": "4PEx_1r63iN1",
        "colab_type": "text"
      },
      "source": [
        "\n",
        "\n",
        "---\n",
        "\n",
        "\n",
        "#**Classification Methods using Full Data Set**\n",
        "\n",
        "---\n",
        "\n"
      ]
    },
    {
      "cell_type": "markdown",
      "metadata": {
        "id": "7yeoP6-yj_CP",
        "colab_type": "text"
      },
      "source": [
        "To classify the full data set, two methods are used. **Naive Bayes using a TFIDF vectorizer and partial fit** and using a **HashingVectorizer** on all classifiers"
      ]
    },
    {
      "cell_type": "markdown",
      "metadata": {
        "id": "L8LjKn0AwqG0",
        "colab_type": "text"
      },
      "source": [
        "#**Naive Bayes on Full Data Set Using TfidfVectorizer**"
      ]
    },
    {
      "cell_type": "code",
      "metadata": {
        "id": "Pd1-y_A-H7TN",
        "colab_type": "code",
        "outputId": "35d19d46-22b3-44a0-b55c-26e69f4521e7",
        "colab": {
          "base_uri": "https://localhost:8080/",
          "height": 218
        }
      },
      "source": [
        "# set the full data set\n",
        "full_data_set = \"full_amazon_ff_reviews.csv\"\n",
        "\n",
        "# create the model\n",
        "model = MultinomialNB()\n",
        "\n",
        "# make lists for each chunk\n",
        "X_test_chunk_list = []\n",
        "y_test_chunk_list = []\n",
        "\n",
        "# creating the vectorizer\n",
        "vectorizer = TfidfVectorizer(stop_words='english')\n",
        "do_once = 1\n",
        "\n",
        "# read the data into the frame within a loop\n",
        "for chunk in pd.read_csv(full_data_set, usecols=[5, 8], chunksize=100000):\n",
        "\n",
        "    if(do_once == 1):\n",
        "        X = vectorizer.fit_transform(chunk['Text'])\n",
        "        do_once = 0\n",
        "    else:\n",
        "        X = vectorizer.transform(chunk['Text'])\n",
        "\n",
        "    y = chunk['Rating']\n",
        "\n",
        "    # split the data 80/20 and add random state 55\n",
        "    X_train, X_test_chunk, y_train, y_test_chunk = train_test_split(X, y, test_size=0.2, random_state=55)\n",
        "\n",
        "    # appened the chunks onto their respective lists\n",
        "    X_test_chunk_list.append(X_test_chunk)\n",
        "    y_test_chunk_list.append(y_test_chunk)\n",
        "\n",
        "    model.partial_fit(X_train, y_train, classes=np.unique(y_train))\n",
        "\n",
        "y_pred_list = [model.predict(test_chunk) for test_chunk in X_test_chunk_list]\n",
        "\n",
        "# acccuracy score list\n",
        "accuracy_score_list = [accuracy_score(y_test_chunk_list[index], y_pred_list[index]) for index in range(len(y_pred_list))] \n",
        "\n",
        "# precision score list\n",
        "precision_score_list = [precision_score(y_test_chunk_list[index], y_pred_list[index], average=None).mean() for index in range(len(y_pred_list))]\n",
        "\n",
        "# recall score list \n",
        "recall_score_list = [recall_score(y_test_chunk_list[index], y_pred_list[index], average=None).mean() for index in range(len(y_pred_list))]\n",
        "\n",
        "print(\"---------------\" + \"AVG ACCURACY\" + \"---------------\\n\")\n",
        "print(str(sum(accuracy_score_list)/len(accuracy_score_list))+'\\n')\n",
        "\n",
        "print(\"---------------\" + \"AVG PRECISION\" + \"---------------\\n\")\n",
        "print(str(sum(precision_score_list)/len(precision_score_list))+ '\\n')\n",
        "\n",
        "print(\"---------------\" + \"AVG RECALL\" + \"---------------\\n\")\n",
        "print(str(sum(recall_score_list)/len(recall_score_list))+ '\\n')\n"
      ],
      "execution_count": 0,
      "outputs": [
        {
          "output_type": "stream",
          "text": [
            "---------------AVG ACCURACY---------------\n",
            "\n",
            "0.79558\n",
            "\n",
            "---------------AVG PRECISION---------------\n",
            "\n",
            "0.7695693669527404\n",
            "\n",
            "---------------AVG RECALL---------------\n",
            "\n",
            "0.4311439260374394\n",
            "\n"
          ],
          "name": "stdout"
        }
      ]
    },
    {
      "cell_type": "code",
      "metadata": {
        "id": "cdYkIUF241jV",
        "colab_type": "code",
        "colab": {}
      },
      "source": [
        "# function that prints restils for the HashingVectorizer\n",
        "def results_function(model, X_test, y_test, y_pred):\n",
        "  print(\"Accuracy:\", accuracy_score(y_test, y_pred))\n",
        "\n",
        "  print(\"\\nMacro Precision:\", precision_score(y_test, y_pred, average='macro'))\n",
        "  print(\"Micro Precision:\", precision_score(y_test, y_pred, average='micro'))\n",
        "  print(\"Weighted Precision:\", precision_score(y_test, y_pred, average='weighted' ))\n",
        "\n",
        "  print(\"\\nMacro Recall:\", recall_score(y_test, y_pred, average='macro'))\n",
        "  print(\"Micro Recall:\", recall_score(y_test, y_pred, average='micro'))\n",
        "  print(\"Weighted Recall:\", recall_score(y_test, y_pred, average='weighted'))\n",
        "\n",
        "  scores = cross_val_score(model, X_test, y_test, cv=10)\n",
        "  print(\"\\n10-Fold Accuracy: %0.2f(+/-%0.2f)\" %(scores.mean(), scores.std()*2))\n",
        "  print(scores)"
      ],
      "execution_count": 0,
      "outputs": []
    },
    {
      "cell_type": "markdown",
      "metadata": {
        "id": "QQjgDZJUx-du",
        "colab_type": "text"
      },
      "source": [
        "##Dataframe for full text"
      ]
    },
    {
      "cell_type": "code",
      "metadata": {
        "id": "p7HKjiv8yXdw",
        "colab_type": "code",
        "colab": {}
      },
      "source": [
        "# create a dataframe that is using the full dataset \n",
        "H_df = pd.read_csv(full_data_set, usecols=[5, 8])"
      ],
      "execution_count": 0,
      "outputs": []
    },
    {
      "cell_type": "markdown",
      "metadata": {
        "id": "8SIJEdJ1Vrhr",
        "colab_type": "text"
      },
      "source": [
        "### Counting the Full Data"
      ]
    },
    {
      "cell_type": "code",
      "metadata": {
        "id": "bixGPeyyVrFC",
        "colab_type": "code",
        "outputId": "feddc208-6e15-4b3a-bea7-73ac14bfb869",
        "colab": {
          "base_uri": "https://localhost:8080/",
          "height": 101
        }
      },
      "source": [
        "# counting the number of ratings in the full set\n",
        "rating_counts_full = H_df.groupby('Rating')['Rating'].count()\n",
        "rating_counts_full.head()"
      ],
      "execution_count": 0,
      "outputs": [
        {
          "output_type": "execute_result",
          "data": {
            "text/plain": [
              "Rating\n",
              "negative     82037\n",
              "neutral      42640\n",
              "positive    375323\n",
              "Name: Rating, dtype: int64"
            ]
          },
          "metadata": {
            "tags": []
          },
          "execution_count": 52
        }
      ]
    },
    {
      "cell_type": "code",
      "metadata": {
        "id": "_LOD44-YWHu1",
        "colab_type": "code",
        "outputId": "e3083f44-a3a7-41f1-ee6e-0dc21bcd1fe6",
        "colab": {
          "base_uri": "https://localhost:8080/",
          "height": 101
        }
      },
      "source": [
        "# getting the ratios of the ratings\n",
        "rating_counts_full / len(H_df)"
      ],
      "execution_count": 0,
      "outputs": [
        {
          "output_type": "execute_result",
          "data": {
            "text/plain": [
              "Rating\n",
              "negative    0.164074\n",
              "neutral     0.085280\n",
              "positive    0.750646\n",
              "Name: Rating, dtype: float64"
            ]
          },
          "metadata": {
            "tags": []
          },
          "execution_count": 53
        }
      ]
    },
    {
      "cell_type": "code",
      "metadata": {
        "id": "MMniWWfAWjvj",
        "colab_type": "code",
        "outputId": "7783a590-0e91-48e5-eba4-678fe15e7291",
        "colab": {
          "base_uri": "https://localhost:8080/",
          "height": 166
        }
      },
      "source": [
        "H_df.describe()"
      ],
      "execution_count": 0,
      "outputs": [
        {
          "output_type": "execute_result",
          "data": {
            "text/html": [
              "<div>\n",
              "<style scoped>\n",
              "    .dataframe tbody tr th:only-of-type {\n",
              "        vertical-align: middle;\n",
              "    }\n",
              "\n",
              "    .dataframe tbody tr th {\n",
              "        vertical-align: top;\n",
              "    }\n",
              "\n",
              "    .dataframe thead th {\n",
              "        text-align: right;\n",
              "    }\n",
              "</style>\n",
              "<table border=\"1\" class=\"dataframe\">\n",
              "  <thead>\n",
              "    <tr style=\"text-align: right;\">\n",
              "      <th></th>\n",
              "      <th>Rating</th>\n",
              "      <th>Text</th>\n",
              "    </tr>\n",
              "  </thead>\n",
              "  <tbody>\n",
              "    <tr>\n",
              "      <th>count</th>\n",
              "      <td>500000</td>\n",
              "      <td>500000</td>\n",
              "    </tr>\n",
              "    <tr>\n",
              "      <th>unique</th>\n",
              "      <td>3</td>\n",
              "      <td>352758</td>\n",
              "    </tr>\n",
              "    <tr>\n",
              "      <th>top</th>\n",
              "      <td>positive</td>\n",
              "      <td>This review will make me sound really stupid, ...</td>\n",
              "    </tr>\n",
              "    <tr>\n",
              "      <th>freq</th>\n",
              "      <td>375323</td>\n",
              "      <td>199</td>\n",
              "    </tr>\n",
              "  </tbody>\n",
              "</table>\n",
              "</div>"
            ],
            "text/plain": [
              "          Rating                                               Text\n",
              "count     500000                                             500000\n",
              "unique         3                                             352758\n",
              "top     positive  This review will make me sound really stupid, ...\n",
              "freq      375323                                                199"
            ]
          },
          "metadata": {
            "tags": []
          },
          "execution_count": 54
        }
      ]
    },
    {
      "cell_type": "markdown",
      "metadata": {
        "id": "W-soGvJNxTh1",
        "colab_type": "text"
      },
      "source": [
        "##Creating the HashingVectorizer"
      ]
    },
    {
      "cell_type": "code",
      "metadata": {
        "id": "jvRseUPiWaL_",
        "colab_type": "code",
        "colab": {}
      },
      "source": [
        "# creates the HashingVectorizer that will be used with the full data\n",
        "H_vectorizer = HashingVectorizer(stop_words='english', alternate_sign=False)\n",
        "H_X = H_vectorizer.transform(H_df['Text'])\n",
        "H_y = H_df['Rating']\n",
        "\n",
        "# splits the data 80/20 with random state 55\n",
        "H_X_train, H_X_test, H_y_train, H_y_test = train_test_split(H_X, H_y, test_size=0.2, random_state=55)"
      ],
      "execution_count": 0,
      "outputs": []
    },
    {
      "cell_type": "markdown",
      "metadata": {
        "id": "2QOG9J_4zF2W",
        "colab_type": "text"
      },
      "source": [
        "##NB Classifier with HashingVectorizer"
      ]
    },
    {
      "cell_type": "code",
      "metadata": {
        "id": "VftoBU_UzDUc",
        "colab_type": "code",
        "colab": {}
      },
      "source": [
        "H_modelNB = MultinomialNB()\n",
        "H_modelNB.fit(H_X_train, H_y_train)\n",
        "H_y_predNB = H_modelNB.predict(H_X_test)"
      ],
      "execution_count": 0,
      "outputs": []
    },
    {
      "cell_type": "code",
      "metadata": {
        "id": "JXvAalUj8NUD",
        "colab_type": "code",
        "outputId": "ada8ad7e-c890-419d-a92a-bfdf9660203c",
        "colab": {
          "base_uri": "https://localhost:8080/",
          "height": 289
        }
      },
      "source": [
        "results_function(H_modelNB, H_X_test, H_y_test, H_y_predNB)"
      ],
      "execution_count": 0,
      "outputs": [
        {
          "output_type": "stream",
          "text": [
            "Accuracy: 0.75185\n"
          ],
          "name": "stdout"
        },
        {
          "output_type": "stream",
          "text": [
            "/usr/local/lib/python3.6/dist-packages/sklearn/metrics/classification.py:1437: UndefinedMetricWarning: Precision is ill-defined and being set to 0.0 in labels with no predicted samples.\n",
            "  'precision', 'predicted', average, warn_for)\n"
          ],
          "name": "stderr"
        },
        {
          "output_type": "stream",
          "text": [
            "\n",
            "Macro Precision: 0.5506117278394506\n",
            "Micro Precision: 0.75185\n",
            "Weighted Precision: 0.7115921359135915\n",
            "\n",
            "Macro Recall: 0.33351334448065684\n",
            "Micro Recall: 0.75185\n",
            "Weighted Recall: 0.75185\n",
            "\n",
            "10-Fold Accuracy: 0.75(+/-0.00)\n",
            "[0.75172483 0.75172483 0.75172483 0.75172483 0.75172483 0.7518\n",
            " 0.7518     0.75177518 0.75185037 0.75185037]\n"
          ],
          "name": "stdout"
        }
      ]
    },
    {
      "cell_type": "markdown",
      "metadata": {
        "id": "mDaqYy0N4Gah",
        "colab_type": "text"
      },
      "source": [
        "##kNN Classifier with HashingVectorizer and K = 3"
      ]
    },
    {
      "cell_type": "code",
      "metadata": {
        "id": "dRkO3tmH4KEW",
        "colab_type": "code",
        "colab": {}
      },
      "source": [
        "H_modelK = neighbors.KNeighborsClassifier(n_neighbors=3)\n",
        "H_modelK.fit(H_X_train, H_y_train)\n",
        "H_y_predK = H_modelK.predict(H_X_test)"
      ],
      "execution_count": 0,
      "outputs": []
    },
    {
      "cell_type": "code",
      "metadata": {
        "id": "9cnxfQdx8KBB",
        "colab_type": "code",
        "outputId": "1bf88168-ce17-4917-b091-d1ea12afc27a",
        "colab": {
          "base_uri": "https://localhost:8080/",
          "height": 235
        }
      },
      "source": [
        "results_function(H_modelK, H_X_test, H_y_test, H_y_predK)"
      ],
      "execution_count": 0,
      "outputs": [
        {
          "output_type": "stream",
          "text": [
            "Accuracy: 0.81724\n",
            "\n",
            "Macro Precision: 0.7735438074714115\n",
            "Micro Precision: 0.81724\n",
            "Weighted Precision: 0.8072352400481443\n",
            "\n",
            "Macro Recall: 0.5555860774546658\n",
            "Micro Recall: 0.81724\n",
            "Weighted Recall: 0.81724\n",
            "\n",
            "10-Fold Accuracy: 0.76(+/-0.00)\n",
            "[0.75482452 0.75492451 0.76142386 0.75912409 0.75642436 0.7574\n",
            " 0.7569     0.75537554 0.75645129 0.76205241]\n"
          ],
          "name": "stdout"
        }
      ]
    },
    {
      "cell_type": "markdown",
      "metadata": {
        "id": "kyuWcJpd68xh",
        "colab_type": "text"
      },
      "source": [
        "##Decision Tree Classifier with HashingVectorizer"
      ]
    },
    {
      "cell_type": "markdown",
      "metadata": {
        "id": "Mp4QZhjU7Vle",
        "colab_type": "text"
      },
      "source": [
        "###No params"
      ]
    },
    {
      "cell_type": "code",
      "metadata": {
        "id": "TA2XhH0U68Bx",
        "colab_type": "code",
        "colab": {}
      },
      "source": [
        "H_dTreeClf = DecisionTreeClassifier()\n",
        "H_dTreeClf = H_dTreeClf.fit(H_X_train, H_y_train)\n",
        "H_y_predTREE = H_dTreeClf.predict(H_X_test)"
      ],
      "execution_count": 0,
      "outputs": []
    },
    {
      "cell_type": "code",
      "metadata": {
        "id": "ZstyJ6Wg8k4Z",
        "colab_type": "code",
        "colab": {}
      },
      "source": [
        "results_function(H_dTreeClf, H_X_test, H_y_test, H_y_predTREE)"
      ],
      "execution_count": 0,
      "outputs": []
    },
    {
      "cell_type": "markdown",
      "metadata": {
        "id": "y5Sqg-aG7766",
        "colab_type": "text"
      },
      "source": [
        "###Params entropy & max_depth 3"
      ]
    },
    {
      "cell_type": "code",
      "metadata": {
        "id": "5YsXN-C577TC",
        "colab_type": "code",
        "colab": {}
      },
      "source": [
        "H_dTreeClf = DecisionTreeClassifier(criterion=\"entropy\", max_depth=3)\n",
        "H_dTreeClf = H_dTreeClf.fit(H_X_train, H_y_train)\n",
        "H_y_predTREE3 = H_dTreeClf.predict(H_X_test)"
      ],
      "execution_count": 0,
      "outputs": []
    },
    {
      "cell_type": "code",
      "metadata": {
        "id": "srPwP2508Gpt",
        "colab_type": "code",
        "colab": {}
      },
      "source": [
        "results_function(H_dTreeClf, H_X_test, H_y_test, H_y_predTREE3)"
      ],
      "execution_count": 0,
      "outputs": []
    },
    {
      "cell_type": "markdown",
      "metadata": {
        "id": "hBFTEFLM8WLN",
        "colab_type": "text"
      },
      "source": [
        "###Params gini & max_depth 10"
      ]
    },
    {
      "cell_type": "code",
      "metadata": {
        "id": "gGgIdO4v8bHm",
        "colab_type": "code",
        "colab": {}
      },
      "source": [
        "H_dTreeClf = DecisionTreeClassifier(criterion=\"gini\", max_depth=10)\n",
        "H_dTreeClf = H_dTreeClf.fit(H_X_train, H_y_train)\n",
        "H_y_predTREE10 = H_dTreeClf.predict(H_X_test)"
      ],
      "execution_count": 0,
      "outputs": []
    },
    {
      "cell_type": "code",
      "metadata": {
        "id": "7OuAtgtR8f3b",
        "colab_type": "code",
        "colab": {}
      },
      "source": [
        "results_function(H_dTreeClf, H_X_test, H_y_test, H_y_predTREE10)"
      ],
      "execution_count": 0,
      "outputs": []
    },
    {
      "cell_type": "markdown",
      "metadata": {
        "id": "TiJMjxmE8xIV",
        "colab_type": "text"
      },
      "source": [
        "##Random Forest Classifier with HashingVectorizer"
      ]
    },
    {
      "cell_type": "code",
      "metadata": {
        "id": "zZhQmG5A81f-",
        "colab_type": "code",
        "colab": {}
      },
      "source": [
        "H_modelRF = ensemble.RandomForestClassifier(n_estimators=100)\n",
        "H_modelRF = H_modelRF.fit(H_X_train, H_y_train)\n",
        "H_y_predRF = H_modelRF.predict(H_X_test)"
      ],
      "execution_count": 0,
      "outputs": []
    },
    {
      "cell_type": "code",
      "metadata": {
        "id": "7jfbiRoX9Cn2",
        "colab_type": "code",
        "colab": {}
      },
      "source": [
        "results_function(H_dTreeClf, H_X_test, H_y_test, H_y_predRF)"
      ],
      "execution_count": 0,
      "outputs": []
    },
    {
      "cell_type": "markdown",
      "metadata": {
        "id": "CUo4XBGNAl7z",
        "colab_type": "text"
      },
      "source": [
        "##SVM Classifiers with HashingVectorizer"
      ]
    },
    {
      "cell_type": "markdown",
      "metadata": {
        "id": "igTChmfJAzGG",
        "colab_type": "text"
      },
      "source": [
        "###SVM LINEAR"
      ]
    },
    {
      "cell_type": "code",
      "metadata": {
        "id": "ted8runcAyRB",
        "colab_type": "code",
        "colab": {}
      },
      "source": [
        "H_SVML = svm.SVC(kernel='linear', gamma='scale', random_state=42)\n",
        "H_SVML = H_SVML.fit(H_X_train, H_y_train)\n",
        "H_y_predL = H_SVML.fit.predict(H_X_test)"
      ],
      "execution_count": 0,
      "outputs": []
    },
    {
      "cell_type": "code",
      "metadata": {
        "id": "aqKp0VDNBQv1",
        "colab_type": "code",
        "colab": {}
      },
      "source": [
        "results_function(H_SVML, H_X_test, H_y_test, H_y_predL)"
      ],
      "execution_count": 0,
      "outputs": []
    },
    {
      "cell_type": "markdown",
      "metadata": {
        "id": "nD_DCqnWBTA2",
        "colab_type": "text"
      },
      "source": [
        "###SVM RBF"
      ]
    },
    {
      "cell_type": "code",
      "metadata": {
        "id": "HWdsPNNYBXGJ",
        "colab_type": "code",
        "colab": {}
      },
      "source": [
        "H_SVMRBF = svm.SVC(kernel='rbf', gamma='scale', random_state=42)\n",
        "H_SVMRBF = H_SVMRBF.fit(H_X_train, H_y_train)\n",
        "H_y_predRBF = H_SVMRBF.fit.predict(H_X_test)"
      ],
      "execution_count": 0,
      "outputs": []
    },
    {
      "cell_type": "code",
      "metadata": {
        "id": "AAkWUlHrBbuG",
        "colab_type": "code",
        "colab": {}
      },
      "source": [
        "results_function(H_SVMRBF, H_X_test, H_y_test, H_y_predRBF)"
      ],
      "execution_count": 0,
      "outputs": []
    },
    {
      "cell_type": "markdown",
      "metadata": {
        "id": "2wgd_ASHB9Z_",
        "colab_type": "text"
      },
      "source": [
        "###SVM POLY"
      ]
    },
    {
      "cell_type": "code",
      "metadata": {
        "id": "uQkKrJ9gBh02",
        "colab_type": "code",
        "colab": {}
      },
      "source": [
        "H_SVMP = svm.SVC(kernel='poly', gamma='scale', random_state=42)\n",
        "H_SVMP = H_SVMP.fit(H_X_train, H_y_train)\n",
        "H_y_predP = H_SVMP.fit.predict(H_X_test)"
      ],
      "execution_count": 0,
      "outputs": []
    },
    {
      "cell_type": "code",
      "metadata": {
        "id": "wllIiLv_Bz1y",
        "colab_type": "code",
        "colab": {}
      },
      "source": [
        "results_function(H_SVMP, H_X_test, H_y_test, H_y_predP)"
      ],
      "execution_count": 0,
      "outputs": []
    },
    {
      "cell_type": "markdown",
      "metadata": {
        "id": "yDJLIII5CGOn",
        "colab_type": "text"
      },
      "source": [
        "###SVM SIGMOID"
      ]
    },
    {
      "cell_type": "code",
      "metadata": {
        "id": "gapLrEs1BuH8",
        "colab_type": "code",
        "colab": {}
      },
      "source": [
        "H_SVMSIG = svm.SVC(kernel='sigmoid', gamma='scale', random_state=42)\n",
        "H_SVMSIG = H_SVMSIG.fit(H_X_train, H_y_train)\n",
        "H_y_predSIG = H_SVMSIG.fit.predict(H_X_test)"
      ],
      "execution_count": 0,
      "outputs": []
    },
    {
      "cell_type": "code",
      "metadata": {
        "id": "HxT7QSxAB2xn",
        "colab_type": "code",
        "colab": {}
      },
      "source": [
        "results_function(H_SVMSIG, H_X_test, H_y_test, H_y_predSIG)"
      ],
      "execution_count": 0,
      "outputs": []
    },
    {
      "cell_type": "code",
      "metadata": {
        "id": "pnOqsK6EEy1F",
        "colab_type": "code",
        "colab": {}
      },
      "source": [
        "program_end = time.time()\n",
        "print(program_end - program_start)"
      ],
      "execution_count": 0,
      "outputs": []
    }
  ]
}